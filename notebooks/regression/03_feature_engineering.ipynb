{
 "cells": [
  {
   "cell_type": "markdown",
   "id": "c94d5ff9-e257-4368-bea1-8cd3123c26f8",
   "metadata": {},
   "source": [
    "# Feature Engineering\n",
    "## Feature Engineering Goals\n",
    "1.  **Categorical Feature Encoding**: Convert nominal and ordinal categorical features into numerical representations.\n",
    "    - **Ordinal**: `age`, `education`, `experience_overall_years`, `experience_field_years`.\n",
    "    - **Nominal (Low Cardinality)**: `gender`.\n",
    "    - **Nominal (High Cardinality/Text)**: `industry`, `job`, `race`. These require careful handling to extract meaningful information.\n",
    "2.  **Numerical Feature Engineering**: Create new features through combinations or transformations of existing numerical and ordinal features (e.g., interaction terms, ratios).\n",
    "3.  **Feature Scaling**: Standardize numerical features for models sensitive to feature scales."
   ]
  },
  {
   "cell_type": "code",
   "execution_count": 121,
   "id": "833db7cd-5cae-4b11-a957-0f5780898f06",
   "metadata": {},
   "outputs": [],
   "source": [
    "# Imports\n",
    "import json\n",
    "from pathlib import Path\n",
    "\n",
    "import polars as pl\n",
    "from sklearn.preprocessing import StandardScaler\n",
    "import joblib\n",
    "\n",
    "import matplotlib.pyplot as plt\n",
    "import seaborn as sns"
   ]
  },
  {
   "cell_type": "code",
   "execution_count": 122,
   "id": "babeaf97-8621-4041-beb7-4ab3a6ae5c78",
   "metadata": {},
   "outputs": [],
   "source": [
    "# Constants\n",
    "CLEANED_FILE_PATH: str = \"../../data/cleaned/regression\""
   ]
  },
  {
   "cell_type": "code",
   "execution_count": 123,
   "id": "7f2dead6-ea4c-4dca-9e81-3b5a8ce65805",
   "metadata": {},
   "outputs": [],
   "source": [
    "# Load Feature Sets\n",
    "output_dir = Path(CLEANED_FILE_PATH)\n",
    "X_train = pl.read_csv(output_dir / \"X_train.csv\")\n",
    "X_val = pl.read_csv(output_dir / \"X_val.csv\")\n",
    "X_test = pl.read_csv(output_dir / \"X_test.csv\")"
   ]
  },
  {
   "cell_type": "markdown",
   "id": "658e0c70-0f6e-4a78-9595-1a08831da11f",
   "metadata": {},
   "source": [
    "## Ordinal Feature Encoding\n",
    "Features like `age`, `education`, and `experience` have a natural order. We will map these categories to numerical ranks to preserve this information."
   ]
  },
  {
   "cell_type": "code",
   "execution_count": 124,
   "id": "88163e05-6c8e-4482-89b1-f265bab8462b",
   "metadata": {
    "lines_to_end_of_cell_marker": 2,
    "lines_to_next_cell": 2
   },
   "outputs": [],
   "source": [
    "# Define Ordinal Categories in Order\n",
    "age_order: list[str] = [\n",
    "    \"under 18\",\n",
    "    \"18-24\",\n",
    "    \"25-34\",\n",
    "    \"35-44\",\n",
    "    \"45-54\",\n",
    "    \"55-64\",\n",
    "    \"65 or over\",\n",
    "]\n",
    "\n",
    "education_order: list[str] = [\n",
    "    \"High School\",\n",
    "    \"Some college\",\n",
    "    \"College degree\",\n",
    "    \"Professional degree (MD, JD, etc.)\",\n",
    "    \"Master's degree\",\n",
    "    \"PhD\",\n",
    "]\n",
    "\n",
    "experience_order: list[str] = [\n",
    "    \"1 year or less\",\n",
    "    \"2 - 4 years\",\n",
    "    \"5-7 years\",\n",
    "    \"8 - 10 years\",\n",
    "    \"11 - 20 years\",\n",
    "    \"21 - 30 years\",\n",
    "    \"31 - 40 years\",\n",
    "    \"41 years or more\",\n",
    "]\n",
    "\n",
    "ordinal_mappings: dict[str, dict[int, str]] = {\n",
    "    \"age\": age_order,\n",
    "    \"education\": education_order,\n",
    "    \"experience_overall_years\": experience_order,\n",
    "    \"experience_field_years\": experience_order,\n",
    "}"
   ]
  },
  {
   "cell_type": "code",
   "execution_count": 125,
   "id": "ee87b385-7aa2-4acc-8935-ede58f37cc5c",
   "metadata": {},
   "outputs": [],
   "source": [
    "def apply_ordinal_encoding(df: pl.DataFrame) -> pl.DataFrame:\n",
    "    \"\"\"Applies direct ordinal mapping to specified columns.\"\"\"\n",
    "    for key, value in ordinal_mappings.items():\n",
    "        df = df.with_columns(\n",
    "            pl.col(key).cast(pl.Enum(value)).cast(pl.Int32).alias(f\"{key}_ordinal\")\n",
    "        )\n",
    "\n",
    "    return df.drop(ordinal_mappings.keys())"
   ]
  },
  {
   "cell_type": "code",
   "execution_count": 126,
   "id": "a1dc0d7f-fed0-4a3c-9b83-214106e709e9",
   "metadata": {},
   "outputs": [
    {
     "data": {
      "text/html": [
       "<div><style>\n",
       ".dataframe > thead > tr,\n",
       ".dataframe > tbody > tr {\n",
       "  text-align: right;\n",
       "  white-space: pre-wrap;\n",
       "}\n",
       "</style>\n",
       "<small>shape: (15_786, 9)</small><table border=\"1\" class=\"dataframe\"><thead><tr><th>industry</th><th>gender</th><th>race</th><th>job</th><th>timestamp</th><th>age_ordinal</th><th>education_ordinal</th><th>experience_overall_years_ordinal</th><th>experience_field_years_ordinal</th></tr><tr><td>str</td><td>str</td><td>str</td><td>str</td><td>str</td><td>i32</td><td>i32</td><td>i32</td><td>i32</td></tr></thead><tbody><tr><td>&quot;Marketing, Advertising &amp; PR&quot;</td><td>&quot;Woman&quot;</td><td>&quot;White&quot;</td><td>&quot;Senior Music Producer&quot;</td><td>&quot;4/27/2021 20:11:25&quot;</td><td>2</td><td>2</td><td>3</td><td>3</td></tr><tr><td>&quot;Computing or Tech&quot;</td><td>&quot;Other or prefer not to answer&quot;</td><td>&quot;Another option not listed here…</td><td>&quot;senior sysadmin&quot;</td><td>&quot;4/27/2021 12:32:58&quot;</td><td>4</td><td>1</td><td>5</td><td>5</td></tr><tr><td>&quot;Insurance&quot;</td><td>&quot;Woman&quot;</td><td>&quot;White&quot;</td><td>&quot;Product Manager&quot;</td><td>&quot;4/29/2021 21:42:15&quot;</td><td>4</td><td>2</td><td>5</td><td>5</td></tr><tr><td>&quot;Computing or Tech&quot;</td><td>&quot;Man&quot;</td><td>&quot;White&quot;</td><td>&quot;Front End Engineer &quot;</td><td>&quot;4/27/2021 21:21:13&quot;</td><td>3</td><td>2</td><td>4</td><td>1</td></tr><tr><td>&quot;Computing or Tech&quot;</td><td>&quot;Man&quot;</td><td>&quot;White&quot;</td><td>&quot;Customer service &quot;</td><td>&quot;4/28/2021 14:19:39&quot;</td><td>4</td><td>2</td><td>5</td><td>4</td></tr><tr><td>&hellip;</td><td>&hellip;</td><td>&hellip;</td><td>&hellip;</td><td>&hellip;</td><td>&hellip;</td><td>&hellip;</td><td>&hellip;</td><td>&hellip;</td></tr><tr><td>&quot;Business or Consulting&quot;</td><td>&quot;Woman&quot;</td><td>&quot;White&quot;</td><td>&quot;Principal Research Analyst&quot;</td><td>&quot;4/29/2021 11:01:07&quot;</td><td>2</td><td>2</td><td>2</td><td>2</td></tr><tr><td>&quot;Utilities &amp; Telecommunications&quot;</td><td>&quot;Woman&quot;</td><td>&quot;Asian or Asian American&quot;</td><td>&quot;Development Consultant&quot;</td><td>&quot;5/3/2021 15:50:48&quot;</td><td>4</td><td>2</td><td>5</td><td>4</td></tr><tr><td>&quot;Education (Higher Education)&quot;</td><td>&quot;Woman&quot;</td><td>&quot;White&quot;</td><td>&quot;Director of Disability and Acc…</td><td>&quot;4/28/2021 15:23:08&quot;</td><td>3</td><td>4</td><td>4</td><td>4</td></tr><tr><td>&quot;Engineering or Manufacturing&quot;</td><td>&quot;Woman&quot;</td><td>&quot;White&quot;</td><td>&quot;Operations manager&quot;</td><td>&quot;4/30/2021 23:24:53&quot;</td><td>2</td><td>2</td><td>2</td><td>1</td></tr><tr><td>&quot;Computing or Tech&quot;</td><td>&quot;Woman&quot;</td><td>&quot;White&quot;</td><td>&quot;Analytics Manager&quot;</td><td>&quot;4/30/2021 21:56:30&quot;</td><td>3</td><td>2</td><td>4</td><td>3</td></tr></tbody></table></div>"
      ],
      "text/plain": [
       "shape: (15_786, 9)\n",
       "┌───────────┬───────────┬───────────┬───────────┬───┬───────────┬───────────┬───────────┬──────────┐\n",
       "│ industry  ┆ gender    ┆ race      ┆ job       ┆ … ┆ age_ordin ┆ education ┆ experienc ┆ experien │\n",
       "│ ---       ┆ ---       ┆ ---       ┆ ---       ┆   ┆ al        ┆ _ordinal  ┆ e_overall ┆ ce_field │\n",
       "│ str       ┆ str       ┆ str       ┆ str       ┆   ┆ ---       ┆ ---       ┆ _years_or ┆ _years_o │\n",
       "│           ┆           ┆           ┆           ┆   ┆ i32       ┆ i32       ┆ din…      ┆ rdinal   │\n",
       "│           ┆           ┆           ┆           ┆   ┆           ┆           ┆ ---       ┆ ---      │\n",
       "│           ┆           ┆           ┆           ┆   ┆           ┆           ┆ i32       ┆ i32      │\n",
       "╞═══════════╪═══════════╪═══════════╪═══════════╪═══╪═══════════╪═══════════╪═══════════╪══════════╡\n",
       "│ Marketing ┆ Woman     ┆ White     ┆ Senior    ┆ … ┆ 2         ┆ 2         ┆ 3         ┆ 3        │\n",
       "│ , Adverti ┆           ┆           ┆ Music     ┆   ┆           ┆           ┆           ┆          │\n",
       "│ sing & PR ┆           ┆           ┆ Producer  ┆   ┆           ┆           ┆           ┆          │\n",
       "│ Computing ┆ Other or  ┆ Another   ┆ senior    ┆ … ┆ 4         ┆ 1         ┆ 5         ┆ 5        │\n",
       "│ or Tech   ┆ prefer    ┆ option    ┆ sysadmin  ┆   ┆           ┆           ┆           ┆          │\n",
       "│           ┆ not to    ┆ not       ┆           ┆   ┆           ┆           ┆           ┆          │\n",
       "│           ┆ answer    ┆ listed    ┆           ┆   ┆           ┆           ┆           ┆          │\n",
       "│           ┆           ┆ here…     ┆           ┆   ┆           ┆           ┆           ┆          │\n",
       "│ Insurance ┆ Woman     ┆ White     ┆ Product   ┆ … ┆ 4         ┆ 2         ┆ 5         ┆ 5        │\n",
       "│           ┆           ┆           ┆ Manager   ┆   ┆           ┆           ┆           ┆          │\n",
       "│ Computing ┆ Man       ┆ White     ┆ Front End ┆ … ┆ 3         ┆ 2         ┆ 4         ┆ 1        │\n",
       "│ or Tech   ┆           ┆           ┆ Engineer  ┆   ┆           ┆           ┆           ┆          │\n",
       "│ Computing ┆ Man       ┆ White     ┆ Customer  ┆ … ┆ 4         ┆ 2         ┆ 5         ┆ 4        │\n",
       "│ or Tech   ┆           ┆           ┆ service   ┆   ┆           ┆           ┆           ┆          │\n",
       "│ …         ┆ …         ┆ …         ┆ …         ┆ … ┆ …         ┆ …         ┆ …         ┆ …        │\n",
       "│ Business  ┆ Woman     ┆ White     ┆ Principal ┆ … ┆ 2         ┆ 2         ┆ 2         ┆ 2        │\n",
       "│ or Consul ┆           ┆           ┆ Research  ┆   ┆           ┆           ┆           ┆          │\n",
       "│ ting      ┆           ┆           ┆ Analyst   ┆   ┆           ┆           ┆           ┆          │\n",
       "│ Utilities ┆ Woman     ┆ Asian or  ┆ Developme ┆ … ┆ 4         ┆ 2         ┆ 5         ┆ 4        │\n",
       "│ & Telecom ┆           ┆ Asian     ┆ nt Consul ┆   ┆           ┆           ┆           ┆          │\n",
       "│ municatio ┆           ┆ American  ┆ tant      ┆   ┆           ┆           ┆           ┆          │\n",
       "│ ns        ┆           ┆           ┆           ┆   ┆           ┆           ┆           ┆          │\n",
       "│ Education ┆ Woman     ┆ White     ┆ Director  ┆ … ┆ 3         ┆ 4         ┆ 4         ┆ 4        │\n",
       "│ (Higher   ┆           ┆           ┆ of Disabi ┆   ┆           ┆           ┆           ┆          │\n",
       "│ Education ┆           ┆           ┆ lity and  ┆   ┆           ┆           ┆           ┆          │\n",
       "│ )         ┆           ┆           ┆ Acc…      ┆   ┆           ┆           ┆           ┆          │\n",
       "│ Engineeri ┆ Woman     ┆ White     ┆ Operation ┆ … ┆ 2         ┆ 2         ┆ 2         ┆ 1        │\n",
       "│ ng or Man ┆           ┆           ┆ s manager ┆   ┆           ┆           ┆           ┆          │\n",
       "│ ufacturin ┆           ┆           ┆           ┆   ┆           ┆           ┆           ┆          │\n",
       "│ g         ┆           ┆           ┆           ┆   ┆           ┆           ┆           ┆          │\n",
       "│ Computing ┆ Woman     ┆ White     ┆ Analytics ┆ … ┆ 3         ┆ 2         ┆ 4         ┆ 3        │\n",
       "│ or Tech   ┆           ┆           ┆ Manager   ┆   ┆           ┆           ┆           ┆          │\n",
       "└───────────┴───────────┴───────────┴───────────┴───┴───────────┴───────────┴───────────┴──────────┘"
      ]
     },
     "execution_count": 126,
     "metadata": {},
     "output_type": "execute_result"
    }
   ],
   "source": [
    "# Apply Ordinal Encoding\n",
    "X_train_encoded = apply_ordinal_encoding(X_train)\n",
    "X_test_encoded = apply_ordinal_encoding(X_test)\n",
    "X_val_encoded = apply_ordinal_encoding(X_val)\n",
    "X_train_encoded"
   ]
  },
  {
   "cell_type": "markdown",
   "id": "7ddba7f3-65f7-4eb7-a9f2-03f33d05cb1f",
   "metadata": {},
   "source": [
    "## One-Hot Encoding\n",
    "Features like `gender`, `race`, and `industry` have no inherent ranking, so One-Hot Encoding is appropriate.\n",
    "\n",
    "Since gender is a single-choice question, just encode the gender column into its preset choices."
   ]
  },
  {
   "cell_type": "code",
   "execution_count": 127,
   "id": "adce8426-c79f-40b9-b078-04a1fed71e7f",
   "metadata": {},
   "outputs": [
    {
     "data": {
      "text/html": [
       "<div><style>\n",
       ".dataframe > thead > tr,\n",
       ".dataframe > tbody > tr {\n",
       "  text-align: right;\n",
       "  white-space: pre-wrap;\n",
       "}\n",
       "</style>\n",
       "<small>shape: (15_786, 12)</small><table border=\"1\" class=\"dataframe\"><thead><tr><th>industry</th><th>gender_Man</th><th>gender_Non-binary</th><th>gender_Other or prefer not to answer</th><th>gender_Woman</th><th>race</th><th>job</th><th>timestamp</th><th>age_ordinal</th><th>education_ordinal</th><th>experience_overall_years_ordinal</th><th>experience_field_years_ordinal</th></tr><tr><td>str</td><td>u8</td><td>u8</td><td>u8</td><td>u8</td><td>str</td><td>str</td><td>str</td><td>i32</td><td>i32</td><td>i32</td><td>i32</td></tr></thead><tbody><tr><td>&quot;Marketing, Advertising &amp; PR&quot;</td><td>0</td><td>0</td><td>0</td><td>1</td><td>&quot;White&quot;</td><td>&quot;Senior Music Producer&quot;</td><td>&quot;4/27/2021 20:11:25&quot;</td><td>2</td><td>2</td><td>3</td><td>3</td></tr><tr><td>&quot;Computing or Tech&quot;</td><td>0</td><td>0</td><td>1</td><td>0</td><td>&quot;Another option not listed here…</td><td>&quot;senior sysadmin&quot;</td><td>&quot;4/27/2021 12:32:58&quot;</td><td>4</td><td>1</td><td>5</td><td>5</td></tr><tr><td>&quot;Insurance&quot;</td><td>0</td><td>0</td><td>0</td><td>1</td><td>&quot;White&quot;</td><td>&quot;Product Manager&quot;</td><td>&quot;4/29/2021 21:42:15&quot;</td><td>4</td><td>2</td><td>5</td><td>5</td></tr><tr><td>&quot;Computing or Tech&quot;</td><td>1</td><td>0</td><td>0</td><td>0</td><td>&quot;White&quot;</td><td>&quot;Front End Engineer &quot;</td><td>&quot;4/27/2021 21:21:13&quot;</td><td>3</td><td>2</td><td>4</td><td>1</td></tr><tr><td>&quot;Computing or Tech&quot;</td><td>1</td><td>0</td><td>0</td><td>0</td><td>&quot;White&quot;</td><td>&quot;Customer service &quot;</td><td>&quot;4/28/2021 14:19:39&quot;</td><td>4</td><td>2</td><td>5</td><td>4</td></tr><tr><td>&hellip;</td><td>&hellip;</td><td>&hellip;</td><td>&hellip;</td><td>&hellip;</td><td>&hellip;</td><td>&hellip;</td><td>&hellip;</td><td>&hellip;</td><td>&hellip;</td><td>&hellip;</td><td>&hellip;</td></tr><tr><td>&quot;Business or Consulting&quot;</td><td>0</td><td>0</td><td>0</td><td>1</td><td>&quot;White&quot;</td><td>&quot;Principal Research Analyst&quot;</td><td>&quot;4/29/2021 11:01:07&quot;</td><td>2</td><td>2</td><td>2</td><td>2</td></tr><tr><td>&quot;Utilities &amp; Telecommunications&quot;</td><td>0</td><td>0</td><td>0</td><td>1</td><td>&quot;Asian or Asian American&quot;</td><td>&quot;Development Consultant&quot;</td><td>&quot;5/3/2021 15:50:48&quot;</td><td>4</td><td>2</td><td>5</td><td>4</td></tr><tr><td>&quot;Education (Higher Education)&quot;</td><td>0</td><td>0</td><td>0</td><td>1</td><td>&quot;White&quot;</td><td>&quot;Director of Disability and Acc…</td><td>&quot;4/28/2021 15:23:08&quot;</td><td>3</td><td>4</td><td>4</td><td>4</td></tr><tr><td>&quot;Engineering or Manufacturing&quot;</td><td>0</td><td>0</td><td>0</td><td>1</td><td>&quot;White&quot;</td><td>&quot;Operations manager&quot;</td><td>&quot;4/30/2021 23:24:53&quot;</td><td>2</td><td>2</td><td>2</td><td>1</td></tr><tr><td>&quot;Computing or Tech&quot;</td><td>0</td><td>0</td><td>0</td><td>1</td><td>&quot;White&quot;</td><td>&quot;Analytics Manager&quot;</td><td>&quot;4/30/2021 21:56:30&quot;</td><td>3</td><td>2</td><td>4</td><td>3</td></tr></tbody></table></div>"
      ],
      "text/plain": [
       "shape: (15_786, 12)\n",
       "┌───────────┬───────────┬───────────┬───────────┬───┬───────────┬───────────┬───────────┬──────────┐\n",
       "│ industry  ┆ gender_Ma ┆ gender_No ┆ gender_Ot ┆ … ┆ age_ordin ┆ education ┆ experienc ┆ experien │\n",
       "│ ---       ┆ n         ┆ n-binary  ┆ her or    ┆   ┆ al        ┆ _ordinal  ┆ e_overall ┆ ce_field │\n",
       "│ str       ┆ ---       ┆ ---       ┆ prefer    ┆   ┆ ---       ┆ ---       ┆ _years_or ┆ _years_o │\n",
       "│           ┆ u8        ┆ u8        ┆ not to …  ┆   ┆ i32       ┆ i32       ┆ din…      ┆ rdinal   │\n",
       "│           ┆           ┆           ┆ ---       ┆   ┆           ┆           ┆ ---       ┆ ---      │\n",
       "│           ┆           ┆           ┆ u8        ┆   ┆           ┆           ┆ i32       ┆ i32      │\n",
       "╞═══════════╪═══════════╪═══════════╪═══════════╪═══╪═══════════╪═══════════╪═══════════╪══════════╡\n",
       "│ Marketing ┆ 0         ┆ 0         ┆ 0         ┆ … ┆ 2         ┆ 2         ┆ 3         ┆ 3        │\n",
       "│ , Adverti ┆           ┆           ┆           ┆   ┆           ┆           ┆           ┆          │\n",
       "│ sing & PR ┆           ┆           ┆           ┆   ┆           ┆           ┆           ┆          │\n",
       "│ Computing ┆ 0         ┆ 0         ┆ 1         ┆ … ┆ 4         ┆ 1         ┆ 5         ┆ 5        │\n",
       "│ or Tech   ┆           ┆           ┆           ┆   ┆           ┆           ┆           ┆          │\n",
       "│ Insurance ┆ 0         ┆ 0         ┆ 0         ┆ … ┆ 4         ┆ 2         ┆ 5         ┆ 5        │\n",
       "│ Computing ┆ 1         ┆ 0         ┆ 0         ┆ … ┆ 3         ┆ 2         ┆ 4         ┆ 1        │\n",
       "│ or Tech   ┆           ┆           ┆           ┆   ┆           ┆           ┆           ┆          │\n",
       "│ Computing ┆ 1         ┆ 0         ┆ 0         ┆ … ┆ 4         ┆ 2         ┆ 5         ┆ 4        │\n",
       "│ or Tech   ┆           ┆           ┆           ┆   ┆           ┆           ┆           ┆          │\n",
       "│ …         ┆ …         ┆ …         ┆ …         ┆ … ┆ …         ┆ …         ┆ …         ┆ …        │\n",
       "│ Business  ┆ 0         ┆ 0         ┆ 0         ┆ … ┆ 2         ┆ 2         ┆ 2         ┆ 2        │\n",
       "│ or Consul ┆           ┆           ┆           ┆   ┆           ┆           ┆           ┆          │\n",
       "│ ting      ┆           ┆           ┆           ┆   ┆           ┆           ┆           ┆          │\n",
       "│ Utilities ┆ 0         ┆ 0         ┆ 0         ┆ … ┆ 4         ┆ 2         ┆ 5         ┆ 4        │\n",
       "│ & Telecom ┆           ┆           ┆           ┆   ┆           ┆           ┆           ┆          │\n",
       "│ municatio ┆           ┆           ┆           ┆   ┆           ┆           ┆           ┆          │\n",
       "│ ns        ┆           ┆           ┆           ┆   ┆           ┆           ┆           ┆          │\n",
       "│ Education ┆ 0         ┆ 0         ┆ 0         ┆ … ┆ 3         ┆ 4         ┆ 4         ┆ 4        │\n",
       "│ (Higher   ┆           ┆           ┆           ┆   ┆           ┆           ┆           ┆          │\n",
       "│ Education ┆           ┆           ┆           ┆   ┆           ┆           ┆           ┆          │\n",
       "│ )         ┆           ┆           ┆           ┆   ┆           ┆           ┆           ┆          │\n",
       "│ Engineeri ┆ 0         ┆ 0         ┆ 0         ┆ … ┆ 2         ┆ 2         ┆ 2         ┆ 1        │\n",
       "│ ng or Man ┆           ┆           ┆           ┆   ┆           ┆           ┆           ┆          │\n",
       "│ ufacturin ┆           ┆           ┆           ┆   ┆           ┆           ┆           ┆          │\n",
       "│ g         ┆           ┆           ┆           ┆   ┆           ┆           ┆           ┆          │\n",
       "│ Computing ┆ 0         ┆ 0         ┆ 0         ┆ … ┆ 3         ┆ 2         ┆ 4         ┆ 3        │\n",
       "│ or Tech   ┆           ┆           ┆           ┆   ┆           ┆           ┆           ┆          │\n",
       "└───────────┴───────────┴───────────┴───────────┴───┴───────────┴───────────┴───────────┴──────────┘"
      ]
     },
     "execution_count": 127,
     "metadata": {},
     "output_type": "execute_result"
    }
   ],
   "source": [
    "# Polars has a convenient to_dummies() function for One-Hot Encoding\n",
    "X_train_encoded = X_train_encoded.to_dummies(\"gender\")\n",
    "X_test_encoded = X_test_encoded.to_dummies(\"gender\")\n",
    "X_val_encoded = X_val_encoded.to_dummies(\"gender\")\n",
    "X_train_encoded"
   ]
  },
  {
   "cell_type": "markdown",
   "id": "c5b03b6d-ff6a-426a-8b7c-28dd3a48d2e7",
   "metadata": {},
   "source": [
    "`race` and `industry` are more complicated, as they are multiple-choice responses in the survey.\n",
    "\n",
    "For our purposes, we will encode the preset choices given in the survey, and filter out the free-text responses to reduce cardinality and decrease encodings."
   ]
  },
  {
   "cell_type": "code",
   "execution_count": 128,
   "id": "04b38fbc-cf56-4377-a74c-25861e9d0e30",
   "metadata": {},
   "outputs": [],
   "source": [
    "# List out preset choices\n",
    "# All commas are removed since they mess with the encoding process\n",
    "PRESET_RACE_OPTIONS: list[str] = [\n",
    "    \"White\",\n",
    "    \"Asian or Asian American\",\n",
    "    \"Black or African American\",\n",
    "    \"Hispanic Latino or Spanish origin\",\n",
    "    \"Middle Eastern or Northern African\",\n",
    "    \"Native American or Alaska Native\",\n",
    "    \"Another option not listed here or prefer not to answer\",\n",
    "]\n",
    "PRESET_RACE_OPTIONS.sort()\n",
    "\n",
    "PRESET_INDUSTRY_OPTIONS: list[str] = [\n",
    "    \"Accounting Banking & Finance\",\n",
    "    \"Agriculture or Forestry\",\n",
    "    \"Art & Design\",\n",
    "    \"Business or Consulting\",\n",
    "    \"Computing or Tech\",\n",
    "    \"Education (Primary/Secondary)\",\n",
    "    \"Education (Higher Education)\",\n",
    "    \"Engineering or Manufacturing\",\n",
    "    \"Entertainment\",\n",
    "    \"Government and Public Administration\",\n",
    "    \"Health care\",\n",
    "    \"Hospitality & Events\",\n",
    "    \"Insurance\",\n",
    "    \"Law\",\n",
    "    \"Law Enforcement & Security\",\n",
    "    \"Leisure Sport & Tourism\",\n",
    "    \"Marketing Advertising & PR\",\n",
    "    \"Media & Digital\",\n",
    "    \"Nonprofits\",\n",
    "    \"Property or Construction\",\n",
    "    \"Recruitment or HR\",\n",
    "    \"Retail\",\n",
    "    \"Sales\",\n",
    "    \"Social Work\",\n",
    "    \"Transport or Logistics\",\n",
    "    \"Utilities & Telecommunications\",\n",
    "]"
   ]
  },
  {
   "cell_type": "code",
   "execution_count": 129,
   "id": "3da783d3-61ed-4b4c-931b-83b540ff621c",
   "metadata": {},
   "outputs": [],
   "source": [
    "def apply_one_hot_encoding(df: pl.DataFrame) -> pl.DataFrame:\n",
    "    # Remove all commas\n",
    "    df = df.with_columns(\n",
    "        pl.col(\"industry\").str.replace_all(r\",\", \"\").alias(\"industry\"),\n",
    "        pl.col(\"race\").str.replace_all(r\",\", \"\").alias(\"race\"),\n",
    "    )\n",
    "\n",
    "    # Add Index\n",
    "    df = df.with_row_index()\n",
    "\n",
    "    # Industry\n",
    "    df_industry = (df\n",
    "        .select(pl.col(\"index\"), pl.col(\"industry\").str.split(\",\"))\n",
    "        .with_columns(pl.lit(1).alias(\"__one__\"))\n",
    "        .explode(\"industry\")\n",
    "        .pivot(index=\"index\", on=\"industry\", values=\"__one__\")\n",
    "        .select([\"index\"] + (PRESET_INDUSTRY_OPTIONS))\n",
    "        .fill_null(0)\n",
    "        .rename({option: f\"industry_{option}\" for option in PRESET_INDUSTRY_OPTIONS})\n",
    "    )\n",
    "\n",
    "    # Race\n",
    "    df_race = (df\n",
    "         .select(pl.col(\"index\"), pl.col(\"race\").str.split(\",\"))\n",
    "        .with_columns(pl.lit(1).alias(\"__one__\"))\n",
    "        .explode(\"race\")\n",
    "        .pivot(index=\"index\", on=\"race\", values=\"__one__\")\n",
    "        .select([\"index\"] + (PRESET_RACE_OPTIONS))\n",
    "        .fill_null(0)\n",
    "        .rename({option: f\"race_{option}\" for option in PRESET_RACE_OPTIONS})\n",
    "        )\n",
    "\n",
    "    # Drop Raw Columns\n",
    "    return (df\n",
    "        .join(df_industry, on=\"index\")\n",
    "        .join(df_race, on=\"index\")\n",
    "        .drop([\"industry\", \"race\"]))"
   ]
  },
  {
   "cell_type": "code",
   "execution_count": 130,
   "id": "d6839011-1fbc-4318-8305-fb16366eb536",
   "metadata": {},
   "outputs": [
    {
     "data": {
      "text/html": [
       "<div><style>\n",
       ".dataframe > thead > tr,\n",
       ".dataframe > tbody > tr {\n",
       "  text-align: right;\n",
       "  white-space: pre-wrap;\n",
       "}\n",
       "</style>\n",
       "<small>shape: (15_786, 44)</small><table border=\"1\" class=\"dataframe\"><thead><tr><th>index</th><th>gender_Man</th><th>gender_Non-binary</th><th>gender_Other or prefer not to answer</th><th>gender_Woman</th><th>job</th><th>timestamp</th><th>age_ordinal</th><th>education_ordinal</th><th>experience_overall_years_ordinal</th><th>experience_field_years_ordinal</th><th>industry_Accounting Banking &amp; Finance</th><th>industry_Agriculture or Forestry</th><th>industry_Art &amp; Design</th><th>industry_Business or Consulting</th><th>industry_Computing or Tech</th><th>industry_Education (Primary/Secondary)</th><th>industry_Education (Higher Education)</th><th>industry_Engineering or Manufacturing</th><th>industry_Entertainment</th><th>industry_Government and Public Administration</th><th>industry_Health care</th><th>industry_Hospitality &amp; Events</th><th>industry_Insurance</th><th>industry_Law</th><th>industry_Law Enforcement &amp; Security</th><th>industry_Leisure Sport &amp; Tourism</th><th>industry_Marketing Advertising &amp; PR</th><th>industry_Media &amp; Digital</th><th>industry_Nonprofits</th><th>industry_Property or Construction</th><th>industry_Recruitment or HR</th><th>industry_Retail</th><th>industry_Sales</th><th>industry_Social Work</th><th>industry_Transport or Logistics</th><th>industry_Utilities &amp; Telecommunications</th><th>race_Another option not listed here or prefer not to answer</th><th>race_Asian or Asian American</th><th>race_Black or African American</th><th>race_Hispanic Latino or Spanish origin</th><th>race_Middle Eastern or Northern African</th><th>race_Native American or Alaska Native</th><th>race_White</th></tr><tr><td>u32</td><td>u8</td><td>u8</td><td>u8</td><td>u8</td><td>str</td><td>str</td><td>i32</td><td>i32</td><td>i32</td><td>i32</td><td>i32</td><td>i32</td><td>i32</td><td>i32</td><td>i32</td><td>i32</td><td>i32</td><td>i32</td><td>i32</td><td>i32</td><td>i32</td><td>i32</td><td>i32</td><td>i32</td><td>i32</td><td>i32</td><td>i32</td><td>i32</td><td>i32</td><td>i32</td><td>i32</td><td>i32</td><td>i32</td><td>i32</td><td>i32</td><td>i32</td><td>i32</td><td>i32</td><td>i32</td><td>i32</td><td>i32</td><td>i32</td><td>i32</td></tr></thead><tbody><tr><td>0</td><td>0</td><td>0</td><td>0</td><td>1</td><td>&quot;Senior Music Producer&quot;</td><td>&quot;4/27/2021 20:11:25&quot;</td><td>2</td><td>2</td><td>3</td><td>3</td><td>0</td><td>0</td><td>0</td><td>0</td><td>0</td><td>0</td><td>0</td><td>0</td><td>0</td><td>0</td><td>0</td><td>0</td><td>0</td><td>0</td><td>0</td><td>0</td><td>1</td><td>0</td><td>0</td><td>0</td><td>0</td><td>0</td><td>0</td><td>0</td><td>0</td><td>0</td><td>0</td><td>0</td><td>0</td><td>0</td><td>0</td><td>0</td><td>1</td></tr><tr><td>1</td><td>0</td><td>0</td><td>1</td><td>0</td><td>&quot;senior sysadmin&quot;</td><td>&quot;4/27/2021 12:32:58&quot;</td><td>4</td><td>1</td><td>5</td><td>5</td><td>0</td><td>0</td><td>0</td><td>0</td><td>1</td><td>0</td><td>0</td><td>0</td><td>0</td><td>0</td><td>0</td><td>0</td><td>0</td><td>0</td><td>0</td><td>0</td><td>0</td><td>0</td><td>0</td><td>0</td><td>0</td><td>0</td><td>0</td><td>0</td><td>0</td><td>0</td><td>1</td><td>0</td><td>0</td><td>0</td><td>0</td><td>0</td><td>0</td></tr><tr><td>2</td><td>0</td><td>0</td><td>0</td><td>1</td><td>&quot;Product Manager&quot;</td><td>&quot;4/29/2021 21:42:15&quot;</td><td>4</td><td>2</td><td>5</td><td>5</td><td>0</td><td>0</td><td>0</td><td>0</td><td>0</td><td>0</td><td>0</td><td>0</td><td>0</td><td>0</td><td>0</td><td>0</td><td>1</td><td>0</td><td>0</td><td>0</td><td>0</td><td>0</td><td>0</td><td>0</td><td>0</td><td>0</td><td>0</td><td>0</td><td>0</td><td>0</td><td>0</td><td>0</td><td>0</td><td>0</td><td>0</td><td>0</td><td>1</td></tr><tr><td>3</td><td>1</td><td>0</td><td>0</td><td>0</td><td>&quot;Front End Engineer &quot;</td><td>&quot;4/27/2021 21:21:13&quot;</td><td>3</td><td>2</td><td>4</td><td>1</td><td>0</td><td>0</td><td>0</td><td>0</td><td>1</td><td>0</td><td>0</td><td>0</td><td>0</td><td>0</td><td>0</td><td>0</td><td>0</td><td>0</td><td>0</td><td>0</td><td>0</td><td>0</td><td>0</td><td>0</td><td>0</td><td>0</td><td>0</td><td>0</td><td>0</td><td>0</td><td>0</td><td>0</td><td>0</td><td>0</td><td>0</td><td>0</td><td>1</td></tr><tr><td>4</td><td>1</td><td>0</td><td>0</td><td>0</td><td>&quot;Customer service &quot;</td><td>&quot;4/28/2021 14:19:39&quot;</td><td>4</td><td>2</td><td>5</td><td>4</td><td>0</td><td>0</td><td>0</td><td>0</td><td>1</td><td>0</td><td>0</td><td>0</td><td>0</td><td>0</td><td>0</td><td>0</td><td>0</td><td>0</td><td>0</td><td>0</td><td>0</td><td>0</td><td>0</td><td>0</td><td>0</td><td>0</td><td>0</td><td>0</td><td>0</td><td>0</td><td>0</td><td>0</td><td>0</td><td>0</td><td>0</td><td>0</td><td>1</td></tr><tr><td>&hellip;</td><td>&hellip;</td><td>&hellip;</td><td>&hellip;</td><td>&hellip;</td><td>&hellip;</td><td>&hellip;</td><td>&hellip;</td><td>&hellip;</td><td>&hellip;</td><td>&hellip;</td><td>&hellip;</td><td>&hellip;</td><td>&hellip;</td><td>&hellip;</td><td>&hellip;</td><td>&hellip;</td><td>&hellip;</td><td>&hellip;</td><td>&hellip;</td><td>&hellip;</td><td>&hellip;</td><td>&hellip;</td><td>&hellip;</td><td>&hellip;</td><td>&hellip;</td><td>&hellip;</td><td>&hellip;</td><td>&hellip;</td><td>&hellip;</td><td>&hellip;</td><td>&hellip;</td><td>&hellip;</td><td>&hellip;</td><td>&hellip;</td><td>&hellip;</td><td>&hellip;</td><td>&hellip;</td><td>&hellip;</td><td>&hellip;</td><td>&hellip;</td><td>&hellip;</td><td>&hellip;</td><td>&hellip;</td></tr><tr><td>15781</td><td>0</td><td>0</td><td>0</td><td>1</td><td>&quot;Principal Research Analyst&quot;</td><td>&quot;4/29/2021 11:01:07&quot;</td><td>2</td><td>2</td><td>2</td><td>2</td><td>0</td><td>0</td><td>0</td><td>1</td><td>0</td><td>0</td><td>0</td><td>0</td><td>0</td><td>0</td><td>0</td><td>0</td><td>0</td><td>0</td><td>0</td><td>0</td><td>0</td><td>0</td><td>0</td><td>0</td><td>0</td><td>0</td><td>0</td><td>0</td><td>0</td><td>0</td><td>0</td><td>0</td><td>0</td><td>0</td><td>0</td><td>0</td><td>1</td></tr><tr><td>15782</td><td>0</td><td>0</td><td>0</td><td>1</td><td>&quot;Development Consultant&quot;</td><td>&quot;5/3/2021 15:50:48&quot;</td><td>4</td><td>2</td><td>5</td><td>4</td><td>0</td><td>0</td><td>0</td><td>0</td><td>0</td><td>0</td><td>0</td><td>0</td><td>0</td><td>0</td><td>0</td><td>0</td><td>0</td><td>0</td><td>0</td><td>0</td><td>0</td><td>0</td><td>0</td><td>0</td><td>0</td><td>0</td><td>0</td><td>0</td><td>0</td><td>1</td><td>0</td><td>1</td><td>0</td><td>0</td><td>0</td><td>0</td><td>0</td></tr><tr><td>15783</td><td>0</td><td>0</td><td>0</td><td>1</td><td>&quot;Director of Disability and Acc…</td><td>&quot;4/28/2021 15:23:08&quot;</td><td>3</td><td>4</td><td>4</td><td>4</td><td>0</td><td>0</td><td>0</td><td>0</td><td>0</td><td>0</td><td>1</td><td>0</td><td>0</td><td>0</td><td>0</td><td>0</td><td>0</td><td>0</td><td>0</td><td>0</td><td>0</td><td>0</td><td>0</td><td>0</td><td>0</td><td>0</td><td>0</td><td>0</td><td>0</td><td>0</td><td>0</td><td>0</td><td>0</td><td>0</td><td>0</td><td>0</td><td>1</td></tr><tr><td>15784</td><td>0</td><td>0</td><td>0</td><td>1</td><td>&quot;Operations manager&quot;</td><td>&quot;4/30/2021 23:24:53&quot;</td><td>2</td><td>2</td><td>2</td><td>1</td><td>0</td><td>0</td><td>0</td><td>0</td><td>0</td><td>0</td><td>0</td><td>1</td><td>0</td><td>0</td><td>0</td><td>0</td><td>0</td><td>0</td><td>0</td><td>0</td><td>0</td><td>0</td><td>0</td><td>0</td><td>0</td><td>0</td><td>0</td><td>0</td><td>0</td><td>0</td><td>0</td><td>0</td><td>0</td><td>0</td><td>0</td><td>0</td><td>1</td></tr><tr><td>15785</td><td>0</td><td>0</td><td>0</td><td>1</td><td>&quot;Analytics Manager&quot;</td><td>&quot;4/30/2021 21:56:30&quot;</td><td>3</td><td>2</td><td>4</td><td>3</td><td>0</td><td>0</td><td>0</td><td>0</td><td>1</td><td>0</td><td>0</td><td>0</td><td>0</td><td>0</td><td>0</td><td>0</td><td>0</td><td>0</td><td>0</td><td>0</td><td>0</td><td>0</td><td>0</td><td>0</td><td>0</td><td>0</td><td>0</td><td>0</td><td>0</td><td>0</td><td>0</td><td>0</td><td>0</td><td>0</td><td>0</td><td>0</td><td>1</td></tr></tbody></table></div>"
      ],
      "text/plain": [
       "shape: (15_786, 44)\n",
       "┌───────┬────────────┬────────────┬────────────┬───┬───────────┬───────────┬───────────┬───────────┐\n",
       "│ index ┆ gender_Man ┆ gender_Non ┆ gender_Oth ┆ … ┆ race_Hisp ┆ race_Midd ┆ race_Nati ┆ race_Whit │\n",
       "│ ---   ┆ ---        ┆ -binary    ┆ er or      ┆   ┆ anic      ┆ le        ┆ ve        ┆ e         │\n",
       "│ u32   ┆ u8         ┆ ---        ┆ prefer not ┆   ┆ Latino or ┆ Eastern   ┆ American  ┆ ---       │\n",
       "│       ┆            ┆ u8         ┆ to …       ┆   ┆ Spanis…   ┆ or        ┆ or        ┆ i32       │\n",
       "│       ┆            ┆            ┆ ---        ┆   ┆ ---       ┆ Norther…  ┆ Alaska…   ┆           │\n",
       "│       ┆            ┆            ┆ u8         ┆   ┆ i32       ┆ ---       ┆ ---       ┆           │\n",
       "│       ┆            ┆            ┆            ┆   ┆           ┆ i32       ┆ i32       ┆           │\n",
       "╞═══════╪════════════╪════════════╪════════════╪═══╪═══════════╪═══════════╪═══════════╪═══════════╡\n",
       "│ 0     ┆ 0          ┆ 0          ┆ 0          ┆ … ┆ 0         ┆ 0         ┆ 0         ┆ 1         │\n",
       "│ 1     ┆ 0          ┆ 0          ┆ 1          ┆ … ┆ 0         ┆ 0         ┆ 0         ┆ 0         │\n",
       "│ 2     ┆ 0          ┆ 0          ┆ 0          ┆ … ┆ 0         ┆ 0         ┆ 0         ┆ 1         │\n",
       "│ 3     ┆ 1          ┆ 0          ┆ 0          ┆ … ┆ 0         ┆ 0         ┆ 0         ┆ 1         │\n",
       "│ 4     ┆ 1          ┆ 0          ┆ 0          ┆ … ┆ 0         ┆ 0         ┆ 0         ┆ 1         │\n",
       "│ …     ┆ …          ┆ …          ┆ …          ┆ … ┆ …         ┆ …         ┆ …         ┆ …         │\n",
       "│ 15781 ┆ 0          ┆ 0          ┆ 0          ┆ … ┆ 0         ┆ 0         ┆ 0         ┆ 1         │\n",
       "│ 15782 ┆ 0          ┆ 0          ┆ 0          ┆ … ┆ 0         ┆ 0         ┆ 0         ┆ 0         │\n",
       "│ 15783 ┆ 0          ┆ 0          ┆ 0          ┆ … ┆ 0         ┆ 0         ┆ 0         ┆ 1         │\n",
       "│ 15784 ┆ 0          ┆ 0          ┆ 0          ┆ … ┆ 0         ┆ 0         ┆ 0         ┆ 1         │\n",
       "│ 15785 ┆ 0          ┆ 0          ┆ 0          ┆ … ┆ 0         ┆ 0         ┆ 0         ┆ 1         │\n",
       "└───────┴────────────┴────────────┴────────────┴───┴───────────┴───────────┴───────────┴───────────┘"
      ]
     },
     "execution_count": 130,
     "metadata": {},
     "output_type": "execute_result"
    }
   ],
   "source": [
    "# Remove all commas and add index\n",
    "X_train_one_hot = apply_one_hot_encoding(X_train_encoded)\n",
    "X_test_one_hot = apply_one_hot_encoding(X_test_encoded)\n",
    "X_val_one_hot = apply_one_hot_encoding(X_val_encoded)\n",
    "\n",
    "X_train_one_hot"
   ]
  },
  {
   "cell_type": "markdown",
   "id": "15662dd6-9496-4a2f-9a4a-911fc4bf7160",
   "metadata": {},
   "source": [
    "## Feature Extraction\n",
    "The `job` column is free-text, and therefore has extremely high cardinality.\n",
    "\n",
    "Let's try extracting what we can from it first, although this really should use NLP instead..."
   ]
  },
  {
   "cell_type": "code",
   "execution_count": 131,
   "id": "c47d1812-6134-46cf-b8ba-69870738ef64",
   "metadata": {},
   "outputs": [],
   "source": [
    "levels: list[str] = [\n",
    "    \"junior\",\n",
    "    \"senior\",\n",
    "    \"manager\",\n",
    "    \"director\",\n",
    "    \"vp\",\n",
    "    \"c_level\",\n",
    "    \"other\",\n",
    "]\n",
    "\n",
    "def extract_job_features(df: pl.DataFrame) -> pl.DataFrame:\n",
    "    # Add Index\n",
    "    df = df.with_columns(\n",
    "        pl.col(\"job\").str.to_lowercase().fill_null(\"unknown\").alias(\"job_cleaned\")\n",
    "    )\n",
    "\n",
    "    # Extract Common Job Levels\n",
    "    df = df.with_columns(\n",
    "        pl.when(pl.col(\"job_cleaned\").str.contains(\"intern|junior|entry\"))\n",
    "        .then(pl.lit(\"junior\"))\n",
    "        .when(pl.col(\"job_cleaned\").str.contains(\"senior|lead|principal\"))\n",
    "        .then(pl.lit(\"senior\"))\n",
    "        .when(pl.col(\"job_cleaned\").str.contains(\"manager|supervisor\"))\n",
    "        .then(pl.lit(\"manager\"))\n",
    "        .when(pl.col(\"job_cleaned\").str.contains(\"director\"))\n",
    "        .then(pl.lit(\"director\"))\n",
    "        .when(pl.col(\"job_cleaned\").str.contains(\"vp|vice president\"))\n",
    "        .then(pl.lit(\"vp\"))\n",
    "        .when(pl.col(\"job_cleaned\").str.contains(\"cfo|ceo|cto|cmo|coo\"))\n",
    "        .then(pl.lit(\"c_level\"))\n",
    "        .otherwise(pl.lit(\"other\"))\n",
    "        .alias(\"job_level\")\n",
    "    )\n",
    "\n",
    "    # One-Hot Encoding for extracted features\n",
    "    df_job = (\n",
    "        df.select(pl.col(\"index\"), pl.col(\"job_level\").str.split(\",\"))\n",
    "        .with_columns(pl.lit(1).alias(\"__one__\"))\n",
    "        .explode(\"job_level\")\n",
    "        .pivot(index=\"index\", on=\"job_level\", values=\"__one__\")\n",
    "        .select([\"index\"] + levels)\n",
    "        .fill_null(0)\n",
    "        .rename({option: f\"job_level_{option}\" for option in levels})\n",
    "    )\n",
    "\n",
    "    # Drop raw columns\n",
    "    return (\n",
    "        df\n",
    "            .join(df_job, on=\"index\")\n",
    "            .drop([\"job\", \"job_cleaned\", \"job_level\"])\n",
    "    )\n",
    "\n",
    "\n"
   ]
  },
  {
   "cell_type": "code",
   "execution_count": 132,
   "id": "884311ce-719f-4ad6-85bf-a1d7b56ee0f6",
   "metadata": {},
   "outputs": [
    {
     "data": {
      "text/html": [
       "<div><style>\n",
       ".dataframe > thead > tr,\n",
       ".dataframe > tbody > tr {\n",
       "  text-align: right;\n",
       "  white-space: pre-wrap;\n",
       "}\n",
       "</style>\n",
       "<small>shape: (15_786, 50)</small><table border=\"1\" class=\"dataframe\"><thead><tr><th>index</th><th>gender_Man</th><th>gender_Non-binary</th><th>gender_Other or prefer not to answer</th><th>gender_Woman</th><th>timestamp</th><th>age_ordinal</th><th>education_ordinal</th><th>experience_overall_years_ordinal</th><th>experience_field_years_ordinal</th><th>industry_Accounting Banking &amp; Finance</th><th>industry_Agriculture or Forestry</th><th>industry_Art &amp; Design</th><th>industry_Business or Consulting</th><th>industry_Computing or Tech</th><th>industry_Education (Primary/Secondary)</th><th>industry_Education (Higher Education)</th><th>industry_Engineering or Manufacturing</th><th>industry_Entertainment</th><th>industry_Government and Public Administration</th><th>industry_Health care</th><th>industry_Hospitality &amp; Events</th><th>industry_Insurance</th><th>industry_Law</th><th>industry_Law Enforcement &amp; Security</th><th>industry_Leisure Sport &amp; Tourism</th><th>industry_Marketing Advertising &amp; PR</th><th>industry_Media &amp; Digital</th><th>industry_Nonprofits</th><th>industry_Property or Construction</th><th>industry_Recruitment or HR</th><th>industry_Retail</th><th>industry_Sales</th><th>industry_Social Work</th><th>industry_Transport or Logistics</th><th>industry_Utilities &amp; Telecommunications</th><th>race_Another option not listed here or prefer not to answer</th><th>race_Asian or Asian American</th><th>race_Black or African American</th><th>race_Hispanic Latino or Spanish origin</th><th>race_Middle Eastern or Northern African</th><th>race_Native American or Alaska Native</th><th>race_White</th><th>job_level_junior</th><th>job_level_senior</th><th>job_level_manager</th><th>job_level_director</th><th>job_level_vp</th><th>job_level_c_level</th><th>job_level_other</th></tr><tr><td>u32</td><td>u8</td><td>u8</td><td>u8</td><td>u8</td><td>str</td><td>i32</td><td>i32</td><td>i32</td><td>i32</td><td>i32</td><td>i32</td><td>i32</td><td>i32</td><td>i32</td><td>i32</td><td>i32</td><td>i32</td><td>i32</td><td>i32</td><td>i32</td><td>i32</td><td>i32</td><td>i32</td><td>i32</td><td>i32</td><td>i32</td><td>i32</td><td>i32</td><td>i32</td><td>i32</td><td>i32</td><td>i32</td><td>i32</td><td>i32</td><td>i32</td><td>i32</td><td>i32</td><td>i32</td><td>i32</td><td>i32</td><td>i32</td><td>i32</td><td>i32</td><td>i32</td><td>i32</td><td>i32</td><td>i32</td><td>i32</td><td>i32</td></tr></thead><tbody><tr><td>0</td><td>0</td><td>0</td><td>0</td><td>1</td><td>&quot;4/27/2021 20:11:25&quot;</td><td>2</td><td>2</td><td>3</td><td>3</td><td>0</td><td>0</td><td>0</td><td>0</td><td>0</td><td>0</td><td>0</td><td>0</td><td>0</td><td>0</td><td>0</td><td>0</td><td>0</td><td>0</td><td>0</td><td>0</td><td>1</td><td>0</td><td>0</td><td>0</td><td>0</td><td>0</td><td>0</td><td>0</td><td>0</td><td>0</td><td>0</td><td>0</td><td>0</td><td>0</td><td>0</td><td>0</td><td>1</td><td>0</td><td>1</td><td>0</td><td>0</td><td>0</td><td>0</td><td>0</td></tr><tr><td>1</td><td>0</td><td>0</td><td>1</td><td>0</td><td>&quot;4/27/2021 12:32:58&quot;</td><td>4</td><td>1</td><td>5</td><td>5</td><td>0</td><td>0</td><td>0</td><td>0</td><td>1</td><td>0</td><td>0</td><td>0</td><td>0</td><td>0</td><td>0</td><td>0</td><td>0</td><td>0</td><td>0</td><td>0</td><td>0</td><td>0</td><td>0</td><td>0</td><td>0</td><td>0</td><td>0</td><td>0</td><td>0</td><td>0</td><td>1</td><td>0</td><td>0</td><td>0</td><td>0</td><td>0</td><td>0</td><td>0</td><td>1</td><td>0</td><td>0</td><td>0</td><td>0</td><td>0</td></tr><tr><td>2</td><td>0</td><td>0</td><td>0</td><td>1</td><td>&quot;4/29/2021 21:42:15&quot;</td><td>4</td><td>2</td><td>5</td><td>5</td><td>0</td><td>0</td><td>0</td><td>0</td><td>0</td><td>0</td><td>0</td><td>0</td><td>0</td><td>0</td><td>0</td><td>0</td><td>1</td><td>0</td><td>0</td><td>0</td><td>0</td><td>0</td><td>0</td><td>0</td><td>0</td><td>0</td><td>0</td><td>0</td><td>0</td><td>0</td><td>0</td><td>0</td><td>0</td><td>0</td><td>0</td><td>0</td><td>1</td><td>0</td><td>0</td><td>1</td><td>0</td><td>0</td><td>0</td><td>0</td></tr><tr><td>3</td><td>1</td><td>0</td><td>0</td><td>0</td><td>&quot;4/27/2021 21:21:13&quot;</td><td>3</td><td>2</td><td>4</td><td>1</td><td>0</td><td>0</td><td>0</td><td>0</td><td>1</td><td>0</td><td>0</td><td>0</td><td>0</td><td>0</td><td>0</td><td>0</td><td>0</td><td>0</td><td>0</td><td>0</td><td>0</td><td>0</td><td>0</td><td>0</td><td>0</td><td>0</td><td>0</td><td>0</td><td>0</td><td>0</td><td>0</td><td>0</td><td>0</td><td>0</td><td>0</td><td>0</td><td>1</td><td>0</td><td>0</td><td>0</td><td>0</td><td>0</td><td>0</td><td>1</td></tr><tr><td>4</td><td>1</td><td>0</td><td>0</td><td>0</td><td>&quot;4/28/2021 14:19:39&quot;</td><td>4</td><td>2</td><td>5</td><td>4</td><td>0</td><td>0</td><td>0</td><td>0</td><td>1</td><td>0</td><td>0</td><td>0</td><td>0</td><td>0</td><td>0</td><td>0</td><td>0</td><td>0</td><td>0</td><td>0</td><td>0</td><td>0</td><td>0</td><td>0</td><td>0</td><td>0</td><td>0</td><td>0</td><td>0</td><td>0</td><td>0</td><td>0</td><td>0</td><td>0</td><td>0</td><td>0</td><td>1</td><td>0</td><td>0</td><td>0</td><td>0</td><td>0</td><td>0</td><td>1</td></tr><tr><td>&hellip;</td><td>&hellip;</td><td>&hellip;</td><td>&hellip;</td><td>&hellip;</td><td>&hellip;</td><td>&hellip;</td><td>&hellip;</td><td>&hellip;</td><td>&hellip;</td><td>&hellip;</td><td>&hellip;</td><td>&hellip;</td><td>&hellip;</td><td>&hellip;</td><td>&hellip;</td><td>&hellip;</td><td>&hellip;</td><td>&hellip;</td><td>&hellip;</td><td>&hellip;</td><td>&hellip;</td><td>&hellip;</td><td>&hellip;</td><td>&hellip;</td><td>&hellip;</td><td>&hellip;</td><td>&hellip;</td><td>&hellip;</td><td>&hellip;</td><td>&hellip;</td><td>&hellip;</td><td>&hellip;</td><td>&hellip;</td><td>&hellip;</td><td>&hellip;</td><td>&hellip;</td><td>&hellip;</td><td>&hellip;</td><td>&hellip;</td><td>&hellip;</td><td>&hellip;</td><td>&hellip;</td><td>&hellip;</td><td>&hellip;</td><td>&hellip;</td><td>&hellip;</td><td>&hellip;</td><td>&hellip;</td><td>&hellip;</td></tr><tr><td>15781</td><td>0</td><td>0</td><td>0</td><td>1</td><td>&quot;4/29/2021 11:01:07&quot;</td><td>2</td><td>2</td><td>2</td><td>2</td><td>0</td><td>0</td><td>0</td><td>1</td><td>0</td><td>0</td><td>0</td><td>0</td><td>0</td><td>0</td><td>0</td><td>0</td><td>0</td><td>0</td><td>0</td><td>0</td><td>0</td><td>0</td><td>0</td><td>0</td><td>0</td><td>0</td><td>0</td><td>0</td><td>0</td><td>0</td><td>0</td><td>0</td><td>0</td><td>0</td><td>0</td><td>0</td><td>1</td><td>0</td><td>1</td><td>0</td><td>0</td><td>0</td><td>0</td><td>0</td></tr><tr><td>15782</td><td>0</td><td>0</td><td>0</td><td>1</td><td>&quot;5/3/2021 15:50:48&quot;</td><td>4</td><td>2</td><td>5</td><td>4</td><td>0</td><td>0</td><td>0</td><td>0</td><td>0</td><td>0</td><td>0</td><td>0</td><td>0</td><td>0</td><td>0</td><td>0</td><td>0</td><td>0</td><td>0</td><td>0</td><td>0</td><td>0</td><td>0</td><td>0</td><td>0</td><td>0</td><td>0</td><td>0</td><td>0</td><td>1</td><td>0</td><td>1</td><td>0</td><td>0</td><td>0</td><td>0</td><td>0</td><td>0</td><td>0</td><td>0</td><td>0</td><td>0</td><td>0</td><td>1</td></tr><tr><td>15783</td><td>0</td><td>0</td><td>0</td><td>1</td><td>&quot;4/28/2021 15:23:08&quot;</td><td>3</td><td>4</td><td>4</td><td>4</td><td>0</td><td>0</td><td>0</td><td>0</td><td>0</td><td>0</td><td>1</td><td>0</td><td>0</td><td>0</td><td>0</td><td>0</td><td>0</td><td>0</td><td>0</td><td>0</td><td>0</td><td>0</td><td>0</td><td>0</td><td>0</td><td>0</td><td>0</td><td>0</td><td>0</td><td>0</td><td>0</td><td>0</td><td>0</td><td>0</td><td>0</td><td>0</td><td>1</td><td>0</td><td>0</td><td>0</td><td>1</td><td>0</td><td>0</td><td>0</td></tr><tr><td>15784</td><td>0</td><td>0</td><td>0</td><td>1</td><td>&quot;4/30/2021 23:24:53&quot;</td><td>2</td><td>2</td><td>2</td><td>1</td><td>0</td><td>0</td><td>0</td><td>0</td><td>0</td><td>0</td><td>0</td><td>1</td><td>0</td><td>0</td><td>0</td><td>0</td><td>0</td><td>0</td><td>0</td><td>0</td><td>0</td><td>0</td><td>0</td><td>0</td><td>0</td><td>0</td><td>0</td><td>0</td><td>0</td><td>0</td><td>0</td><td>0</td><td>0</td><td>0</td><td>0</td><td>0</td><td>1</td><td>0</td><td>0</td><td>1</td><td>0</td><td>0</td><td>0</td><td>0</td></tr><tr><td>15785</td><td>0</td><td>0</td><td>0</td><td>1</td><td>&quot;4/30/2021 21:56:30&quot;</td><td>3</td><td>2</td><td>4</td><td>3</td><td>0</td><td>0</td><td>0</td><td>0</td><td>1</td><td>0</td><td>0</td><td>0</td><td>0</td><td>0</td><td>0</td><td>0</td><td>0</td><td>0</td><td>0</td><td>0</td><td>0</td><td>0</td><td>0</td><td>0</td><td>0</td><td>0</td><td>0</td><td>0</td><td>0</td><td>0</td><td>0</td><td>0</td><td>0</td><td>0</td><td>0</td><td>0</td><td>1</td><td>0</td><td>0</td><td>1</td><td>0</td><td>0</td><td>0</td><td>0</td></tr></tbody></table></div>"
      ],
      "text/plain": [
       "shape: (15_786, 50)\n",
       "┌───────┬────────────┬────────────┬────────────┬───┬───────────┬───────────┬───────────┬───────────┐\n",
       "│ index ┆ gender_Man ┆ gender_Non ┆ gender_Oth ┆ … ┆ job_level ┆ job_level ┆ job_level ┆ job_level │\n",
       "│ ---   ┆ ---        ┆ -binary    ┆ er or      ┆   ┆ _director ┆ _vp       ┆ _c_level  ┆ _other    │\n",
       "│ u32   ┆ u8         ┆ ---        ┆ prefer not ┆   ┆ ---       ┆ ---       ┆ ---       ┆ ---       │\n",
       "│       ┆            ┆ u8         ┆ to …       ┆   ┆ i32       ┆ i32       ┆ i32       ┆ i32       │\n",
       "│       ┆            ┆            ┆ ---        ┆   ┆           ┆           ┆           ┆           │\n",
       "│       ┆            ┆            ┆ u8         ┆   ┆           ┆           ┆           ┆           │\n",
       "╞═══════╪════════════╪════════════╪════════════╪═══╪═══════════╪═══════════╪═══════════╪═══════════╡\n",
       "│ 0     ┆ 0          ┆ 0          ┆ 0          ┆ … ┆ 0         ┆ 0         ┆ 0         ┆ 0         │\n",
       "│ 1     ┆ 0          ┆ 0          ┆ 1          ┆ … ┆ 0         ┆ 0         ┆ 0         ┆ 0         │\n",
       "│ 2     ┆ 0          ┆ 0          ┆ 0          ┆ … ┆ 0         ┆ 0         ┆ 0         ┆ 0         │\n",
       "│ 3     ┆ 1          ┆ 0          ┆ 0          ┆ … ┆ 0         ┆ 0         ┆ 0         ┆ 1         │\n",
       "│ 4     ┆ 1          ┆ 0          ┆ 0          ┆ … ┆ 0         ┆ 0         ┆ 0         ┆ 1         │\n",
       "│ …     ┆ …          ┆ …          ┆ …          ┆ … ┆ …         ┆ …         ┆ …         ┆ …         │\n",
       "│ 15781 ┆ 0          ┆ 0          ┆ 0          ┆ … ┆ 0         ┆ 0         ┆ 0         ┆ 0         │\n",
       "│ 15782 ┆ 0          ┆ 0          ┆ 0          ┆ … ┆ 0         ┆ 0         ┆ 0         ┆ 1         │\n",
       "│ 15783 ┆ 0          ┆ 0          ┆ 0          ┆ … ┆ 1         ┆ 0         ┆ 0         ┆ 0         │\n",
       "│ 15784 ┆ 0          ┆ 0          ┆ 0          ┆ … ┆ 0         ┆ 0         ┆ 0         ┆ 0         │\n",
       "│ 15785 ┆ 0          ┆ 0          ┆ 0          ┆ … ┆ 0         ┆ 0         ┆ 0         ┆ 0         │\n",
       "└───────┴────────────┴────────────┴────────────┴───┴───────────┴───────────┴───────────┴───────────┘"
      ]
     },
     "execution_count": 132,
     "metadata": {},
     "output_type": "execute_result"
    }
   ],
   "source": [
    "X_train_job = extract_job_features(X_train_one_hot)\n",
    "X_test_job = extract_job_features(X_test_one_hot)\n",
    "X_val_job = extract_job_features(X_val_one_hot)\n",
    "X_train_job"
   ]
  },
  {
   "cell_type": "markdown",
   "id": "8a62f3ed-e78a-4a9d-bfe2-272bef9ddd97",
   "metadata": {},
   "source": [
    "Let's also encode the date the survey response is submitted, just in case it's somehow relevant."
   ]
  },
  {
   "cell_type": "code",
   "execution_count": 133,
   "id": "c14de10a-5f55-4459-9d2e-cc2922a83242",
   "metadata": {},
   "outputs": [],
   "source": [
    "def extract_timestamp(df: pl.DataFrame) -> pl.DataFrame:\n",
    "    # Convert timestamp string to DateTime object\n",
    "    df = df.with_columns(\n",
    "        pl.col(\"timestamp\")\n",
    "        .str.to_datetime(\"%m/%d/%Y %H:%M:%S\", strict=False)\n",
    "        .alias(\"timestamp_dt\")\n",
    "    )\n",
    "\n",
    "    # Extract Month, Day, Hour\n",
    "    df = df.with_columns(\n",
    "        [\n",
    "            pl.col(\"timestamp_dt\").dt.month().alias(\"month\"),\n",
    "            pl.col(\"timestamp_dt\").dt.weekday().alias(\"day_of_week\"),  # 1=Monday, 7=Saunday\n",
    "            pl.col(\"timestamp_dt\").dt.hour().alias(\"hour\"),\n",
    "        ]\n",
    "    )\n",
    "\n",
    "    # Drop Raw Columns\n",
    "    return df.drop([\"timestamp\", \"timestamp_dt\"])"
   ]
  },
  {
   "cell_type": "code",
   "execution_count": null,
   "id": "9921a606-07b8-4e0d-ba8c-d9102eceb256",
   "metadata": {},
   "outputs": [],
   "source": []
  },
  {
   "cell_type": "code",
   "execution_count": 134,
   "id": "6c0c2698-4014-47de-9402-b89b6000a41d",
   "metadata": {},
   "outputs": [
    {
     "data": {
      "text/html": [
       "<div><style>\n",
       ".dataframe > thead > tr,\n",
       ".dataframe > tbody > tr {\n",
       "  text-align: right;\n",
       "  white-space: pre-wrap;\n",
       "}\n",
       "</style>\n",
       "<small>shape: (15_786, 52)</small><table border=\"1\" class=\"dataframe\"><thead><tr><th>index</th><th>gender_Man</th><th>gender_Non-binary</th><th>gender_Other or prefer not to answer</th><th>gender_Woman</th><th>age_ordinal</th><th>education_ordinal</th><th>experience_overall_years_ordinal</th><th>experience_field_years_ordinal</th><th>industry_Accounting Banking &amp; Finance</th><th>industry_Agriculture or Forestry</th><th>industry_Art &amp; Design</th><th>industry_Business or Consulting</th><th>industry_Computing or Tech</th><th>industry_Education (Primary/Secondary)</th><th>industry_Education (Higher Education)</th><th>industry_Engineering or Manufacturing</th><th>industry_Entertainment</th><th>industry_Government and Public Administration</th><th>industry_Health care</th><th>industry_Hospitality &amp; Events</th><th>industry_Insurance</th><th>industry_Law</th><th>industry_Law Enforcement &amp; Security</th><th>industry_Leisure Sport &amp; Tourism</th><th>industry_Marketing Advertising &amp; PR</th><th>industry_Media &amp; Digital</th><th>industry_Nonprofits</th><th>industry_Property or Construction</th><th>industry_Recruitment or HR</th><th>industry_Retail</th><th>industry_Sales</th><th>industry_Social Work</th><th>industry_Transport or Logistics</th><th>industry_Utilities &amp; Telecommunications</th><th>race_Another option not listed here or prefer not to answer</th><th>race_Asian or Asian American</th><th>race_Black or African American</th><th>race_Hispanic Latino or Spanish origin</th><th>race_Middle Eastern or Northern African</th><th>race_Native American or Alaska Native</th><th>race_White</th><th>job_level_junior</th><th>job_level_senior</th><th>job_level_manager</th><th>job_level_director</th><th>job_level_vp</th><th>job_level_c_level</th><th>job_level_other</th><th>month</th><th>day_of_week</th><th>hour</th></tr><tr><td>u32</td><td>u8</td><td>u8</td><td>u8</td><td>u8</td><td>i32</td><td>i32</td><td>i32</td><td>i32</td><td>i32</td><td>i32</td><td>i32</td><td>i32</td><td>i32</td><td>i32</td><td>i32</td><td>i32</td><td>i32</td><td>i32</td><td>i32</td><td>i32</td><td>i32</td><td>i32</td><td>i32</td><td>i32</td><td>i32</td><td>i32</td><td>i32</td><td>i32</td><td>i32</td><td>i32</td><td>i32</td><td>i32</td><td>i32</td><td>i32</td><td>i32</td><td>i32</td><td>i32</td><td>i32</td><td>i32</td><td>i32</td><td>i32</td><td>i32</td><td>i32</td><td>i32</td><td>i32</td><td>i32</td><td>i32</td><td>i32</td><td>i8</td><td>i8</td><td>i8</td></tr></thead><tbody><tr><td>0</td><td>0</td><td>0</td><td>0</td><td>1</td><td>2</td><td>2</td><td>3</td><td>3</td><td>0</td><td>0</td><td>0</td><td>0</td><td>0</td><td>0</td><td>0</td><td>0</td><td>0</td><td>0</td><td>0</td><td>0</td><td>0</td><td>0</td><td>0</td><td>0</td><td>1</td><td>0</td><td>0</td><td>0</td><td>0</td><td>0</td><td>0</td><td>0</td><td>0</td><td>0</td><td>0</td><td>0</td><td>0</td><td>0</td><td>0</td><td>0</td><td>1</td><td>0</td><td>1</td><td>0</td><td>0</td><td>0</td><td>0</td><td>0</td><td>4</td><td>2</td><td>20</td></tr><tr><td>1</td><td>0</td><td>0</td><td>1</td><td>0</td><td>4</td><td>1</td><td>5</td><td>5</td><td>0</td><td>0</td><td>0</td><td>0</td><td>1</td><td>0</td><td>0</td><td>0</td><td>0</td><td>0</td><td>0</td><td>0</td><td>0</td><td>0</td><td>0</td><td>0</td><td>0</td><td>0</td><td>0</td><td>0</td><td>0</td><td>0</td><td>0</td><td>0</td><td>0</td><td>0</td><td>1</td><td>0</td><td>0</td><td>0</td><td>0</td><td>0</td><td>0</td><td>0</td><td>1</td><td>0</td><td>0</td><td>0</td><td>0</td><td>0</td><td>4</td><td>2</td><td>12</td></tr><tr><td>2</td><td>0</td><td>0</td><td>0</td><td>1</td><td>4</td><td>2</td><td>5</td><td>5</td><td>0</td><td>0</td><td>0</td><td>0</td><td>0</td><td>0</td><td>0</td><td>0</td><td>0</td><td>0</td><td>0</td><td>0</td><td>1</td><td>0</td><td>0</td><td>0</td><td>0</td><td>0</td><td>0</td><td>0</td><td>0</td><td>0</td><td>0</td><td>0</td><td>0</td><td>0</td><td>0</td><td>0</td><td>0</td><td>0</td><td>0</td><td>0</td><td>1</td><td>0</td><td>0</td><td>1</td><td>0</td><td>0</td><td>0</td><td>0</td><td>4</td><td>4</td><td>21</td></tr><tr><td>3</td><td>1</td><td>0</td><td>0</td><td>0</td><td>3</td><td>2</td><td>4</td><td>1</td><td>0</td><td>0</td><td>0</td><td>0</td><td>1</td><td>0</td><td>0</td><td>0</td><td>0</td><td>0</td><td>0</td><td>0</td><td>0</td><td>0</td><td>0</td><td>0</td><td>0</td><td>0</td><td>0</td><td>0</td><td>0</td><td>0</td><td>0</td><td>0</td><td>0</td><td>0</td><td>0</td><td>0</td><td>0</td><td>0</td><td>0</td><td>0</td><td>1</td><td>0</td><td>0</td><td>0</td><td>0</td><td>0</td><td>0</td><td>1</td><td>4</td><td>2</td><td>21</td></tr><tr><td>4</td><td>1</td><td>0</td><td>0</td><td>0</td><td>4</td><td>2</td><td>5</td><td>4</td><td>0</td><td>0</td><td>0</td><td>0</td><td>1</td><td>0</td><td>0</td><td>0</td><td>0</td><td>0</td><td>0</td><td>0</td><td>0</td><td>0</td><td>0</td><td>0</td><td>0</td><td>0</td><td>0</td><td>0</td><td>0</td><td>0</td><td>0</td><td>0</td><td>0</td><td>0</td><td>0</td><td>0</td><td>0</td><td>0</td><td>0</td><td>0</td><td>1</td><td>0</td><td>0</td><td>0</td><td>0</td><td>0</td><td>0</td><td>1</td><td>4</td><td>3</td><td>14</td></tr><tr><td>&hellip;</td><td>&hellip;</td><td>&hellip;</td><td>&hellip;</td><td>&hellip;</td><td>&hellip;</td><td>&hellip;</td><td>&hellip;</td><td>&hellip;</td><td>&hellip;</td><td>&hellip;</td><td>&hellip;</td><td>&hellip;</td><td>&hellip;</td><td>&hellip;</td><td>&hellip;</td><td>&hellip;</td><td>&hellip;</td><td>&hellip;</td><td>&hellip;</td><td>&hellip;</td><td>&hellip;</td><td>&hellip;</td><td>&hellip;</td><td>&hellip;</td><td>&hellip;</td><td>&hellip;</td><td>&hellip;</td><td>&hellip;</td><td>&hellip;</td><td>&hellip;</td><td>&hellip;</td><td>&hellip;</td><td>&hellip;</td><td>&hellip;</td><td>&hellip;</td><td>&hellip;</td><td>&hellip;</td><td>&hellip;</td><td>&hellip;</td><td>&hellip;</td><td>&hellip;</td><td>&hellip;</td><td>&hellip;</td><td>&hellip;</td><td>&hellip;</td><td>&hellip;</td><td>&hellip;</td><td>&hellip;</td><td>&hellip;</td><td>&hellip;</td><td>&hellip;</td></tr><tr><td>15781</td><td>0</td><td>0</td><td>0</td><td>1</td><td>2</td><td>2</td><td>2</td><td>2</td><td>0</td><td>0</td><td>0</td><td>1</td><td>0</td><td>0</td><td>0</td><td>0</td><td>0</td><td>0</td><td>0</td><td>0</td><td>0</td><td>0</td><td>0</td><td>0</td><td>0</td><td>0</td><td>0</td><td>0</td><td>0</td><td>0</td><td>0</td><td>0</td><td>0</td><td>0</td><td>0</td><td>0</td><td>0</td><td>0</td><td>0</td><td>0</td><td>1</td><td>0</td><td>1</td><td>0</td><td>0</td><td>0</td><td>0</td><td>0</td><td>4</td><td>4</td><td>11</td></tr><tr><td>15782</td><td>0</td><td>0</td><td>0</td><td>1</td><td>4</td><td>2</td><td>5</td><td>4</td><td>0</td><td>0</td><td>0</td><td>0</td><td>0</td><td>0</td><td>0</td><td>0</td><td>0</td><td>0</td><td>0</td><td>0</td><td>0</td><td>0</td><td>0</td><td>0</td><td>0</td><td>0</td><td>0</td><td>0</td><td>0</td><td>0</td><td>0</td><td>0</td><td>0</td><td>1</td><td>0</td><td>1</td><td>0</td><td>0</td><td>0</td><td>0</td><td>0</td><td>0</td><td>0</td><td>0</td><td>0</td><td>0</td><td>0</td><td>1</td><td>5</td><td>1</td><td>15</td></tr><tr><td>15783</td><td>0</td><td>0</td><td>0</td><td>1</td><td>3</td><td>4</td><td>4</td><td>4</td><td>0</td><td>0</td><td>0</td><td>0</td><td>0</td><td>0</td><td>1</td><td>0</td><td>0</td><td>0</td><td>0</td><td>0</td><td>0</td><td>0</td><td>0</td><td>0</td><td>0</td><td>0</td><td>0</td><td>0</td><td>0</td><td>0</td><td>0</td><td>0</td><td>0</td><td>0</td><td>0</td><td>0</td><td>0</td><td>0</td><td>0</td><td>0</td><td>1</td><td>0</td><td>0</td><td>0</td><td>1</td><td>0</td><td>0</td><td>0</td><td>4</td><td>3</td><td>15</td></tr><tr><td>15784</td><td>0</td><td>0</td><td>0</td><td>1</td><td>2</td><td>2</td><td>2</td><td>1</td><td>0</td><td>0</td><td>0</td><td>0</td><td>0</td><td>0</td><td>0</td><td>1</td><td>0</td><td>0</td><td>0</td><td>0</td><td>0</td><td>0</td><td>0</td><td>0</td><td>0</td><td>0</td><td>0</td><td>0</td><td>0</td><td>0</td><td>0</td><td>0</td><td>0</td><td>0</td><td>0</td><td>0</td><td>0</td><td>0</td><td>0</td><td>0</td><td>1</td><td>0</td><td>0</td><td>1</td><td>0</td><td>0</td><td>0</td><td>0</td><td>4</td><td>5</td><td>23</td></tr><tr><td>15785</td><td>0</td><td>0</td><td>0</td><td>1</td><td>3</td><td>2</td><td>4</td><td>3</td><td>0</td><td>0</td><td>0</td><td>0</td><td>1</td><td>0</td><td>0</td><td>0</td><td>0</td><td>0</td><td>0</td><td>0</td><td>0</td><td>0</td><td>0</td><td>0</td><td>0</td><td>0</td><td>0</td><td>0</td><td>0</td><td>0</td><td>0</td><td>0</td><td>0</td><td>0</td><td>0</td><td>0</td><td>0</td><td>0</td><td>0</td><td>0</td><td>1</td><td>0</td><td>0</td><td>1</td><td>0</td><td>0</td><td>0</td><td>0</td><td>4</td><td>5</td><td>21</td></tr></tbody></table></div>"
      ],
      "text/plain": [
       "shape: (15_786, 52)\n",
       "┌───────┬────────────┬──────────────┬──────────────┬───┬──────────────┬───────┬─────────────┬──────┐\n",
       "│ index ┆ gender_Man ┆ gender_Non-b ┆ gender_Other ┆ … ┆ job_level_ot ┆ month ┆ day_of_week ┆ hour │\n",
       "│ ---   ┆ ---        ┆ inary        ┆ or prefer    ┆   ┆ her          ┆ ---   ┆ ---         ┆ ---  │\n",
       "│ u32   ┆ u8         ┆ ---          ┆ not to …     ┆   ┆ ---          ┆ i8    ┆ i8          ┆ i8   │\n",
       "│       ┆            ┆ u8           ┆ ---          ┆   ┆ i32          ┆       ┆             ┆      │\n",
       "│       ┆            ┆              ┆ u8           ┆   ┆              ┆       ┆             ┆      │\n",
       "╞═══════╪════════════╪══════════════╪══════════════╪═══╪══════════════╪═══════╪═════════════╪══════╡\n",
       "│ 0     ┆ 0          ┆ 0            ┆ 0            ┆ … ┆ 0            ┆ 4     ┆ 2           ┆ 20   │\n",
       "│ 1     ┆ 0          ┆ 0            ┆ 1            ┆ … ┆ 0            ┆ 4     ┆ 2           ┆ 12   │\n",
       "│ 2     ┆ 0          ┆ 0            ┆ 0            ┆ … ┆ 0            ┆ 4     ┆ 4           ┆ 21   │\n",
       "│ 3     ┆ 1          ┆ 0            ┆ 0            ┆ … ┆ 1            ┆ 4     ┆ 2           ┆ 21   │\n",
       "│ 4     ┆ 1          ┆ 0            ┆ 0            ┆ … ┆ 1            ┆ 4     ┆ 3           ┆ 14   │\n",
       "│ …     ┆ …          ┆ …            ┆ …            ┆ … ┆ …            ┆ …     ┆ …           ┆ …    │\n",
       "│ 15781 ┆ 0          ┆ 0            ┆ 0            ┆ … ┆ 0            ┆ 4     ┆ 4           ┆ 11   │\n",
       "│ 15782 ┆ 0          ┆ 0            ┆ 0            ┆ … ┆ 1            ┆ 5     ┆ 1           ┆ 15   │\n",
       "│ 15783 ┆ 0          ┆ 0            ┆ 0            ┆ … ┆ 0            ┆ 4     ┆ 3           ┆ 15   │\n",
       "│ 15784 ┆ 0          ┆ 0            ┆ 0            ┆ … ┆ 0            ┆ 4     ┆ 5           ┆ 23   │\n",
       "│ 15785 ┆ 0          ┆ 0            ┆ 0            ┆ … ┆ 0            ┆ 4     ┆ 5           ┆ 21   │\n",
       "└───────┴────────────┴──────────────┴──────────────┴───┴──────────────┴───────┴─────────────┴──────┘"
      ]
     },
     "execution_count": 134,
     "metadata": {},
     "output_type": "execute_result"
    }
   ],
   "source": [
    "X_train_dt = extract_timestamp(X_train_job)\n",
    "X_test_dt = extract_timestamp(X_test_job)\n",
    "X_val_dt = extract_timestamp(X_val_job)\n",
    "X_train_dt"
   ]
  },
  {
   "cell_type": "markdown",
   "id": "83617e1d-fc12-4d68-9825-4c44ab69766b",
   "metadata": {},
   "source": [
    "## Numerical Feature Engineering\n",
    "Let's also create some composite features like field experience / overall experience."
   ]
  },
  {
   "cell_type": "code",
   "execution_count": 135,
   "id": "757d6708-0397-449e-8ca3-2dae336bd595",
   "metadata": {},
   "outputs": [],
   "source": [
    "def create_composite_features(df: pl.DataFrame) -> pl.DataFrame:\n",
    "    df = df.with_columns(\n",
    "        (\n",
    "            pl.col(\"experience_field_years_ordinal\")\n",
    "            / pl.col(\"experience_overall_years_ordinal\").replace(0, 1)  # Replace 0 with 1 to avoid division by zero\n",
    "        )\n",
    "        .alias(\"experience_ratio\")\n",
    "        .fill_nan(0.0),\n",
    "        (pl.col(\"education_ordinal\") * pl.col(\"experience_field_years_ordinal\")).alias(\n",
    "            \"education_experience_interaction\"\n",
    "        ),\n",
    "        (pl.col(\"experience_overall_years_ordinal\") ** 2).alias(\"experience_overall_sq\"),\n",
    "    )\n",
    "\n",
    "    return df"
   ]
  },
  {
   "cell_type": "code",
   "execution_count": 136,
   "id": "f305ff06-c19f-4141-8f6d-9edd6ffd7549",
   "metadata": {},
   "outputs": [
    {
     "data": {
      "text/html": [
       "<div><style>\n",
       ".dataframe > thead > tr,\n",
       ".dataframe > tbody > tr {\n",
       "  text-align: right;\n",
       "  white-space: pre-wrap;\n",
       "}\n",
       "</style>\n",
       "<small>shape: (15_786, 55)</small><table border=\"1\" class=\"dataframe\"><thead><tr><th>index</th><th>gender_Man</th><th>gender_Non-binary</th><th>gender_Other or prefer not to answer</th><th>gender_Woman</th><th>age_ordinal</th><th>education_ordinal</th><th>experience_overall_years_ordinal</th><th>experience_field_years_ordinal</th><th>industry_Accounting Banking &amp; Finance</th><th>industry_Agriculture or Forestry</th><th>industry_Art &amp; Design</th><th>industry_Business or Consulting</th><th>industry_Computing or Tech</th><th>industry_Education (Primary/Secondary)</th><th>industry_Education (Higher Education)</th><th>industry_Engineering or Manufacturing</th><th>industry_Entertainment</th><th>industry_Government and Public Administration</th><th>industry_Health care</th><th>industry_Hospitality &amp; Events</th><th>industry_Insurance</th><th>industry_Law</th><th>industry_Law Enforcement &amp; Security</th><th>industry_Leisure Sport &amp; Tourism</th><th>industry_Marketing Advertising &amp; PR</th><th>industry_Media &amp; Digital</th><th>industry_Nonprofits</th><th>industry_Property or Construction</th><th>industry_Recruitment or HR</th><th>industry_Retail</th><th>industry_Sales</th><th>industry_Social Work</th><th>industry_Transport or Logistics</th><th>industry_Utilities &amp; Telecommunications</th><th>race_Another option not listed here or prefer not to answer</th><th>race_Asian or Asian American</th><th>race_Black or African American</th><th>race_Hispanic Latino or Spanish origin</th><th>race_Middle Eastern or Northern African</th><th>race_Native American or Alaska Native</th><th>race_White</th><th>job_level_junior</th><th>job_level_senior</th><th>job_level_manager</th><th>job_level_director</th><th>job_level_vp</th><th>job_level_c_level</th><th>job_level_other</th><th>month</th><th>day_of_week</th><th>hour</th><th>experience_ratio</th><th>education_experience_interaction</th><th>experience_overall_sq</th></tr><tr><td>u32</td><td>u8</td><td>u8</td><td>u8</td><td>u8</td><td>i32</td><td>i32</td><td>i32</td><td>i32</td><td>i32</td><td>i32</td><td>i32</td><td>i32</td><td>i32</td><td>i32</td><td>i32</td><td>i32</td><td>i32</td><td>i32</td><td>i32</td><td>i32</td><td>i32</td><td>i32</td><td>i32</td><td>i32</td><td>i32</td><td>i32</td><td>i32</td><td>i32</td><td>i32</td><td>i32</td><td>i32</td><td>i32</td><td>i32</td><td>i32</td><td>i32</td><td>i32</td><td>i32</td><td>i32</td><td>i32</td><td>i32</td><td>i32</td><td>i32</td><td>i32</td><td>i32</td><td>i32</td><td>i32</td><td>i32</td><td>i32</td><td>i8</td><td>i8</td><td>i8</td><td>f64</td><td>i32</td><td>i32</td></tr></thead><tbody><tr><td>0</td><td>0</td><td>0</td><td>0</td><td>1</td><td>2</td><td>2</td><td>3</td><td>3</td><td>0</td><td>0</td><td>0</td><td>0</td><td>0</td><td>0</td><td>0</td><td>0</td><td>0</td><td>0</td><td>0</td><td>0</td><td>0</td><td>0</td><td>0</td><td>0</td><td>1</td><td>0</td><td>0</td><td>0</td><td>0</td><td>0</td><td>0</td><td>0</td><td>0</td><td>0</td><td>0</td><td>0</td><td>0</td><td>0</td><td>0</td><td>0</td><td>1</td><td>0</td><td>1</td><td>0</td><td>0</td><td>0</td><td>0</td><td>0</td><td>4</td><td>2</td><td>20</td><td>1.0</td><td>6</td><td>9</td></tr><tr><td>1</td><td>0</td><td>0</td><td>1</td><td>0</td><td>4</td><td>1</td><td>5</td><td>5</td><td>0</td><td>0</td><td>0</td><td>0</td><td>1</td><td>0</td><td>0</td><td>0</td><td>0</td><td>0</td><td>0</td><td>0</td><td>0</td><td>0</td><td>0</td><td>0</td><td>0</td><td>0</td><td>0</td><td>0</td><td>0</td><td>0</td><td>0</td><td>0</td><td>0</td><td>0</td><td>1</td><td>0</td><td>0</td><td>0</td><td>0</td><td>0</td><td>0</td><td>0</td><td>1</td><td>0</td><td>0</td><td>0</td><td>0</td><td>0</td><td>4</td><td>2</td><td>12</td><td>1.0</td><td>5</td><td>25</td></tr><tr><td>2</td><td>0</td><td>0</td><td>0</td><td>1</td><td>4</td><td>2</td><td>5</td><td>5</td><td>0</td><td>0</td><td>0</td><td>0</td><td>0</td><td>0</td><td>0</td><td>0</td><td>0</td><td>0</td><td>0</td><td>0</td><td>1</td><td>0</td><td>0</td><td>0</td><td>0</td><td>0</td><td>0</td><td>0</td><td>0</td><td>0</td><td>0</td><td>0</td><td>0</td><td>0</td><td>0</td><td>0</td><td>0</td><td>0</td><td>0</td><td>0</td><td>1</td><td>0</td><td>0</td><td>1</td><td>0</td><td>0</td><td>0</td><td>0</td><td>4</td><td>4</td><td>21</td><td>1.0</td><td>10</td><td>25</td></tr><tr><td>3</td><td>1</td><td>0</td><td>0</td><td>0</td><td>3</td><td>2</td><td>4</td><td>1</td><td>0</td><td>0</td><td>0</td><td>0</td><td>1</td><td>0</td><td>0</td><td>0</td><td>0</td><td>0</td><td>0</td><td>0</td><td>0</td><td>0</td><td>0</td><td>0</td><td>0</td><td>0</td><td>0</td><td>0</td><td>0</td><td>0</td><td>0</td><td>0</td><td>0</td><td>0</td><td>0</td><td>0</td><td>0</td><td>0</td><td>0</td><td>0</td><td>1</td><td>0</td><td>0</td><td>0</td><td>0</td><td>0</td><td>0</td><td>1</td><td>4</td><td>2</td><td>21</td><td>0.25</td><td>2</td><td>16</td></tr><tr><td>4</td><td>1</td><td>0</td><td>0</td><td>0</td><td>4</td><td>2</td><td>5</td><td>4</td><td>0</td><td>0</td><td>0</td><td>0</td><td>1</td><td>0</td><td>0</td><td>0</td><td>0</td><td>0</td><td>0</td><td>0</td><td>0</td><td>0</td><td>0</td><td>0</td><td>0</td><td>0</td><td>0</td><td>0</td><td>0</td><td>0</td><td>0</td><td>0</td><td>0</td><td>0</td><td>0</td><td>0</td><td>0</td><td>0</td><td>0</td><td>0</td><td>1</td><td>0</td><td>0</td><td>0</td><td>0</td><td>0</td><td>0</td><td>1</td><td>4</td><td>3</td><td>14</td><td>0.8</td><td>8</td><td>25</td></tr><tr><td>&hellip;</td><td>&hellip;</td><td>&hellip;</td><td>&hellip;</td><td>&hellip;</td><td>&hellip;</td><td>&hellip;</td><td>&hellip;</td><td>&hellip;</td><td>&hellip;</td><td>&hellip;</td><td>&hellip;</td><td>&hellip;</td><td>&hellip;</td><td>&hellip;</td><td>&hellip;</td><td>&hellip;</td><td>&hellip;</td><td>&hellip;</td><td>&hellip;</td><td>&hellip;</td><td>&hellip;</td><td>&hellip;</td><td>&hellip;</td><td>&hellip;</td><td>&hellip;</td><td>&hellip;</td><td>&hellip;</td><td>&hellip;</td><td>&hellip;</td><td>&hellip;</td><td>&hellip;</td><td>&hellip;</td><td>&hellip;</td><td>&hellip;</td><td>&hellip;</td><td>&hellip;</td><td>&hellip;</td><td>&hellip;</td><td>&hellip;</td><td>&hellip;</td><td>&hellip;</td><td>&hellip;</td><td>&hellip;</td><td>&hellip;</td><td>&hellip;</td><td>&hellip;</td><td>&hellip;</td><td>&hellip;</td><td>&hellip;</td><td>&hellip;</td><td>&hellip;</td><td>&hellip;</td><td>&hellip;</td><td>&hellip;</td></tr><tr><td>15781</td><td>0</td><td>0</td><td>0</td><td>1</td><td>2</td><td>2</td><td>2</td><td>2</td><td>0</td><td>0</td><td>0</td><td>1</td><td>0</td><td>0</td><td>0</td><td>0</td><td>0</td><td>0</td><td>0</td><td>0</td><td>0</td><td>0</td><td>0</td><td>0</td><td>0</td><td>0</td><td>0</td><td>0</td><td>0</td><td>0</td><td>0</td><td>0</td><td>0</td><td>0</td><td>0</td><td>0</td><td>0</td><td>0</td><td>0</td><td>0</td><td>1</td><td>0</td><td>1</td><td>0</td><td>0</td><td>0</td><td>0</td><td>0</td><td>4</td><td>4</td><td>11</td><td>1.0</td><td>4</td><td>4</td></tr><tr><td>15782</td><td>0</td><td>0</td><td>0</td><td>1</td><td>4</td><td>2</td><td>5</td><td>4</td><td>0</td><td>0</td><td>0</td><td>0</td><td>0</td><td>0</td><td>0</td><td>0</td><td>0</td><td>0</td><td>0</td><td>0</td><td>0</td><td>0</td><td>0</td><td>0</td><td>0</td><td>0</td><td>0</td><td>0</td><td>0</td><td>0</td><td>0</td><td>0</td><td>0</td><td>1</td><td>0</td><td>1</td><td>0</td><td>0</td><td>0</td><td>0</td><td>0</td><td>0</td><td>0</td><td>0</td><td>0</td><td>0</td><td>0</td><td>1</td><td>5</td><td>1</td><td>15</td><td>0.8</td><td>8</td><td>25</td></tr><tr><td>15783</td><td>0</td><td>0</td><td>0</td><td>1</td><td>3</td><td>4</td><td>4</td><td>4</td><td>0</td><td>0</td><td>0</td><td>0</td><td>0</td><td>0</td><td>1</td><td>0</td><td>0</td><td>0</td><td>0</td><td>0</td><td>0</td><td>0</td><td>0</td><td>0</td><td>0</td><td>0</td><td>0</td><td>0</td><td>0</td><td>0</td><td>0</td><td>0</td><td>0</td><td>0</td><td>0</td><td>0</td><td>0</td><td>0</td><td>0</td><td>0</td><td>1</td><td>0</td><td>0</td><td>0</td><td>1</td><td>0</td><td>0</td><td>0</td><td>4</td><td>3</td><td>15</td><td>1.0</td><td>16</td><td>16</td></tr><tr><td>15784</td><td>0</td><td>0</td><td>0</td><td>1</td><td>2</td><td>2</td><td>2</td><td>1</td><td>0</td><td>0</td><td>0</td><td>0</td><td>0</td><td>0</td><td>0</td><td>1</td><td>0</td><td>0</td><td>0</td><td>0</td><td>0</td><td>0</td><td>0</td><td>0</td><td>0</td><td>0</td><td>0</td><td>0</td><td>0</td><td>0</td><td>0</td><td>0</td><td>0</td><td>0</td><td>0</td><td>0</td><td>0</td><td>0</td><td>0</td><td>0</td><td>1</td><td>0</td><td>0</td><td>1</td><td>0</td><td>0</td><td>0</td><td>0</td><td>4</td><td>5</td><td>23</td><td>0.5</td><td>2</td><td>4</td></tr><tr><td>15785</td><td>0</td><td>0</td><td>0</td><td>1</td><td>3</td><td>2</td><td>4</td><td>3</td><td>0</td><td>0</td><td>0</td><td>0</td><td>1</td><td>0</td><td>0</td><td>0</td><td>0</td><td>0</td><td>0</td><td>0</td><td>0</td><td>0</td><td>0</td><td>0</td><td>0</td><td>0</td><td>0</td><td>0</td><td>0</td><td>0</td><td>0</td><td>0</td><td>0</td><td>0</td><td>0</td><td>0</td><td>0</td><td>0</td><td>0</td><td>0</td><td>1</td><td>0</td><td>0</td><td>1</td><td>0</td><td>0</td><td>0</td><td>0</td><td>4</td><td>5</td><td>21</td><td>0.75</td><td>6</td><td>16</td></tr></tbody></table></div>"
      ],
      "text/plain": [
       "shape: (15_786, 55)\n",
       "┌───────┬────────────┬─────────────┬─────────────┬───┬──────┬────────────┬────────────┬────────────┐\n",
       "│ index ┆ gender_Man ┆ gender_Non- ┆ gender_Othe ┆ … ┆ hour ┆ experience ┆ education_ ┆ experience │\n",
       "│ ---   ┆ ---        ┆ binary      ┆ r or prefer ┆   ┆ ---  ┆ _ratio     ┆ experience ┆ _overall_s │\n",
       "│ u32   ┆ u8         ┆ ---         ┆ not to …    ┆   ┆ i8   ┆ ---        ┆ _interacti ┆ q          │\n",
       "│       ┆            ┆ u8          ┆ ---         ┆   ┆      ┆ f64        ┆ …          ┆ ---        │\n",
       "│       ┆            ┆             ┆ u8          ┆   ┆      ┆            ┆ ---        ┆ i32        │\n",
       "│       ┆            ┆             ┆             ┆   ┆      ┆            ┆ i32        ┆            │\n",
       "╞═══════╪════════════╪═════════════╪═════════════╪═══╪══════╪════════════╪════════════╪════════════╡\n",
       "│ 0     ┆ 0          ┆ 0           ┆ 0           ┆ … ┆ 20   ┆ 1.0        ┆ 6          ┆ 9          │\n",
       "│ 1     ┆ 0          ┆ 0           ┆ 1           ┆ … ┆ 12   ┆ 1.0        ┆ 5          ┆ 25         │\n",
       "│ 2     ┆ 0          ┆ 0           ┆ 0           ┆ … ┆ 21   ┆ 1.0        ┆ 10         ┆ 25         │\n",
       "│ 3     ┆ 1          ┆ 0           ┆ 0           ┆ … ┆ 21   ┆ 0.25       ┆ 2          ┆ 16         │\n",
       "│ 4     ┆ 1          ┆ 0           ┆ 0           ┆ … ┆ 14   ┆ 0.8        ┆ 8          ┆ 25         │\n",
       "│ …     ┆ …          ┆ …           ┆ …           ┆ … ┆ …    ┆ …          ┆ …          ┆ …          │\n",
       "│ 15781 ┆ 0          ┆ 0           ┆ 0           ┆ … ┆ 11   ┆ 1.0        ┆ 4          ┆ 4          │\n",
       "│ 15782 ┆ 0          ┆ 0           ┆ 0           ┆ … ┆ 15   ┆ 0.8        ┆ 8          ┆ 25         │\n",
       "│ 15783 ┆ 0          ┆ 0           ┆ 0           ┆ … ┆ 15   ┆ 1.0        ┆ 16         ┆ 16         │\n",
       "│ 15784 ┆ 0          ┆ 0           ┆ 0           ┆ … ┆ 23   ┆ 0.5        ┆ 2          ┆ 4          │\n",
       "│ 15785 ┆ 0          ┆ 0           ┆ 0           ┆ … ┆ 21   ┆ 0.75       ┆ 6          ┆ 16         │\n",
       "└───────┴────────────┴─────────────┴─────────────┴───┴──────┴────────────┴────────────┴────────────┘"
      ]
     },
     "execution_count": 136,
     "metadata": {},
     "output_type": "execute_result"
    }
   ],
   "source": [
    "X_train_final_features = create_composite_features(X_train_dt)\n",
    "X_test_final_features = create_composite_features(X_test_dt)\n",
    "X_val_final_features = create_composite_features(X_val_dt)\n",
    "\n",
    "X_train_final_features"
   ]
  },
  {
   "cell_type": "markdown",
   "id": "3c4c5784-857e-4b85-9f43-16430503c73e",
   "metadata": {},
   "source": [
    "## Feature Scaling\n",
    "Now that we're finally done setting up all our features, we need to scale them to an appropriate range to avoid feature domination."
   ]
  },
  {
   "cell_type": "code",
   "execution_count": 137,
   "id": "cc145c27-24e4-44f2-a038-a1c2aa929a25",
   "metadata": {
    "lines_to_next_cell": 0
   },
   "outputs": [
    {
     "name": "stdout",
     "output_type": "stream",
     "text": [
      "\n",
      "Numerical features to scale: ['age_ordinal', 'education_ordinal', 'experience_overall_years_ordinal', 'experience_field_years_ordinal', 'industry_Accounting Banking & Finance', 'industry_Agriculture or Forestry', 'industry_Art & Design', 'industry_Business or Consulting', 'industry_Computing or Tech', 'industry_Education (Primary/Secondary)', 'industry_Education (Higher Education)', 'industry_Engineering or Manufacturing', 'industry_Entertainment', 'industry_Government and Public Administration', 'industry_Health care', 'industry_Hospitality & Events', 'industry_Insurance', 'industry_Law', 'industry_Law Enforcement & Security', 'industry_Leisure Sport & Tourism', 'industry_Marketing Advertising & PR', 'industry_Media & Digital', 'industry_Nonprofits', 'industry_Property or Construction', 'industry_Recruitment or HR', 'industry_Retail', 'industry_Sales', 'industry_Social Work', 'industry_Transport or Logistics', 'industry_Utilities & Telecommunications', 'race_Another option not listed here or prefer not to answer', 'race_Asian or Asian American', 'race_Black or African American', 'race_Hispanic Latino or Spanish origin', 'race_Middle Eastern or Northern African', 'race_Native American or Alaska Native', 'race_White', 'job_level_junior', 'job_level_senior', 'job_level_manager', 'job_level_director', 'job_level_vp', 'job_level_c_level', 'job_level_other', 'month', 'day_of_week', 'hour', 'experience_ratio', 'education_experience_interaction', 'experience_overall_sq']\n"
     ]
    },
    {
     "data": {
      "text/html": [
       "<div><style>\n",
       ".dataframe > thead > tr,\n",
       ".dataframe > tbody > tr {\n",
       "  text-align: right;\n",
       "  white-space: pre-wrap;\n",
       "}\n",
       "</style>\n",
       "<small>shape: (15_786, 54)</small><table border=\"1\" class=\"dataframe\"><thead><tr><th>age_ordinal</th><th>education_ordinal</th><th>experience_overall_years_ordinal</th><th>experience_field_years_ordinal</th><th>industry_Accounting Banking &amp; Finance</th><th>industry_Agriculture or Forestry</th><th>industry_Art &amp; Design</th><th>industry_Business or Consulting</th><th>industry_Computing or Tech</th><th>industry_Education (Primary/Secondary)</th><th>industry_Education (Higher Education)</th><th>industry_Engineering or Manufacturing</th><th>industry_Entertainment</th><th>industry_Government and Public Administration</th><th>industry_Health care</th><th>industry_Hospitality &amp; Events</th><th>industry_Insurance</th><th>industry_Law</th><th>industry_Law Enforcement &amp; Security</th><th>industry_Leisure Sport &amp; Tourism</th><th>industry_Marketing Advertising &amp; PR</th><th>industry_Media &amp; Digital</th><th>industry_Nonprofits</th><th>industry_Property or Construction</th><th>industry_Recruitment or HR</th><th>industry_Retail</th><th>industry_Sales</th><th>industry_Social Work</th><th>industry_Transport or Logistics</th><th>industry_Utilities &amp; Telecommunications</th><th>race_Another option not listed here or prefer not to answer</th><th>race_Asian or Asian American</th><th>race_Black or African American</th><th>race_Hispanic Latino or Spanish origin</th><th>race_Middle Eastern or Northern African</th><th>race_Native American or Alaska Native</th><th>race_White</th><th>job_level_junior</th><th>job_level_senior</th><th>job_level_manager</th><th>job_level_director</th><th>job_level_vp</th><th>job_level_c_level</th><th>job_level_other</th><th>month</th><th>day_of_week</th><th>hour</th><th>experience_ratio</th><th>education_experience_interaction</th><th>experience_overall_sq</th><th>gender_Man</th><th>gender_Non-binary</th><th>gender_Other or prefer not to answer</th><th>gender_Woman</th></tr><tr><td>f64</td><td>f64</td><td>f64</td><td>f64</td><td>f64</td><td>f64</td><td>f64</td><td>f64</td><td>f64</td><td>f64</td><td>f64</td><td>f64</td><td>f64</td><td>f64</td><td>f64</td><td>f64</td><td>f64</td><td>f64</td><td>f64</td><td>f64</td><td>f64</td><td>f64</td><td>f64</td><td>f64</td><td>f64</td><td>f64</td><td>f64</td><td>f64</td><td>f64</td><td>f64</td><td>f64</td><td>f64</td><td>f64</td><td>f64</td><td>f64</td><td>f64</td><td>f64</td><td>f64</td><td>f64</td><td>f64</td><td>f64</td><td>f64</td><td>f64</td><td>f64</td><td>f64</td><td>f64</td><td>f64</td><td>f64</td><td>f64</td><td>f64</td><td>u8</td><td>u8</td><td>u8</td><td>u8</td></tr></thead><tbody><tr><td>-0.750378</td><td>-0.620621</td><td>-0.212917</td><td>0.279512</td><td>-0.262826</td><td>-0.070467</td><td>-0.114136</td><td>-0.174407</td><td>-0.438721</td><td>-0.175943</td><td>-0.315368</td><td>-0.256713</td><td>-0.093566</td><td>-0.254321</td><td>-0.279652</td><td>-0.097615</td><td>-0.13632</td><td>-0.207893</td><td>-0.037358</td><td>-0.056931</td><td>4.921103</td><td>-0.166536</td><td>-0.315489</td><td>-0.120788</td><td>-0.133398</td><td>-0.132163</td><td>-0.107998</td><td>-0.100549</td><td>-0.102775</td><td>-0.107397</td><td>-0.138948</td><td>-0.221299</td><td>-0.164517</td><td>-0.156841</td><td>-0.044358</td><td>-0.038198</td><td>0.447927</td><td>-0.079442</td><td>2.574119</td><td>-0.475897</td><td>-0.326534</td><td>-0.111254</td><td>-0.218131</td><td>-1.049094</td><td>-0.307015</td><td>-0.740221</td><td>1.273209</td><td>0.668259</td><td>-0.220362</td><td>-0.418153</td><td>0</td><td>0</td><td>0</td><td>1</td></tr><tr><td>1.480197</td><td>-1.472619</td><td>1.244631</td><td>1.678491</td><td>-0.262826</td><td>-0.070467</td><td>-0.114136</td><td>-0.174407</td><td>2.279352</td><td>-0.175943</td><td>-0.315368</td><td>-0.256713</td><td>-0.093566</td><td>-0.254321</td><td>-0.279652</td><td>-0.097615</td><td>-0.13632</td><td>-0.207893</td><td>-0.037358</td><td>-0.056931</td><td>-0.203206</td><td>-0.166536</td><td>-0.315489</td><td>-0.120788</td><td>-0.133398</td><td>-0.132163</td><td>-0.107998</td><td>-0.100549</td><td>-0.102775</td><td>-0.107397</td><td>7.196943</td><td>-0.221299</td><td>-0.164517</td><td>-0.156841</td><td>-0.044358</td><td>-0.038198</td><td>-2.232505</td><td>-0.079442</td><td>2.574119</td><td>-0.475897</td><td>-0.326534</td><td>-0.111254</td><td>-0.218131</td><td>-1.049094</td><td>-0.307015</td><td>-0.740221</td><td>-0.418064</td><td>0.668259</td><td>-0.407485</td><td>1.3798</td><td>0</td><td>0</td><td>1</td><td>0</td></tr><tr><td>1.480197</td><td>-0.620621</td><td>1.244631</td><td>1.678491</td><td>-0.262826</td><td>-0.070467</td><td>-0.114136</td><td>-0.174407</td><td>-0.438721</td><td>-0.175943</td><td>-0.315368</td><td>-0.256713</td><td>-0.093566</td><td>-0.254321</td><td>-0.279652</td><td>-0.097615</td><td>7.3357</td><td>-0.207893</td><td>-0.037358</td><td>-0.056931</td><td>-0.203206</td><td>-0.166536</td><td>-0.315489</td><td>-0.120788</td><td>-0.133398</td><td>-0.132163</td><td>-0.107998</td><td>-0.100549</td><td>-0.102775</td><td>-0.107397</td><td>-0.138948</td><td>-0.221299</td><td>-0.164517</td><td>-0.156841</td><td>-0.044358</td><td>-0.038198</td><td>0.447927</td><td>-0.079442</td><td>-0.388482</td><td>2.101294</td><td>-0.326534</td><td>-0.111254</td><td>-0.218131</td><td>-1.049094</td><td>-0.307015</td><td>0.94558</td><td>1.484619</td><td>0.668259</td><td>0.528133</td><td>1.3798</td><td>0</td><td>0</td><td>0</td><td>1</td></tr><tr><td>0.364909</td><td>-0.620621</td><td>0.515857</td><td>-1.119467</td><td>-0.262826</td><td>-0.070467</td><td>-0.114136</td><td>-0.174407</td><td>2.279352</td><td>-0.175943</td><td>-0.315368</td><td>-0.256713</td><td>-0.093566</td><td>-0.254321</td><td>-0.279652</td><td>-0.097615</td><td>-0.13632</td><td>-0.207893</td><td>-0.037358</td><td>-0.056931</td><td>-0.203206</td><td>-0.166536</td><td>-0.315489</td><td>-0.120788</td><td>-0.133398</td><td>-0.132163</td><td>-0.107998</td><td>-0.100549</td><td>-0.102775</td><td>-0.107397</td><td>-0.138948</td><td>-0.221299</td><td>-0.164517</td><td>-0.156841</td><td>-0.044358</td><td>-0.038198</td><td>0.447927</td><td>-0.079442</td><td>-0.388482</td><td>-0.475897</td><td>-0.326534</td><td>-0.111254</td><td>-0.218131</td><td>0.953203</td><td>-0.307015</td><td>-0.740221</td><td>1.484619</td><td>-1.654364</td><td>-0.968856</td><td>0.368452</td><td>1</td><td>0</td><td>0</td><td>0</td></tr><tr><td>1.480197</td><td>-0.620621</td><td>1.244631</td><td>0.979002</td><td>-0.262826</td><td>-0.070467</td><td>-0.114136</td><td>-0.174407</td><td>2.279352</td><td>-0.175943</td><td>-0.315368</td><td>-0.256713</td><td>-0.093566</td><td>-0.254321</td><td>-0.279652</td><td>-0.097615</td><td>-0.13632</td><td>-0.207893</td><td>-0.037358</td><td>-0.056931</td><td>-0.203206</td><td>-0.166536</td><td>-0.315489</td><td>-0.120788</td><td>-0.133398</td><td>-0.132163</td><td>-0.107998</td><td>-0.100549</td><td>-0.102775</td><td>-0.107397</td><td>-0.138948</td><td>-0.221299</td><td>-0.164517</td><td>-0.156841</td><td>-0.044358</td><td>-0.038198</td><td>0.447927</td><td>-0.079442</td><td>-0.388482</td><td>-0.475897</td><td>-0.326534</td><td>-0.111254</td><td>-0.218131</td><td>0.953203</td><td>-0.307015</td><td>0.102679</td><td>0.004754</td><td>0.048893</td><td>0.153886</td><td>1.3798</td><td>1</td><td>0</td><td>0</td><td>0</td></tr><tr><td>&hellip;</td><td>&hellip;</td><td>&hellip;</td><td>&hellip;</td><td>&hellip;</td><td>&hellip;</td><td>&hellip;</td><td>&hellip;</td><td>&hellip;</td><td>&hellip;</td><td>&hellip;</td><td>&hellip;</td><td>&hellip;</td><td>&hellip;</td><td>&hellip;</td><td>&hellip;</td><td>&hellip;</td><td>&hellip;</td><td>&hellip;</td><td>&hellip;</td><td>&hellip;</td><td>&hellip;</td><td>&hellip;</td><td>&hellip;</td><td>&hellip;</td><td>&hellip;</td><td>&hellip;</td><td>&hellip;</td><td>&hellip;</td><td>&hellip;</td><td>&hellip;</td><td>&hellip;</td><td>&hellip;</td><td>&hellip;</td><td>&hellip;</td><td>&hellip;</td><td>&hellip;</td><td>&hellip;</td><td>&hellip;</td><td>&hellip;</td><td>&hellip;</td><td>&hellip;</td><td>&hellip;</td><td>&hellip;</td><td>&hellip;</td><td>&hellip;</td><td>&hellip;</td><td>&hellip;</td><td>&hellip;</td><td>&hellip;</td><td>&hellip;</td><td>&hellip;</td><td>&hellip;</td><td>&hellip;</td></tr><tr><td>-0.750378</td><td>-0.620621</td><td>-0.941691</td><td>-0.419977</td><td>-0.262826</td><td>-0.070467</td><td>-0.114136</td><td>5.733719</td><td>-0.438721</td><td>-0.175943</td><td>-0.315368</td><td>-0.256713</td><td>-0.093566</td><td>-0.254321</td><td>-0.279652</td><td>-0.097615</td><td>-0.13632</td><td>-0.207893</td><td>-0.037358</td><td>-0.056931</td><td>-0.203206</td><td>-0.166536</td><td>-0.315489</td><td>-0.120788</td><td>-0.133398</td><td>-0.132163</td><td>-0.107998</td><td>-0.100549</td><td>-0.102775</td><td>-0.107397</td><td>-0.138948</td><td>-0.221299</td><td>-0.164517</td><td>-0.156841</td><td>-0.044358</td><td>-0.038198</td><td>0.447927</td><td>-0.079442</td><td>2.574119</td><td>-0.475897</td><td>-0.326534</td><td>-0.111254</td><td>-0.218131</td><td>-1.049094</td><td>-0.307015</td><td>0.94558</td><td>-0.629473</td><td>0.668259</td><td>-0.594609</td><td>-0.980013</td><td>0</td><td>0</td><td>0</td><td>1</td></tr><tr><td>1.480197</td><td>-0.620621</td><td>1.244631</td><td>0.979002</td><td>-0.262826</td><td>-0.070467</td><td>-0.114136</td><td>-0.174407</td><td>-0.438721</td><td>-0.175943</td><td>-0.315368</td><td>-0.256713</td><td>-0.093566</td><td>-0.254321</td><td>-0.279652</td><td>-0.097615</td><td>-0.13632</td><td>-0.207893</td><td>-0.037358</td><td>-0.056931</td><td>-0.203206</td><td>-0.166536</td><td>-0.315489</td><td>-0.120788</td><td>-0.133398</td><td>-0.132163</td><td>-0.107998</td><td>-0.100549</td><td>-0.102775</td><td>9.311283</td><td>-0.138948</td><td>4.518768</td><td>-0.164517</td><td>-0.156841</td><td>-0.044358</td><td>-0.038198</td><td>-2.232505</td><td>-0.079442</td><td>-0.388482</td><td>-0.475897</td><td>-0.326534</td><td>-0.111254</td><td>-0.218131</td><td>0.953203</td><td>0.517086</td><td>-1.583121</td><td>0.216163</td><td>0.048893</td><td>0.153886</td><td>1.3798</td><td>0</td><td>0</td><td>0</td><td>1</td></tr><tr><td>0.364909</td><td>1.083375</td><td>0.515857</td><td>0.979002</td><td>-0.262826</td><td>-0.070467</td><td>-0.114136</td><td>-0.174407</td><td>-0.438721</td><td>-0.175943</td><td>3.170902</td><td>-0.256713</td><td>-0.093566</td><td>-0.254321</td><td>-0.279652</td><td>-0.097615</td><td>-0.13632</td><td>-0.207893</td><td>-0.037358</td><td>-0.056931</td><td>-0.203206</td><td>-0.166536</td><td>-0.315489</td><td>-0.120788</td><td>-0.133398</td><td>-0.132163</td><td>-0.107998</td><td>-0.100549</td><td>-0.102775</td><td>-0.107397</td><td>-0.138948</td><td>-0.221299</td><td>-0.164517</td><td>-0.156841</td><td>-0.044358</td><td>-0.038198</td><td>0.447927</td><td>-0.079442</td><td>-0.388482</td><td>-0.475897</td><td>3.062466</td><td>-0.111254</td><td>-0.218131</td><td>-1.049094</td><td>-0.307015</td><td>0.102679</td><td>0.216163</td><td>0.668259</td><td>1.650875</td><td>0.368452</td><td>0</td><td>0</td><td>0</td><td>1</td></tr><tr><td>-0.750378</td><td>-0.620621</td><td>-0.941691</td><td>-1.119467</td><td>-0.262826</td><td>-0.070467</td><td>-0.114136</td><td>-0.174407</td><td>-0.438721</td><td>-0.175943</td><td>-0.315368</td><td>3.895405</td><td>-0.093566</td><td>-0.254321</td><td>-0.279652</td><td>-0.097615</td><td>-0.13632</td><td>-0.207893</td><td>-0.037358</td><td>-0.056931</td><td>-0.203206</td><td>-0.166536</td><td>-0.315489</td><td>-0.120788</td><td>-0.133398</td><td>-0.132163</td><td>-0.107998</td><td>-0.100549</td><td>-0.102775</td><td>-0.107397</td><td>-0.138948</td><td>-0.221299</td><td>-0.164517</td><td>-0.156841</td><td>-0.044358</td><td>-0.038198</td><td>0.447927</td><td>-0.079442</td><td>-0.388482</td><td>2.101294</td><td>-0.326534</td><td>-0.111254</td><td>-0.218131</td><td>-1.049094</td><td>-0.307015</td><td>1.78848</td><td>1.907437</td><td>-0.880157</td><td>-0.968856</td><td>-0.980013</td><td>0</td><td>0</td><td>0</td><td>1</td></tr><tr><td>0.364909</td><td>-0.620621</td><td>0.515857</td><td>0.279512</td><td>-0.262826</td><td>-0.070467</td><td>-0.114136</td><td>-0.174407</td><td>2.279352</td><td>-0.175943</td><td>-0.315368</td><td>-0.256713</td><td>-0.093566</td><td>-0.254321</td><td>-0.279652</td><td>-0.097615</td><td>-0.13632</td><td>-0.207893</td><td>-0.037358</td><td>-0.056931</td><td>-0.203206</td><td>-0.166536</td><td>-0.315489</td><td>-0.120788</td><td>-0.133398</td><td>-0.132163</td><td>-0.107998</td><td>-0.100549</td><td>-0.102775</td><td>-0.107397</td><td>-0.138948</td><td>-0.221299</td><td>-0.164517</td><td>-0.156841</td><td>-0.044358</td><td>-0.038198</td><td>0.447927</td><td>-0.079442</td><td>-0.388482</td><td>2.101294</td><td>-0.326534</td><td>-0.111254</td><td>-0.218131</td><td>-1.049094</td><td>-0.307015</td><td>1.78848</td><td>1.484619</td><td>-0.105949</td><td>-0.220362</td><td>0.368452</td><td>0</td><td>0</td><td>0</td><td>1</td></tr></tbody></table></div>"
      ],
      "text/plain": [
       "shape: (15_786, 54)\n",
       "┌───────────┬───────────┬───────────┬───────────┬───┬───────────┬───────────┬───────────┬──────────┐\n",
       "│ age_ordin ┆ education ┆ experienc ┆ experienc ┆ … ┆ gender_Ma ┆ gender_No ┆ gender_Ot ┆ gender_W │\n",
       "│ al        ┆ _ordinal  ┆ e_overall ┆ e_field_y ┆   ┆ n         ┆ n-binary  ┆ her or    ┆ oman     │\n",
       "│ ---       ┆ ---       ┆ _years_or ┆ ears_ordi ┆   ┆ ---       ┆ ---       ┆ prefer    ┆ ---      │\n",
       "│ f64       ┆ f64       ┆ din…      ┆ nal       ┆   ┆ u8        ┆ u8        ┆ not to …  ┆ u8       │\n",
       "│           ┆           ┆ ---       ┆ ---       ┆   ┆           ┆           ┆ ---       ┆          │\n",
       "│           ┆           ┆ f64       ┆ f64       ┆   ┆           ┆           ┆ u8        ┆          │\n",
       "╞═══════════╪═══════════╪═══════════╪═══════════╪═══╪═══════════╪═══════════╪═══════════╪══════════╡\n",
       "│ -0.750378 ┆ -0.620621 ┆ -0.212917 ┆ 0.279512  ┆ … ┆ 0         ┆ 0         ┆ 0         ┆ 1        │\n",
       "│ 1.480197  ┆ -1.472619 ┆ 1.244631  ┆ 1.678491  ┆ … ┆ 0         ┆ 0         ┆ 1         ┆ 0        │\n",
       "│ 1.480197  ┆ -0.620621 ┆ 1.244631  ┆ 1.678491  ┆ … ┆ 0         ┆ 0         ┆ 0         ┆ 1        │\n",
       "│ 0.364909  ┆ -0.620621 ┆ 0.515857  ┆ -1.119467 ┆ … ┆ 1         ┆ 0         ┆ 0         ┆ 0        │\n",
       "│ 1.480197  ┆ -0.620621 ┆ 1.244631  ┆ 0.979002  ┆ … ┆ 1         ┆ 0         ┆ 0         ┆ 0        │\n",
       "│ …         ┆ …         ┆ …         ┆ …         ┆ … ┆ …         ┆ …         ┆ …         ┆ …        │\n",
       "│ -0.750378 ┆ -0.620621 ┆ -0.941691 ┆ -0.419977 ┆ … ┆ 0         ┆ 0         ┆ 0         ┆ 1        │\n",
       "│ 1.480197  ┆ -0.620621 ┆ 1.244631  ┆ 0.979002  ┆ … ┆ 0         ┆ 0         ┆ 0         ┆ 1        │\n",
       "│ 0.364909  ┆ 1.083375  ┆ 0.515857  ┆ 0.979002  ┆ … ┆ 0         ┆ 0         ┆ 0         ┆ 1        │\n",
       "│ -0.750378 ┆ -0.620621 ┆ -0.941691 ┆ -1.119467 ┆ … ┆ 0         ┆ 0         ┆ 0         ┆ 1        │\n",
       "│ 0.364909  ┆ -0.620621 ┆ 0.515857  ┆ 0.279512  ┆ … ┆ 0         ┆ 0         ┆ 0         ┆ 1        │\n",
       "└───────────┴───────────┴───────────┴───────────┴───┴───────────┴───────────┴───────────┴──────────┘"
      ]
     },
     "execution_count": 137,
     "metadata": {},
     "output_type": "execute_result"
    }
   ],
   "source": [
    "# Create Scalar\n",
    "scaler = StandardScaler()\n",
    "\n",
    "numerical_cols = X_train_final_features.select(\n",
    "    [\n",
    "        pl.exclude(\n",
    "            [\n",
    "                col\n",
    "                for col in X_train_final_features.columns\n",
    "                if X_train_final_features[col].dtype == pl.UInt8 or col == \"index\"\n",
    "            ]\n",
    "        )\n",
    "    ]\n",
    ").columns\n",
    "\n",
    "print(f\"\\nNumerical features to scale: {numerical_cols}\")\n",
    "\n",
    "scaler = StandardScaler()\n",
    "\n",
    "# Scale each feature set (and fit training set)\n",
    "X_train_scaled = pl.DataFrame(\n",
    "    scaler.fit_transform(X_train_final_features[numerical_cols]), schema=numerical_cols\n",
    ")\n",
    "X_test_scaled = pl.DataFrame(\n",
    "    scaler.transform(X_test_final_features[numerical_cols]), schema=numerical_cols\n",
    ")\n",
    "X_val_scaled = pl.DataFrame(\n",
    "    scaler.transform(X_val_final_features[numerical_cols]), schema=numerical_cols\n",
    ")\n",
    "\n",
    "# Save Scalar\n",
    "scaler_metadata = {\n",
    "    \"features_scaled\": numerical_cols,\n",
    "    \"n_samples_fit\": len(X_train_final_features),\n",
    "    \"mean\": scaler.mean_.tolist(),\n",
    "    \"std\": scaler.scale_.tolist(),\n",
    "}\n",
    "joblib.dump(scaler, output_dir / \"scaler.pkl\")\n",
    "with open(output_dir / \"scaler_metadata.json\", \"w\") as f:\n",
    "    json.dump(scaler_metadata, f, indent=2)\n",
    "    \n",
    "# Concat everything back\n",
    "non_scaled_cols = [\n",
    "    col for col in X_train_final_features.columns if col not in numerical_cols\n",
    "]\n",
    "\n",
    "X_train_final = pl.concat(\n",
    "    [X_train_scaled, X_train_final_features[non_scaled_cols]], how=\"horizontal\"\n",
    ").drop(\"index\")\n",
    "X_test_final = pl.concat(\n",
    "    [X_test_scaled, X_test_final_features[non_scaled_cols]], how=\"horizontal\"\n",
    ").drop(\"index\")\n",
    "X_val_final = pl.concat(\n",
    "    [X_val_scaled, X_val_final_features[non_scaled_cols]], how=\"horizontal\"\n",
    ").drop(\"index\")\n",
    "\n",
    "X_train_final"
   ]
  },
  {
   "cell_type": "code",
   "execution_count": null,
   "id": "17d33e64-d4b1-4094-a748-1501904f2951",
   "metadata": {},
   "outputs": [],
   "source": []
  },
  {
   "cell_type": "code",
   "execution_count": null,
   "id": "b138d47c",
   "metadata": {},
   "outputs": [],
   "source": []
  },
  {
   "cell_type": "code",
   "execution_count": 138,
   "id": "80f8d22d-d8f3-4a94-925b-f074fa3c8215",
   "metadata": {},
   "outputs": [
    {
     "name": "stdout",
     "output_type": "stream",
     "text": [
      "✓ All engineered datasets have 54 features.\n"
     ]
    }
   ],
   "source": [
    "# Final Check\n",
    "assert X_train_final.shape[1] == X_val_final.shape[1] == X_test_final.shape[1], \\\n",
    "    \"Feature count mismatch across engineered datasets!\"\n",
    "print(f\"✓ All engineered datasets have {X_train_final.shape[1]} features.\")"
   ]
  },
  {
   "cell_type": "code",
   "execution_count": 139,
   "id": "e924733b-0719-4f0a-9791-970024fa0bef",
   "metadata": {},
   "outputs": [],
   "source": [
    "# Save the engineered feature sets\n",
    "X_train_final.write_csv(output_dir / \"X_train_engineered.csv\")\n",
    "X_val_final.write_csv(output_dir / \"X_val_engineered.csv\")\n",
    "X_test_final.write_csv(output_dir / \"X_test_engineered.csv\")"
   ]
  },
  {
   "cell_type": "markdown",
   "id": "a00ebca7-ae4d-41e9-8114-a95921e1099c",
   "metadata": {},
   "source": [
    "## Feature-Target Correlation Analysis\n",
    "Since we're at the last step before model building, let's check again the correlation between features and the target."
   ]
  },
  {
   "cell_type": "code",
   "execution_count": 140,
   "id": "98ac35fe-8de2-44ba-bb01-ce4e9761f33f",
   "metadata": {},
   "outputs": [],
   "source": [
    "y_train_log = pl.read_csv(output_dir / \"y_train_log.csv\")"
   ]
  },
  {
   "cell_type": "code",
   "execution_count": 141,
   "id": "ab34b929-8268-41e3-b07c-cb88f3344158",
   "metadata": {
    "lines_to_next_cell": 0
   },
   "outputs": [
    {
     "data": {
      "text/plain": [
       "<Figure size 2400x800 with 0 Axes>"
      ]
     },
     "metadata": {},
     "output_type": "display_data"
    },
    {
     "data": {
      "image/png": "[encoded data removed]",
      "text/plain": [
       "<Figure size 785.125x500 with 1 Axes>"
      ]
     },
     "metadata": {},
     "output_type": "display_data"
    }
   ],
   "source": [
    "df_with_target = X_train_final.with_columns(\n",
    "    y_train_log.rename({\"annual_salary_log\": \"target_log_salary\"})\n",
    ")\n",
    "\n",
    "numerical_cols = df_with_target.select(\n",
    "    [\n",
    "        pl.exclude(\n",
    "            [\n",
    "                col\n",
    "                for col in df_with_target.columns\n",
    "                if df_with_target[col].dtype == pl.UInt8 or col == \"index\"\n",
    "            ]\n",
    "        )\n",
    "    ]\n",
    ")\n",
    "\n",
    "df = (\n",
    "    pl.DataFrame(\n",
    "        {\n",
    "            \"Feature\": numerical_cols.columns,\n",
    "            \"Correlation\": numerical_cols.corr().select(pl.col(\"target_log_salary\"))\n",
    "        }\n",
    "    )\n",
    "    .sort(pl.col(\"Correlation\").abs(), descending=True)\n",
    "    .head(10)\n",
    ")\n",
    "\n",
    "plt.figure(figsize=(24, 8))\n",
    "sns.catplot(df, x=\"Feature\", y =\"Correlation\", legend=True, hue=\"Feature\", palette=\"husl\", legend_out=True)\n",
    "\n",
    "plt.title(\"Top 10 Feature Correlations with Log-Transformed Annual Salary\")\n",
    "plt.xticks([])\n",
    "plt.savefig(\"../../figures/feature_correlation.png\", dpi=300)"
   ]
  },
  {
   "cell_type": "code",
   "execution_count": null,
   "id": "27f43048",
   "metadata": {
    "lines_to_next_cell": 2
   },
   "outputs": [],
   "source": []
  }
 ],
 "metadata": {
  "jupytext": {
   "cell_metadata_filter": "-all",
   "formats": "ipynb,py:light"
  },
  "kernelspec": {
   "display_name": "Python 3 (ipykernel)",
   "language": "python",
   "name": "python3"
  },
  "language_info": {
   "codemirror_mode": {
    "name": "ipython",
    "version": 3
   },
   "file_extension": ".py",
   "mimetype": "text/x-python",
   "name": "python",
   "nbconvert_exporter": "python",
   "pygments_lexer": "ipython3",
   "version": "3.13.8"
  }
 },
 "nbformat": 4,
 "nbformat_minor": 5
}
