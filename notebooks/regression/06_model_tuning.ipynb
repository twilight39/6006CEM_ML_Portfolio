{
 "cells": [
  {
   "cell_type": "markdown",
   "id": "26f1c4c3-5d74-4b68-8f6d-c3dbc682080a",
   "metadata": {},
   "source": [
    "# Model Tuning\n",
    "## Goals\n",
    "1. Establish baseline performance from previous models.\n",
    "2. Systematically tune hyperparameters of XGBoost using GridSearchCV.\n",
    "3. Compare tuned vs. baseline models.\n",
    "4. Save the best-performing tuned model."
   ]
  },
  {
   "cell_type": "code",
   "execution_count": 1,
   "id": "e38d1d3a-8778-4913-a19c-7433aa6f7223",
   "metadata": {},
   "outputs": [
    {
     "name": "stderr",
     "output_type": "stream",
     "text": [
      "/Users/Effy/Documents/Projects/ML_Portfolio/.venv/lib/python3.12/site-packages/tqdm/auto.py:21: TqdmWarning: IProgress not found. Please update jupyter and ipywidgets. See https://ipywidgets.readthedocs.io/en/stable/user_install.html\n",
      "  from .autonotebook import tqdm as notebook_tqdm\n"
     ]
    }
   ],
   "source": [
    "# Imports\n",
    "from pathlib import Path\n",
    "import numpy as np\n",
    "import polars as pl\n",
    "\n",
    "import matplotlib.pyplot as plt\n",
    "import seaborn as sns\n",
    "\n",
    "from sklearn.metrics import mean_squared_error, mean_absolute_error, r2_score\n",
    "from sklearn.model_selection import GridSearchCV, RandomizedSearchCV\n",
    "from xgboost import XGBRegressor\n",
    "\n",
    "import joblib\n",
    "import optuna\n",
    "from optuna.samplers import TPESampler"
   ]
  },
  {
   "cell_type": "code",
   "execution_count": 2,
   "id": "65d88ad9-e8fc-4637-9fc8-432df2e89108",
   "metadata": {},
   "outputs": [],
   "source": [
    "# Constants\n",
    "CLEANED_FILE_PATH: str = \"../../data/cleaned/regression\"\n",
    "MODELS_SAVE_PATH: str = \"../../models/regression\"\n",
    "FIGURES_SAVE_PATH: str = \"../../figures\"\n",
    "\n",
    "RANDOM_STATE: int = 42"
   ]
  },
  {
   "cell_type": "code",
   "execution_count": 3,
   "id": "cdbd1a26-5e2d-42eb-80a8-4b51b9e09ab5",
   "metadata": {},
   "outputs": [
    {
     "name": "stdout",
     "output_type": "stream",
     "text": [
      "Data loaded:\n",
      "  X_train shape: (15786, 54)\n",
      "  X_val shape: (3383, 54)\n",
      "  y_train shape: (15786,)\n",
      "  y_val shape: (3383,)\n"
     ]
    }
   ],
   "source": [
    "# Load Data\n",
    "output_dir = Path(CLEANED_FILE_PATH)\n",
    "\n",
    "X_train = pl.read_csv(output_dir / \"X_train_engineered.csv\").to_numpy()\n",
    "X_val = pl.read_csv(output_dir / \"X_val_engineered.csv\").to_numpy()\n",
    "\n",
    "y_train_log = pl.read_csv(output_dir / \"y_train_log.csv\")[\"annual_salary_log\"].to_numpy()\n",
    "y_val_log = pl.read_csv(output_dir / \"y_val_log.csv\")[\"annual_salary_log\"].to_numpy()\n",
    "\n",
    "print(f\"Data loaded:\")\n",
    "print(f\"  X_train shape: {X_train.shape}\")\n",
    "print(f\"  X_val shape: {X_val.shape}\")\n",
    "print(f\"  y_train shape: {y_train_log.shape}\")\n",
    "print(f\"  y_val shape: {y_val_log.shape}\")"
   ]
  },
  {
   "cell_type": "code",
   "execution_count": 6,
   "id": "959ec079-17f3-4f7f-ac51-58c130f17ee1",
   "metadata": {},
   "outputs": [],
   "source": [
    "def inverse_transform_salary(log_salary_pred: np.ndarray) -> np.ndarray:\n",
    "    \"\"\"Inverse transformation: log(x+1) → x\"\"\"\n",
    "    return np.expm1(log_salary_pred)\n",
    "\n",
    "def evaluate_model(model, X: np.ndarray, y_true_log: np.ndarray, model_name: str) -> dict:\n",
    "    \"\"\"Evaluate model on both log and original scales\"\"\"\n",
    "    y_pred_log = model.predict(X)\n",
    "    \n",
    "    # Log scale metrics\n",
    "    rmse_log = np.sqrt(mean_squared_error(y_true_log, y_pred_log))\n",
    "    mae_log = mean_absolute_error(y_true_log, y_pred_log)\n",
    "    r2_log = r2_score(y_true_log, y_pred_log)\n",
    "    \n",
    "    # Original scale metrics\n",
    "    y_true_orig = inverse_transform_salary(y_true_log)\n",
    "    y_pred_orig = inverse_transform_salary(y_pred_log)\n",
    "    \n",
    "    rmse_orig = np.sqrt(mean_squared_error(y_true_orig, y_pred_orig))\n",
    "    mae_orig = mean_absolute_error(y_true_orig, y_pred_orig)\n",
    "    r2_orig = r2_score(y_true_orig, y_pred_orig)\n",
    "    \n",
    "    print(f\"\\n--- {model_name} ---\")\n",
    "    print(f\"RMSE (log): {rmse_log:.4f}\")\n",
    "    print(f\"MAE (log):  {mae_log:.4f}\")\n",
    "    print(f\"R² (log):   {r2_log:.4f}\")\n",
    "    print(f\"RMSE ($): ${rmse_orig:,.0f}\")\n",
    "    print(f\"MAE ($):  ${mae_orig:,.0f}\")\n",
    "    print(f\"R² ($):   {r2_orig:.4f}\")\n",
    "    \n",
    "    return {\n",
    "        'model_name': model_name,\n",
    "        'rmse_log': rmse_log,\n",
    "        'mae_log': mae_log,\n",
    "        'r2_log': r2_log,\n",
    "        'rmse_orig': rmse_orig,\n",
    "        'mae_orig': mae_orig,\n",
    "        'r2_orig': r2_orig\n",
    "    }"
   ]
  },
  {
   "cell_type": "markdown",
   "id": "d0d7f6fa-3e53-4f02-8c7e-c44f8cef425f",
   "metadata": {},
   "source": [
    "## Baseline Performance\n",
    "Let's establish the performance of our initial models before tuning for comparison."
   ]
  },
  {
   "cell_type": "code",
   "execution_count": 7,
   "id": "f89dad0c-ddce-40b6-b2dc-57f9d7ba7f81",
   "metadata": {},
   "outputs": [
    {
     "name": "stdout",
     "output_type": "stream",
     "text": [
      "✓ Baseline models loaded\n",
      "\n",
      "\n",
      "--- Ridge Baseline ---\n",
      "RMSE (log): 0.4106\n",
      "MAE (log):  0.3168\n",
      "R² (log):   0.4076\n",
      "RMSE ($): $50,855\n",
      "MAE ($):  $31,345\n",
      "R² ($):   0.3030\n",
      "\n",
      "--- XGBoost Baseline ---\n",
      "RMSE (log): 0.3949\n",
      "MAE (log):  0.3047\n",
      "R² (log):   0.4521\n",
      "RMSE ($): $49,300\n",
      "MAE ($):  $30,346\n",
      "R² ($):   0.3449\n"
     ]
    },
    {
     "name": "stderr",
     "output_type": "stream",
     "text": [
      "/Users/Effy/Documents/Projects/ML_Portfolio/.venv/lib/python3.12/site-packages/sklearn/utils/validation.py:2749: UserWarning: X does not have valid feature names, but Ridge was fitted with feature names\n",
      "  warnings.warn(\n"
     ]
    }
   ],
   "source": [
    "# Load baseline models\n",
    "ridge_baseline = joblib.load(Path(MODELS_SAVE_PATH) / \"ridge_model.pkl\")\n",
    "xgb_baseline = joblib.load(Path(MODELS_SAVE_PATH) / \"xgb_model.pkl\")\n",
    "\n",
    "print(\"✓ Baseline models loaded\\n\")\n",
    "\n",
    "# Evaluate baselines\n",
    "ridge_baseline_results = evaluate_model(ridge_baseline, X_val, y_val_log, \"Ridge Baseline\")\n",
    "xgb_baseline_results = evaluate_model(xgb_baseline, X_val, y_val_log, \"XGBoost Baseline\")"
   ]
  },
  {
   "cell_type": "markdown",
   "id": "1b11258f-d2c2-4736-873a-3c0d8bcc4d19",
   "metadata": {},
   "source": [
    "## XGBoost Hyperparameter Tuning\n",
    "We use a **two-stage approach**:\n",
    "1. **RandomizedSearchCV**: Broad exploration of parameter space\n",
    "2. **GridSearchCV**: Fine-grained tuning around best parameters\n",
    "\n",
    "This balances computational cost with exploration depth."
   ]
  },
  {
   "cell_type": "code",
   "execution_count": 8,
   "id": "cdeda318-7679-4b48-8915-a0a7ac80cb9e",
   "metadata": {},
   "outputs": [],
   "source": [
    "# Stage 1: Randomized Search for broad exploration\n",
    "param_dist = {\n",
    "    'n_estimators': [100, 200, 300, 500],\n",
    "    'max_depth': [3, 4, 5, 6, 7, 8],\n",
    "    'learning_rate': [0.01, 0.05, 0.1, 0.15],\n",
    "    'subsample': [0.6, 0.7, 0.8, 0.9],\n",
    "    'colsample_bytree': [0.6, 0.7, 0.8, 0.9],\n",
    "    'gamma': [0, 0.1, 0.2, 0.3],\n",
    "    'min_child_weight': [1, 2, 3, 5],\n",
    "}\n",
    "\n",
    "xgb_random_search = RandomizedSearchCV(\n",
    "    XGBRegressor(objective='reg:squarederror', random_state=RANDOM_STATE, tree_method='hist'),\n",
    "    param_dist,\n",
    "    n_iter=30,  # 30 random combinations\n",
    "    cv=5,\n",
    "    scoring='neg_mean_squared_error',\n",
    "    n_jobs=-1,\n",
    "    verbose=1,\n",
    "    random_state=RANDOM_STATE\n",
    ")"
   ]
  },
  {
   "cell_type": "code",
   "execution_count": 9,
   "id": "9b78b4aa-509b-4290-b591-7f847803fc3d",
   "metadata": {},
   "outputs": [
    {
     "name": "stdout",
     "output_type": "stream",
     "text": [
      "Searching 30 random parameter combinations with 5-fold CV...\n",
      "Fitting 5 folds for each of 30 candidates, totalling 150 fits\n",
      "\n",
      "RandomizedSearchCV completed\n",
      "  Best CV Score (RMSE): 0.3874\n",
      "  Best Parameters: {'subsample': 0.8, 'n_estimators': 500, 'min_child_weight': 5, 'max_depth': 4, 'learning_rate': 0.05, 'gamma': 0, 'colsample_bytree': 0.9}\n"
     ]
    }
   ],
   "source": [
    "print(f\"Searching {30} random parameter combinations with 5-fold CV...\")\n",
    "xgb_random_search.fit(X_train, y_train_log)\n",
    "\n",
    "print(f\"\\nRandomizedSearchCV completed\")\n",
    "print(f\"  Best CV Score (RMSE): {np.sqrt(-xgb_random_search.best_score_):.4f}\")\n",
    "print(f\"  Best Parameters: {xgb_random_search.best_params_}\")"
   ]
  },
  {
   "cell_type": "code",
   "execution_count": 18,
   "id": "0fe3c977-4524-4893-97fb-962640e264e4",
   "metadata": {
    "lines_to_next_cell": 2
   },
   "outputs": [],
   "source": [
    "# Stage 2: Grid Search for fine-tuning around best parameters\n",
    "\n",
    "# Get best params from random search\n",
    "best_params = xgb_random_search.best_params_\n",
    "\n",
    "# Define narrow grid around best parameters\n",
    "param_grid = {\n",
    "    'n_estimators': [best_params['n_estimators'] - 50, \n",
    "                     best_params['n_estimators'], \n",
    "                     best_params['n_estimators'] + 50],\n",
    "    'max_depth': [best_params['max_depth'] - 1, \n",
    "                  best_params['max_depth'], \n",
    "                  best_params['max_depth'] + 1],\n",
    "    'learning_rate': [best_params['learning_rate'] * 0.8, \n",
    "                      best_params['learning_rate'], \n",
    "                      best_params['learning_rate'] * 1.2],\n",
    "    'subsample': [best_params['subsample']],  # Keep best\n",
    "    'colsample_bytree': [best_params['colsample_bytree']]  # Keep best\n",
    "}\n",
    "\n",
    "xgb_grid_search = GridSearchCV(\n",
    "    XGBRegressor(\n",
    "        objective='reg:squarederror',\n",
    "        random_state=RANDOM_STATE,\n",
    "        tree_method='hist',\n",
    "        # Fix parameters not being tuned\n",
    "        gamma=best_params.get('gamma', 0),\n",
    "        min_child_weight=best_params.get('min_child_weight', 1)\n",
    "    ),\n",
    "    param_grid,\n",
    "    cv=5,\n",
    "    scoring='neg_mean_squared_error',\n",
    "    n_jobs=-1,\n",
    "    verbose=1\n",
    ")\n"
   ]
  },
  {
   "cell_type": "code",
   "execution_count": 19,
   "id": "5defc37d-32ba-4395-bc6c-0c89e05f55bb",
   "metadata": {},
   "outputs": [
    {
     "name": "stdout",
     "output_type": "stream",
     "text": [
      "Testing 27 combinations...\n",
      "Fitting 5 folds for each of 27 candidates, totalling 135 fits\n",
      "\n",
      "GridSearchCV completed\n",
      "  Best CV Score (RMSE): 0.3872\n",
      "  Best Parameters: {'colsample_bytree': 0.9, 'learning_rate': 0.04000000000000001, 'max_depth': 4, 'n_estimators': 550, 'subsample': 0.8}\n",
      "\n",
      "--- XGBoost Grid-Tuned ---\n",
      "RMSE (log): 0.3945\n",
      "MAE (log):  0.3051\n",
      "R² (log):   0.4532\n",
      "RMSE ($): $49,172\n",
      "MAE ($):  $30,312\n",
      "R² ($):   0.3483\n"
     ]
    }
   ],
   "source": [
    "print(f\"Testing {np.prod([len(v) for v in param_grid.values()])} combinations...\")\n",
    "xgb_grid_search.fit(X_train, y_train_log)\n",
    "\n",
    "print(f\"\\nGridSearchCV completed\")\n",
    "print(f\"  Best CV Score (RMSE): {np.sqrt(-xgb_grid_search.best_score_):.4f}\")\n",
    "print(f\"  Best Parameters: {xgb_grid_search.best_params_}\")\n",
    "\n",
    "# Evaluate on validation set\n",
    "xgb_grid_results = evaluate_model(\n",
    "    xgb_grid_search.best_estimator_, \n",
    "    X_val, \n",
    "    y_val_log, \n",
    "    \"XGBoost Grid-Tuned\"\n",
    ")"
   ]
  },
  {
   "cell_type": "code",
   "execution_count": 20,
   "id": "0b9afc10-7af1-4e09-8af5-1562d79979e0",
   "metadata": {},
   "outputs": [
    {
     "name": "stdout",
     "output_type": "stream",
     "text": [
      "Final tuned XGBoost model trained.\n",
      "Saved to: ../../models/regression/xgb_tuned.pkl\n"
     ]
    }
   ],
   "source": [
    "# 3. Train Final Tuned Models\n",
    "xgb_tuned = XGBRegressor(\n",
    "    objective='reg:squarederror',\n",
    "    random_state=RANDOM_STATE,\n",
    "    tree_method='hist',\n",
    "    **xgb_grid_search.best_params_\n",
    ")\n",
    "\n",
    "xgb_tuned.fit(X_train, y_train_log)\n",
    "\n",
    "print(\"Final tuned XGBoost model trained.\")\n",
    "# Save tuned model\n",
    "joblib.dump(xgb_tuned, Path(MODELS_SAVE_PATH) / \"xgb_tuned.pkl\")\n",
    "print(f\"Saved to: {Path(MODELS_SAVE_PATH) / 'xgb_tuned.pkl'}\")"
   ]
  },
  {
   "cell_type": "markdown",
   "id": "13303b94-7c70-45f1-b5a0-2b8210499865",
   "metadata": {},
   "source": [
    "## Comparison"
   ]
  },
  {
   "cell_type": "code",
   "execution_count": 21,
   "id": "238abdf4-01cf-404a-bf71-d41d81e0198a",
   "metadata": {},
   "outputs": [
    {
     "name": "stdout",
     "output_type": "stream",
     "text": [
      "\n",
      "--- XGBoost Tuned ---\n",
      "RMSE (log): 0.3944\n",
      "MAE (log):  0.3046\n",
      "R² (log):   0.4534\n",
      "RMSE ($): $49,148\n",
      "MAE ($):  $30,264\n",
      "R² ($):   0.3490\n",
      "\n",
      "📊 Improvement Analysis:\n",
      "  RMSE: $152 (+0.3%)\n",
      "  MAE:  $83 (+0.3%)\n",
      "  R²:   +0.0040 (+1.2%)\n"
     ]
    }
   ],
   "source": [
    "# Evaluate tuned model\n",
    "xgb_tuned_results = evaluate_model(xgb_tuned, X_val, y_val_log, \"XGBoost Tuned\")\n",
    "\n",
    "# Calculate improvements\n",
    "rmse_improvement = xgb_baseline_results['rmse_orig'] - xgb_tuned_results['rmse_orig']\n",
    "rmse_improvement_pct = (rmse_improvement / xgb_baseline_results['rmse_orig']) * 100\n",
    "\n",
    "mae_improvement = xgb_baseline_results['mae_orig'] - xgb_tuned_results['mae_orig']\n",
    "mae_improvement_pct = (mae_improvement / xgb_baseline_results['mae_orig']) * 100\n",
    "\n",
    "r2_improvement = xgb_tuned_results['r2_orig'] - xgb_baseline_results['r2_orig']\n",
    "r2_improvement_pct = (r2_improvement / xgb_baseline_results['r2_orig']) * 100 if xgb_baseline_results['r2_orig'] != 0 else 0\n",
    "\n",
    "print(f\"\\n📊 Improvement Analysis:\")\n",
    "print(f\"  RMSE: ${rmse_improvement:,.0f} ({rmse_improvement_pct:+.1f}%)\")\n",
    "print(f\"  MAE:  ${mae_improvement:,.0f} ({mae_improvement_pct:+.1f}%)\")\n",
    "print(f\"  R²:   {r2_improvement:+.4f} ({r2_improvement_pct:+.1f}%)\")"
   ]
  },
  {
   "cell_type": "markdown",
   "id": "4d1f259a-fe89-4763-9624-95107c73bee7",
   "metadata": {},
   "source": [
    "## Visualization"
   ]
  },
  {
   "cell_type": "code",
   "execution_count": 22,
   "id": "eea04f21-fb85-4aa7-9258-2385a0b9a737",
   "metadata": {},
   "outputs": [
    {
     "data": {
      "image/png": "[encoded data removed]",
      "text/plain": [
       "<Figure size 1600x500 with 3 Axes>"
      ]
     },
     "metadata": {},
     "output_type": "display_data"
    }
   ],
   "source": [
    "comparison_df = pl.DataFrame({\n",
    "    'Model': ['XGBoost Baseline', 'XGBoost Tuned'],\n",
    "    'RMSE ($)': [xgb_baseline_results['rmse_orig'], xgb_tuned_results['rmse_orig']],\n",
    "    'MAE ($)': [xgb_baseline_results['mae_orig'], xgb_tuned_results['mae_orig']],\n",
    "    'R²': [xgb_baseline_results['r2_orig'], xgb_tuned_results['r2_orig']],\n",
    "})\n",
    "\n",
    "fig, axes = plt.subplots(1, 3, figsize=(16, 5))\n",
    "\n",
    "metrics = [('RMSE ($)', 0), ('MAE ($)', 1), ('R²', 2)]\n",
    "colors = ['#3498db', '#e74c3c']\n",
    "\n",
    "for (metric_name, idx), ax in zip(metrics, axes):\n",
    "    values = comparison_df[metric_name].to_list()\n",
    "    bars = ax.bar(comparison_df['Model'], values, color=colors, alpha=0.8)\n",
    "    \n",
    "    # Add value labels on bars\n",
    "    for bar, val in zip(bars, values):\n",
    "        height = bar.get_height()\n",
    "        ax.text(bar.get_x() + bar.get_width()/2., height,\n",
    "                f'${val:,.0f}' if metric_name != 'R²' else f'{val:.4f}',\n",
    "                ha='center', va='bottom', fontweight='bold')\n",
    "    \n",
    "    ax.set_title(f'{metric_name} Comparison')\n",
    "    ax.set_ylabel(metric_name)\n",
    "    ax.tick_params(axis='x', rotation=45)\n",
    "\n",
    "plt.tight_layout()\n",
    "plt.savefig(Path(FIGURES_SAVE_PATH) / \"tuning_comparison.png\", dpi=300)\n",
    "plt.show()"
   ]
  },
  {
   "cell_type": "markdown",
   "id": "0ecbe6b4-073a-4c90-8398-6f4721b67b5d",
   "metadata": {},
   "source": [
    "## Summary\n",
    "Tuning Methods Used:\n",
    "  1. **RandomizedSearchCV**: 30 random combinations\n",
    "  2. **GridSearchCV**: Fine-tuning around best random parameters"
   ]
  },
  {
   "cell_type": "code",
   "execution_count": 23,
   "id": "b96b7318-28e7-478c-b3d4-d5186f9336ea",
   "metadata": {},
   "outputs": [
    {
     "name": "stdout",
     "output_type": "stream",
     "text": [
      "\n",
      "Results:\n",
      "  - RMSE Improvement: $152 (+0.3%)\n",
      "  - Best Model: XGBoost Tuned\n",
      "\n",
      "Tuned Hyperparameters:\n",
      "  {'colsample_bytree': 0.9, 'learning_rate': 0.04000000000000001, 'max_depth': 4, 'n_estimators': 550, 'subsample': 0.8}\n",
      "\n",
      "Models Saved:\n",
      "  ✓ xgb_tuned.pkl (tuned model)\n",
      "\n"
     ]
    }
   ],
   "source": [
    "print(f\"\"\"\n",
    "Results:\n",
    "  - RMSE Improvement: ${rmse_improvement:,.0f} ({rmse_improvement_pct:+.1f}%)\n",
    "  - Best Model: {'XGBoost Tuned' if rmse_improvement > 0 else 'Baseline'}\n",
    "  \n",
    "Tuned Hyperparameters:\n",
    "  {xgb_grid_search.best_params_}\n",
    "\n",
    "Models Saved:\n",
    "  ✓ xgb_tuned.pkl (tuned model)\n",
    "\"\"\")"
   ]
  },
  {
   "cell_type": "markdown",
   "id": "714c3de5-e37b-4984-bccf-e433cde1b419",
   "metadata": {},
   "source": [
    "**Improvement Achieved**: $152 RMSE reduction (0.3%)\n",
    "\n",
    "Let's also check if this is real or just noise."
   ]
  }
 ],
 "metadata": {
  "jupytext": {
   "cell_metadata_filter": "-all",
   "formats": "ipynb,py:light"
  },
  "kernelspec": {
   "display_name": "Python 3 (ipykernel)",
   "language": "python",
   "name": "python3"
  },
  "language_info": {
   "codemirror_mode": {
    "name": "ipython",
    "version": 3
   },
   "file_extension": ".py",
   "mimetype": "text/x-python",
   "name": "python",
   "nbconvert_exporter": "python",
   "pygments_lexer": "ipython3",
   "version": "3.12.0"
  }
 },
 "nbformat": 4,
 "nbformat_minor": 5
}
