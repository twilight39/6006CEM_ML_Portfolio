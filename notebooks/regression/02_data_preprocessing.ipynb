{
 "cells": [
  {
   "cell_type": "markdown",
   "id": "1a21f04f-0116-4c06-b5a6-4ea337d4532e",
   "metadata": {},
   "source": [
    "# Data Preprocessing\n",
    "Based on key findings from EDA:\n",
    "- **Target variable imbalance**: Right-skewed salary (initial skewness=119) requires transformation.\n",
    "- **Missing values**: Education (229 nulls), Gender (176 nulls), Experience fields (some nulls) – low percentages (<1%), so dropping rows is efficient.\n",
    "- **High cardinality**: Industry (1,046 unique), Jobs (12,142 unique), Country (mostly USA post-cleaning) – defer to feature engineering.\n",
    "- **Data quality**: No duplicates expected in survey data; currency filtered to USD; salary range capped at <$500k.\n",
    "\n",
    "## Preprocessing goals:\n",
    "1. Handle missing values and duplicates.\n",
    "2. Transform target to address skewness.\n",
    "3. Split into train/validation/test sets (70/15/15) *before* feature engineering to prevent leakage.\n",
    "4. Validate splits preserve distributions.\n",
    "5. Save processed datasets for next notebook."
   ]
  },
  {
   "cell_type": "markdown",
   "id": "7ab80216-7c75-4aab-93e4-5308c15d7c6d",
   "metadata": {},
   "source": [
    "## 2.1 Load Raw Dataset"
   ]
  },
  {
   "cell_type": "code",
   "execution_count": 277,
   "id": "f6e3a47c",
   "metadata": {},
   "outputs": [],
   "source": [
    "# Imports\n",
    "from difflib import SequenceMatcher\n",
    "from pathlib import Path\n",
    "\n",
    "import polars as pl"
   ]
  },
  {
   "cell_type": "code",
   "execution_count": 278,
   "id": "43c837a3-3ff3-401a-8e5b-164433d91e88",
   "metadata": {},
   "outputs": [],
   "source": [
    "# Constants\n",
    "RAW_FILE_PATH: str = \"../../data/raw/salary-survey.csv\"\n",
    "CLEANED_FILE_PATH: str = \"../../data/cleaned/regression\"\n",
    "COLUMN_MAPPING: dict[str, str] = {\n",
    "    \"How old are you?\": \"age\",\n",
    "    \"What industry do you work in?\": \"industry\",\n",
    "    \"What is your annual salary? (You'll indicate the currency in a later question. If you are part-time or hourly, please enter an annualized equivalent -- what you would earn if you worked the job 40 hours a week, 52 weeks a year.)\": \"salary\",\n",
    "    \"How much additional monetary compensation do you get, if any (for example, bonuses or overtime in an average year)? Please only include monetary compensation here, not the value of benefits.\": \"compensation\",\n",
    "    \"Please indicate the currency\": \"currency\",\n",
    "    'If \"\"Other,\"\" please indicate the currency here: ': \"other_currency\",\n",
    "    \"What country do you work in?\": \"country\",\n",
    "    \"What is your gender?\": \"gender\",\n",
    "    \"What is your race? (Choose all that apply.)\": \"race\",\n",
    "    \"Job title\": \"job\",\n",
    "    \"Timestamp\": \"timestamp\",\n",
    "    \"How many years of professional work experience do you have overall?\": \"experience_overall_years\",\n",
    "    \"How many years of professional work experience do you have in your field?\": \"experience_field_years\",\n",
    "    \"What is your highest level of education completed?\": \"education\",\n",
    "}\n",
    "\n",
    "# These will be used to filter the dataset for outliers (justification in EDA)\n",
    "SALARY_MIN = 15_000\n",
    "SALARY_MAX = 500_000\n",
    "CURRENCY_FILTER = \"USD\""
   ]
  },
  {
   "cell_type": "markdown",
   "id": "a36297af-7543-4244-82ec-ef42734f526c",
   "metadata": {},
   "source": [
    "## 2.2 Standardize Column Formats\n",
    "First, we drop the context and city columns, and rename the other columns to shorter names."
   ]
  },
  {
   "cell_type": "code",
   "execution_count": 279,
   "id": "f8d7d014-8a36-42cb-b9cc-4e8b5a105aa5",
   "metadata": {},
   "outputs": [
    {
     "data": {
      "text/html": [
       "<div><style>\n",
       ".dataframe > thead > tr,\n",
       ".dataframe > tbody > tr {\n",
       "  text-align: right;\n",
       "  white-space: pre-wrap;\n",
       "}\n",
       "</style>\n",
       "<small>shape: (28_153, 14)</small><table border=\"1\" class=\"dataframe\"><thead><tr><th>age</th><th>industry</th><th>salary</th><th>compensation</th><th>currency</th><th>other_currency</th><th>country</th><th>gender</th><th>race</th><th>job</th><th>timestamp</th><th>experience_overall_years</th><th>experience_field_years</th><th>education</th></tr><tr><td>str</td><td>str</td><td>str</td><td>i64</td><td>str</td><td>str</td><td>str</td><td>str</td><td>str</td><td>str</td><td>str</td><td>str</td><td>str</td><td>str</td></tr></thead><tbody><tr><td>&quot;25-34&quot;</td><td>&quot;Education (Higher Education)&quot;</td><td>&quot;55,000&quot;</td><td>0</td><td>&quot;USD&quot;</td><td>null</td><td>&quot;United States&quot;</td><td>&quot;Woman&quot;</td><td>&quot;White&quot;</td><td>&quot;Research and Instruction Libra…</td><td>&quot;4/27/2021 11:02:10&quot;</td><td>&quot;5-7 years&quot;</td><td>&quot;5-7 years&quot;</td><td>&quot;Master&#x27;s degree&quot;</td></tr><tr><td>&quot;25-34&quot;</td><td>&quot;Computing or Tech&quot;</td><td>&quot;54,600&quot;</td><td>4000</td><td>&quot;GBP&quot;</td><td>null</td><td>&quot;United Kingdom&quot;</td><td>&quot;Non-binary&quot;</td><td>&quot;White&quot;</td><td>&quot;Change &amp; Internal Communicatio…</td><td>&quot;4/27/2021 11:02:22&quot;</td><td>&quot;8 - 10 years&quot;</td><td>&quot;5-7 years&quot;</td><td>&quot;College degree&quot;</td></tr><tr><td>&quot;25-34&quot;</td><td>&quot;Accounting, Banking &amp; Finance&quot;</td><td>&quot;34,000&quot;</td><td>null</td><td>&quot;USD&quot;</td><td>null</td><td>&quot;US&quot;</td><td>&quot;Woman&quot;</td><td>&quot;White&quot;</td><td>&quot;Marketing Specialist&quot;</td><td>&quot;4/27/2021 11:02:38&quot;</td><td>&quot;2 - 4 years&quot;</td><td>&quot;2 - 4 years&quot;</td><td>&quot;College degree&quot;</td></tr><tr><td>&quot;25-34&quot;</td><td>&quot;Nonprofits&quot;</td><td>&quot;62,000&quot;</td><td>3000</td><td>&quot;USD&quot;</td><td>null</td><td>&quot;USA&quot;</td><td>&quot;Woman&quot;</td><td>&quot;White&quot;</td><td>&quot;Program Manager&quot;</td><td>&quot;4/27/2021 11:02:41&quot;</td><td>&quot;8 - 10 years&quot;</td><td>&quot;5-7 years&quot;</td><td>&quot;College degree&quot;</td></tr><tr><td>&quot;25-34&quot;</td><td>&quot;Accounting, Banking &amp; Finance&quot;</td><td>&quot;60,000&quot;</td><td>7000</td><td>&quot;USD&quot;</td><td>null</td><td>&quot;US&quot;</td><td>&quot;Woman&quot;</td><td>&quot;White&quot;</td><td>&quot;Accounting Manager&quot;</td><td>&quot;4/27/2021 11:02:42&quot;</td><td>&quot;8 - 10 years&quot;</td><td>&quot;5-7 years&quot;</td><td>&quot;College degree&quot;</td></tr><tr><td>&hellip;</td><td>&hellip;</td><td>&hellip;</td><td>&hellip;</td><td>&hellip;</td><td>&hellip;</td><td>&hellip;</td><td>&hellip;</td><td>&hellip;</td><td>&hellip;</td><td>&hellip;</td><td>&hellip;</td><td>&hellip;</td><td>&hellip;</td></tr><tr><td>&quot;25-34&quot;</td><td>&quot;Accounting, Banking &amp; Finance&quot;</td><td>&quot;75000&quot;</td><td>0</td><td>&quot;USD&quot;</td><td>null</td><td>&quot;UK&quot;</td><td>&quot;Man&quot;</td><td>&quot;Black or African American&quot;</td><td>&quot;Analyst&quot;</td><td>&quot;7/25/2025 9:37:58&quot;</td><td>&quot;5-7 years&quot;</td><td>&quot;2 - 4 years&quot;</td><td>&quot;Professional degree (MD, JD, e…</td></tr><tr><td>&quot;25-34&quot;</td><td>&quot;Property or Construction&quot;</td><td>&quot;18000&quot;</td><td>0</td><td>&quot;USD&quot;</td><td>null</td><td>&quot;Liberia&quot;</td><td>&quot;Man&quot;</td><td>&quot;Black or African American&quot;</td><td>&quot;Infrastructure Projects Coordi…</td><td>&quot;8/31/2025 20:04:29&quot;</td><td>&quot;11 - 20 years&quot;</td><td>&quot;8 - 10 years&quot;</td><td>&quot;College degree&quot;</td></tr><tr><td>&quot;35-44&quot;</td><td>&quot;Nonprofits&quot;</td><td>&quot;288000&quot;</td><td>78000</td><td>&quot;Other&quot;</td><td>&quot;Philippine Peso&quot;</td><td>&quot;Philippines&quot;</td><td>&quot;Woman&quot;</td><td>&quot;Asian or Asian American&quot;</td><td>&quot;Research Specialist&quot;</td><td>&quot;9/3/2025 9:16:49&quot;</td><td>&quot;11 - 20 years&quot;</td><td>&quot;2 - 4 years&quot;</td><td>&quot;College degree&quot;</td></tr><tr><td>&quot;25-34&quot;</td><td>&quot;Sales&quot;</td><td>&quot;200000&quot;</td><td>50000</td><td>&quot;USD&quot;</td><td>null</td><td>&quot;USA&quot;</td><td>null</td><td>&quot;Asian or Asian American&quot;</td><td>&quot;Sales&quot;</td><td>&quot;9/12/2025 7:43:30&quot;</td><td>&quot;5-7 years&quot;</td><td>&quot;5-7 years&quot;</td><td>&quot;College degree&quot;</td></tr><tr><td>&quot;18-24&quot;</td><td>&quot;Education (Higher Education)&quot;</td><td>&quot;73&quot;</td><td>null</td><td>&quot;EUR&quot;</td><td>null</td><td>&quot;germany&quot;</td><td>null</td><td>null</td><td>&quot;lecturer&quot;</td><td>&quot;9/25/2025 10:04:59&quot;</td><td>&quot;2 - 4 years&quot;</td><td>&quot;1 year or less&quot;</td><td>null</td></tr></tbody></table></div>"
      ],
      "text/plain": [
       "shape: (28_153, 14)\n",
       "┌───────┬────────────┬────────┬────────────┬───┬────────────┬────────────┬────────────┬────────────┐\n",
       "│ age   ┆ industry   ┆ salary ┆ compensati ┆ … ┆ timestamp  ┆ experience ┆ experience ┆ education  │\n",
       "│ ---   ┆ ---        ┆ ---    ┆ on         ┆   ┆ ---        ┆ _overall_y ┆ _field_yea ┆ ---        │\n",
       "│ str   ┆ str        ┆ str    ┆ ---        ┆   ┆ str        ┆ ears       ┆ rs         ┆ str        │\n",
       "│       ┆            ┆        ┆ i64        ┆   ┆            ┆ ---        ┆ ---        ┆            │\n",
       "│       ┆            ┆        ┆            ┆   ┆            ┆ str        ┆ str        ┆            │\n",
       "╞═══════╪════════════╪════════╪════════════╪═══╪════════════╪════════════╪════════════╪════════════╡\n",
       "│ 25-34 ┆ Education  ┆ 55,000 ┆ 0          ┆ … ┆ 4/27/2021  ┆ 5-7 years  ┆ 5-7 years  ┆ Master's   │\n",
       "│       ┆ (Higher    ┆        ┆            ┆   ┆ 11:02:10   ┆            ┆            ┆ degree     │\n",
       "│       ┆ Education) ┆        ┆            ┆   ┆            ┆            ┆            ┆            │\n",
       "│ 25-34 ┆ Computing  ┆ 54,600 ┆ 4000       ┆ … ┆ 4/27/2021  ┆ 8 - 10     ┆ 5-7 years  ┆ College    │\n",
       "│       ┆ or Tech    ┆        ┆            ┆   ┆ 11:02:22   ┆ years      ┆            ┆ degree     │\n",
       "│ 25-34 ┆ Accounting ┆ 34,000 ┆ null       ┆ … ┆ 4/27/2021  ┆ 2 - 4      ┆ 2 - 4      ┆ College    │\n",
       "│       ┆ , Banking  ┆        ┆            ┆   ┆ 11:02:38   ┆ years      ┆ years      ┆ degree     │\n",
       "│       ┆ & Finance  ┆        ┆            ┆   ┆            ┆            ┆            ┆            │\n",
       "│ 25-34 ┆ Nonprofits ┆ 62,000 ┆ 3000       ┆ … ┆ 4/27/2021  ┆ 8 - 10     ┆ 5-7 years  ┆ College    │\n",
       "│       ┆            ┆        ┆            ┆   ┆ 11:02:41   ┆ years      ┆            ┆ degree     │\n",
       "│ 25-34 ┆ Accounting ┆ 60,000 ┆ 7000       ┆ … ┆ 4/27/2021  ┆ 8 - 10     ┆ 5-7 years  ┆ College    │\n",
       "│       ┆ , Banking  ┆        ┆            ┆   ┆ 11:02:42   ┆ years      ┆            ┆ degree     │\n",
       "│       ┆ & Finance  ┆        ┆            ┆   ┆            ┆            ┆            ┆            │\n",
       "│ …     ┆ …          ┆ …      ┆ …          ┆ … ┆ …          ┆ …          ┆ …          ┆ …          │\n",
       "│ 25-34 ┆ Accounting ┆ 75000  ┆ 0          ┆ … ┆ 7/25/2025  ┆ 5-7 years  ┆ 2 - 4      ┆ Profession │\n",
       "│       ┆ , Banking  ┆        ┆            ┆   ┆ 9:37:58    ┆            ┆ years      ┆ al degree  │\n",
       "│       ┆ & Finance  ┆        ┆            ┆   ┆            ┆            ┆            ┆ (MD, JD,   │\n",
       "│       ┆            ┆        ┆            ┆   ┆            ┆            ┆            ┆ e…         │\n",
       "│ 25-34 ┆ Property   ┆ 18000  ┆ 0          ┆ … ┆ 8/31/2025  ┆ 11 - 20    ┆ 8 - 10     ┆ College    │\n",
       "│       ┆ or Constru ┆        ┆            ┆   ┆ 20:04:29   ┆ years      ┆ years      ┆ degree     │\n",
       "│       ┆ ction      ┆        ┆            ┆   ┆            ┆            ┆            ┆            │\n",
       "│ 35-44 ┆ Nonprofits ┆ 288000 ┆ 78000      ┆ … ┆ 9/3/2025   ┆ 11 - 20    ┆ 2 - 4      ┆ College    │\n",
       "│       ┆            ┆        ┆            ┆   ┆ 9:16:49    ┆ years      ┆ years      ┆ degree     │\n",
       "│ 25-34 ┆ Sales      ┆ 200000 ┆ 50000      ┆ … ┆ 9/12/2025  ┆ 5-7 years  ┆ 5-7 years  ┆ College    │\n",
       "│       ┆            ┆        ┆            ┆   ┆ 7:43:30    ┆            ┆            ┆ degree     │\n",
       "│ 18-24 ┆ Education  ┆ 73     ┆ null       ┆ … ┆ 9/25/2025  ┆ 2 - 4      ┆ 1 year or  ┆ null       │\n",
       "│       ┆ (Higher    ┆        ┆            ┆   ┆ 10:04:59   ┆ years      ┆ less       ┆            │\n",
       "│       ┆ Education) ┆        ┆            ┆   ┆            ┆            ┆            ┆            │\n",
       "└───────┴────────────┴────────┴────────────┴───┴────────────┴────────────┴────────────┴────────────┘"
      ]
     },
     "execution_count": 279,
     "metadata": {},
     "output_type": "execute_result"
    }
   ],
   "source": [
    "df: pl.DataFrame = pl.read_csv(RAW_FILE_PATH)\n",
    "df = df.rename(COLUMN_MAPPING).select(list(COLUMN_MAPPING.values()))\n",
    "df"
   ]
  },
  {
   "cell_type": "markdown",
   "id": "9c6428e8-e6bc-4459-a148-b46052a1f0f2",
   "metadata": {},
   "source": [
    "# 2.3 Clean Target Variable\n",
    "Next, we proprecess the target filter the dataset based on the constants we defined above, justified by the EDA performed in the prior notebook.\n",
    "\n",
    "We combine base salary with additional monetary compensation (bonuses, overtime) to create `annual_salary`, representing total annual earnings.\n",
    "\n",
    "Null compensations are treated as $0 (no additional pay)."
   ]
  },
  {
   "cell_type": "code",
   "execution_count": 280,
   "id": "f54a4a8b-a740-4008-b5a9-9fa2bacc8d04",
   "metadata": {},
   "outputs": [
    {
     "name": "stdout",
     "output_type": "stream",
     "text": [
      "Initial dataframe rows: 28,153\n",
      "Filtered dataframe rows: 23,174 (Lost 4,979 rows)\n",
      "\n",
      "Skewness: 2.22\n",
      "Kurtosis: 7.27\n"
     ]
    }
   ],
   "source": [
    "# Convert salary from a string to a number and add annual compensation\n",
    "init_rows: int = df.shape[0]\n",
    "print(f\"Initial dataframe rows: {init_rows:,}\")\n",
    "df = df.with_columns(\n",
    "    (\n",
    "        pl.col(\"salary\").str.replace_all(\",\", \"\").cast(pl.Float64)\n",
    "        + pl.when(pl.col(\"compensation\").is_not_null())\n",
    "        .then(pl.col(\"compensation\"))\n",
    "        .otherwise(0)\n",
    "    ).alias(\"annual_salary\")\n",
    ")\n",
    "\n",
    "# Filter out outlier and non-USD rows\n",
    "df = df.filter(\n",
    "    (pl.col(\"annual_salary\") >= SALARY_MIN) & (pl.col(\"annual_salary\") <= SALARY_MAX)\n",
    ").filter(\n",
    "    (pl.col(\"currency\").str.to_uppercase() == CURRENCY_FILTER)\n",
    "    | (pl.col(\"other_currency\").str.to_uppercase() == CURRENCY_FILTER)\n",
    ")\n",
    "\n",
    "df = df.drop([\"salary\", \"compensation\", \"currency\", \"other_currency\"])\n",
    "\n",
    "print(\n",
    "    f\"Filtered dataframe rows: {df.shape[0]:,} (Lost {init_rows - df.shape[0]:,} rows)\"\n",
    ")\n",
    "\n",
    "print(f\"\\nSkewness: {df['annual_salary'].skew():.2f}\")\n",
    "print(f\"Kurtosis: {df['annual_salary'].kurtosis():.2f}\")"
   ]
  },
  {
   "cell_type": "markdown",
   "id": "551b887a-2b2e-4004-8d71-fa956f954636",
   "metadata": {},
   "source": [
    "An acceptable dataset has a skewness between -1 and 1, and a kurtosis between -3 and 3. \n",
    "\n",
    "We should address this imbalance on the training set only later, so as to prevent leakage into the testing and validation sets.\n",
    "\n",
    "For now, let's justcheck if log1p actually alleviates the imbalance or worsens it."
   ]
  },
  {
   "cell_type": "code",
   "execution_count": 281,
   "id": "f23e3b11-e58c-4212-9b36-becec8374eb9",
   "metadata": {},
   "outputs": [
    {
     "name": "stdout",
     "output_type": "stream",
     "text": [
      "\n",
      "Updated Skewness: 0.29\n",
      "Updated Kurtosis: 0.13\n"
     ]
    }
   ],
   "source": [
    "df_log = df.with_columns(pl.col(\"annual_salary\").log1p().alias(\"salary_log\"))\n",
    "\n",
    "print(f\"\\nUpdated Skewness: {df_log['salary_log'].skew():.2f}\")\n",
    "print(f\"Updated Kurtosis: {df_log['salary_log'].kurtosis():.2f}\")"
   ]
  },
  {
   "cell_type": "markdown",
   "id": "41944365-1971-4503-bedc-123c55f93e06",
   "metadata": {},
   "source": [
    "Nice, the new skewness (0.29) and kurtosis (0.13) are very balanced. Since log1p works, let's move on.\n",
    "\n",
    "## 2.4 Clean Input Features\n",
    "First, let's filter the dataframe to only US-located responses. \n",
    "\n",
    "Survey data contains typos in country names (e.g., \"Untied States\", \"United Stats\").. \n",
    "\n",
    "A fuzzy matching algorithm recovers these rows that would otherwise be lost.\n",
    "- Threshold: 0.6 similarity (avoids false positives like \"United Arab Emirates\")\n",
    "- Impact: Recovered 81 additional rows"
   ]
  },
  {
   "cell_type": "code",
   "execution_count": 282,
   "id": "5de0e156-72e1-499a-b32d-2cd4981b50a9",
   "metadata": {},
   "outputs": [
    {
     "name": "stdout",
     "output_type": "stream",
     "text": [
      "US Row Count (w/o typos): 22,871 Rows\n",
      "\n",
      "Catched Typos: [('unite states',), ('united stattes',), ('united statea',), ('united sates',), ('unites states',), ('united state',), ('untied states',), ('united statws',), ('uniyed states',), ('unitied states',), ('united status',), ('united statss',), ('uniyes states',), ('united  states',), ('united stated',), ('united statees',), ('uniited states',), ('united statues',), ('uniter statez',), ('united statew',), ('united stateds',), ('uniteed states',), ('united stares',), ('united sttes',), ('unitef stated',), ('unted states',)]\n",
      "\n",
      "US Row Count (w/ typos): 22,952 Rows\n",
      "Recovery from Fuzzy Matching: 81 additional rows\n"
     ]
    },
    {
     "data": {
      "text/html": [
       "<div><style>\n",
       ".dataframe > thead > tr,\n",
       ".dataframe > tbody > tr {\n",
       "  text-align: right;\n",
       "  white-space: pre-wrap;\n",
       "}\n",
       "</style>\n",
       "<small>shape: (23_174, 12)</small><table border=\"1\" class=\"dataframe\"><thead><tr><th>age</th><th>industry</th><th>country</th><th>gender</th><th>race</th><th>job</th><th>timestamp</th><th>experience_overall_years</th><th>experience_field_years</th><th>education</th><th>annual_salary</th><th>usa</th></tr><tr><td>str</td><td>str</td><td>str</td><td>str</td><td>str</td><td>str</td><td>str</td><td>str</td><td>str</td><td>str</td><td>f64</td><td>bool</td></tr></thead><tbody><tr><td>&quot;25-34&quot;</td><td>&quot;Education (Higher Education)&quot;</td><td>&quot;united states&quot;</td><td>&quot;Woman&quot;</td><td>&quot;White&quot;</td><td>&quot;Research and Instruction Libra…</td><td>&quot;4/27/2021 11:02:10&quot;</td><td>&quot;5-7 years&quot;</td><td>&quot;5-7 years&quot;</td><td>&quot;Master&#x27;s degree&quot;</td><td>55000.0</td><td>true</td></tr><tr><td>&quot;25-34&quot;</td><td>&quot;Accounting, Banking &amp; Finance&quot;</td><td>&quot;us&quot;</td><td>&quot;Woman&quot;</td><td>&quot;White&quot;</td><td>&quot;Marketing Specialist&quot;</td><td>&quot;4/27/2021 11:02:38&quot;</td><td>&quot;2 - 4 years&quot;</td><td>&quot;2 - 4 years&quot;</td><td>&quot;College degree&quot;</td><td>34000.0</td><td>true</td></tr><tr><td>&quot;25-34&quot;</td><td>&quot;Nonprofits&quot;</td><td>&quot;usa&quot;</td><td>&quot;Woman&quot;</td><td>&quot;White&quot;</td><td>&quot;Program Manager&quot;</td><td>&quot;4/27/2021 11:02:41&quot;</td><td>&quot;8 - 10 years&quot;</td><td>&quot;5-7 years&quot;</td><td>&quot;College degree&quot;</td><td>65000.0</td><td>true</td></tr><tr><td>&quot;25-34&quot;</td><td>&quot;Accounting, Banking &amp; Finance&quot;</td><td>&quot;us&quot;</td><td>&quot;Woman&quot;</td><td>&quot;White&quot;</td><td>&quot;Accounting Manager&quot;</td><td>&quot;4/27/2021 11:02:42&quot;</td><td>&quot;8 - 10 years&quot;</td><td>&quot;5-7 years&quot;</td><td>&quot;College degree&quot;</td><td>67000.0</td><td>true</td></tr><tr><td>&quot;25-34&quot;</td><td>&quot;Education (Higher Education)&quot;</td><td>&quot;usa&quot;</td><td>&quot;Man&quot;</td><td>&quot;White&quot;</td><td>&quot;Scholarly Publishing Librarian&quot;</td><td>&quot;4/27/2021 11:02:46&quot;</td><td>&quot;8 - 10 years&quot;</td><td>&quot;2 - 4 years&quot;</td><td>&quot;Master&#x27;s degree&quot;</td><td>62000.0</td><td>true</td></tr><tr><td>&hellip;</td><td>&hellip;</td><td>&hellip;</td><td>&hellip;</td><td>&hellip;</td><td>&hellip;</td><td>&hellip;</td><td>&hellip;</td><td>&hellip;</td><td>&hellip;</td><td>&hellip;</td><td>&hellip;</td></tr><tr><td>&quot;25-34&quot;</td><td>&quot;Accounting, Banking &amp; Finance&quot;</td><td>&quot;united states&quot;</td><td>&quot;Man&quot;</td><td>&quot;White&quot;</td><td>&quot;Associate Analyst I&quot;</td><td>&quot;5/27/2025 13:45:55&quot;</td><td>&quot;5-7 years&quot;</td><td>&quot;1 year or less&quot;</td><td>&quot;College degree&quot;</td><td>40000.0</td><td>true</td></tr><tr><td>&quot;25-34&quot;</td><td>&quot;Business or Consulting&quot;</td><td>&quot;united states&quot;</td><td>&quot;Woman&quot;</td><td>&quot;Black or African American&quot;</td><td>&quot;Business Analyst&quot;</td><td>&quot;6/6/2025 22:03:16&quot;</td><td>&quot;8 - 10 years&quot;</td><td>&quot;8 - 10 years&quot;</td><td>&quot;Master&#x27;s degree&quot;</td><td>86000.0</td><td>true</td></tr><tr><td>&quot;25-34&quot;</td><td>&quot;Accounting, Banking &amp; Finance&quot;</td><td>&quot;uk&quot;</td><td>&quot;Man&quot;</td><td>&quot;Black or African American&quot;</td><td>&quot;Analyst&quot;</td><td>&quot;7/25/2025 9:37:58&quot;</td><td>&quot;5-7 years&quot;</td><td>&quot;2 - 4 years&quot;</td><td>&quot;Professional degree (MD, JD, e…</td><td>75000.0</td><td>false</td></tr><tr><td>&quot;25-34&quot;</td><td>&quot;Property or Construction&quot;</td><td>&quot;liberia&quot;</td><td>&quot;Man&quot;</td><td>&quot;Black or African American&quot;</td><td>&quot;Infrastructure Projects Coordi…</td><td>&quot;8/31/2025 20:04:29&quot;</td><td>&quot;11 - 20 years&quot;</td><td>&quot;8 - 10 years&quot;</td><td>&quot;College degree&quot;</td><td>18000.0</td><td>false</td></tr><tr><td>&quot;25-34&quot;</td><td>&quot;Sales&quot;</td><td>&quot;usa&quot;</td><td>null</td><td>&quot;Asian or Asian American&quot;</td><td>&quot;Sales&quot;</td><td>&quot;9/12/2025 7:43:30&quot;</td><td>&quot;5-7 years&quot;</td><td>&quot;5-7 years&quot;</td><td>&quot;College degree&quot;</td><td>250000.0</td><td>true</td></tr></tbody></table></div>"
      ],
      "text/plain": [
       "shape: (23_174, 12)\n",
       "┌───────┬──────────────┬─────────┬────────┬───┬──────────────┬──────────────┬──────────────┬───────┐\n",
       "│ age   ┆ industry     ┆ country ┆ gender ┆ … ┆ experience_f ┆ education    ┆ annual_salar ┆ usa   │\n",
       "│ ---   ┆ ---          ┆ ---     ┆ ---    ┆   ┆ ield_years   ┆ ---          ┆ y            ┆ ---   │\n",
       "│ str   ┆ str          ┆ str     ┆ str    ┆   ┆ ---          ┆ str          ┆ ---          ┆ bool  │\n",
       "│       ┆              ┆         ┆        ┆   ┆ str          ┆              ┆ f64          ┆       │\n",
       "╞═══════╪══════════════╪═════════╪════════╪═══╪══════════════╪══════════════╪══════════════╪═══════╡\n",
       "│ 25-34 ┆ Education    ┆ united  ┆ Woman  ┆ … ┆ 5-7 years    ┆ Master's     ┆ 55000.0      ┆ true  │\n",
       "│       ┆ (Higher      ┆ states  ┆        ┆   ┆              ┆ degree       ┆              ┆       │\n",
       "│       ┆ Education)   ┆         ┆        ┆   ┆              ┆              ┆              ┆       │\n",
       "│ 25-34 ┆ Accounting,  ┆ us      ┆ Woman  ┆ … ┆ 2 - 4 years  ┆ College      ┆ 34000.0      ┆ true  │\n",
       "│       ┆ Banking &    ┆         ┆        ┆   ┆              ┆ degree       ┆              ┆       │\n",
       "│       ┆ Finance      ┆         ┆        ┆   ┆              ┆              ┆              ┆       │\n",
       "│ 25-34 ┆ Nonprofits   ┆ usa     ┆ Woman  ┆ … ┆ 5-7 years    ┆ College      ┆ 65000.0      ┆ true  │\n",
       "│       ┆              ┆         ┆        ┆   ┆              ┆ degree       ┆              ┆       │\n",
       "│ 25-34 ┆ Accounting,  ┆ us      ┆ Woman  ┆ … ┆ 5-7 years    ┆ College      ┆ 67000.0      ┆ true  │\n",
       "│       ┆ Banking &    ┆         ┆        ┆   ┆              ┆ degree       ┆              ┆       │\n",
       "│       ┆ Finance      ┆         ┆        ┆   ┆              ┆              ┆              ┆       │\n",
       "│ 25-34 ┆ Education    ┆ usa     ┆ Man    ┆ … ┆ 2 - 4 years  ┆ Master's     ┆ 62000.0      ┆ true  │\n",
       "│       ┆ (Higher      ┆         ┆        ┆   ┆              ┆ degree       ┆              ┆       │\n",
       "│       ┆ Education)   ┆         ┆        ┆   ┆              ┆              ┆              ┆       │\n",
       "│ …     ┆ …            ┆ …       ┆ …      ┆ … ┆ …            ┆ …            ┆ …            ┆ …     │\n",
       "│ 25-34 ┆ Accounting,  ┆ united  ┆ Man    ┆ … ┆ 1 year or    ┆ College      ┆ 40000.0      ┆ true  │\n",
       "│       ┆ Banking &    ┆ states  ┆        ┆   ┆ less         ┆ degree       ┆              ┆       │\n",
       "│       ┆ Finance      ┆         ┆        ┆   ┆              ┆              ┆              ┆       │\n",
       "│ 25-34 ┆ Business or  ┆ united  ┆ Woman  ┆ … ┆ 8 - 10 years ┆ Master's     ┆ 86000.0      ┆ true  │\n",
       "│       ┆ Consulting   ┆ states  ┆        ┆   ┆              ┆ degree       ┆              ┆       │\n",
       "│ 25-34 ┆ Accounting,  ┆ uk      ┆ Man    ┆ … ┆ 2 - 4 years  ┆ Professional ┆ 75000.0      ┆ false │\n",
       "│       ┆ Banking &    ┆         ┆        ┆   ┆              ┆ degree (MD,  ┆              ┆       │\n",
       "│       ┆ Finance      ┆         ┆        ┆   ┆              ┆ JD, e…       ┆              ┆       │\n",
       "│ 25-34 ┆ Property or  ┆ liberia ┆ Man    ┆ … ┆ 8 - 10 years ┆ College      ┆ 18000.0      ┆ false │\n",
       "│       ┆ Construction ┆         ┆        ┆   ┆              ┆ degree       ┆              ┆       │\n",
       "│ 25-34 ┆ Sales        ┆ usa     ┆ null   ┆ … ┆ 5-7 years    ┆ College      ┆ 250000.0     ┆ true  │\n",
       "│       ┆              ┆         ┆        ┆   ┆              ┆ degree       ┆              ┆       │\n",
       "└───────┴──────────────┴─────────┴────────┴───┴──────────────┴──────────────┴──────────────┴───────┘"
      ]
     },
     "execution_count": 282,
     "metadata": {},
     "output_type": "execute_result"
    }
   ],
   "source": [
    "# First, let's normalise the country text\n",
    "df = df.with_columns(\n",
    "    pl.col(\"country\")\n",
    "    .str.to_lowercase()\n",
    "    .str.replace_all(r\"[^a-zA-Z\\s]\", \"\")\n",
    "    .str.strip_chars()\n",
    "    .alias(\"country\")\n",
    ")\n",
    "\n",
    "# Let's clean all the rows with no typos first\n",
    "df = df.with_columns(\n",
    "    (\n",
    "        (pl.col(\"country\") == \"us\")\n",
    "        | (\n",
    "            pl.col(\"country\").str.contains_any(\n",
    "                [\"usa\", \"america\", \"united states\", \"🇺🇸\", \"us of a\"]\n",
    "            )\n",
    "        )\n",
    "    ).alias(\"usa\")\n",
    ")\n",
    "\n",
    "print(\n",
    "    f\"US Row Count (w/o typos): {df.select(pl.col('usa')).filter(pl.col('usa') == True).shape[0]:,} Rows\"\n",
    ")\n",
    "\n",
    "\n",
    "# Let's pick up whatever typoed \"United States\" we can now\n",
    "def fuzzy_search(text: str, strictness: float) -> bool:\n",
    "    words = text.split()\n",
    "\n",
    "    if len(words) < 2 or len(words) > 6:\n",
    "        return False\n",
    "\n",
    "    target_first, target_second = \"united\", \"states\"\n",
    "\n",
    "    for i in range(len(words) - 1):\n",
    "        # Extract 2-word slice\n",
    "        slice1, slice2 = words[i], words[i + 1]\n",
    "\n",
    "        # Compute similarity for each word in the slice\n",
    "        sim1 = SequenceMatcher(None, slice1, target_first).ratio()\n",
    "        sim2 = SequenceMatcher(None, slice2, target_second).ratio()\n",
    "\n",
    "        # Average similarity for this pair\n",
    "        pair_sim = (sim1 + sim2) / 2\n",
    "\n",
    "        if pair_sim > strictness:\n",
    "            return True\n",
    "\n",
    "    return False\n",
    "\n",
    "\n",
    "# Let's check if our strictness is too low just in case\n",
    "df_typos = df.filter(pl.col(\"usa\") == False).with_columns(\n",
    "    pl.col(\"country\")\n",
    "    .map_elements(lambda country: fuzzy_search(country, 0.6), return_dtype=pl.Boolean)\n",
    "    .alias(\"usa\")\n",
    ")\n",
    "\n",
    "# Seems like a strictness of 0.6 is the lowest we can go without matching \"United Arab Emirates (UAE)\"\n",
    "print(\n",
    "    f\"\\nCatched Typos: {df_typos.filter(pl.col('usa') == True).select(pl.col('country')).unique().rows()}\"\n",
    ")\n",
    "\n",
    "# Ok, let's add in these typo rows\n",
    "df = df.with_columns(\n",
    "    pl.when(pl.col(\"usa\") == False)\n",
    "    .then(\n",
    "        pl.col(\"country\").map_elements(\n",
    "            lambda country: fuzzy_search(country, 0.6), return_dtype=pl.Boolean\n",
    "        )\n",
    "    )\n",
    "    .otherwise(pl.col(\"usa\"))\n",
    "    .alias(\"usa\")\n",
    ")\n",
    "\n",
    "print(f\"\\nUS Row Count (w/ typos): {df.filter(pl.col('usa') == True).shape[0]:,} Rows\")\n",
    "print(\n",
    "    f\"Recovery from Fuzzy Matching: {df_typos.filter(pl.col('usa') == True).shape[0]:,} additional rows\"\n",
    ")\n",
    "df"
   ]
  },
  {
   "cell_type": "markdown",
   "id": "d96bff70-58c0-46e2-9cac-0abdb395fd0a",
   "metadata": {},
   "source": [
    "And now, let's filter out the non-US based rows permanently."
   ]
  },
  {
   "cell_type": "code",
   "execution_count": 283,
   "id": "1541f3dd-a738-4232-804f-41558a75945f",
   "metadata": {},
   "outputs": [
    {
     "data": {
      "text/html": [
       "<div><style>\n",
       ".dataframe > thead > tr,\n",
       ".dataframe > tbody > tr {\n",
       "  text-align: right;\n",
       "  white-space: pre-wrap;\n",
       "}\n",
       "</style>\n",
       "<small>shape: (22_952, 10)</small><table border=\"1\" class=\"dataframe\"><thead><tr><th>age</th><th>industry</th><th>gender</th><th>race</th><th>job</th><th>timestamp</th><th>experience_overall_years</th><th>experience_field_years</th><th>education</th><th>annual_salary</th></tr><tr><td>str</td><td>str</td><td>str</td><td>str</td><td>str</td><td>str</td><td>str</td><td>str</td><td>str</td><td>f64</td></tr></thead><tbody><tr><td>&quot;25-34&quot;</td><td>&quot;Education (Higher Education)&quot;</td><td>&quot;Woman&quot;</td><td>&quot;White&quot;</td><td>&quot;Research and Instruction Libra…</td><td>&quot;4/27/2021 11:02:10&quot;</td><td>&quot;5-7 years&quot;</td><td>&quot;5-7 years&quot;</td><td>&quot;Master&#x27;s degree&quot;</td><td>55000.0</td></tr><tr><td>&quot;25-34&quot;</td><td>&quot;Accounting, Banking &amp; Finance&quot;</td><td>&quot;Woman&quot;</td><td>&quot;White&quot;</td><td>&quot;Marketing Specialist&quot;</td><td>&quot;4/27/2021 11:02:38&quot;</td><td>&quot;2 - 4 years&quot;</td><td>&quot;2 - 4 years&quot;</td><td>&quot;College degree&quot;</td><td>34000.0</td></tr><tr><td>&quot;25-34&quot;</td><td>&quot;Nonprofits&quot;</td><td>&quot;Woman&quot;</td><td>&quot;White&quot;</td><td>&quot;Program Manager&quot;</td><td>&quot;4/27/2021 11:02:41&quot;</td><td>&quot;8 - 10 years&quot;</td><td>&quot;5-7 years&quot;</td><td>&quot;College degree&quot;</td><td>65000.0</td></tr><tr><td>&quot;25-34&quot;</td><td>&quot;Accounting, Banking &amp; Finance&quot;</td><td>&quot;Woman&quot;</td><td>&quot;White&quot;</td><td>&quot;Accounting Manager&quot;</td><td>&quot;4/27/2021 11:02:42&quot;</td><td>&quot;8 - 10 years&quot;</td><td>&quot;5-7 years&quot;</td><td>&quot;College degree&quot;</td><td>67000.0</td></tr><tr><td>&quot;25-34&quot;</td><td>&quot;Education (Higher Education)&quot;</td><td>&quot;Man&quot;</td><td>&quot;White&quot;</td><td>&quot;Scholarly Publishing Librarian&quot;</td><td>&quot;4/27/2021 11:02:46&quot;</td><td>&quot;8 - 10 years&quot;</td><td>&quot;2 - 4 years&quot;</td><td>&quot;Master&#x27;s degree&quot;</td><td>62000.0</td></tr><tr><td>&hellip;</td><td>&hellip;</td><td>&hellip;</td><td>&hellip;</td><td>&hellip;</td><td>&hellip;</td><td>&hellip;</td><td>&hellip;</td><td>&hellip;</td><td>&hellip;</td></tr><tr><td>&quot;25-34&quot;</td><td>&quot;Retail&quot;</td><td>&quot;Woman&quot;</td><td>&quot;White&quot;</td><td>&quot;merchandise associate&quot;</td><td>&quot;5/16/2025 13:58:49&quot;</td><td>&quot;11 - 20 years&quot;</td><td>&quot;2 - 4 years&quot;</td><td>&quot;Some college&quot;</td><td>30000.0</td></tr><tr><td>&quot;35-44&quot;</td><td>&quot;Entertainment&quot;</td><td>&quot;Woman&quot;</td><td>&quot;Hispanic, Latino, or Spanish o…</td><td>&quot;Program Manager&quot;</td><td>&quot;5/16/2025 16:26:06&quot;</td><td>&quot;11 - 20 years&quot;</td><td>&quot;8 - 10 years&quot;</td><td>&quot;College degree&quot;</td><td>70040.0</td></tr><tr><td>&quot;25-34&quot;</td><td>&quot;Accounting, Banking &amp; Finance&quot;</td><td>&quot;Man&quot;</td><td>&quot;White&quot;</td><td>&quot;Associate Analyst I&quot;</td><td>&quot;5/27/2025 13:45:55&quot;</td><td>&quot;5-7 years&quot;</td><td>&quot;1 year or less&quot;</td><td>&quot;College degree&quot;</td><td>40000.0</td></tr><tr><td>&quot;25-34&quot;</td><td>&quot;Business or Consulting&quot;</td><td>&quot;Woman&quot;</td><td>&quot;Black or African American&quot;</td><td>&quot;Business Analyst&quot;</td><td>&quot;6/6/2025 22:03:16&quot;</td><td>&quot;8 - 10 years&quot;</td><td>&quot;8 - 10 years&quot;</td><td>&quot;Master&#x27;s degree&quot;</td><td>86000.0</td></tr><tr><td>&quot;25-34&quot;</td><td>&quot;Sales&quot;</td><td>null</td><td>&quot;Asian or Asian American&quot;</td><td>&quot;Sales&quot;</td><td>&quot;9/12/2025 7:43:30&quot;</td><td>&quot;5-7 years&quot;</td><td>&quot;5-7 years&quot;</td><td>&quot;College degree&quot;</td><td>250000.0</td></tr></tbody></table></div>"
      ],
      "text/plain": [
       "shape: (22_952, 10)\n",
       "┌───────┬────────────┬────────┬────────────┬───┬────────────┬────────────┬────────────┬────────────┐\n",
       "│ age   ┆ industry   ┆ gender ┆ race       ┆ … ┆ experience ┆ experience ┆ education  ┆ annual_sal │\n",
       "│ ---   ┆ ---        ┆ ---    ┆ ---        ┆   ┆ _overall_y ┆ _field_yea ┆ ---        ┆ ary        │\n",
       "│ str   ┆ str        ┆ str    ┆ str        ┆   ┆ ears       ┆ rs         ┆ str        ┆ ---        │\n",
       "│       ┆            ┆        ┆            ┆   ┆ ---        ┆ ---        ┆            ┆ f64        │\n",
       "│       ┆            ┆        ┆            ┆   ┆ str        ┆ str        ┆            ┆            │\n",
       "╞═══════╪════════════╪════════╪════════════╪═══╪════════════╪════════════╪════════════╪════════════╡\n",
       "│ 25-34 ┆ Education  ┆ Woman  ┆ White      ┆ … ┆ 5-7 years  ┆ 5-7 years  ┆ Master's   ┆ 55000.0    │\n",
       "│       ┆ (Higher    ┆        ┆            ┆   ┆            ┆            ┆ degree     ┆            │\n",
       "│       ┆ Education) ┆        ┆            ┆   ┆            ┆            ┆            ┆            │\n",
       "│ 25-34 ┆ Accounting ┆ Woman  ┆ White      ┆ … ┆ 2 - 4      ┆ 2 - 4      ┆ College    ┆ 34000.0    │\n",
       "│       ┆ , Banking  ┆        ┆            ┆   ┆ years      ┆ years      ┆ degree     ┆            │\n",
       "│       ┆ & Finance  ┆        ┆            ┆   ┆            ┆            ┆            ┆            │\n",
       "│ 25-34 ┆ Nonprofits ┆ Woman  ┆ White      ┆ … ┆ 8 - 10     ┆ 5-7 years  ┆ College    ┆ 65000.0    │\n",
       "│       ┆            ┆        ┆            ┆   ┆ years      ┆            ┆ degree     ┆            │\n",
       "│ 25-34 ┆ Accounting ┆ Woman  ┆ White      ┆ … ┆ 8 - 10     ┆ 5-7 years  ┆ College    ┆ 67000.0    │\n",
       "│       ┆ , Banking  ┆        ┆            ┆   ┆ years      ┆            ┆ degree     ┆            │\n",
       "│       ┆ & Finance  ┆        ┆            ┆   ┆            ┆            ┆            ┆            │\n",
       "│ 25-34 ┆ Education  ┆ Man    ┆ White      ┆ … ┆ 8 - 10     ┆ 2 - 4      ┆ Master's   ┆ 62000.0    │\n",
       "│       ┆ (Higher    ┆        ┆            ┆   ┆ years      ┆ years      ┆ degree     ┆            │\n",
       "│       ┆ Education) ┆        ┆            ┆   ┆            ┆            ┆            ┆            │\n",
       "│ …     ┆ …          ┆ …      ┆ …          ┆ … ┆ …          ┆ …          ┆ …          ┆ …          │\n",
       "│ 25-34 ┆ Retail     ┆ Woman  ┆ White      ┆ … ┆ 11 - 20    ┆ 2 - 4      ┆ Some       ┆ 30000.0    │\n",
       "│       ┆            ┆        ┆            ┆   ┆ years      ┆ years      ┆ college    ┆            │\n",
       "│ 35-44 ┆ Entertainm ┆ Woman  ┆ Hispanic,  ┆ … ┆ 11 - 20    ┆ 8 - 10     ┆ College    ┆ 70040.0    │\n",
       "│       ┆ ent        ┆        ┆ Latino, or ┆   ┆ years      ┆ years      ┆ degree     ┆            │\n",
       "│       ┆            ┆        ┆ Spanish o… ┆   ┆            ┆            ┆            ┆            │\n",
       "│ 25-34 ┆ Accounting ┆ Man    ┆ White      ┆ … ┆ 5-7 years  ┆ 1 year or  ┆ College    ┆ 40000.0    │\n",
       "│       ┆ , Banking  ┆        ┆            ┆   ┆            ┆ less       ┆ degree     ┆            │\n",
       "│       ┆ & Finance  ┆        ┆            ┆   ┆            ┆            ┆            ┆            │\n",
       "│ 25-34 ┆ Business   ┆ Woman  ┆ Black or   ┆ … ┆ 8 - 10     ┆ 8 - 10     ┆ Master's   ┆ 86000.0    │\n",
       "│       ┆ or         ┆        ┆ African    ┆   ┆ years      ┆ years      ┆ degree     ┆            │\n",
       "│       ┆ Consulting ┆        ┆ American   ┆   ┆            ┆            ┆            ┆            │\n",
       "│ 25-34 ┆ Sales      ┆ null   ┆ Asian or   ┆ … ┆ 5-7 years  ┆ 5-7 years  ┆ College    ┆ 250000.0   │\n",
       "│       ┆            ┆        ┆ Asian      ┆   ┆            ┆            ┆ degree     ┆            │\n",
       "│       ┆            ┆        ┆ American   ┆   ┆            ┆            ┆            ┆            │\n",
       "└───────┴────────────┴────────┴────────────┴───┴────────────┴────────────┴────────────┴────────────┘"
      ]
     },
     "execution_count": 283,
     "metadata": {},
     "output_type": "execute_result"
    }
   ],
   "source": [
    "df = df.filter(pl.col(\"usa\") == True)\n",
    "df = df.drop([\"country\", \"usa\"])\n",
    "df"
   ]
  },
  {
   "cell_type": "markdown",
   "id": "e050354c-4192-49ec-a03e-1cf94f9cb0b5",
   "metadata": {},
   "source": [
    "For some reason, there is a single row in Gender that has the value \"Prefer not to answer\".\n",
    "\n",
    "Since it's only a single row, we'll just remove it."
   ]
  },
  {
   "cell_type": "code",
   "execution_count": 296,
   "id": "8ea9d8ee-d717-477c-91f5-c47ec4d294c9",
   "metadata": {},
   "outputs": [],
   "source": [
    "df = df.filter(pl.col(\"gender\") != \"Prefer not to answer\")"
   ]
  },
  {
   "cell_type": "markdown",
   "id": "5db75f37-7525-488c-a487-2ad5181720d9",
   "metadata": {},
   "source": [
    "## 2.5 Handle Duplicate Rows\n",
    "Based on our EDA, there shouldn't be any duplicate rows, but no harm checking twice."
   ]
  },
  {
   "cell_type": "code",
   "execution_count": 297,
   "id": "ed25786f-aa50-4d6e-8d43-313c7049c3f1",
   "metadata": {},
   "outputs": [
    {
     "name": "stdout",
     "output_type": "stream",
     "text": [
      "Number of duplicate rows: 0\n",
      "✓ No duplicates found (as expected for survey data)\n"
     ]
    }
   ],
   "source": [
    "duplicates = df.filter(df.is_duplicated())\n",
    "print(f\"Number of duplicate rows: {duplicates.shape[0]}\")\n",
    "\n",
    "if duplicates.shape[0] > 0:\n",
    "    print(\"\\nSample of duplicate rows:\")\n",
    "    print(duplicates.head())\n",
    "    df = df.unique()\n",
    "    print(f\"✓ Removed {duplicates.shape[0]} duplicate rows\")\n",
    "else:\n",
    "    print(\"✓ No duplicates found (as expected for survey data)\")"
   ]
  },
  {
   "cell_type": "markdown",
   "id": "805de414-cf9c-4cbf-abdb-5cfe19e2d3af",
   "metadata": {},
   "source": [
    "## 2.6 Handle Missing Values\n",
    "Let's check the dataframe for any remaining null values now."
   ]
  },
  {
   "cell_type": "code",
   "execution_count": 298,
   "id": "70d8cf96-d18c-4896-bb5e-810a1d89733b",
   "metadata": {},
   "outputs": [
    {
     "data": {
      "text/html": [
       "<div><style>\n",
       ".dataframe > thead > tr,\n",
       ".dataframe > tbody > tr {\n",
       "  text-align: right;\n",
       "  white-space: pre-wrap;\n",
       "}\n",
       "</style>\n",
       "<small>shape: (1, 10)</small><table border=\"1\" class=\"dataframe\"><thead><tr><th>age</th><th>industry</th><th>gender</th><th>race</th><th>job</th><th>timestamp</th><th>experience_overall_years</th><th>experience_field_years</th><th>education</th><th>annual_salary</th></tr><tr><td>u32</td><td>u32</td><td>u32</td><td>u32</td><td>u32</td><td>u32</td><td>u32</td><td>u32</td><td>u32</td><td>u32</td></tr></thead><tbody><tr><td>0</td><td>0</td><td>0</td><td>0</td><td>0</td><td>0</td><td>0</td><td>0</td><td>0</td><td>0</td></tr></tbody></table></div>"
      ],
      "text/plain": [
       "shape: (1, 10)\n",
       "┌─────┬──────────┬────────┬──────┬───┬────────────────┬────────────────┬───────────┬───────────────┐\n",
       "│ age ┆ industry ┆ gender ┆ race ┆ … ┆ experience_ove ┆ experience_fie ┆ education ┆ annual_salary │\n",
       "│ --- ┆ ---      ┆ ---    ┆ ---  ┆   ┆ rall_years     ┆ ld_years       ┆ ---       ┆ ---           │\n",
       "│ u32 ┆ u32      ┆ u32    ┆ u32  ┆   ┆ ---            ┆ ---            ┆ u32       ┆ u32           │\n",
       "│     ┆          ┆        ┆      ┆   ┆ u32            ┆ u32            ┆           ┆               │\n",
       "╞═════╪══════════╪════════╪══════╪═══╪════════════════╪════════════════╪═══════════╪═══════════════╡\n",
       "│ 0   ┆ 0        ┆ 0      ┆ 0    ┆ … ┆ 0              ┆ 0              ┆ 0         ┆ 0             │\n",
       "└─────┴──────────┴────────┴──────┴───┴────────────────┴────────────────┴───────────┴───────────────┘"
      ]
     },
     "execution_count": 298,
     "metadata": {},
     "output_type": "execute_result"
    }
   ],
   "source": [
    "df.null_count()"
   ]
  },
  {
   "cell_type": "markdown",
   "id": "3531fd7d-c7e1-4ab7-9a77-c3d8db6feb7f",
   "metadata": {},
   "source": [
    "Out of the 22,952 rows remaining, the missing values are in the hundreds. Since there's so few missing values, let's just filter them out of the dataset completely."
   ]
  },
  {
   "cell_type": "code",
   "execution_count": 299,
   "id": "990e5a1b-5430-426d-bd1c-058d7068ed63",
   "metadata": {},
   "outputs": [
    {
     "name": "stdout",
     "output_type": "stream",
     "text": [
      "Filtered Rows: 22,552 (Lost 0 Rows)\n"
     ]
    }
   ],
   "source": [
    "df_filtered = df.filter(pl.all_horizontal(pl.all().is_not_null()))\n",
    "\n",
    "missing_value_rows = df.shape[0] - df_filtered.shape[0]\n",
    "print(f\"Filtered Rows: {df_filtered.shape[0]:,} (Lost {missing_value_rows:,} Rows)\")\n",
    "df = df_filtered"
   ]
  },
  {
   "cell_type": "markdown",
   "id": "c5bf7619-5e6d-4277-a989-4f71a0ad16ff",
   "metadata": {},
   "source": [
    "## 2.7 Train-Test-Split and Validation\n",
    "At last, let's split the data into train-test-validation sets and validate that their distribution is similar."
   ]
  },
  {
   "cell_type": "code",
   "execution_count": 300,
   "id": "7058a5a3-4229-4b99-82b3-e6699e8f47ad",
   "metadata": {},
   "outputs": [
    {
     "name": "stdout",
     "output_type": "stream",
     "text": [
      "Total dataset shape:\n",
      "X=(22552, 9)y=(22552,)\n",
      "\n",
      "Train set shape:\n",
      "X=(15786, 9), y=(15786,)\n",
      "\n",
      "Test set shape:\n",
      "X=(3383, 9), y=(3383,)\n",
      "\n",
      "Validation set shape:\n",
      "X=(3383, 9), y=(3383,)\n",
      "\n",
      "\n",
      "Target Distributions Across Splits (Skewness & Kurtosis):\n",
      "  Train: Skew=2.21, Kurtosis=7.21\n",
      "  Validation: Skew=2.29, Kurtosis=7.85\n",
      "  Test: Skew=2.24, Kurtosis=7.44\n"
     ]
    }
   ],
   "source": [
    "import numpy as np\n",
    "from sklearn.model_selection import train_test_split\n",
    "\n",
    "# Separate features (X) and target (y)\n",
    "X = df.drop(\"annual_salary\")\n",
    "y = df[\"annual_salary\"]\n",
    "\n",
    "print(f\"Total dataset shape:\\nX={X.shape}y={y.shape}\\n\")\n",
    "\n",
    "num_bins = 20\n",
    "y_stratify_bins = np.digitize(\n",
    "    np.log1p(y.to_numpy()),\n",
    "    bins=np.linspace(\n",
    "        np.log1p(y.to_numpy()).min(), np.log1p(y.to_numpy()).max(), num_bins\n",
    "    ),\n",
    ")\n",
    "\n",
    "#  70% Training, 15% Testing, 15% Validation Split\n",
    "X_train, X_temp, y_train, y_temp = train_test_split(\n",
    "    X, y, test_size=0.3, random_state=42, stratify=y_stratify_bins\n",
    ")\n",
    "\n",
    "y_temp_stratify_bins = np.digitize(\n",
    "    np.log1p(y_temp.to_numpy()),\n",
    "    bins=np.linspace(\n",
    "        np.log1p(y_temp.to_numpy()).min(),\n",
    "        np.log1p(y_temp.to_numpy()).max(),\n",
    "        num_bins,\n",
    "    ),\n",
    ")\n",
    "\n",
    "X_val, X_test, y_val, y_test = train_test_split(\n",
    "    X_temp,\n",
    "    y_temp,\n",
    "    test_size=0.50,  # 0.50 of the 30% temp set = 15% of total\n",
    "    random_state=42,\n",
    "    stratify=y_temp_stratify_bins,\n",
    ")\n",
    "\n",
    "print(f\"Train set shape:\\nX={X_train.shape}, y={y_train.shape}\\n\")\n",
    "print(f\"Test set shape:\\nX={X_test.shape}, y={y_test.shape}\\n\")\n",
    "print(f\"Validation set shape:\\nX={X_val.shape}, y={y_val.shape}\\n\")\n",
    "\n",
    "# Verify target distributions (skewness and kurtosis) across splits\n",
    "print(\"\\nTarget Distributions Across Splits (Skewness & Kurtosis):\")\n",
    "\n",
    "\n",
    "def get_stats(series: pl.Series) -> tuple[float, float]:\n",
    "    return series.skew(), series.kurtosis()\n",
    "\n",
    "\n",
    "train_skew, train_kurt = get_stats(y_train)\n",
    "val_skew, val_kurt = get_stats(y_val)\n",
    "test_skew, test_kurt = get_stats(y_test)\n",
    "\n",
    "\n",
    "print(f\"  Train: Skew={train_skew:.2f}, Kurtosis={train_kurt:.2f}\")\n",
    "print(f\"  Validation: Skew={val_skew:.2f}, Kurtosis={val_kurt:.2f}\")\n",
    "print(f\"  Test: Skew={test_skew:.2f}, Kurtosis={test_kurt:.2f}\")"
   ]
  },
  {
   "cell_type": "markdown",
   "id": "52876b4e-75c1-4d70-a6c1-da8e4ca6e202",
   "metadata": {},
   "source": [
    "The distribution seems consistent across all three sets. Just to be sure, let's also visualise them."
   ]
  },
  {
   "cell_type": "code",
   "execution_count": 301,
   "id": "acffa62d-2166-481c-a615-7aa4947e9d50",
   "metadata": {},
   "outputs": [
    {
     "data": {
      "image/png": "[encoded data removed]",
      "text/plain": [
       "<Figure size 1800x500 with 3 Axes>"
      ]
     },
     "metadata": {},
     "output_type": "display_data"
    },
    {
     "name": "stdout",
     "output_type": "stream",
     "text": [
      "\n",
      "Distribution Statistics:\n",
      "Metric          Train        Val          Test        \n",
      "---------------------------------------------------\n",
      "Mean            $97,721      $97,540      $97,854     \n",
      "Median          $81,000      $81,000      $81,000     \n",
      "Std Dev         $60,731      $60,921      $60,900     \n"
     ]
    }
   ],
   "source": [
    "import matplotlib.pyplot as plt\n",
    "import seaborn as sns\n",
    "\n",
    "fig, axes = plt.subplots(1, 3, figsize=(18, 5))\n",
    "\n",
    "# Plot 1: Histograms\n",
    "for ax, (name, y_data) in zip(\n",
    "    axes,\n",
    "    [\n",
    "        (\"Train\", y_train),\n",
    "        (\"Validation\", y_val),\n",
    "        (\"Test\", y_test),\n",
    "    ],\n",
    "):\n",
    "    sns.histplot(\n",
    "        y_data,\n",
    "        bins=50,\n",
    "        alpha=0.7,\n",
    "        edgecolor=\"black\",\n",
    "        ax=ax,\n",
    "        color=sns.color_palette(\"coolwarm\")[1],\n",
    "    )\n",
    "    ax.set_title(f\"{name} Set Distribution\\n(n={len(y_data):,})\")\n",
    "    ax.set_xlabel(\"Annual Salary (USD)\")\n",
    "    ax.set_ylabel(\"Frequency\")\n",
    "    ax.axvline(\n",
    "        y_data.median(),\n",
    "        color=\"red\",\n",
    "        linestyle=\"--\",\n",
    "        label=f\"Median: ${y_data.median():,.0f}\",\n",
    "    )\n",
    "    ax.legend()\n",
    "\n",
    "plt.tight_layout()\n",
    "plt.savefig(\"../../figures/split_distributions.png\", dpi=300)\n",
    "plt.show()\n",
    "\n",
    "print(\"\\nDistribution Statistics:\")\n",
    "print(f\"{'Metric':<15} {'Train':<12} {'Val':<12} {'Test':<12}\")\n",
    "print(\"-\" * 51)\n",
    "print(\n",
    "    f\"{'Mean':<15} ${y_train.mean():<11,.0f} ${y_val.mean():<11,.0f} ${y_test.mean():<11,.0f}\"\n",
    ")\n",
    "print(\n",
    "    f\"{'Median':<15} ${y_train.median():<11,.0f} ${y_val.median():<11,.0f} ${y_test.median():<11,.0f}\"\n",
    ")\n",
    "print(\n",
    "    f\"{'Std Dev':<15} ${y_train.std():<11,.0f} ${y_val.std():<11,.0f} ${y_test.std():<11,.0f}\"\n",
    ")"
   ]
  },
  {
   "cell_type": "markdown",
   "id": "9407045a-0631-4e98-93df-3cb8bfee4659",
   "metadata": {},
   "source": [
    "Great, all sets have similar distributions, as shown above (Skew 2.22, 2.22, 2.28, and Kurtosis 7.24, 7.32, 7.84).\n",
    "\n",
    "However, these numbers indiciate high imbalance, which bring us to our last step.\n",
    "\n",
    "## 2.8 Address Target Variable Imbalance\n",
    "Now that we've split the data, we can safely apply log1p transformation to the target variable to address the skewness (2.22 → ~0.29).\n",
    "\n",
    "We had to wait until after the split to prevent information leakage betweens sets."
   ]
  },
  {
   "cell_type": "code",
   "execution_count": 302,
   "id": "9e026bed-86ec-44db-85c8-cbd9cf7e5b76",
   "metadata": {},
   "outputs": [
    {
     "name": "stdout",
     "output_type": "stream",
     "text": [
      "Target Variable Statistics After Log Transformation:\n",
      "  Train: Skew=0.29, Kurt=0.13\n",
      "  Val:   Skew=0.30, Kurt=0.16\n",
      "  Test:  Skew=0.31, Kurt=0.14\n"
     ]
    }
   ],
   "source": [
    "# Apply log1p to each set independently\n",
    "y_train_log = pl.Series(\"annual_salary_log\", np.log1p(y_train.to_numpy()))\n",
    "y_val_log = pl.Series(\"annual_salary_log\", np.log1p(y_val.to_numpy()))\n",
    "y_test_log = pl.Series(\"annual_salary_log\", np.log1p(y_test.to_numpy()))\n",
    "\n",
    "print(\"Target Variable Statistics After Log Transformation:\")\n",
    "print(f\"  Train: Skew={y_train_log.skew():.2f}, Kurt={y_train_log.kurtosis():.2f}\")\n",
    "print(f\"  Val:   Skew={y_val_log.skew():.2f}, Kurt={y_val_log.kurtosis():.2f}\")\n",
    "print(\n",
    "    f\"  Test:  Skew={y_test_log.skew():.2f}, Kurt={y_test_log.kurtosis():.2f}\"\n",
    ")  # %% Visualize distribution preservation across splits"
   ]
  },
  {
   "cell_type": "markdown",
   "id": "c3c6b64e-41e6-46d8-8386-c2423aba823b",
   "metadata": {},
   "source": [
    "Great! The skewness (0.13, 0.13, 0.13) and kurtosis (0.13, 0.13, 0.16) all indicate extreme balance now."
   ]
  },
  {
   "cell_type": "markdown",
   "id": "e63e58e7-0317-4d0d-9dee-5356a7233e15",
   "metadata": {},
   "source": [
    "## 2.9 Save Cleaned Data Splits\n",
    "We have finished our preprocessing. Let's save the data splits for feature engineering next."
   ]
  },
  {
   "cell_type": "code",
   "execution_count": 303,
   "id": "0a2c6a81-28db-46a9-afe2-e44c123a889f",
   "metadata": {},
   "outputs": [
    {
     "name": "stdout",
     "output_type": "stream",
     "text": [
      "✓ Saved all datasets to: ../../data/cleaned/regression\n",
      "\n",
      "Saved files:\n",
      "  Features: X_train.csv, X_val.csv, X_test.csv\n",
      "  Targets (original): y_train.csv, y_val.csv, y_test.csv\n",
      "  Targets (log): y_train_log.csv, y_val_log.csv, y_test_log.csv\n",
      "\n",
      "Dataset sizes:\n",
      "  Train: 15,786 rows\n",
      "  Val:   3,383 rows\n",
      "  Test:  3,383 rows\n",
      "  Total: 22,552 rows\n"
     ]
    }
   ],
   "source": [
    "output_dir = Path(CLEANED_FILE_PATH)\n",
    "\n",
    "# Save features (X) and targets (y) separately\n",
    "X_train.write_csv(output_dir / \"X_train.csv\")\n",
    "X_val.write_csv(output_dir / \"X_val.csv\")\n",
    "X_test.write_csv(output_dir / \"X_test.csv\")\n",
    "\n",
    "# Save both original and log-transformed targets\n",
    "y_train.to_frame(\"annual_salary\").write_csv(output_dir / \"y_train.csv\")\n",
    "y_val.to_frame(\"annual_salary\").write_csv(output_dir / \"y_val.csv\")\n",
    "y_test.to_frame(\"annual_salary\").write_csv(output_dir / \"y_test.csv\")\n",
    "\n",
    "y_train_log.to_frame(\"annual_salary_log\").write_csv(output_dir / \"y_train_log.csv\")\n",
    "y_val_log.to_frame(\"annual_salary_log\").write_csv(output_dir / \"y_val_log.csv\")\n",
    "y_test_log.to_frame(\"annual_salary_log\").write_csv(output_dir / \"y_test_log.csv\")\n",
    "\n",
    "print(f\"✓ Saved all datasets to: {output_dir}\")\n",
    "print(f\"\\nSaved files:\")\n",
    "print(f\"  Features: X_train.csv, X_val.csv, X_test.csv\")\n",
    "print(f\"  Targets (original): y_train.csv, y_val.csv, y_test.csv\")\n",
    "print(f\"  Targets (log): y_train_log.csv, y_val_log.csv, y_test_log.csv\")\n",
    "print(f\"\\nDataset sizes:\")\n",
    "print(f\"  Train: {X_train.shape[0]:,} rows\")\n",
    "print(f\"  Val:   {X_val.shape[0]:,} rows\")\n",
    "print(f\"  Test:  {X_test.shape[0]:,} rows\")\n",
    "print(f\"  Total: {X_train.shape[0] + X_val.shape[0] + X_test.shape[0]:,} rows\")"
   ]
  },
  {
   "cell_type": "markdown",
   "id": "135cd4fa-f92d-4611-93ba-1c4645cde4ea",
   "metadata": {},
   "source": [
    "## 2.10 Summary"
   ]
  },
  {
   "cell_type": "code",
   "execution_count": 304,
   "id": "d98cc875-d718-4329-8009-8229437cf98a",
   "metadata": {
    "lines_to_next_cell": 0
   },
   "outputs": [
    {
     "name": "stdout",
     "output_type": "stream",
     "text": [
      "\n",
      "1. Data Cleaning:\n",
      "   - Initial rows: 28,153\n",
      "   - After outlier filter: 22,552\n",
      "   - Rows lost: 5,601 (19.9%)\n",
      "\n",
      "2. Missing Value Handling:\n",
      "   - Strategy: Drop rows with any nulls\n",
      "   - Rows dropped: 0\n",
      "\n",
      "3. Country Filtering:\n",
      "   - Kept only USA-based respondents\n",
      "   - Fuzzy matching recovered: 81 typos\n",
      "\n",
      "4. Train-Test-Val Split:\n",
      "   - Train: 15,786 (70%)\n",
      "   - Val:   3,383 (15%)\n",
      "   - Test:  3,383 (15%)\n",
      "\n",
      "5. Target Transformation:\n",
      "   - Original skewness: 2.21\n",
      "   - Log-transformed skewness: 0.29\n",
      "   - Transformation: log1p(annual_salary)\n",
      "\n",
      "6. Features Retained: 9\n",
      "   ['age', 'industry', 'gender', 'race', 'job', 'timestamp', 'experience_overall_years', 'experience_field_years', 'education']\n"
     ]
    }
   ],
   "source": [
    "print(f\"\\n1. Data Cleaning:\")\n",
    "print(f\"   - Initial rows: {init_rows:,}\")\n",
    "print(f\"   - After outlier filter: {df.shape[0]:,}\")\n",
    "print(\n",
    "    f\"   - Rows lost: {init_rows - df.shape[0]:,} ({(init_rows - df.shape[0]) / init_rows * 100:.1f}%)\"\n",
    ")\n",
    "\n",
    "print(f\"\\n2. Missing Value Handling:\")\n",
    "print(f\"   - Strategy: Drop rows with any nulls\")\n",
    "print(f\"   - Rows dropped: {missing_value_rows:,}\")\n",
    "\n",
    "print(f\"\\n3. Country Filtering:\")\n",
    "print(f\"   - Kept only USA-based respondents\")\n",
    "print(\n",
    "    f\"   - Fuzzy matching recovered: {df_typos.filter(pl.col('usa') == True).shape[0]:,} typos\"\n",
    ")\n",
    "\n",
    "print(f\"\\n4. Train-Test-Val Split:\")\n",
    "print(\n",
    "    f\"   - Train: {X_train.shape[0]:,} ({X_train.shape[0] / (X_train.shape[0] + X_val.shape[0] + X_test.shape[0]) * 100:.0f}%)\"\n",
    ")\n",
    "print(\n",
    "    f\"   - Val:   {X_val.shape[0]:,} ({X_val.shape[0] / (X_train.shape[0] + X_val.shape[0] + X_test.shape[0]) * 100:.0f}%)\"\n",
    ")\n",
    "print(\n",
    "    f\"   - Test:  {X_test.shape[0]:,} ({X_test.shape[0] / (X_train.shape[0] + X_val.shape[0] + X_test.shape[0]) * 100:.0f}%)\"\n",
    ")\n",
    "\n",
    "print(f\"\\n5. Target Transformation:\")\n",
    "print(f\"   - Original skewness: {train_skew:.2f}\")\n",
    "print(f\"   - Log-transformed skewness: {y_train_log.skew():.2f}\")\n",
    "print(f\"   - Transformation: log1p(annual_salary)\")\n",
    "\n",
    "print(f\"\\n6. Features Retained: {X_train.shape[1]}\")\n",
    "print(f\"   {list(X_train.columns)}\")"
   ]
  },
  {
   "cell_type": "code",
   "execution_count": null,
   "id": "fabd6ceb-e1fe-418a-9cdc-c87c74e5eada",
   "metadata": {
    "lines_to_next_cell": 2
   },
   "outputs": [],
   "source": []
  }
 ],
 "metadata": {
  "jupytext": {
   "cell_metadata_filter": "-all",
   "formats": "ipynb,py:light"
  },
  "kernelspec": {
   "display_name": "Python 3 (ipykernel)",
   "language": "python",
   "name": "python3"
  },
  "language_info": {
   "codemirror_mode": {
    "name": "ipython",
    "version": 3
   },
   "file_extension": ".py",
   "mimetype": "text/x-python",
   "name": "python",
   "nbconvert_exporter": "python",
   "pygments_lexer": "ipython3",
   "version": "3.12.0"
  }
 },
 "nbformat": 4,
 "nbformat_minor": 5
}
