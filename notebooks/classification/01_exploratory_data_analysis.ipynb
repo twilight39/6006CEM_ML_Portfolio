{
 "cells": [
  {
   "cell_type": "markdown",
   "id": "d1c482c8-a5f6-4772-9900-1a1baa1f9751",
   "metadata": {},
   "source": [
    "# Classification EDA: Airbnb Superhost Prediction\n",
    "- **Dataset**: Singapore Airbnb Listings (4 timepoints combined)\n",
    "- **Target**: host_is_superhost (Binary)"
   ]
  },
  {
   "cell_type": "code",
   "execution_count": 123,
   "id": "478684cd-1923-4d3c-8eda-9bf31ba42579",
   "metadata": {},
   "outputs": [],
   "source": [
    "# Imports\n",
    "from pathlib import Path\n",
    "\n",
    "import matplotlib.pyplot as plt\n",
    "import numpy as np\n",
    "import polars as pl\n",
    "import seaborn as sns\n",
    "from scipy import stats"
   ]
  },
  {
   "cell_type": "code",
   "execution_count": 96,
   "id": "d0d05138-b289-49e5-afe2-5310cee50647",
   "metadata": {},
   "outputs": [],
   "source": [
    "# Constants\n",
    "FIGURES_DIRECTORY = Path(\"../../figures/classification\")\n",
    "RAW_DATA_DIRECTORY = Path(\"../../data/raw/\")\n",
    "DATA_FILE_NAMES = [\"airbnb_timepoint\" + f\"{i}.csv\" for i in range(1, 5)]"
   ]
  },
  {
   "cell_type": "markdown",
   "id": "b3784596-1c5e-49a6-874c-eb6405b80fc8",
   "metadata": {},
   "source": [
    "## Overview"
   ]
  },
  {
   "cell_type": "code",
   "execution_count": 97,
   "id": "01f4e023-1f4f-4176-a9ea-cf4c6d018b5f",
   "metadata": {},
   "outputs": [
    {
     "name": "stdout",
     "output_type": "stream",
     "text": [
      "\u001b[1mCommon Columns:\u001b[0m\n",
      "• host_thumbnail_url\n",
      "• host_location\n",
      "• minimum_maximum_nights\n",
      "• host_total_listings_count\n",
      "• beds\n",
      "• bedrooms\n",
      "• neighbourhood_cleansed\n",
      "• latitude\n",
      "• longitude\n",
      "• review_scores_checkin\n",
      "• host_acceptance_rate\n",
      "• host_has_profile_pic\n",
      "• neighborhood_overview\n",
      "• host_listings_count\n",
      "• calculated_host_listings_count_private_rooms\n",
      "• availability_30\n",
      "• name\n",
      "• host_id\n",
      "• host_since\n",
      "• calendar_updated\n",
      "• neighbourhood_group_cleansed\n",
      "• calendar_last_scraped\n",
      "• review_scores_accuracy\n",
      "• review_scores_cleanliness\n",
      "• host_is_superhost\n",
      "• availability_90\n",
      "• review_scores_communication\n",
      "• calculated_host_listings_count\n",
      "• price\n",
      "• first_review\n",
      "• maximum_minimum_nights\n",
      "• bathrooms\n",
      "• property_type\n",
      "• reviews_per_month\n",
      "• description\n",
      "• source\n",
      "• availability_365\n",
      "• last_review\n",
      "• id\n",
      "• review_scores_value\n",
      "• host_response_time\n",
      "• review_scores_rating\n",
      "• host_neighbourhood\n",
      "• has_availability\n",
      "• bathrooms_text\n",
      "• scrape_id\n",
      "• number_of_reviews_l30d\n",
      "• license\n",
      "• minimum_nights\n",
      "• host_identity_verified\n",
      "• calculated_host_listings_count_shared_rooms\n",
      "• maximum_maximum_nights\n",
      "• host_verifications\n",
      "• listing_url\n",
      "• host_url\n",
      "• minimum_nights_avg_ntm\n",
      "• availability_60\n",
      "• room_type\n",
      "• number_of_reviews\n",
      "• host_name\n",
      "• accommodates\n",
      "• host_response_rate\n",
      "• picture_url\n",
      "• maximum_nights\n",
      "• neighbourhood\n",
      "• maximum_nights_avg_ntm\n",
      "• number_of_reviews_ltm\n",
      "• amenities\n",
      "• review_scores_location\n",
      "• host_about\n",
      "• minimum_minimum_nights\n",
      "• calculated_host_listings_count_entire_homes\n",
      "• instant_bookable\n",
      "• last_scraped\n",
      "• host_picture_url\n",
      "\n",
      "\u001b[1mUnique Columns:\u001b[0m\n",
      "• estimated_revenue_l365d\n",
      "• availability_eoy\n",
      "• number_of_reviews_ly\n",
      "• estimated_occupancy_l365d\n",
      "\n",
      "\u001b[1mTotal Columns:\u001b[0m 79\n"
     ]
    }
   ],
   "source": [
    "# Load Data\n",
    "dfs = [pl.read_csv(RAW_DATA_DIRECTORY / file_name) for file_name in DATA_FILE_NAMES]\n",
    "\n",
    "# Check Columns\n",
    "set1, set2, set3, set4 = map(set, [df.columns for df in dfs])\n",
    "\n",
    "print(\"\\033[1mCommon Columns:\\033[0m\")\n",
    "for col in set1 & set2 & set3 & set4:\n",
    "    print(f\"• {col}\")\n",
    "\n",
    "print(\"\\n\\033[1mUnique Columns:\\033[0m\")\n",
    "for col in (set1 | set2 | set3 | set4) - (set1 & set2 & set3 & set4):\n",
    "    print(f\"• {col}\")\n",
    "\n",
    "print(f\"\\n\\033[1mTotal Columns:\\033[0m {len(set1 | set2 | set3 | set4)}\")"
   ]
  },
  {
   "cell_type": "markdown",
   "id": "d4ece284-2004-41bd-b9ec-b4bf10a7100a",
   "metadata": {},
   "source": [
    "As seen above, most of the columns are shared between the 4 timepoints, with only 4 columns not shared between all timepoints.\n",
    "\n",
    "Let's just drop these columns since they only make up 4 of the 79 columns."
   ]
  },
  {
   "cell_type": "code",
   "execution_count": 98,
   "id": "b2531b26-b9c3-4897-9aa2-b2c5fc1d35be",
   "metadata": {},
   "outputs": [
    {
     "name": "stdout",
     "output_type": "stream",
     "text": [
      "\u001b[1mCombined Dataset Details:\u001b\n",
      "\u001b[1mTotal Rows:\u001b[0m 14027\n",
      "\u001b[1mUnique Host IDs:\u001b[0m 4484\n",
      "\u001b[1mColumns:\u001b[0m 75\n"
     ]
    },
    {
     "data": {
      "text/html": [
       "<div><style>\n",
       ".dataframe > thead > tr,\n",
       ".dataframe > tbody > tr {\n",
       "  text-align: right;\n",
       "  white-space: pre-wrap;\n",
       "}\n",
       "</style>\n",
       "<small>shape: (10, 75)</small><table border=\"1\" class=\"dataframe\"><thead><tr><th>id</th><th>listing_url</th><th>scrape_id</th><th>last_scraped</th><th>source</th><th>name</th><th>description</th><th>neighborhood_overview</th><th>picture_url</th><th>host_id</th><th>host_url</th><th>host_name</th><th>host_since</th><th>host_location</th><th>host_about</th><th>host_response_time</th><th>host_response_rate</th><th>host_acceptance_rate</th><th>host_is_superhost</th><th>host_thumbnail_url</th><th>host_picture_url</th><th>host_neighbourhood</th><th>host_listings_count</th><th>host_total_listings_count</th><th>host_verifications</th><th>host_has_profile_pic</th><th>host_identity_verified</th><th>neighbourhood</th><th>neighbourhood_cleansed</th><th>neighbourhood_group_cleansed</th><th>latitude</th><th>longitude</th><th>property_type</th><th>room_type</th><th>accommodates</th><th>bathrooms</th><th>bathrooms_text</th><th>bedrooms</th><th>beds</th><th>amenities</th><th>price</th><th>minimum_nights</th><th>maximum_nights</th><th>minimum_minimum_nights</th><th>maximum_minimum_nights</th><th>minimum_maximum_nights</th><th>maximum_maximum_nights</th><th>minimum_nights_avg_ntm</th><th>maximum_nights_avg_ntm</th><th>calendar_updated</th><th>has_availability</th><th>availability_30</th><th>availability_60</th><th>availability_90</th><th>availability_365</th><th>calendar_last_scraped</th><th>number_of_reviews</th><th>number_of_reviews_ltm</th><th>number_of_reviews_l30d</th><th>first_review</th><th>last_review</th><th>review_scores_rating</th><th>review_scores_accuracy</th><th>review_scores_cleanliness</th><th>review_scores_checkin</th><th>review_scores_communication</th><th>review_scores_location</th><th>review_scores_value</th><th>license</th><th>instant_bookable</th><th>calculated_host_listings_count</th><th>calculated_host_listings_count_entire_homes</th><th>calculated_host_listings_count_private_rooms</th><th>calculated_host_listings_count_shared_rooms</th><th>reviews_per_month</th></tr><tr><td>i64</td><td>str</td><td>i64</td><td>str</td><td>str</td><td>str</td><td>str</td><td>str</td><td>str</td><td>i64</td><td>str</td><td>str</td><td>str</td><td>str</td><td>str</td><td>str</td><td>str</td><td>str</td><td>str</td><td>str</td><td>str</td><td>str</td><td>i64</td><td>i64</td><td>str</td><td>str</td><td>str</td><td>str</td><td>str</td><td>str</td><td>f64</td><td>f64</td><td>str</td><td>str</td><td>i64</td><td>f64</td><td>str</td><td>i64</td><td>i64</td><td>str</td><td>str</td><td>i64</td><td>i64</td><td>i64</td><td>i64</td><td>i64</td><td>i64</td><td>f64</td><td>f64</td><td>str</td><td>str</td><td>i64</td><td>i64</td><td>i64</td><td>i64</td><td>str</td><td>i64</td><td>i64</td><td>i64</td><td>str</td><td>str</td><td>f64</td><td>f64</td><td>f64</td><td>f64</td><td>f64</td><td>f64</td><td>f64</td><td>str</td><td>str</td><td>i64</td><td>i64</td><td>i64</td><td>i64</td><td>f64</td></tr></thead><tbody><tr><td>275343</td><td>&quot;https://www.airbnb.com/rooms/2…</td><td>20240926145704</td><td>&quot;2024-09-26&quot;</td><td>&quot;city scrape&quot;</td><td>&quot;10min walk to MRT &amp; a Cozy Roo…</td><td>&quot;**IMPORTANT NOTES:&nbsp;&nbsp;READ BEFOR…</td><td>null</td><td>&quot;https://a0.muscache.com/pictur…</td><td>1439258</td><td>&quot;https://www.airbnb.com/users/s…</td><td>&quot;Kay&quot;</td><td>&quot;2011-11-24&quot;</td><td>&quot;Singapore&quot;</td><td>&quot;K2 Guesthouse is designed for …</td><td>&quot;within an hour&quot;</td><td>&quot;100%&quot;</td><td>&quot;99%&quot;</td><td>&quot;f&quot;</td><td>&quot;https://a0.muscache.com/im/pic…</td><td>&quot;https://a0.muscache.com/im/pic…</td><td>&quot;Bukit Merah&quot;</td><td>51</td><td>77</td><td>&quot;[&#x27;email&#x27;, &#x27;phone&#x27;]&quot;</td><td>&quot;t&quot;</td><td>&quot;t&quot;</td><td>null</td><td>&quot;Bukit Merah&quot;</td><td>&quot;Central Region&quot;</td><td>1.28986</td><td>103.80948</td><td>&quot;Private room in rental unit&quot;</td><td>&quot;Private room&quot;</td><td>1</td><td>2.0</td><td>&quot;2 shared baths&quot;</td><td>1</td><td>1</td><td>&quot;[&quot;Bed linens&quot;, &quot;TV&quot;, &quot;Dedicate…</td><td>&quot;$50.00&quot;</td><td>180</td><td>999</td><td>180</td><td>180</td><td>1125</td><td>1125</td><td>180.0</td><td>1125.0</td><td>null</td><td>&quot;t&quot;</td><td>0</td><td>0</td><td>0</td><td>56</td><td>&quot;2024-09-26&quot;</td><td>20</td><td>0</td><td>0</td><td>&quot;2013-04-20&quot;</td><td>&quot;2022-08-13&quot;</td><td>4.4</td><td>4.16</td><td>4.26</td><td>4.47</td><td>4.42</td><td>4.53</td><td>4.63</td><td>&quot;S0399&quot;</td><td>&quot;t&quot;</td><td>51</td><td>0</td><td>51</td><td>0</td><td>0.14</td></tr><tr><td>275344</td><td>&quot;https://www.airbnb.com/rooms/2…</td><td>20240926145704</td><td>&quot;2024-09-26&quot;</td><td>&quot;city scrape&quot;</td><td>&quot;15 mins to Outram MRT Single R…</td><td>&quot;Lovely home for the special gu…</td><td>&quot;Bus stop &lt;br /&gt;Food center &lt;br…</td><td>&quot;https://a0.muscache.com/pictur…</td><td>1439258</td><td>&quot;https://www.airbnb.com/users/s…</td><td>&quot;Kay&quot;</td><td>&quot;2011-11-24&quot;</td><td>&quot;Singapore&quot;</td><td>&quot;K2 Guesthouse is designed for …</td><td>&quot;within an hour&quot;</td><td>&quot;100%&quot;</td><td>&quot;99%&quot;</td><td>&quot;f&quot;</td><td>&quot;https://a0.muscache.com/im/pic…</td><td>&quot;https://a0.muscache.com/im/pic…</td><td>&quot;Bukit Merah&quot;</td><td>51</td><td>77</td><td>&quot;[&#x27;email&#x27;, &#x27;phone&#x27;]&quot;</td><td>&quot;t&quot;</td><td>&quot;t&quot;</td><td>&quot;Singapore, Singapore&quot;</td><td>&quot;Bukit Merah&quot;</td><td>&quot;Central Region&quot;</td><td>1.28883</td><td>103.81113</td><td>&quot;Private room in rental unit&quot;</td><td>&quot;Private room&quot;</td><td>1</td><td>2.5</td><td>&quot;2.5 shared baths&quot;</td><td>1</td><td>1</td><td>&quot;[&quot;Bed linens&quot;, &quot;TV&quot;, &quot;Dedicate…</td><td>&quot;$50.00&quot;</td><td>180</td><td>999</td><td>180</td><td>180</td><td>1125</td><td>1125</td><td>180.0</td><td>1125.0</td><td>null</td><td>&quot;t&quot;</td><td>0</td><td>0</td><td>0</td><td>56</td><td>&quot;2024-09-26&quot;</td><td>16</td><td>0</td><td>0</td><td>&quot;2012-04-26&quot;</td><td>&quot;2023-08-16&quot;</td><td>4.27</td><td>4.44</td><td>4.06</td><td>4.5</td><td>4.5</td><td>4.63</td><td>4.13</td><td>&quot;S0399&quot;</td><td>&quot;t&quot;</td><td>51</td><td>0</td><td>51</td><td>0</td><td>0.11</td></tr><tr><td>294281</td><td>&quot;https://www.airbnb.com/rooms/2…</td><td>20240926145704</td><td>&quot;2024-09-26&quot;</td><td>&quot;city scrape&quot;</td><td>&quot;5 mins walk from Newton subway&quot;</td><td>&quot;I have 3 bedrooms&nbsp;&nbsp;in a charmi…</td><td>null</td><td>&quot;https://a0.muscache.com/pictur…</td><td>1521514</td><td>&quot;https://www.airbnb.com/users/s…</td><td>&quot;Elizabeth&quot;</td><td>&quot;2011-12-20&quot;</td><td>&quot;Singapore&quot;</td><td>&quot;Hello !\r\n",
       "I am Elizabeth from S…</td><td>&quot;N/A&quot;</td><td>&quot;N/A&quot;</td><td>&quot;N/A&quot;</td><td>&quot;f&quot;</td><td>&quot;https://a0.muscache.com/im/use…</td><td>&quot;https://a0.muscache.com/im/use…</td><td>&quot;Central Area&quot;</td><td>7</td><td>8</td><td>&quot;[&#x27;email&#x27;, &#x27;phone&#x27;]&quot;</td><td>&quot;t&quot;</td><td>&quot;t&quot;</td><td>null</td><td>&quot;Newton&quot;</td><td>&quot;Central Region&quot;</td><td>1.31142</td><td>103.83924</td><td>&quot;Private room in rental unit&quot;</td><td>&quot;Private room&quot;</td><td>2</td><td>1.0</td><td>&quot;1 shared bath&quot;</td><td>2</td><td>1</td><td>&quot;[&quot;Shampoo&quot;, &quot;Bed linens&quot;, &quot;Pri…</td><td>&quot;$85.00&quot;</td><td>92</td><td>1125</td><td>92</td><td>92</td><td>1125</td><td>1125</td><td>92.0</td><td>1125.0</td><td>null</td><td>&quot;t&quot;</td><td>30</td><td>60</td><td>90</td><td>365</td><td>&quot;2024-09-26&quot;</td><td>131</td><td>0</td><td>0</td><td>&quot;2012-01-28&quot;</td><td>&quot;2020-01-21&quot;</td><td>4.43</td><td>4.33</td><td>4.16</td><td>4.5</td><td>4.66</td><td>4.52</td><td>4.39</td><td>null</td><td>&quot;f&quot;</td><td>7</td><td>1</td><td>6</td><td>0</td><td>0.85</td></tr><tr><td>324945</td><td>&quot;https://www.airbnb.com/rooms/3…</td><td>20240926145704</td><td>&quot;2024-09-26&quot;</td><td>&quot;city scrape&quot;</td><td>&quot;Comfortable Room w/study area …</td><td>&quot;**IMPORTANT NOTES:&nbsp;&nbsp;READ BEFOR…</td><td>null</td><td>&quot;https://a0.muscache.com/pictur…</td><td>1439258</td><td>&quot;https://www.airbnb.com/users/s…</td><td>&quot;Kay&quot;</td><td>&quot;2011-11-24&quot;</td><td>&quot;Singapore&quot;</td><td>&quot;K2 Guesthouse is designed for …</td><td>&quot;within an hour&quot;</td><td>&quot;100%&quot;</td><td>&quot;99%&quot;</td><td>&quot;f&quot;</td><td>&quot;https://a0.muscache.com/im/pic…</td><td>&quot;https://a0.muscache.com/im/pic…</td><td>&quot;Bukit Merah&quot;</td><td>51</td><td>77</td><td>&quot;[&#x27;email&#x27;, &#x27;phone&#x27;]&quot;</td><td>&quot;t&quot;</td><td>&quot;t&quot;</td><td>null</td><td>&quot;Bukit Merah&quot;</td><td>&quot;Central Region&quot;</td><td>1.28828</td><td>103.8102</td><td>&quot;Private room in rental unit&quot;</td><td>&quot;Private room&quot;</td><td>1</td><td>2.0</td><td>&quot;2 shared baths&quot;</td><td>1</td><td>1</td><td>&quot;[&quot;Bed linens&quot;, &quot;TV&quot;, &quot;Dedicate…</td><td>&quot;$65.00&quot;</td><td>180</td><td>999</td><td>180</td><td>180</td><td>1125</td><td>1125</td><td>180.0</td><td>1125.0</td><td>null</td><td>&quot;t&quot;</td><td>0</td><td>0</td><td>0</td><td>56</td><td>&quot;2024-09-26&quot;</td><td>17</td><td>0</td><td>0</td><td>&quot;2012-07-08&quot;</td><td>&quot;2023-09-01&quot;</td><td>3.5</td><td>3.47</td><td>3.94</td><td>4.53</td><td>4.06</td><td>3.82</td><td>3.76</td><td>&quot;S0399&quot;</td><td>&quot;f&quot;</td><td>51</td><td>0</td><td>51</td><td>0</td><td>0.11</td></tr><tr><td>330095</td><td>&quot;https://www.airbnb.com/rooms/3…</td><td>20240926145704</td><td>&quot;2024-09-26&quot;</td><td>&quot;city scrape&quot;</td><td>&quot;Relaxing Mini Room near Redhil…</td><td>&quot;**IMPORTANT NOTES:&nbsp;&nbsp;READ BEFOR…</td><td>&quot;Near IKEA Alexandra Singapore,…</td><td>&quot;https://a0.muscache.com/pictur…</td><td>1439258</td><td>&quot;https://www.airbnb.com/users/s…</td><td>&quot;Kay&quot;</td><td>&quot;2011-11-24&quot;</td><td>&quot;Singapore&quot;</td><td>&quot;K2 Guesthouse is designed for …</td><td>&quot;within an hour&quot;</td><td>&quot;100%&quot;</td><td>&quot;99%&quot;</td><td>&quot;f&quot;</td><td>&quot;https://a0.muscache.com/im/pic…</td><td>&quot;https://a0.muscache.com/im/pic…</td><td>&quot;Bukit Merah&quot;</td><td>51</td><td>77</td><td>&quot;[&#x27;email&#x27;, &#x27;phone&#x27;]&quot;</td><td>&quot;t&quot;</td><td>&quot;t&quot;</td><td>&quot;Singapore, Singapore&quot;</td><td>&quot;Bukit Merah&quot;</td><td>&quot;Central Region&quot;</td><td>1.28636</td><td>103.81138</td><td>&quot;Private room in rental unit&quot;</td><td>&quot;Private room&quot;</td><td>1</td><td>2.0</td><td>&quot;2 shared baths&quot;</td><td>1</td><td>1</td><td>&quot;[&quot;Shampoo&quot;, &quot;Bed linens&quot;, &quot;TV&quot;…</td><td>&quot;$45.00&quot;</td><td>180</td><td>365</td><td>180</td><td>180</td><td>1125</td><td>1125</td><td>180.0</td><td>1125.0</td><td>null</td><td>&quot;t&quot;</td><td>0</td><td>0</td><td>0</td><td>56</td><td>&quot;2024-09-26&quot;</td><td>5</td><td>0</td><td>0</td><td>&quot;2014-06-01&quot;</td><td>&quot;2023-09-02&quot;</td><td>3.8</td><td>3.8</td><td>4.0</td><td>4.2</td><td>4.8</td><td>3.8</td><td>4.0</td><td>&quot;S0399&quot;</td><td>&quot;t&quot;</td><td>51</td><td>0</td><td>51</td><td>0</td><td>0.04</td></tr><tr><td>344803</td><td>&quot;https://www.airbnb.com/rooms/3…</td><td>20240926145704</td><td>&quot;2024-09-26&quot;</td><td>&quot;city scrape&quot;</td><td>&quot;Budget short stay room near&nbsp;&nbsp;E…</td><td>&quot;Direct bus 24 from airport to …</td><td>&quot;A very quiet place .Very near …</td><td>&quot;https://a0.muscache.com/pictur…</td><td>367042</td><td>&quot;https://www.airbnb.com/users/s…</td><td>&quot;Belinda&quot;</td><td>&quot;2011-01-29&quot;</td><td>&quot;Singapore&quot;</td><td>&quot;Hi My name is Belinda -Houseke…</td><td>&quot;within an hour&quot;</td><td>&quot;100%&quot;</td><td>&quot;100%&quot;</td><td>&quot;f&quot;</td><td>&quot;https://a0.muscache.com/im/use…</td><td>&quot;https://a0.muscache.com/im/use…</td><td>&quot;Tampines&quot;</td><td>2</td><td>11</td><td>&quot;[&#x27;email&#x27;, &#x27;phone&#x27;]&quot;</td><td>&quot;t&quot;</td><td>&quot;t&quot;</td><td>&quot;Singapore, Singapore&quot;</td><td>&quot;Tampines&quot;</td><td>&quot;East Region&quot;</td><td>1.34917</td><td>103.9609</td><td>&quot;Private room in home&quot;</td><td>&quot;Private room&quot;</td><td>1</td><td>1.5</td><td>&quot;1.5 shared baths&quot;</td><td>1</td><td>1</td><td>&quot;[&quot;Body soap&quot;, &quot;Shampoo&quot;, &quot;Bed …</td><td>&quot;$45.00&quot;</td><td>92</td><td>365</td><td>92</td><td>92</td><td>1125</td><td>1125</td><td>92.0</td><td>1125.0</td><td>null</td><td>&quot;t&quot;</td><td>16</td><td>42</td><td>72</td><td>347</td><td>&quot;2024-09-26&quot;</td><td>60</td><td>0</td><td>0</td><td>&quot;2012-03-13&quot;</td><td>&quot;2023-08-01&quot;</td><td>4.6</td><td>4.59</td><td>4.46</td><td>4.76</td><td>4.58</td><td>4.66</td><td>4.44</td><td>null</td><td>&quot;t&quot;</td><td>2</td><td>0</td><td>2</td><td>0</td><td>0.39</td></tr><tr><td>369141</td><td>&quot;https://www.airbnb.com/rooms/3…</td><td>20240926145704</td><td>&quot;2024-09-26&quot;</td><td>&quot;city scrape&quot;</td><td>&quot;5mins from Newton Train Statio…</td><td>&quot;A room in a charming British s…</td><td>&quot;DO YOU WANT A CHARMING AIRBNB …</td><td>&quot;https://a0.muscache.com/pictur…</td><td>1521514</td><td>&quot;https://www.airbnb.com/users/s…</td><td>&quot;Elizabeth&quot;</td><td>&quot;2011-12-20&quot;</td><td>&quot;Singapore&quot;</td><td>&quot;Hello !\r\n",
       "I am Elizabeth from S…</td><td>&quot;N/A&quot;</td><td>&quot;N/A&quot;</td><td>&quot;N/A&quot;</td><td>&quot;f&quot;</td><td>&quot;https://a0.muscache.com/im/use…</td><td>&quot;https://a0.muscache.com/im/use…</td><td>&quot;Central Area&quot;</td><td>7</td><td>8</td><td>&quot;[&#x27;email&#x27;, &#x27;phone&#x27;]&quot;</td><td>&quot;t&quot;</td><td>&quot;t&quot;</td><td>&quot;Singapore, Singapore&quot;</td><td>&quot;Newton&quot;</td><td>&quot;Central Region&quot;</td><td>1.31144</td><td>103.83784</td><td>&quot;Private room&quot;</td><td>&quot;Private room&quot;</td><td>2</td><td>1.0</td><td>&quot;1 bath&quot;</td><td>1</td><td>1</td><td>&quot;[&quot;Shampoo&quot;, &quot;Bed linens&quot;, &quot;TV&quot;…</td><td>&quot;$79.00&quot;</td><td>92</td><td>180</td><td>92</td><td>92</td><td>180</td><td>180</td><td>92.0</td><td>180.0</td><td>null</td><td>&quot;t&quot;</td><td>30</td><td>60</td><td>90</td><td>365</td><td>&quot;2024-09-26&quot;</td><td>81</td><td>0</td><td>0</td><td>&quot;2013-10-03&quot;</td><td>&quot;2020-01-04&quot;</td><td>4.43</td><td>4.45</td><td>4.41</td><td>4.71</td><td>4.76</td><td>4.64</td><td>4.55</td><td>null</td><td>&quot;f&quot;</td><td>7</td><td>1</td><td>6</td><td>0</td><td>0.61</td></tr><tr><td>369145</td><td>&quot;https://www.airbnb.com/rooms/3…</td><td>20240926145704</td><td>&quot;2024-09-26&quot;</td><td>&quot;city scrape&quot;</td><td>&quot;5 mins walk from Newton MRT&quot;</td><td>null</td><td>&quot;DO YOU WANT A CHARMING AIRBNB …</td><td>&quot;https://a0.muscache.com/pictur…</td><td>1521514</td><td>&quot;https://www.airbnb.com/users/s…</td><td>&quot;Elizabeth&quot;</td><td>&quot;2011-12-20&quot;</td><td>&quot;Singapore&quot;</td><td>&quot;Hello !\r\n",
       "I am Elizabeth from S…</td><td>&quot;N/A&quot;</td><td>&quot;N/A&quot;</td><td>&quot;N/A&quot;</td><td>&quot;f&quot;</td><td>&quot;https://a0.muscache.com/im/use…</td><td>&quot;https://a0.muscache.com/im/use…</td><td>&quot;Central Area&quot;</td><td>7</td><td>8</td><td>&quot;[&#x27;email&#x27;, &#x27;phone&#x27;]&quot;</td><td>&quot;t&quot;</td><td>&quot;t&quot;</td><td>&quot;Singapore, Singapore&quot;</td><td>&quot;Newton&quot;</td><td>&quot;Central Region&quot;</td><td>1.31129</td><td>103.83788</td><td>&quot;Private room in townhouse&quot;</td><td>&quot;Private room&quot;</td><td>2</td><td>1.0</td><td>&quot;1 shared bath&quot;</td><td>2</td><td>1</td><td>&quot;[&quot;Bed linens&quot;, &quot;Oven&quot;, &quot;Hanger…</td><td>&quot;$70.00&quot;</td><td>92</td><td>1125</td><td>92</td><td>92</td><td>1125</td><td>1125</td><td>92.0</td><td>1125.0</td><td>null</td><td>&quot;t&quot;</td><td>30</td><td>60</td><td>90</td><td>365</td><td>&quot;2024-09-26&quot;</td><td>163</td><td>0</td><td>0</td><td>&quot;2012-04-12&quot;</td><td>&quot;2020-01-10&quot;</td><td>4.39</td><td>4.31</td><td>4.12</td><td>4.65</td><td>4.67</td><td>4.6</td><td>4.32</td><td>null</td><td>&quot;f&quot;</td><td>7</td><td>1</td><td>6</td><td>0</td><td>1.07</td></tr><tr><td>395191</td><td>&quot;https://www.airbnb.com/rooms/3…</td><td>20240926145704</td><td>&quot;2024-09-26&quot;</td><td>&quot;previous scrape&quot;</td><td>&quot;Heritage Apartment Room near O…</td><td>&quot;A basic simple small room for …</td><td>null</td><td>&quot;https://a0.muscache.com/pictur…</td><td>1975201</td><td>&quot;https://www.airbnb.com/users/s…</td><td>&quot;Adi&quot;</td><td>&quot;2012-03-20&quot;</td><td>&quot;Singapore&quot;</td><td>&quot;I like travelling a lot, as we…</td><td>&quot;N/A&quot;</td><td>&quot;N/A&quot;</td><td>&quot;N/A&quot;</td><td>&quot;f&quot;</td><td>&quot;https://a0.muscache.com/im/use…</td><td>&quot;https://a0.muscache.com/im/use…</td><td>&quot;Central Area&quot;</td><td>1</td><td>2</td><td>&quot;[&#x27;email&#x27;, &#x27;phone&#x27;]&quot;</td><td>&quot;t&quot;</td><td>&quot;t&quot;</td><td>null</td><td>&quot;River Valley&quot;</td><td>&quot;Central Region&quot;</td><td>1.29335</td><td>103.83768</td><td>&quot;Private room in rental unit&quot;</td><td>&quot;Private room&quot;</td><td>1</td><td>null</td><td>&quot;0 baths&quot;</td><td>null</td><td>null</td><td>&quot;[&quot;Hangers&quot;, &quot;Lock on bedroom d…</td><td>null</td><td>93</td><td>365</td><td>93</td><td>93</td><td>365</td><td>365</td><td>93.0</td><td>365.0</td><td>null</td><td>&quot;t&quot;</td><td>23</td><td>53</td><td>83</td><td>84</td><td>&quot;2024-09-26&quot;</td><td>27</td><td>0</td><td>0</td><td>&quot;2013-07-30&quot;</td><td>&quot;2017-08-07&quot;</td><td>4.31</td><td>4.27</td><td>4.08</td><td>4.73</td><td>4.69</td><td>4.58</td><td>4.19</td><td>null</td><td>&quot;f&quot;</td><td>1</td><td>0</td><td>1</td><td>0</td><td>0.2</td></tr><tr><td>468782</td><td>&quot;https://www.airbnb.com/rooms/4…</td><td>20240926145704</td><td>&quot;2024-09-26&quot;</td><td>&quot;city scrape&quot;</td><td>&quot;Lovely Ensuite Room in Serango…</td><td>&quot;Our cosy room is suitable for …</td><td>&quot;Our area used to house former …</td><td>&quot;https://a0.muscache.com/pictur…</td><td>2327208</td><td>&quot;https://www.airbnb.com/users/s…</td><td>&quot;Jerome&quot;</td><td>&quot;2012-05-09&quot;</td><td>&quot;Singapore&quot;</td><td>&quot;Staying with us is not for eve…</td><td>&quot;N/A&quot;</td><td>&quot;N/A&quot;</td><td>&quot;100%&quot;</td><td>&quot;f&quot;</td><td>&quot;https://a0.muscache.com/im/pic…</td><td>&quot;https://a0.muscache.com/im/pic…</td><td>&quot;Serangoon&quot;</td><td>2</td><td>3</td><td>&quot;[&#x27;email&#x27;, &#x27;phone&#x27;, &#x27;work_email…</td><td>&quot;t&quot;</td><td>&quot;t&quot;</td><td>&quot;Singapore, Singapore&quot;</td><td>&quot;Serangoon&quot;</td><td>&quot;North-East Region&quot;</td><td>1.36288</td><td>103.86575</td><td>&quot;Private room in home&quot;</td><td>&quot;Private room&quot;</td><td>2</td><td>1.5</td><td>&quot;1.5 baths&quot;</td><td>1</td><td>0</td><td>&quot;[&quot;Free parking on premises&quot;, &quot;…</td><td>&quot;$60.00&quot;</td><td>92</td><td>180</td><td>92</td><td>92</td><td>180</td><td>180</td><td>92.0</td><td>180.0</td><td>null</td><td>&quot;t&quot;</td><td>30</td><td>60</td><td>90</td><td>365</td><td>&quot;2024-09-26&quot;</td><td>82</td><td>0</td><td>0</td><td>&quot;2012-05-22&quot;</td><td>&quot;2018-06-30&quot;</td><td>4.69</td><td>4.62</td><td>4.49</td><td>4.83</td><td>4.88</td><td>4.56</td><td>4.6</td><td>null</td><td>&quot;f&quot;</td><td>1</td><td>0</td><td>1</td><td>0</td><td>0.55</td></tr></tbody></table></div>"
      ],
      "text/plain": [
       "shape: (10, 75)\n",
       "┌────────┬────────────┬────────────┬───────────┬───┬───────────┬───────────┬───────────┬───────────┐\n",
       "│ id     ┆ listing_ur ┆ scrape_id  ┆ last_scra ┆ … ┆ calculate ┆ calculate ┆ calculate ┆ reviews_p │\n",
       "│ ---    ┆ l          ┆ ---        ┆ ped       ┆   ┆ d_host_li ┆ d_host_li ┆ d_host_li ┆ er_month  │\n",
       "│ i64    ┆ ---        ┆ i64        ┆ ---       ┆   ┆ stings_co ┆ stings_co ┆ stings_co ┆ ---       │\n",
       "│        ┆ str        ┆            ┆ str       ┆   ┆ unt…      ┆ unt…      ┆ unt…      ┆ f64       │\n",
       "│        ┆            ┆            ┆           ┆   ┆ ---       ┆ ---       ┆ ---       ┆           │\n",
       "│        ┆            ┆            ┆           ┆   ┆ i64       ┆ i64       ┆ i64       ┆           │\n",
       "╞════════╪════════════╪════════════╪═══════════╪═══╪═══════════╪═══════════╪═══════════╪═══════════╡\n",
       "│ 275343 ┆ https://ww ┆ 2024092614 ┆ 2024-09-2 ┆ … ┆ 0         ┆ 51        ┆ 0         ┆ 0.14      │\n",
       "│        ┆ w.airbnb.c ┆ 5704       ┆ 6         ┆   ┆           ┆           ┆           ┆           │\n",
       "│        ┆ om/rooms/2 ┆            ┆           ┆   ┆           ┆           ┆           ┆           │\n",
       "│        ┆ …          ┆            ┆           ┆   ┆           ┆           ┆           ┆           │\n",
       "│ 275344 ┆ https://ww ┆ 2024092614 ┆ 2024-09-2 ┆ … ┆ 0         ┆ 51        ┆ 0         ┆ 0.11      │\n",
       "│        ┆ w.airbnb.c ┆ 5704       ┆ 6         ┆   ┆           ┆           ┆           ┆           │\n",
       "│        ┆ om/rooms/2 ┆            ┆           ┆   ┆           ┆           ┆           ┆           │\n",
       "│        ┆ …          ┆            ┆           ┆   ┆           ┆           ┆           ┆           │\n",
       "│ 294281 ┆ https://ww ┆ 2024092614 ┆ 2024-09-2 ┆ … ┆ 1         ┆ 6         ┆ 0         ┆ 0.85      │\n",
       "│        ┆ w.airbnb.c ┆ 5704       ┆ 6         ┆   ┆           ┆           ┆           ┆           │\n",
       "│        ┆ om/rooms/2 ┆            ┆           ┆   ┆           ┆           ┆           ┆           │\n",
       "│        ┆ …          ┆            ┆           ┆   ┆           ┆           ┆           ┆           │\n",
       "│ 324945 ┆ https://ww ┆ 2024092614 ┆ 2024-09-2 ┆ … ┆ 0         ┆ 51        ┆ 0         ┆ 0.11      │\n",
       "│        ┆ w.airbnb.c ┆ 5704       ┆ 6         ┆   ┆           ┆           ┆           ┆           │\n",
       "│        ┆ om/rooms/3 ┆            ┆           ┆   ┆           ┆           ┆           ┆           │\n",
       "│        ┆ …          ┆            ┆           ┆   ┆           ┆           ┆           ┆           │\n",
       "│ 330095 ┆ https://ww ┆ 2024092614 ┆ 2024-09-2 ┆ … ┆ 0         ┆ 51        ┆ 0         ┆ 0.04      │\n",
       "│        ┆ w.airbnb.c ┆ 5704       ┆ 6         ┆   ┆           ┆           ┆           ┆           │\n",
       "│        ┆ om/rooms/3 ┆            ┆           ┆   ┆           ┆           ┆           ┆           │\n",
       "│        ┆ …          ┆            ┆           ┆   ┆           ┆           ┆           ┆           │\n",
       "│ 344803 ┆ https://ww ┆ 2024092614 ┆ 2024-09-2 ┆ … ┆ 0         ┆ 2         ┆ 0         ┆ 0.39      │\n",
       "│        ┆ w.airbnb.c ┆ 5704       ┆ 6         ┆   ┆           ┆           ┆           ┆           │\n",
       "│        ┆ om/rooms/3 ┆            ┆           ┆   ┆           ┆           ┆           ┆           │\n",
       "│        ┆ …          ┆            ┆           ┆   ┆           ┆           ┆           ┆           │\n",
       "│ 369141 ┆ https://ww ┆ 2024092614 ┆ 2024-09-2 ┆ … ┆ 1         ┆ 6         ┆ 0         ┆ 0.61      │\n",
       "│        ┆ w.airbnb.c ┆ 5704       ┆ 6         ┆   ┆           ┆           ┆           ┆           │\n",
       "│        ┆ om/rooms/3 ┆            ┆           ┆   ┆           ┆           ┆           ┆           │\n",
       "│        ┆ …          ┆            ┆           ┆   ┆           ┆           ┆           ┆           │\n",
       "│ 369145 ┆ https://ww ┆ 2024092614 ┆ 2024-09-2 ┆ … ┆ 1         ┆ 6         ┆ 0         ┆ 1.07      │\n",
       "│        ┆ w.airbnb.c ┆ 5704       ┆ 6         ┆   ┆           ┆           ┆           ┆           │\n",
       "│        ┆ om/rooms/3 ┆            ┆           ┆   ┆           ┆           ┆           ┆           │\n",
       "│        ┆ …          ┆            ┆           ┆   ┆           ┆           ┆           ┆           │\n",
       "│ 395191 ┆ https://ww ┆ 2024092614 ┆ 2024-09-2 ┆ … ┆ 0         ┆ 1         ┆ 0         ┆ 0.2       │\n",
       "│        ┆ w.airbnb.c ┆ 5704       ┆ 6         ┆   ┆           ┆           ┆           ┆           │\n",
       "│        ┆ om/rooms/3 ┆            ┆           ┆   ┆           ┆           ┆           ┆           │\n",
       "│        ┆ …          ┆            ┆           ┆   ┆           ┆           ┆           ┆           │\n",
       "│ 468782 ┆ https://ww ┆ 2024092614 ┆ 2024-09-2 ┆ … ┆ 0         ┆ 1         ┆ 0         ┆ 0.55      │\n",
       "│        ┆ w.airbnb.c ┆ 5704       ┆ 6         ┆   ┆           ┆           ┆           ┆           │\n",
       "│        ┆ om/rooms/4 ┆            ┆           ┆   ┆           ┆           ┆           ┆           │\n",
       "│        ┆ …          ┆            ┆           ┆   ┆           ┆           ┆           ┆           │\n",
       "└────────┴────────────┴────────────┴───────────┴───┴───────────┴───────────┴───────────┴───────────┘"
      ]
     },
     "execution_count": 98,
     "metadata": {},
     "output_type": "execute_result"
    }
   ],
   "source": [
    "df = pl.concat(dfs, how=\"diagonal_relaxed\", rechunk=True).drop(\n",
    "    list((set1 | set2 | set3 | set4) - (set1 & set2 & set3 & set4))\n",
    ")\n",
    "\n",
    "print(\"\\033[1mCombined Dataset Details:\\033\")\n",
    "print(f\"\\033[1mTotal Rows:\\033[0m {df.n_unique()}\")\n",
    "print(f\"\\033[1mUnique Host IDs:\\033[0m {df['id'].n_unique()}\")\n",
    "print(f\"\\033[1mColumns:\\033[0m {df.shape[1]}\")\n",
    "df.head(10)"
   ]
  },
  {
   "cell_type": "markdown",
   "id": "b408284e-7204-4746-9599-3331d4941a65",
   "metadata": {},
   "source": [
    "## Target Variable"
   ]
  },
  {
   "cell_type": "code",
   "execution_count": 99,
   "id": "bf811147-2466-48b6-9e69-959df13f3200",
   "metadata": {},
   "outputs": [
    {
     "name": "stdout",
     "output_type": "stream",
     "text": [
      "\u001b[1mNull values in target:\u001b[0m 146\n"
     ]
    }
   ],
   "source": [
    "target_col = \"host_is_superhost\"\n",
    "\n",
    "# Check for null values in target\n",
    "null_count = df[target_col].null_count()\n",
    "print(f\"\\033[1mNull values in target:\\033[0m {null_count}\")"
   ]
  },
  {
   "cell_type": "markdown",
   "id": "2f05a9c9-b9f9-4329-8786-fa1df94c9ae6",
   "metadata": {},
   "source": [
    "Since there's only 146 rows with null target among 14027 rows in total, let's just drop these rows."
   ]
  },
  {
   "cell_type": "code",
   "execution_count": 100,
   "id": "620eeb76-f5b4-4b43-a155-5f20f2c20e2a",
   "metadata": {},
   "outputs": [
    {
     "data": {
      "text/plain": [
       "(13881, 75)"
      ]
     },
     "execution_count": 100,
     "metadata": {},
     "output_type": "execute_result"
    }
   ],
   "source": [
    "df = df.drop_nulls([\"host_is_superhost\"])\n",
    "df.shape"
   ]
  },
  {
   "cell_type": "code",
   "execution_count": 101,
   "id": "4250f19f-2793-4026-8158-ce6dca7081bd",
   "metadata": {},
   "outputs": [
    {
     "name": "stdout",
     "output_type": "stream",
     "text": [
      "\u001b[1mClass Distribution (Raw Counts):\u001b[0m\n"
     ]
    },
    {
     "data": {
      "text/html": [
       "<div><style>\n",
       ".dataframe > thead > tr,\n",
       ".dataframe > tbody > tr {\n",
       "  text-align: right;\n",
       "  white-space: pre-wrap;\n",
       "}\n",
       "</style>\n",
       "<small>shape: (2, 3)</small><table border=\"1\" class=\"dataframe\"><thead><tr><th>host_is_superhost</th><th>count</th><th>percentage</th></tr><tr><td>str</td><td>u32</td><td>str</td></tr></thead><tbody><tr><td>&quot;t&quot;</td><td>1844</td><td>&quot;13.28%&quot;</td></tr><tr><td>&quot;f&quot;</td><td>12037</td><td>&quot;86.72%&quot;</td></tr></tbody></table></div>"
      ],
      "text/plain": [
       "shape: (2, 3)\n",
       "┌───────────────────┬───────┬────────────┐\n",
       "│ host_is_superhost ┆ count ┆ percentage │\n",
       "│ ---               ┆ ---   ┆ ---        │\n",
       "│ str               ┆ u32   ┆ str        │\n",
       "╞═══════════════════╪═══════╪════════════╡\n",
       "│ t                 ┆ 1844  ┆ 13.28%     │\n",
       "│ f                 ┆ 12037 ┆ 86.72%     │\n",
       "└───────────────────┴───────┴────────────┘"
      ]
     },
     "metadata": {},
     "output_type": "display_data"
    },
    {
     "name": "stdout",
     "output_type": "stream",
     "text": [
      "\n",
      "\u001b[1mImbalance Ratio:\u001b[0m 6.53:1 (Not-Superhost : Superhost)\n"
     ]
    }
   ],
   "source": [
    "# Class distribution\n",
    "class_dist = (\n",
    "    df[target_col]\n",
    "    .value_counts()\n",
    "    .sort(\"count\")\n",
    "    .with_columns(\n",
    "        (\n",
    "            pl.col(\"count\")\n",
    "            .truediv(df.shape[0])\n",
    "            .mul(100)\n",
    "            .round(decimals=2)\n",
    "            .cast(pl.String)\n",
    "            + \"%\"\n",
    "        ).alias(\"percentage\")\n",
    "    )\n",
    ")\n",
    "print(\"\\033[1mClass Distribution (Raw Counts):\\033[0m\")\n",
    "display(class_dist)\n",
    "\n",
    "# Imbalance ratio\n",
    "superhost_count = len(df.filter(pl.col(target_col) == \"t\"))\n",
    "not_superhost_count = len(df.filter(pl.col(target_col) == \"f\"))\n",
    "\n",
    "imbalance_ratio = not_superhost_count / superhost_count\n",
    "print(\n",
    "    f\"\\n\\033[1mImbalance Ratio:\\033[0m {imbalance_ratio:.2f}:1 (Not-Superhost : Superhost)\"\n",
    ")"
   ]
  },
  {
   "cell_type": "code",
   "execution_count": 102,
   "id": "bac46649-d10a-4c63-aef7-e4be9b717779",
   "metadata": {},
   "outputs": [
    {
     "data": {
      "image/png": "[encoded data removed]",
      "text/plain": [
       "<Figure size 1200x600 with 2 Axes>"
      ]
     },
     "metadata": {},
     "output_type": "display_data"
    }
   ],
   "source": [
    "# Visualization\n",
    "fig, axes = plt.subplots(1, 2, figsize=(12, 6))\n",
    "\n",
    "# Bar plot (counts)\n",
    "class_counts = [not_superhost_count, superhost_count]\n",
    "class_labels = [\"Not Superhost (f)\", \"Superhost (t)\"]\n",
    "colors = [sns.color_palette(\"husl\")[0], sns.color_palette(\"husl\")[4]]\n",
    "\n",
    "axes[0].bar(class_labels, class_counts, color=colors, edgecolor=\"black\", linewidth=1)\n",
    "axes[0].set_ylabel(\"Count\", fontsize=12, fontweight=\"bold\")\n",
    "axes[0].set_title(\n",
    "    \"Target Variable Distribution (Raw Counts)\", fontsize=13, fontweight=\"bold\"\n",
    ")\n",
    "axes[0].grid(axis=\"y\", alpha=0.3)\n",
    "\n",
    "# Add count labels on bars\n",
    "for i, count in enumerate(class_counts):\n",
    "    axes[0].text(\n",
    "        i, count + 100, f\"{count:,}\", ha=\"center\", fontweight=\"bold\", fontsize=11\n",
    "    )\n",
    "\n",
    "# Pie chart (percentages)\n",
    "total_rows = df.shape[0]\n",
    "percentages = [\n",
    "    (not_superhost_count / total_rows) * 100,\n",
    "    (superhost_count / total_rows) * 100,\n",
    "]\n",
    "axes[1].pie(\n",
    "    percentages,\n",
    "    labels=class_labels,\n",
    "    autopct=\"%1.1f%%\",\n",
    "    colors=colors,\n",
    "    startangle=90,\n",
    "    textprops={\"fontsize\": 11, \"fontweight\": \"bold\"},\n",
    "    wedgeprops={\"edgecolor\": \"black\", \"linewidth\": 1},\n",
    ")\n",
    "axes[1].set_title(\n",
    "    \"Target Variable Distribution (Percentage)\", fontsize=13, fontweight=\"bold\"\n",
    ")\n",
    "\n",
    "plt.tight_layout()\n",
    "plt.savefig(\n",
    "    FIGURES_DIRECTORY / \"01_target_distribution.png\", dpi=300, bbox_inches=\"tight\"\n",
    ")\n",
    "plt.show()"
   ]
  },
  {
   "cell_type": "markdown",
   "id": "d6cb9a03-9424-4dea-93c1-920e1ef5ca4b",
   "metadata": {},
   "source": [
    "The consolidated dataset has a severe class imbalance (6.53).\n",
    "\n",
    "## Missing Values"
   ]
  },
  {
   "cell_type": "code",
   "execution_count": 103,
   "id": "94fc213e-04ec-4fd5-9bf0-cb6e1208ec9e",
   "metadata": {},
   "outputs": [
    {
     "data": {
      "text/html": [
       "<div><style>\n",
       ".dataframe > thead > tr,\n",
       ".dataframe > tbody > tr {\n",
       "  text-align: right;\n",
       "  white-space: pre-wrap;\n",
       "}\n",
       "</style>\n",
       "<small>shape: (41, 3)</small><table border=\"1\" class=\"dataframe\"><thead><tr><th>column</th><th>null_count</th><th>null_percentage</th></tr><tr><td>str</td><td>u32</td><td>str</td></tr></thead><tbody><tr><td>&quot;calendar_updated&quot;</td><td>13881</td><td>&quot;100.0%&quot;</td></tr><tr><td>&quot;license&quot;</td><td>7357</td><td>&quot;53.0%&quot;</td></tr><tr><td>&quot;review_scores_location&quot;</td><td>6941</td><td>&quot;50.0%&quot;</td></tr><tr><td>&quot;review_scores_value&quot;</td><td>6941</td><td>&quot;50.0%&quot;</td></tr><tr><td>&quot;review_scores_accuracy&quot;</td><td>6940</td><td>&quot;50.0%&quot;</td></tr><tr><td>&quot;review_scores_cleanliness&quot;</td><td>6940</td><td>&quot;50.0%&quot;</td></tr><tr><td>&quot;review_scores_checkin&quot;</td><td>6940</td><td>&quot;50.0%&quot;</td></tr><tr><td>&quot;review_scores_communication&quot;</td><td>6940</td><td>&quot;50.0%&quot;</td></tr><tr><td>&quot;first_review&quot;</td><td>6939</td><td>&quot;49.99%&quot;</td></tr><tr><td>&quot;last_review&quot;</td><td>6939</td><td>&quot;49.99%&quot;</td></tr><tr><td>&hellip;</td><td>&hellip;</td><td>&hellip;</td></tr><tr><td>&quot;host_total_listings_count&quot;</td><td>132</td><td>&quot;0.95%&quot;</td></tr><tr><td>&quot;host_has_profile_pic&quot;</td><td>132</td><td>&quot;0.95%&quot;</td></tr><tr><td>&quot;host_identity_verified&quot;</td><td>132</td><td>&quot;0.95%&quot;</td></tr><tr><td>&quot;bathrooms_text&quot;</td><td>41</td><td>&quot;0.3%&quot;</td></tr><tr><td>&quot;minimum_minimum_nights&quot;</td><td>4</td><td>&quot;0.03%&quot;</td></tr><tr><td>&quot;maximum_minimum_nights&quot;</td><td>4</td><td>&quot;0.03%&quot;</td></tr><tr><td>&quot;minimum_maximum_nights&quot;</td><td>4</td><td>&quot;0.03%&quot;</td></tr><tr><td>&quot;maximum_maximum_nights&quot;</td><td>4</td><td>&quot;0.03%&quot;</td></tr><tr><td>&quot;minimum_nights_avg_ntm&quot;</td><td>4</td><td>&quot;0.03%&quot;</td></tr><tr><td>&quot;maximum_nights_avg_ntm&quot;</td><td>4</td><td>&quot;0.03%&quot;</td></tr></tbody></table></div>"
      ],
      "text/plain": [
       "shape: (41, 3)\n",
       "┌─────────────────────────────┬────────────┬─────────────────┐\n",
       "│ column                      ┆ null_count ┆ null_percentage │\n",
       "│ ---                         ┆ ---        ┆ ---             │\n",
       "│ str                         ┆ u32        ┆ str             │\n",
       "╞═════════════════════════════╪════════════╪═════════════════╡\n",
       "│ calendar_updated            ┆ 13881      ┆ 100.0%          │\n",
       "│ license                     ┆ 7357       ┆ 53.0%           │\n",
       "│ review_scores_location      ┆ 6941       ┆ 50.0%           │\n",
       "│ review_scores_value         ┆ 6941       ┆ 50.0%           │\n",
       "│ review_scores_accuracy      ┆ 6940       ┆ 50.0%           │\n",
       "│ review_scores_cleanliness   ┆ 6940       ┆ 50.0%           │\n",
       "│ review_scores_checkin       ┆ 6940       ┆ 50.0%           │\n",
       "│ review_scores_communication ┆ 6940       ┆ 50.0%           │\n",
       "│ first_review                ┆ 6939       ┆ 49.99%          │\n",
       "│ last_review                 ┆ 6939       ┆ 49.99%          │\n",
       "│ …                           ┆ …          ┆ …               │\n",
       "│ host_total_listings_count   ┆ 132        ┆ 0.95%           │\n",
       "│ host_has_profile_pic        ┆ 132        ┆ 0.95%           │\n",
       "│ host_identity_verified      ┆ 132        ┆ 0.95%           │\n",
       "│ bathrooms_text              ┆ 41         ┆ 0.3%            │\n",
       "│ minimum_minimum_nights      ┆ 4          ┆ 0.03%           │\n",
       "│ maximum_minimum_nights      ┆ 4          ┆ 0.03%           │\n",
       "│ minimum_maximum_nights      ┆ 4          ┆ 0.03%           │\n",
       "│ maximum_maximum_nights      ┆ 4          ┆ 0.03%           │\n",
       "│ minimum_nights_avg_ntm      ┆ 4          ┆ 0.03%           │\n",
       "│ maximum_nights_avg_ntm      ┆ 4          ┆ 0.03%           │\n",
       "└─────────────────────────────┴────────────┴─────────────────┘"
      ]
     },
     "metadata": {},
     "output_type": "display_data"
    }
   ],
   "source": [
    "null_values = (\n",
    "    df.null_count()\n",
    "    .transpose(include_header=True, column_names=[\"null_count\"])\n",
    "    .with_columns(\n",
    "        (\n",
    "            (pl.col(\"null_count\") / df.shape[0] * 100).round(decimals=2).cast(pl.String)\n",
    "            + \"%\"\n",
    "        ).alias(\"null_percentage\")\n",
    "    )\n",
    "    .filter(pl.col(\"null_count\") > 0)\n",
    "    .sort(\"null_count\", descending=True)\n",
    ")\n",
    "display(null_values)"
   ]
  },
  {
   "cell_type": "markdown",
   "id": "d848fcab-498e-4d0f-becf-431ee995a7d4",
   "metadata": {},
   "source": [
    "There are a total of 41 columns with null values... this might be a problem.\n",
    "\n",
    "Let's first visualise the top 10 columns with the most null counts."
   ]
  },
  {
   "cell_type": "code",
   "execution_count": 104,
   "id": "f138841e-3323-4694-b9f6-bdd231d79278",
   "metadata": {},
   "outputs": [
    {
     "data": {
      "text/plain": [
       "<Figure size 1200x600 with 0 Axes>"
      ]
     },
     "metadata": {},
     "output_type": "display_data"
    },
    {
     "data": {
      "image/png": "[encoded data removed]",
      "text/plain": [
       "<Figure size 761.75x500 with 1 Axes>"
      ]
     },
     "metadata": {},
     "output_type": "display_data"
    }
   ],
   "source": [
    "# Visualization\n",
    "plt.figure(figsize=(12, 6))\n",
    "sns.catplot(\n",
    "    null_values.head(10),\n",
    "    x=\"column\",\n",
    "    y=\"null_count\",\n",
    "    hue=\"column\",\n",
    "    palette=\"husl\",\n",
    "    legend=True,\n",
    "    kind=\"swarm\",\n",
    ")\n",
    "\n",
    "plt.xticks([])\n",
    "plt.tight_layout()\n",
    "plt.savefig(FIGURES_DIRECTORY / \"02_missing_values.png\", dpi=300, bbox_inches=\"tight\")\n",
    "plt.show()"
   ]
  },
  {
   "cell_type": "markdown",
   "id": "2e89c9cc-b574-41df-b49d-00011f3ca2b1",
   "metadata": {},
   "source": [
    "### Data-Cleaning Strategy\n",
    "\n",
    "Let's figure out:\n",
    "- Which columns can we drop? (no real information)\n",
    "- Which columns are feasible to just drop null rows? (very few null values)\n",
    "- Which columns can we impute? (reasonable to alter)"
   ]
  },
  {
   "cell_type": "code",
   "execution_count": 105,
   "id": "3c03ae7c-7598-472e-8acf-b94c7e45559e",
   "metadata": {},
   "outputs": [],
   "source": [
    "# Convert Null Percentages back to Floats\n",
    "null_values = null_values.with_columns(\n",
    "    pl.col(\"null_percentage\")\n",
    "    .str.replace(r\"%\", \"\")\n",
    "    .cast(pl.Float64)\n",
    "    .alias(\"null_percentage\")\n",
    ")"
   ]
  },
  {
   "cell_type": "code",
   "execution_count": 106,
   "id": "7a2db71e-5691-4d4c-922d-51e25903678c",
   "metadata": {},
   "outputs": [
    {
     "name": "stdout",
     "output_type": "stream",
     "text": [
      "\u001b[1mAll Columns with Null Values:\u001b[0m\n",
      "• calendar_updated\n",
      "• license\n",
      "• review_scores_location\n",
      "• review_scores_value\n",
      "• review_scores_accuracy\n",
      "• review_scores_cleanliness\n",
      "• review_scores_checkin\n",
      "• review_scores_communication\n",
      "• first_review\n",
      "• last_review\n",
      "• review_scores_rating\n",
      "• reviews_per_month\n",
      "• neighborhood_overview\n",
      "• neighbourhood\n",
      "• host_location\n",
      "• beds\n",
      "• price\n",
      "• bathrooms\n",
      "• bedrooms\n",
      "• has_availability\n",
      "• host_neighbourhood\n",
      "• description\n",
      "• host_name\n",
      "• host_since\n",
      "• host_about\n",
      "• host_response_time\n",
      "• host_response_rate\n",
      "• host_acceptance_rate\n",
      "• host_thumbnail_url\n",
      "• host_picture_url\n",
      "• host_listings_count\n",
      "• host_total_listings_count\n",
      "• host_has_profile_pic\n",
      "• host_identity_verified\n",
      "• bathrooms_text\n",
      "• minimum_minimum_nights\n",
      "• maximum_minimum_nights\n",
      "• minimum_maximum_nights\n",
      "• maximum_maximum_nights\n",
      "• minimum_nights_avg_ntm\n",
      "• maximum_nights_avg_ntm\n"
     ]
    }
   ],
   "source": [
    "# Check all columns for droppable columns\n",
    "print(f\"\\033[1mAll Columns with Null Values:\\033[0m\")\n",
    "for col in null_values[\"column\"].to_list():\n",
    "    print(f\"• {col}\")"
   ]
  },
  {
   "cell_type": "code",
   "execution_count": 107,
   "id": "9ac5b034-06a5-4eaf-b449-29a0e4e7aae4",
   "metadata": {},
   "outputs": [],
   "source": [
    "droppable_columns = [\n",
    "    \"calendar_updated\",  # 100% Null\n",
    "    \"license\",  # Hard to Interpret\n",
    "    \"host_thumbnail_url\",  # Hard to Process\n",
    "    \"host_picture_url\",  # Hard to Process\n",
    "]\n",
    "\n",
    "null_values = null_values.remove(pl.col(\"column\").str.contains_any(droppable_columns))"
   ]
  },
  {
   "cell_type": "code",
   "execution_count": 108,
   "id": "ae209316-6d2c-4b4a-a8d1-af08f086d25b",
   "metadata": {},
   "outputs": [
    {
     "data": {
      "text/plain": [
       "['description',\n",
       " 'host_name',\n",
       " 'host_since',\n",
       " 'host_about',\n",
       " 'host_response_time',\n",
       " 'host_response_rate',\n",
       " 'host_acceptance_rate',\n",
       " 'host_listings_count',\n",
       " 'host_total_listings_count',\n",
       " 'host_has_profile_pic',\n",
       " 'host_identity_verified',\n",
       " 'bathrooms_text',\n",
       " 'minimum_minimum_nights',\n",
       " 'maximum_minimum_nights',\n",
       " 'minimum_maximum_nights',\n",
       " 'maximum_maximum_nights',\n",
       " 'minimum_nights_avg_ntm',\n",
       " 'maximum_nights_avg_ntm']"
      ]
     },
     "execution_count": 108,
     "metadata": {},
     "output_type": "execute_result"
    }
   ],
   "source": [
    "# Columns feasible to drop null rows\n",
    "row_droppable_columns = null_values.filter(pl.col(\"null_percentage\") < 2.5)[\n",
    "    \"column\"\n",
    "].to_list()\n",
    "null_values = null_values.remove(\n",
    "    pl.col(\"column\").str.contains_any(row_droppable_columns)\n",
    ")\n",
    "row_droppable_columns"
   ]
  },
  {
   "cell_type": "code",
   "execution_count": 109,
   "id": "b7198004-bc31-4070-8cfc-6dc041333365",
   "metadata": {},
   "outputs": [
    {
     "data": {
      "text/html": [
       "<div><style>\n",
       ".dataframe > thead > tr,\n",
       ".dataframe > tbody > tr {\n",
       "  text-align: right;\n",
       "  white-space: pre-wrap;\n",
       "}\n",
       "</style>\n",
       "<small>shape: (19, 3)</small><table border=\"1\" class=\"dataframe\"><thead><tr><th>column</th><th>null_count</th><th>null_percentage</th></tr><tr><td>str</td><td>u32</td><td>f64</td></tr></thead><tbody><tr><td>&quot;review_scores_location&quot;</td><td>6941</td><td>50.0</td></tr><tr><td>&quot;review_scores_value&quot;</td><td>6941</td><td>50.0</td></tr><tr><td>&quot;review_scores_accuracy&quot;</td><td>6940</td><td>50.0</td></tr><tr><td>&quot;review_scores_cleanliness&quot;</td><td>6940</td><td>50.0</td></tr><tr><td>&quot;review_scores_checkin&quot;</td><td>6940</td><td>50.0</td></tr><tr><td>&quot;review_scores_communication&quot;</td><td>6940</td><td>50.0</td></tr><tr><td>&quot;first_review&quot;</td><td>6939</td><td>49.99</td></tr><tr><td>&quot;last_review&quot;</td><td>6939</td><td>49.99</td></tr><tr><td>&quot;review_scores_rating&quot;</td><td>6939</td><td>49.99</td></tr><tr><td>&quot;reviews_per_month&quot;</td><td>6939</td><td>49.99</td></tr><tr><td>&quot;neighborhood_overview&quot;</td><td>6452</td><td>46.48</td></tr><tr><td>&quot;neighbourhood&quot;</td><td>6452</td><td>46.48</td></tr><tr><td>&quot;host_location&quot;</td><td>5404</td><td>38.93</td></tr><tr><td>&quot;beds&quot;</td><td>3477</td><td>25.05</td></tr><tr><td>&quot;price&quot;</td><td>3451</td><td>24.86</td></tr><tr><td>&quot;bathrooms&quot;</td><td>3334</td><td>24.02</td></tr><tr><td>&quot;bedrooms&quot;</td><td>1168</td><td>8.41</td></tr><tr><td>&quot;has_availability&quot;</td><td>1114</td><td>8.03</td></tr><tr><td>&quot;host_neighbourhood&quot;</td><td>859</td><td>6.19</td></tr></tbody></table></div>"
      ],
      "text/plain": [
       "shape: (19, 3)\n",
       "┌─────────────────────────────┬────────────┬─────────────────┐\n",
       "│ column                      ┆ null_count ┆ null_percentage │\n",
       "│ ---                         ┆ ---        ┆ ---             │\n",
       "│ str                         ┆ u32        ┆ f64             │\n",
       "╞═════════════════════════════╪════════════╪═════════════════╡\n",
       "│ review_scores_location      ┆ 6941       ┆ 50.0            │\n",
       "│ review_scores_value         ┆ 6941       ┆ 50.0            │\n",
       "│ review_scores_accuracy      ┆ 6940       ┆ 50.0            │\n",
       "│ review_scores_cleanliness   ┆ 6940       ┆ 50.0            │\n",
       "│ review_scores_checkin       ┆ 6940       ┆ 50.0            │\n",
       "│ review_scores_communication ┆ 6940       ┆ 50.0            │\n",
       "│ first_review                ┆ 6939       ┆ 49.99           │\n",
       "│ last_review                 ┆ 6939       ┆ 49.99           │\n",
       "│ review_scores_rating        ┆ 6939       ┆ 49.99           │\n",
       "│ reviews_per_month           ┆ 6939       ┆ 49.99           │\n",
       "│ neighborhood_overview       ┆ 6452       ┆ 46.48           │\n",
       "│ neighbourhood               ┆ 6452       ┆ 46.48           │\n",
       "│ host_location               ┆ 5404       ┆ 38.93           │\n",
       "│ beds                        ┆ 3477       ┆ 25.05           │\n",
       "│ price                       ┆ 3451       ┆ 24.86           │\n",
       "│ bathrooms                   ┆ 3334       ┆ 24.02           │\n",
       "│ bedrooms                    ┆ 1168       ┆ 8.41            │\n",
       "│ has_availability            ┆ 1114       ┆ 8.03            │\n",
       "│ host_neighbourhood          ┆ 859        ┆ 6.19            │\n",
       "└─────────────────────────────┴────────────┴─────────────────┘"
      ]
     },
     "execution_count": 109,
     "metadata": {},
     "output_type": "execute_result"
    }
   ],
   "source": [
    "# How many columns are left?\n",
    "pl.Config.set_tbl_rows(20)\n",
    "null_values"
   ]
  },
  {
   "cell_type": "markdown",
   "id": "e658a8f9-b1d8-43ac-bfbe-f8487754762b",
   "metadata": {},
   "source": [
    "Imputable Columns:\n",
    "- `Review` Columns all have ~50% null rows -> create has_reviews flag\n",
    "- `host_location`, `beds`, `bathrooms`, `bedrooms` -> \"Unknown\" for null values\n",
    "\n",
    "Remainder Columns:\n",
    "- `price` should be processed to numerical, but has 24.86% null values... maybe bite the bullet and remove these rows?\n",
    "- `has_availability` only has 8.03% null values, maybe drop these rows if total rows remaining is sufficient.\n",
    "- Remainding columns should likely be dropped, since they comprise a lot of null values but don't bring mu real information."
   ]
  },
  {
   "cell_type": "markdown",
   "id": "c9442f66-057d-40cd-8180-508b8668e75b",
   "metadata": {},
   "source": [
    "## Feature Inputs"
   ]
  },
  {
   "cell_type": "code",
   "execution_count": 110,
   "id": "fde4e41e-fd1b-4e4d-a5e9-2f44135532e4",
   "metadata": {},
   "outputs": [
    {
     "name": "stdout",
     "output_type": "stream",
     "text": [
      "\u001b[1mNumerical Features (38)\u001b[0m\n",
      "  • id\n",
      "  • scrape_id\n",
      "  • host_id\n",
      "  • host_listings_count\n",
      "  • host_total_listings_count\n",
      "  • latitude\n",
      "  • longitude\n",
      "  • accommodates\n",
      "  • bathrooms\n",
      "  • bedrooms\n",
      "  • beds\n",
      "  • minimum_nights\n",
      "  • maximum_nights\n",
      "  • minimum_minimum_nights\n",
      "  • maximum_minimum_nights\n",
      "  • minimum_maximum_nights\n",
      "  • maximum_maximum_nights\n",
      "  • minimum_nights_avg_ntm\n",
      "  • maximum_nights_avg_ntm\n",
      "  • availability_30\n",
      "  • availability_60\n",
      "  • availability_90\n",
      "  • availability_365\n",
      "  • number_of_reviews\n",
      "  • number_of_reviews_ltm\n",
      "  • number_of_reviews_l30d\n",
      "  • review_scores_rating\n",
      "  • review_scores_accuracy\n",
      "  • review_scores_cleanliness\n",
      "  • review_scores_checkin\n",
      "  • review_scores_communication\n",
      "  • review_scores_location\n",
      "  • review_scores_value\n",
      "  • calculated_host_listings_count\n",
      "  • calculated_host_listings_count_entire_homes\n",
      "  • calculated_host_listings_count_private_rooms\n",
      "  • calculated_host_listings_count_shared_rooms\n",
      "  • reviews_per_month\n",
      "\n",
      "\u001b[1mCategorical Features (30)\u001b[0m\n",
      "  - last_scraped                  (7 unique values)\n",
      "  - source                        (2 unique values)\n",
      "  - neighborhood_overview         (943 unique values)\n",
      "  - host_url                      (1126 unique values)\n",
      "  - host_name                     (894 unique values)\n",
      "  - host_since                    (931 unique values)\n",
      "  - host_location                 (60 unique values)\n",
      "  - host_about                    (504 unique values)\n",
      "  - host_response_time            (6 unique values)\n",
      "  - host_response_rate            (51 unique values)\n",
      "  - host_acceptance_rate          (85 unique values)\n",
      "  - host_thumbnail_url            (1106 unique values)\n",
      "  - host_picture_url              (1106 unique values)\n",
      "  - host_neighbourhood            (63 unique values)\n",
      "  - host_verifications            (8 unique values)\n",
      "  - host_has_profile_pic          (3 unique values)\n",
      "  - host_identity_verified        (3 unique values)\n",
      "  - neighbourhood                 (35 unique values)\n",
      "  - neighbourhood_cleansed        (45 unique values)\n",
      "  - neighbourhood_group_cleansed  (5 unique values)\n",
      "  - property_type                 (55 unique values)\n",
      "  - room_type                     (4 unique values)\n",
      "  - bathrooms_text                (41 unique values)\n",
      "  - price                         (807 unique values)\n",
      "  - calendar_updated              (1 unique values)\n",
      "  - has_availability              (3 unique values)\n",
      "  - calendar_last_scraped         (7 unique values)\n",
      "  - last_review                   (1277 unique values)\n",
      "  - license                       (201 unique values)\n",
      "  - instant_bookable              (2 unique values)\n",
      "\n",
      "\u001b[1mText/High-Cardinality Features (6)\u001b[0m\n",
      "  - listing_url                   (4,471 unique values)\n",
      "  - name                          (4,417 unique values)\n",
      "  - description                   (2,997 unique values)\n",
      "  - picture_url                   (4,394 unique values)\n",
      "  - amenities                     (10,505 unique values)\n",
      "  - first_review                  (1,532 unique values)\n"
     ]
    }
   ],
   "source": [
    "# Schema\n",
    "schema = df.schema\n",
    "numerical_features = []\n",
    "categorical_features = []\n",
    "text_features = []\n",
    "\n",
    "# Categorize\n",
    "for col_name, data_type in schema.items():\n",
    "    if col_name == target_col:\n",
    "        continue\n",
    "\n",
    "    data_type_str = str(data_type)\n",
    "\n",
    "    if \"Int\" in data_type_str or \"Float\" in data_type_str:\n",
    "        numerical_features.append(col_name)\n",
    "    elif \"String\" in data_type_str:\n",
    "        # Determine if it's truly categorical or text\n",
    "        unique_count = df[col_name].n_unique()\n",
    "        total_count = len(df)\n",
    "\n",
    "        if unique_count < 100 or unique_count / total_count < 0.1:\n",
    "            categorical_features.append((col_name, unique_count))\n",
    "        else:\n",
    "            text_features.append((col_name, unique_count))\n",
    "    else:\n",
    "        categorical_features.append((col_name, \"Other\"))\n",
    "\n",
    "# Print\n",
    "print(f\"\\033[1mNumerical Features ({len(numerical_features)})\\033[0m\")\n",
    "for feat in numerical_features:\n",
    "    print(f\"  • {feat}\")\n",
    "\n",
    "print(f\"\\n\\033[1mCategorical Features ({len(categorical_features)})\\033[0m\")\n",
    "for feat, unique_count in categorical_features:\n",
    "    print(f\"  - {feat:30}\" + f\"({unique_count} unique values)\")\n",
    "\n",
    "print(f\"\\n\\033[1mText/High-Cardinality Features ({len(text_features)})\\033[0m\")\n",
    "for feat, unique_count in text_features:\n",
    "    print(f\"  - {feat:30}({unique_count:,} unique values)\")"
   ]
  },
  {
   "cell_type": "markdown",
   "id": "6aad8c5b-b9aa-4c47-9a12-1c22648600f0",
   "metadata": {},
   "source": [
    "### Numerical Features"
   ]
  },
  {
   "cell_type": "code",
   "execution_count": 111,
   "id": "7e48e48f-ea2c-4d46-aaff-a6e7f0d67baf",
   "metadata": {},
   "outputs": [
    {
     "name": "stdout",
     "output_type": "stream",
     "text": [
      "\u001b[1mSummary Statistics:\u001b[0m\n"
     ]
    },
    {
     "data": {
      "text/html": [
       "<div><style>\n",
       ".dataframe > thead > tr,\n",
       ".dataframe > tbody > tr {\n",
       "  text-align: right;\n",
       "  white-space: pre-wrap;\n",
       "}\n",
       "</style>\n",
       "<small>shape: (9, 39)</small><table border=\"1\" class=\"dataframe\"><thead><tr><th>statistic</th><th>id</th><th>scrape_id</th><th>host_id</th><th>host_listings_count</th><th>host_total_listings_count</th><th>latitude</th><th>longitude</th><th>accommodates</th><th>bathrooms</th><th>bedrooms</th><th>beds</th><th>minimum_nights</th><th>maximum_nights</th><th>minimum_minimum_nights</th><th>maximum_minimum_nights</th><th>minimum_maximum_nights</th><th>maximum_maximum_nights</th><th>minimum_nights_avg_ntm</th><th>maximum_nights_avg_ntm</th><th>availability_30</th><th>availability_60</th><th>availability_90</th><th>availability_365</th><th>number_of_reviews</th><th>number_of_reviews_ltm</th><th>number_of_reviews_l30d</th><th>review_scores_rating</th><th>review_scores_accuracy</th><th>review_scores_cleanliness</th><th>review_scores_checkin</th><th>review_scores_communication</th><th>review_scores_location</th><th>review_scores_value</th><th>calculated_host_listings_count</th><th>calculated_host_listings_count_entire_homes</th><th>calculated_host_listings_count_private_rooms</th><th>calculated_host_listings_count_shared_rooms</th><th>reviews_per_month</th></tr><tr><td>str</td><td>f64</td><td>f64</td><td>f64</td><td>f64</td><td>f64</td><td>f64</td><td>f64</td><td>f64</td><td>f64</td><td>f64</td><td>f64</td><td>f64</td><td>f64</td><td>f64</td><td>f64</td><td>f64</td><td>f64</td><td>f64</td><td>f64</td><td>f64</td><td>f64</td><td>f64</td><td>f64</td><td>f64</td><td>f64</td><td>f64</td><td>f64</td><td>f64</td><td>f64</td><td>f64</td><td>f64</td><td>f64</td><td>f64</td><td>f64</td><td>f64</td><td>f64</td><td>f64</td><td>f64</td></tr></thead><tbody><tr><td>&quot;count&quot;</td><td>13881.0</td><td>13881.0</td><td>13881.0</td><td>13749.0</td><td>13749.0</td><td>13881.0</td><td>13881.0</td><td>13881.0</td><td>10547.0</td><td>12713.0</td><td>10404.0</td><td>13881.0</td><td>13881.0</td><td>13877.0</td><td>13877.0</td><td>13877.0</td><td>13877.0</td><td>13877.0</td><td>13877.0</td><td>13881.0</td><td>13881.0</td><td>13881.0</td><td>13881.0</td><td>13881.0</td><td>13881.0</td><td>13881.0</td><td>6942.0</td><td>6941.0</td><td>6941.0</td><td>6941.0</td><td>6941.0</td><td>6940.0</td><td>6940.0</td><td>13881.0</td><td>13881.0</td><td>13881.0</td><td>13881.0</td><td>6942.0</td></tr><tr><td>&quot;null_count&quot;</td><td>0.0</td><td>0.0</td><td>0.0</td><td>132.0</td><td>132.0</td><td>0.0</td><td>0.0</td><td>0.0</td><td>3334.0</td><td>1168.0</td><td>3477.0</td><td>0.0</td><td>0.0</td><td>4.0</td><td>4.0</td><td>4.0</td><td>4.0</td><td>4.0</td><td>4.0</td><td>0.0</td><td>0.0</td><td>0.0</td><td>0.0</td><td>0.0</td><td>0.0</td><td>0.0</td><td>6939.0</td><td>6940.0</td><td>6940.0</td><td>6940.0</td><td>6940.0</td><td>6941.0</td><td>6941.0</td><td>0.0</td><td>0.0</td><td>0.0</td><td>0.0</td><td>6939.0</td></tr><tr><td>&quot;mean&quot;</td><td>4.8743e17</td><td>2.0246e13</td><td>1.7721e8</td><td>73.856717</td><td>123.00691</td><td>1.310333</td><td>103.843559</td><td>2.709747</td><td>1.436143</td><td>1.257217</td><td>1.615917</td><td>64.061091</td><td>695.655428</td><td>62.715717</td><td>63.433307</td><td>766.522303</td><td>801.085177</td><td>63.121763</td><td>784.819759</td><td>19.034868</td><td>41.418918</td><td>65.0134</td><td>250.617319</td><td>10.702975</td><td>2.083135</td><td>0.15107</td><td>4.554503</td><td>4.59438</td><td>4.527417</td><td>4.745627</td><td>4.724302</td><td>4.706687</td><td>4.450112</td><td>43.569123</td><td>31.224263</td><td>11.956631</td><td>0.168864</td><td>0.559101</td></tr><tr><td>&quot;std&quot;</td><td>5.4400e17</td><td>4.6999e9</td><td>1.8497e8</td><td>137.928882</td><td>236.642017</td><td>0.03085</td><td>0.043209</td><td>1.894318</td><td>0.917606</td><td>0.777926</td><td>1.371046</td><td>56.358413</td><td>1736.418701</td><td>56.689879</td><td>56.571382</td><td>1825.154029</td><td>1818.843696</td><td>56.499843</td><td>1820.762373</td><td>12.415644</td><td>23.462339</td><td>34.11956</td><td>132.898845</td><td>41.170145</td><td>12.034173</td><td>1.070101</td><td>0.598529</td><td>0.589271</td><td>0.618921</td><td>0.46353</td><td>0.521231</td><td>0.438388</td><td>0.622405</td><td>61.633114</td><td>62.360327</td><td>22.557355</td><td>1.249386</td><td>1.419043</td></tr><tr><td>&quot;min&quot;</td><td>71609.0</td><td>2.0241e13</td><td>23666.0</td><td>1.0</td><td>1.0</td><td>1.22169</td><td>103.63457</td><td>1.0</td><td>0.0</td><td>0.0</td><td>0.0</td><td>1.0</td><td>2.0</td><td>1.0</td><td>1.0</td><td>1.0</td><td>1.0</td><td>1.0</td><td>1.0</td><td>0.0</td><td>0.0</td><td>0.0</td><td>0.0</td><td>0.0</td><td>0.0</td><td>0.0</td><td>1.0</td><td>1.0</td><td>1.0</td><td>1.0</td><td>1.0</td><td>1.0</td><td>1.0</td><td>1.0</td><td>0.0</td><td>0.0</td><td>0.0</td><td>0.01</td></tr><tr><td>&quot;25%&quot;</td><td>3.0385269e7</td><td>2.0241e13</td><td>2.8809566e7</td><td>3.0</td><td>5.0</td><td>1.29267</td><td>103.83375</td><td>1.0</td><td>1.0</td><td>1.0</td><td>1.0</td><td>6.0</td><td>365.0</td><td>6.0</td><td>6.0</td><td>365.0</td><td>365.0</td><td>6.0</td><td>365.0</td><td>1.0</td><td>24.0</td><td>52.0</td><td>148.0</td><td>0.0</td><td>0.0</td><td>0.0</td><td>4.36</td><td>4.48</td><td>4.33</td><td>4.67</td><td>4.67</td><td>4.6</td><td>4.21</td><td>3.0</td><td>0.0</td><td>1.0</td><td>0.0</td><td>0.04</td></tr><tr><td>&quot;50%&quot;</td><td>5.2525344e7</td><td>2.0250e13</td><td>1.22468322e8</td><td>12.0</td><td>19.0</td><td>1.30449</td><td>103.84445</td><td>2.0</td><td>1.0</td><td>1.0</td><td>1.0</td><td>92.0</td><td>365.0</td><td>92.0</td><td>92.0</td><td>730.0</td><td>731.0</td><td>92.0</td><td>730.0</td><td>26.0</td><td>56.0</td><td>86.0</td><td>325.0</td><td>1.0</td><td>0.0</td><td>0.0</td><td>4.75</td><td>4.8</td><td>4.73</td><td>4.92</td><td>4.92</td><td>4.86</td><td>4.6</td><td>12.0</td><td>1.0</td><td>2.0</td><td>0.0</td><td>0.16</td></tr><tr><td>&quot;75%&quot;</td><td>1.0571e18</td><td>2.0251e13</td><td>2.38891646e8</td><td>69.0</td><td>101.0</td><td>1.31729</td><td>103.85998</td><td>4.0</td><td>2.0</td><td>1.0</td><td>2.0</td><td>92.0</td><td>1125.0</td><td>92.0</td><td>92.0</td><td>1125.0</td><td>1125.0</td><td>92.0</td><td>1125.0</td><td>29.0</td><td>59.0</td><td>89.0</td><td>364.0</td><td>4.0</td><td>0.0</td><td>0.0</td><td>5.0</td><td>5.0</td><td>5.0</td><td>5.0</td><td>5.0</td><td>5.0</td><td>4.93</td><td>65.0</td><td>25.0</td><td>9.0</td><td>0.0</td><td>0.55</td></tr><tr><td>&quot;max&quot;</td><td>1.4505e18</td><td>2.0251e13</td><td>7.02361576e8</td><td>533.0</td><td>886.0</td><td>1.457802</td><td>103.98957</td><td>16.0</td><td>21.0</td><td>11.0</td><td>46.0</td><td>730.0</td><td>100000.0</td><td>730.0</td><td>730.0</td><td>100000.0</td><td>100000.0</td><td>730.0</td><td>100000.0</td><td>30.0</td><td>60.0</td><td>90.0</td><td>365.0</td><td>1243.0</td><td>340.0</td><td>34.0</td><td>5.0</td><td>5.0</td><td>5.0</td><td>5.0</td><td>5.0</td><td>5.0</td><td>5.0</td><td>232.0</td><td>232.0</td><td>100.0</td><td>18.0</td><td>27.11</td></tr></tbody></table></div>"
      ],
      "text/plain": [
       "shape: (9, 39)\n",
       "┌───────────┬───────────┬───────────┬───────────┬───┬───────────┬───────────┬───────────┬──────────┐\n",
       "│ statistic ┆ id        ┆ scrape_id ┆ host_id   ┆ … ┆ calculate ┆ calculate ┆ calculate ┆ reviews_ │\n",
       "│ ---       ┆ ---       ┆ ---       ┆ ---       ┆   ┆ d_host_li ┆ d_host_li ┆ d_host_li ┆ per_mont │\n",
       "│ str       ┆ f64       ┆ f64       ┆ f64       ┆   ┆ stings_co ┆ stings_co ┆ stings_co ┆ h        │\n",
       "│           ┆           ┆           ┆           ┆   ┆ unt…      ┆ unt…      ┆ unt…      ┆ ---      │\n",
       "│           ┆           ┆           ┆           ┆   ┆ ---       ┆ ---       ┆ ---       ┆ f64      │\n",
       "│           ┆           ┆           ┆           ┆   ┆ f64       ┆ f64       ┆ f64       ┆          │\n",
       "╞═══════════╪═══════════╪═══════════╪═══════════╪═══╪═══════════╪═══════════╪═══════════╪══════════╡\n",
       "│ count     ┆ 13881.0   ┆ 13881.0   ┆ 13881.0   ┆ … ┆ 13881.0   ┆ 13881.0   ┆ 13881.0   ┆ 6942.0   │\n",
       "│ null_coun ┆ 0.0       ┆ 0.0       ┆ 0.0       ┆ … ┆ 0.0       ┆ 0.0       ┆ 0.0       ┆ 6939.0   │\n",
       "│ t         ┆           ┆           ┆           ┆   ┆           ┆           ┆           ┆          │\n",
       "│ mean      ┆ 4.8743e17 ┆ 2.0246e13 ┆ 1.7721e8  ┆ … ┆ 31.224263 ┆ 11.956631 ┆ 0.168864  ┆ 0.559101 │\n",
       "│ std       ┆ 5.4400e17 ┆ 4.6999e9  ┆ 1.8497e8  ┆ … ┆ 62.360327 ┆ 22.557355 ┆ 1.249386  ┆ 1.419043 │\n",
       "│ min       ┆ 71609.0   ┆ 2.0241e13 ┆ 23666.0   ┆ … ┆ 0.0       ┆ 0.0       ┆ 0.0       ┆ 0.01     │\n",
       "│ 25%       ┆ 3.0385269 ┆ 2.0241e13 ┆ 2.8809566 ┆ … ┆ 0.0       ┆ 1.0       ┆ 0.0       ┆ 0.04     │\n",
       "│           ┆ e7        ┆           ┆ e7        ┆   ┆           ┆           ┆           ┆          │\n",
       "│ 50%       ┆ 5.2525344 ┆ 2.0250e13 ┆ 1.2246832 ┆ … ┆ 1.0       ┆ 2.0       ┆ 0.0       ┆ 0.16     │\n",
       "│           ┆ e7        ┆           ┆ 2e8       ┆   ┆           ┆           ┆           ┆          │\n",
       "│ 75%       ┆ 1.0571e18 ┆ 2.0251e13 ┆ 2.3889164 ┆ … ┆ 25.0      ┆ 9.0       ┆ 0.0       ┆ 0.55     │\n",
       "│           ┆           ┆           ┆ 6e8       ┆   ┆           ┆           ┆           ┆          │\n",
       "│ max       ┆ 1.4505e18 ┆ 2.0251e13 ┆ 7.0236157 ┆ … ┆ 232.0     ┆ 100.0     ┆ 18.0      ┆ 27.11    │\n",
       "│           ┆           ┆           ┆ 6e8       ┆   ┆           ┆           ┆           ┆          │\n",
       "└───────────┴───────────┴───────────┴───────────┴───┴───────────┴───────────┴───────────┴──────────┘"
      ]
     },
     "metadata": {},
     "output_type": "display_data"
    }
   ],
   "source": [
    "# Summary statistics\n",
    "numerical_stats = df.select(numerical_features).describe()\n",
    "print(\"\\033[1mSummary Statistics:\\033[0m\")\n",
    "display(numerical_stats)"
   ]
  },
  {
   "cell_type": "code",
   "execution_count": 112,
   "id": "f5a90c2a-1137-43dd-81bb-769faced872e",
   "metadata": {},
   "outputs": [
    {
     "name": "stdout",
     "output_type": "stream",
     "text": [
      "\n",
      "\u001b[1mreview_scores_cleanliness: (Higher = Better)\u001b[0m\n",
      "  Superhosts:     4.81\n",
      "  Non-superhosts: 4.46\n",
      "  Difference:     +0.35 (+7.9%)\n",
      "\n",
      "\u001b[1mreview_scores_rating: (Higher = Better)\u001b[0m\n",
      "  Superhosts:     4.78\n",
      "  Non-superhosts: 4.50\n",
      "  Difference:     +0.28 (+6.3%)\n",
      "\n",
      "\u001b[1mminimum_nights: (Lower = More Flexible)\u001b[0m\n",
      "  Superhosts:     40.99\n",
      "  Non-superhosts: 67.60\n",
      "  Difference:     -26.60 (-39.4%)\n",
      "\n",
      "\u001b[1mnumber_of_reviews: (Higher = More Active)\u001b[0m\n",
      "  Superhosts:     19.76\n",
      "  Non-superhosts: 9.32\n",
      "  Difference:     +10.45 (+112.2%)\n",
      "\n",
      "\u001b[1maccommodates: (Higher = Larger Space)\u001b[0m\n",
      "  Superhosts:     2.62\n",
      "  Non-superhosts: 2.72\n",
      "  Difference:     -0.10 (-3.7%)\n"
     ]
    }
   ],
   "source": [
    "# Let's also check a few of the more interesting features\n",
    "features = {\n",
    "    \"review_scores_cleanliness\": \"Higher = Better\",\n",
    "    \"review_scores_rating\": \"Higher = Better\",\n",
    "    \"minimum_nights\": \"Lower = More Flexible\",\n",
    "    \"number_of_reviews\": \"Higher = More Active\",\n",
    "    \"accommodates\": \"Higher = Larger Space\",\n",
    "}\n",
    "\n",
    "for feat, interpretation in features.items():\n",
    "    sh = df.filter(pl.col(target_col) == \"t\")[feat].drop_nulls().to_numpy()\n",
    "    nsh = df.filter(pl.col(target_col) == \"f\")[feat].drop_nulls().to_numpy()\n",
    "\n",
    "    sh_mean = np.mean(sh)\n",
    "    nsh_mean = np.mean(nsh)\n",
    "    diff = sh_mean - nsh_mean\n",
    "\n",
    "    print(f\"\\n\\033[1m{feat}: ({interpretation})\\033[0m\")\n",
    "    print(f\"  Superhosts:     {sh_mean:.2f}\")\n",
    "    print(f\"  Non-superhosts: {nsh_mean:.2f}\")\n",
    "    print(f\"  Difference:     {diff:+.2f} ({diff / nsh_mean * 100:+.1f}%)\")"
   ]
  },
  {
   "cell_type": "markdown",
   "id": "32e9ab59-0aa3-4dd7-aeba-dfd969b8e7e5",
   "metadata": {},
   "source": [
    "### Categorical Features"
   ]
  },
  {
   "cell_type": "code",
   "execution_count": 113,
   "id": "018eeb11-779a-4b2c-9416-ae33d88304e9",
   "metadata": {},
   "outputs": [
    {
     "name": "stdout",
     "output_type": "stream",
     "text": [
      "\n",
      "\u001b[1mhost_response_time:\u001b[0m\n",
      "  within an hour: 28.2% superhost (5247 listings)\n",
      "  within a few hours: 19.2% superhost (1401 listings)\n",
      "  within a day: 2.5% superhost (2594 listings)\n",
      "  N/A: 0.8% superhost (3510 listings)\n",
      "  a few days or more: 0.3% superhost (997 listings)\n",
      "\n",
      "\u001b[1mhost_response_rate:\u001b[0m\n",
      "  94%: 75.4% superhost (57 listings)\n",
      "  53%: 60.0% superhost (20 listings)\n",
      "  96%: 37.5% superhost (48 listings)\n",
      "  99%: 29.5% superhost (579 listings)\n",
      "\n",
      "\u001b[1mhost_acceptance_rate:\u001b[0m\n",
      "  28%: 100.0% superhost (13 listings)\n",
      "  84%: 98.1% superhost (106 listings)\n",
      "  85%: 94.9% superhost (78 listings)\n",
      "  36%: 92.9% superhost (14 listings)\n",
      "\n",
      "\u001b[1mhost_identity_verified:\u001b[0m\n",
      "  f: 13.6% superhost (1362 listings)\n",
      "  t: 13.4% superhost (12387 listings)\n",
      "  None: 0.0% superhost (132 listings)\n",
      "\n",
      "\u001b[1mproperty_type:\u001b[0m\n",
      "  Room in aparthotel: 85.7% superhost (210 listings)\n",
      "  Private room in resort: 75.0% superhost (4 listings)\n",
      "  Private room in villa: 73.6% superhost (53 listings)\n",
      "  Shared room in boutique hotel: 63.0% superhost (27 listings)\n",
      "  Private room in bungalow: 57.1% superhost (140 listings)\n",
      "\n",
      "\u001b[1mroom_type:\u001b[0m\n",
      "  Entire home/apt: 19.5% superhost (5930 listings)\n",
      "  Shared room: 13.5% superhost (304 listings)\n",
      "  Private room: 8.8% superhost (7322 listings)\n",
      "  Hotel room: 0.0% superhost (325 listings)\n",
      "\n",
      "\u001b[1mhas_availability:\u001b[0m\n",
      "  t: 14.0% superhost (12735 listings)\n",
      "  None: 5.5% superhost (1114 listings)\n",
      "  f: 0.0% superhost (32 listings)\n",
      "\n",
      "\u001b[1minstant_bookable:\u001b[0m\n",
      "  f: 15.4% superhost (8180 listings)\n",
      "  t: 10.2% superhost (5701 listings)\n"
     ]
    }
   ],
   "source": [
    "# Let's check some interesting ones instead of all of them\n",
    "for feat in [\n",
    "    \"host_response_time\",\n",
    "    \"host_response_rate\",\n",
    "    \"host_acceptance_rate\",\n",
    "    \"host_identity_verified\",\n",
    "    \"property_type\",\n",
    "    \"room_type\",\n",
    "    \"has_availability\",\n",
    "    \"instant_bookable\",\n",
    "]:\n",
    "    try:\n",
    "        result = (\n",
    "            df.group_by(feat)\n",
    "            .agg(\n",
    "                (pl.col(target_col) == \"t\").sum().alias(\"superhosts\"),\n",
    "                pl.col(target_col).len().alias(\"total\"),\n",
    "            )\n",
    "            .with_columns(\n",
    "                (pl.col(\"superhosts\") / pl.col(\"total\") * 100).alias(\"superhost_rate_%\")\n",
    "            )\n",
    "            .sort(\"superhost_rate_%\", descending=True)\n",
    "        )\n",
    "\n",
    "        print(f\"\\n\\033[1m{feat}:\\033[0m\")\n",
    "        for row in result.head(5).to_dicts():\n",
    "            cat = row[feat]\n",
    "            rate = row[\"superhost_rate_%\"]\n",
    "            count = row[\"total\"]\n",
    "            if count > 1:\n",
    "                print(f\"  {cat}: {rate:.1f}% superhost ({count} listings)\")\n",
    "\n",
    "    except Exception as e:\n",
    "        print(e)"
   ]
  },
  {
   "cell_type": "markdown",
   "id": "ab350401-e18b-42f5-8775-280872160bff",
   "metadata": {},
   "source": [
    "## Correlation Analysis"
   ]
  },
  {
   "cell_type": "code",
   "execution_count": 114,
   "id": "fcea87cb-9d77-4913-a124-cb965bbe6990",
   "metadata": {},
   "outputs": [
    {
     "name": "stdout",
     "output_type": "stream",
     "text": [
      "\u001b[1mTop 15 Correlations:\u001b[0m\n"
     ]
    },
    {
     "data": {
      "text/html": [
       "<div><style>\n",
       ".dataframe > thead > tr,\n",
       ".dataframe > tbody > tr {\n",
       "  text-align: right;\n",
       "  white-space: pre-wrap;\n",
       "}\n",
       "</style>\n",
       "<small>shape: (15, 2)</small><table border=\"1\" class=\"dataframe\"><thead><tr><th>feature</th><th>correlation</th></tr><tr><td>str</td><td>f64</td></tr></thead><tbody><tr><td>&quot;superhost&quot;</td><td>1.0</td></tr><tr><td>&quot;review_scores_cleanliness&quot;</td><td>0.240774</td></tr><tr><td>&quot;review_scores_rating&quot;</td><td>0.18952</td></tr><tr><td>&quot;review_scores_accuracy&quot;</td><td>0.189062</td></tr><tr><td>&quot;minimum_minimum_nights&quot;</td><td>-0.185506</td></tr><tr><td>&quot;minimum_nights_avg_ntm&quot;</td><td>-0.180069</td></tr><tr><td>&quot;minimum_nights&quot;</td><td>-0.179902</td></tr><tr><td>&quot;maximum_minimum_nights&quot;</td><td>-0.177624</td></tr><tr><td>&quot;calculated_host_listings_count…</td><td>-0.173181</td></tr><tr><td>&quot;host_total_listings_count&quot;</td><td>-0.167036</td></tr><tr><td>&quot;bathrooms&quot;</td><td>-0.147901</td></tr><tr><td>&quot;review_scores_value&quot;</td><td>0.139635</td></tr><tr><td>&quot;review_scores_communication&quot;</td><td>0.131434</td></tr><tr><td>&quot;host_listings_count&quot;</td><td>-0.129711</td></tr><tr><td>&quot;availability_60&quot;</td><td>-0.124911</td></tr></tbody></table></div>"
      ],
      "text/plain": [
       "shape: (15, 2)\n",
       "┌─────────────────────────────────┬─────────────┐\n",
       "│ feature                         ┆ correlation │\n",
       "│ ---                             ┆ ---         │\n",
       "│ str                             ┆ f64         │\n",
       "╞═════════════════════════════════╪═════════════╡\n",
       "│ superhost                       ┆ 1.0         │\n",
       "│ review_scores_cleanliness       ┆ 0.240774    │\n",
       "│ review_scores_rating            ┆ 0.18952     │\n",
       "│ review_scores_accuracy          ┆ 0.189062    │\n",
       "│ minimum_minimum_nights          ┆ -0.185506   │\n",
       "│ minimum_nights_avg_ntm          ┆ -0.180069   │\n",
       "│ minimum_nights                  ┆ -0.179902   │\n",
       "│ maximum_minimum_nights          ┆ -0.177624   │\n",
       "│ calculated_host_listings_count… ┆ -0.173181   │\n",
       "│ host_total_listings_count       ┆ -0.167036   │\n",
       "│ bathrooms                       ┆ -0.147901   │\n",
       "│ review_scores_value             ┆ 0.139635    │\n",
       "│ review_scores_communication     ┆ 0.131434    │\n",
       "│ host_listings_count             ┆ -0.129711   │\n",
       "│ availability_60                 ┆ -0.124911   │\n",
       "└─────────────────────────────────┴─────────────┘"
      ]
     },
     "execution_count": 114,
     "metadata": {},
     "output_type": "execute_result"
    }
   ],
   "source": [
    "# For expedition, dropping all rows with nulls\n",
    "# This removes over half of all rows so results should be interpreted with caution\n",
    "corr_df = (\n",
    "    df.with_columns(\n",
    "        pl.when(pl.col(\"host_is_superhost\") == \"t\")\n",
    "        .then(1)\n",
    "        .otherwise(0)\n",
    "        .cast(pl.Int8)\n",
    "        .alias(\"superhost\")\n",
    "    )\n",
    "    .select(numerical_features + [\"superhost\"])\n",
    "    .drop_nulls()\n",
    "    .corr()\n",
    ")\n",
    "\n",
    "corr = pl.DataFrame(\n",
    "    {\"feature\": corr_df.columns, \"correlation\": corr_df[\"superhost\"]}\n",
    ").sort(pl.col(\"correlation\").abs(), descending=True)\n",
    "\n",
    "print(\"\\033[1mTop 15 Correlations:\\033[0m\")\n",
    "pl.Config.set_tbl_rows(15)\n",
    "corr.head(15)"
   ]
  },
  {
   "cell_type": "markdown",
   "id": "ea7fe5a1-cd8c-4e79-859a-30bafbcca44d",
   "metadata": {},
   "source": [
    "## Bivariate Analysis\n",
    "### Numerical Features"
   ]
  },
  {
   "cell_type": "code",
   "execution_count": 115,
   "id": "245af071-5332-48b3-afd5-5dee7a1e6507",
   "metadata": {},
   "outputs": [
    {
     "name": "stderr",
     "output_type": "stream",
     "text": [
      "/var/folders/9x/42ryqw3d4t70f298p11c89gh0000gn/T/ipykernel_44314/411708110.py:17: MatplotlibDeprecationWarning: The 'labels' parameter of boxplot() has been renamed 'tick_labels' since Matplotlib 3.9; support for the old name will be dropped in 3.11.\n",
      "  ax.boxplot([non_superhosts, superhosts], labels=[\"Not\", \"Super\"])\n",
      "/var/folders/9x/42ryqw3d4t70f298p11c89gh0000gn/T/ipykernel_44314/411708110.py:17: MatplotlibDeprecationWarning: The 'labels' parameter of boxplot() has been renamed 'tick_labels' since Matplotlib 3.9; support for the old name will be dropped in 3.11.\n",
      "  ax.boxplot([non_superhosts, superhosts], labels=[\"Not\", \"Super\"])\n",
      "/var/folders/9x/42ryqw3d4t70f298p11c89gh0000gn/T/ipykernel_44314/411708110.py:17: MatplotlibDeprecationWarning: The 'labels' parameter of boxplot() has been renamed 'tick_labels' since Matplotlib 3.9; support for the old name will be dropped in 3.11.\n",
      "  ax.boxplot([non_superhosts, superhosts], labels=[\"Not\", \"Super\"])\n",
      "/var/folders/9x/42ryqw3d4t70f298p11c89gh0000gn/T/ipykernel_44314/411708110.py:17: MatplotlibDeprecationWarning: The 'labels' parameter of boxplot() has been renamed 'tick_labels' since Matplotlib 3.9; support for the old name will be dropped in 3.11.\n",
      "  ax.boxplot([non_superhosts, superhosts], labels=[\"Not\", \"Super\"])\n",
      "/var/folders/9x/42ryqw3d4t70f298p11c89gh0000gn/T/ipykernel_44314/411708110.py:17: MatplotlibDeprecationWarning: The 'labels' parameter of boxplot() has been renamed 'tick_labels' since Matplotlib 3.9; support for the old name will be dropped in 3.11.\n",
      "  ax.boxplot([non_superhosts, superhosts], labels=[\"Not\", \"Super\"])\n",
      "/var/folders/9x/42ryqw3d4t70f298p11c89gh0000gn/T/ipykernel_44314/411708110.py:17: MatplotlibDeprecationWarning: The 'labels' parameter of boxplot() has been renamed 'tick_labels' since Matplotlib 3.9; support for the old name will be dropped in 3.11.\n",
      "  ax.boxplot([non_superhosts, superhosts], labels=[\"Not\", \"Super\"])\n"
     ]
    },
    {
     "data": {
      "image/png": "[encoded data removed]",
      "text/plain": [
       "<Figure size 1500x800 with 6 Axes>"
      ]
     },
     "metadata": {},
     "output_type": "display_data"
    }
   ],
   "source": [
    "fig, axes = plt.subplots(2, 3, figsize=(15, 8))\n",
    "\n",
    "# Let's just pick a few interesting features to look at\n",
    "for idx, feat in enumerate(\n",
    "    [\n",
    "        \"review_scores_rating\",\n",
    "        \"minimum_nights\",\n",
    "        \"availability_30\",\n",
    "        \"review_scores_cleanliness\",\n",
    "        \"host_listings_count\",\n",
    "        \"accommodates\",\n",
    "    ]\n",
    "):\n",
    "    ax = axes[idx // 3, idx % 3]\n",
    "    superhosts = df.filter(pl.col(target_col) == \"t\")[feat].drop_nulls()\n",
    "    non_superhosts = df.filter(pl.col(target_col) == \"f\")[feat].drop_nulls()\n",
    "    ax.boxplot([non_superhosts, superhosts], labels=[\"Not\", \"Super\"])\n",
    "    ax.set_title(feat, fontweight=\"bold\")"
   ]
  },
  {
   "cell_type": "markdown",
   "id": "3ca8afcc-140b-4ff3-86f3-3c444693a046",
   "metadata": {},
   "source": [
    "### Text Features"
   ]
  },
  {
   "cell_type": "code",
   "execution_count": 116,
   "id": "926a9edc-f846-4c7d-8fac-48bb79b35f21",
   "metadata": {},
   "outputs": [
    {
     "data": {
      "text/html": [
       "<div><style>\n",
       ".dataframe > thead > tr,\n",
       ".dataframe > tbody > tr {\n",
       "  text-align: right;\n",
       "  white-space: pre-wrap;\n",
       "}\n",
       "</style>\n",
       "<small>shape: (2, 3)</small><table border=\"1\" class=\"dataframe\"><thead><tr><th>host_is_superhost</th><th>amenities_length</th><th>description_length</th></tr><tr><td>str</td><td>f64</td><td>f64</td></tr></thead><tbody><tr><td>&quot;t&quot;</td><td>465.668655</td><td>406.170931</td></tr><tr><td>&quot;f&quot;</td><td>365.773698</td><td>337.155365</td></tr></tbody></table></div>"
      ],
      "text/plain": [
       "shape: (2, 3)\n",
       "┌───────────────────┬──────────────────┬────────────────────┐\n",
       "│ host_is_superhost ┆ amenities_length ┆ description_length │\n",
       "│ ---               ┆ ---              ┆ ---                │\n",
       "│ str               ┆ f64              ┆ f64                │\n",
       "╞═══════════════════╪══════════════════╪════════════════════╡\n",
       "│ t                 ┆ 465.668655       ┆ 406.170931         │\n",
       "│ f                 ┆ 365.773698       ┆ 337.155365         │\n",
       "└───────────────────┴──────────────────┴────────────────────┘"
      ]
     },
     "metadata": {},
     "output_type": "display_data"
    }
   ],
   "source": [
    "df = df.with_columns(\n",
    "    [\n",
    "        pl.col(\"amenities\").str.len_chars().alias(\"amenities_length\"),\n",
    "        pl.col(\"description\").str.len_chars().alias(\"description_length\"),\n",
    "    ]\n",
    ")\n",
    "\n",
    "# Compare by superhost status\n",
    "display(\n",
    "    df.group_by(target_col).agg(\n",
    "        [\n",
    "            pl.col(\"amenities_length\").mean(),\n",
    "            pl.col(\"description_length\").mean(),\n",
    "        ]\n",
    "    )\n",
    ")"
   ]
  },
  {
   "cell_type": "markdown",
   "id": "14f217d4-01c6-4635-9a7c-df8d6fd60d7e",
   "metadata": {},
   "source": [
    "### Insights\n",
    "\n",
    "#### Positive Predictors for Superhosts\n",
    "\n",
    "1. **Review Quality**\n",
    "   - Superhosts: 4.81/5.0 cleanliness vs Non: 4.46/5.0 (+7.9%)\n",
    "   - Leakage: Review scores are explicit Airbnb superhost criteria\n",
    "   - 50% data lacks reviews (new listings) → sample bias\n",
    "\n",
    "2. **Response Speed**\n",
    "   - Within hour: 28.2% superhost | Within day: 2.5% superhost | N/A: 0.8%\n",
    "   - Causal: Fast response → Better guest experience → Better reviews → Superhost\n",
    "   - Action: Encode as ordinal (1=n/a, 2=day, 3=hours, 4=within_hour)\n",
    "\n",
    "3. **Minimum Nights Flexibility**\n",
    "   - Superhosts: 40.99 min nights | Non-superhosts: 67.60 min nights (-39.4%)\n",
    "   - Causal: Lower minimums → More bookings → More reviews → Superhost status\n",
    "   - Superhosts have 112% more reviews (19.76 vs 9.32)\n",
    "\n",
    "4. **Text Effort**\n",
    "   - Superhosts: 465.7 char amenities, 406.2 char description\n",
    "   - Non-superhosts: 365.8 char, 337.2 char (+27% amenities, +20% description)\n",
    "   - No leakage. Indicates effort invested in marketing\n",
    "\n",
    "#### Negative Predictors for Superhosts\n",
    "\n",
    "1. **High Availability**\n",
    "   - Higher availability paradoxically predicts non-superhost\n",
    "   - Hypothesis: Superhosts are BOOKED more (low availability due to demand)\n",
    "\n",
    "2. **Guest Vetting Behavior (Instant Bookable)**\n",
    "   - Superhosts vs Non-Superhosts: 15.4% have instant_bookable=false, 10.2% have instant_bookable=true\n",
    "   - Causal: Superhosts vet guests (disable instant booking) → Better experience\n",
    "\n",
    "#### Data Quality Issues\n",
    "\n",
    "**Issue 1: Class Imbalance (6.53:1)**\n",
    "- Superhost: 1,844 (13.28%) | Non-superhost: 12,037 (86.72%)\n",
    "- Impact: Accuracy metric useless (always predict \"not superhost\" = 86.7%)\n",
    "- Solution: Apply data balancing techniques in data preprocessing notebook to address class imbalance.\n",
    "\n",
    "**Issue 2: Missing Review Data (50% Missing)**\n",
    "- Review scores: 50% null (new listings without guests)\n",
    "- Solution: Create binary flag `has_reviews`. Impute nulls with median.\n",
    "\n",
    "**Issue 3: High-Cardinality Categoricals**\n",
    "- property_type: 55 unique values → Target encode to top 10 + \"Other\"\n",
    "- neighbourhood: 45 unique values → Group low-frequency areas\n",
    "- host_response_rate: 51 unique values → Bin into quartiles"
   ]
  },
  {
   "cell_type": "markdown",
   "id": "414340e0-584b-457b-9c88-fc9a46d4b4b4",
   "metadata": {},
   "source": [
    "## Summary"
   ]
  },
  {
   "cell_type": "code",
   "execution_count": 121,
   "id": "361ceb08-7328-46d5-99ff-eb04ea8f33f5",
   "metadata": {},
   "outputs": [
    {
     "name": "stdout",
     "output_type": "stream",
     "text": [
      "\n",
      "\u001b[1mDATASET OVERVIEW:\u001b[0m\n",
      "  - Total Records: 13,881\n",
      "  - Total Features: 77\n",
      "  - Numerical Features: 38\n",
      "  - Categorical Features: 30\n",
      "  - Text Features: 6\n",
      "\n",
      "\u001b[1mCLASS IMBALANCE:\u001b[0m\n",
      "  - Superhost (Positive Class): 1,844 (13.28%)\n",
      "  - Not Superhost (Negative Class): 12,037 (86.72%)\n",
      "  - Imbalance Ratio: 6.53:1\n",
      "\n",
      "\u001b[1mMISSING DATA:\u001b[0m\n",
      "  - 19 columns have missing values\n",
      "  - Maximum missing percentage: 50.0%\n",
      "\n"
     ]
    }
   ],
   "source": [
    "findings = f\"\"\"\n",
    "\\033[1mDATASET OVERVIEW:\\033[0m\n",
    "  - Total Records: {len(df):,}\n",
    "  - Total Features: {df.width}\n",
    "  - Numerical Features: {len(numerical_features)}\n",
    "  - Categorical Features: {len(categorical_features)}\n",
    "  - Text Features: {len(text_features)}\n",
    "\n",
    "\\033[1mCLASS IMBALANCE:\\033[0m\n",
    "  - Superhost (Positive Class): {superhost_count:,} ({(superhost_count / total_rows) * 100:.2f}%)\n",
    "  - Not Superhost (Negative Class): {not_superhost_count:,} ({(not_superhost_count / total_rows) * 100:.2f}%)\n",
    "  - Imbalance Ratio: {imbalance_ratio:.2f}:1\n",
    "\n",
    "\\033[1mMISSING DATA:\\033[0m\n",
    "  - {len(null_values)} columns have missing values\n",
    "  - Maximum missing percentage: {null_values[\"null_percentage\"].max()}%\n",
    "\"\"\"\n",
    "\n",
    "print(findings)"
   ]
  },
  {
   "cell_type": "code",
   "execution_count": null,
   "id": "d58866a3-f729-498a-8192-a376fbe10038",
   "metadata": {},
   "outputs": [],
   "source": []
  }
 ],
 "metadata": {
  "kernelspec": {
   "display_name": "ML Portfolio",
   "language": "python",
   "name": "ml-portfolio"
  },
  "language_info": {
   "codemirror_mode": {
    "name": "ipython",
    "version": 3
   },
   "file_extension": ".py",
   "mimetype": "text/x-python",
   "name": "python",
   "nbconvert_exporter": "python",
   "pygments_lexer": "ipython3",
   "version": "3.12.0"
  }
 },
 "nbformat": 4,
 "nbformat_minor": 5
}
