{
 "cells": [
  {
   "cell_type": "markdown",
   "id": "8b01075d-613e-4dcc-90a1-7e5c8feaa8fc",
   "metadata": {},
   "source": [
    "# Data Preprocessing\n",
    "Based on key findings from EDA:\n",
    "- **Target variable imbalance**: 6.53:1 imbalance requires handling\n",
    "- **Missing values**: 41 columns contain missing values\n",
    "- **Duplicate Rows**: Only 4,484 unique host IDs in 14,027 rows due to duplicate host IDs between timepoints\n",
    "\n",
    "## Goals\n",
    "1. Combine the datasets from 4 individual timepoints\n",
    "2. Handle Missing Values and Duplicates\n",
    "3. Train-Validation-Test Split and Cross Validation\n",
    "4. Address Target Imbalance"
   ]
  },
  {
   "cell_type": "code",
   "execution_count": 185,
   "id": "91df4b69-ca10-4c58-ba03-e70d57d3749b",
   "metadata": {},
   "outputs": [],
   "source": [
    "# Imports\n",
    "import json\n",
    "from pathlib import Path\n",
    "\n",
    "import matplotlib.pyplot as plt\n",
    "import numpy as np\n",
    "import pandas as pd\n",
    "import polars as pl\n",
    "import seaborn as sns\n",
    "from imblearn.over_sampling import SMOTENC\n",
    "from imblearn.pipeline import Pipeline as ImbPipeline\n",
    "from imblearn.under_sampling import RandomUnderSampler\n",
    "from sklearn.model_selection import train_test_split"
   ]
  },
  {
   "cell_type": "code",
   "execution_count": 186,
   "id": "2227ae04-09e7-4158-a120-2749cfbf859d",
   "metadata": {},
   "outputs": [],
   "source": [
    "# Constants\n",
    "RAW_DATA_DIR = Path(\"../../data/raw/\")\n",
    "PROCESSED_DATA_DIR = Path(\"../../data/cleaned/classification/\")\n",
    "FIGURES_DIR = Path(\"../../figures/classification/\")\n",
    "\n",
    "TARGET_COL = \"host_is_superhost\"\n",
    "RANDOM_STATE = 42"
   ]
  },
  {
   "cell_type": "markdown",
   "id": "788913c4-1919-481f-9451-9e7218062d47",
   "metadata": {},
   "source": [
    "## Load and Combine Datasets"
   ]
  },
  {
   "cell_type": "code",
   "execution_count": 187,
   "id": "b6c64f1d-f252-4fcc-aab9-7c50ca5a5236",
   "metadata": {},
   "outputs": [
    {
     "name": "stdout",
     "output_type": "stream",
     "text": [
      "\u001b[1mCombined dataset:\u001b[0m 14,027 rows × 75 columns\n",
      "\u001b[1mDropped Columns:\u001b[0m 4 (timepoint-specific columns)\n"
     ]
    },
    {
     "data": {
      "text/html": [
       "<div><style>\n",
       ".dataframe > thead > tr,\n",
       ".dataframe > tbody > tr {\n",
       "  text-align: right;\n",
       "  white-space: pre-wrap;\n",
       "}\n",
       "</style>\n",
       "<small>shape: (14_027, 75)</small><table border=\"1\" class=\"dataframe\"><thead><tr><th>id</th><th>listing_url</th><th>scrape_id</th><th>last_scraped</th><th>source</th><th>name</th><th>description</th><th>neighborhood_overview</th><th>picture_url</th><th>host_id</th><th>host_url</th><th>host_name</th><th>host_since</th><th>host_location</th><th>host_about</th><th>host_response_time</th><th>host_response_rate</th><th>host_acceptance_rate</th><th>host_is_superhost</th><th>host_thumbnail_url</th><th>host_picture_url</th><th>host_neighbourhood</th><th>host_listings_count</th><th>host_total_listings_count</th><th>host_verifications</th><th>host_has_profile_pic</th><th>host_identity_verified</th><th>neighbourhood</th><th>neighbourhood_cleansed</th><th>neighbourhood_group_cleansed</th><th>latitude</th><th>longitude</th><th>property_type</th><th>room_type</th><th>accommodates</th><th>bathrooms</th><th>bathrooms_text</th><th>bedrooms</th><th>beds</th><th>amenities</th><th>price</th><th>minimum_nights</th><th>maximum_nights</th><th>minimum_minimum_nights</th><th>maximum_minimum_nights</th><th>minimum_maximum_nights</th><th>maximum_maximum_nights</th><th>minimum_nights_avg_ntm</th><th>maximum_nights_avg_ntm</th><th>calendar_updated</th><th>has_availability</th><th>availability_30</th><th>availability_60</th><th>availability_90</th><th>availability_365</th><th>calendar_last_scraped</th><th>number_of_reviews</th><th>number_of_reviews_ltm</th><th>number_of_reviews_l30d</th><th>first_review</th><th>last_review</th><th>review_scores_rating</th><th>review_scores_accuracy</th><th>review_scores_cleanliness</th><th>review_scores_checkin</th><th>review_scores_communication</th><th>review_scores_location</th><th>review_scores_value</th><th>license</th><th>instant_bookable</th><th>calculated_host_listings_count</th><th>calculated_host_listings_count_entire_homes</th><th>calculated_host_listings_count_private_rooms</th><th>calculated_host_listings_count_shared_rooms</th><th>reviews_per_month</th></tr><tr><td>i64</td><td>str</td><td>i64</td><td>str</td><td>str</td><td>str</td><td>str</td><td>str</td><td>str</td><td>i64</td><td>str</td><td>str</td><td>str</td><td>str</td><td>str</td><td>str</td><td>str</td><td>str</td><td>str</td><td>str</td><td>str</td><td>str</td><td>i64</td><td>i64</td><td>str</td><td>str</td><td>str</td><td>str</td><td>str</td><td>str</td><td>f64</td><td>f64</td><td>str</td><td>str</td><td>i64</td><td>f64</td><td>str</td><td>i64</td><td>i64</td><td>str</td><td>str</td><td>i64</td><td>i64</td><td>i64</td><td>i64</td><td>i64</td><td>i64</td><td>f64</td><td>f64</td><td>str</td><td>str</td><td>i64</td><td>i64</td><td>i64</td><td>i64</td><td>str</td><td>i64</td><td>i64</td><td>i64</td><td>str</td><td>str</td><td>f64</td><td>f64</td><td>f64</td><td>f64</td><td>f64</td><td>f64</td><td>f64</td><td>str</td><td>str</td><td>i64</td><td>i64</td><td>i64</td><td>i64</td><td>f64</td></tr></thead><tbody><tr><td>275343</td><td>&quot;https://www.airbnb.com/rooms/2…</td><td>20240926145704</td><td>&quot;2024-09-26&quot;</td><td>&quot;city scrape&quot;</td><td>&quot;10min walk to MRT &amp; a Cozy Roo…</td><td>&quot;**IMPORTANT NOTES:&nbsp;&nbsp;READ BEFOR…</td><td>null</td><td>&quot;https://a0.muscache.com/pictur…</td><td>1439258</td><td>&quot;https://www.airbnb.com/users/s…</td><td>&quot;Kay&quot;</td><td>&quot;2011-11-24&quot;</td><td>&quot;Singapore&quot;</td><td>&quot;K2 Guesthouse is designed for …</td><td>&quot;within an hour&quot;</td><td>&quot;100%&quot;</td><td>&quot;99%&quot;</td><td>&quot;f&quot;</td><td>&quot;https://a0.muscache.com/im/pic…</td><td>&quot;https://a0.muscache.com/im/pic…</td><td>&quot;Bukit Merah&quot;</td><td>51</td><td>77</td><td>&quot;[&#x27;email&#x27;, &#x27;phone&#x27;]&quot;</td><td>&quot;t&quot;</td><td>&quot;t&quot;</td><td>null</td><td>&quot;Bukit Merah&quot;</td><td>&quot;Central Region&quot;</td><td>1.28986</td><td>103.80948</td><td>&quot;Private room in rental unit&quot;</td><td>&quot;Private room&quot;</td><td>1</td><td>2.0</td><td>&quot;2 shared baths&quot;</td><td>1</td><td>1</td><td>&quot;[&quot;Bed linens&quot;, &quot;TV&quot;, &quot;Dedicate…</td><td>&quot;$50.00&quot;</td><td>180</td><td>999</td><td>180</td><td>180</td><td>1125</td><td>1125</td><td>180.0</td><td>1125.0</td><td>null</td><td>&quot;t&quot;</td><td>0</td><td>0</td><td>0</td><td>56</td><td>&quot;2024-09-26&quot;</td><td>20</td><td>0</td><td>0</td><td>&quot;2013-04-20&quot;</td><td>&quot;2022-08-13&quot;</td><td>4.4</td><td>4.16</td><td>4.26</td><td>4.47</td><td>4.42</td><td>4.53</td><td>4.63</td><td>&quot;S0399&quot;</td><td>&quot;t&quot;</td><td>51</td><td>0</td><td>51</td><td>0</td><td>0.14</td></tr><tr><td>275344</td><td>&quot;https://www.airbnb.com/rooms/2…</td><td>20240926145704</td><td>&quot;2024-09-26&quot;</td><td>&quot;city scrape&quot;</td><td>&quot;15 mins to Outram MRT Single R…</td><td>&quot;Lovely home for the special gu…</td><td>&quot;Bus stop &lt;br /&gt;Food center &lt;br…</td><td>&quot;https://a0.muscache.com/pictur…</td><td>1439258</td><td>&quot;https://www.airbnb.com/users/s…</td><td>&quot;Kay&quot;</td><td>&quot;2011-11-24&quot;</td><td>&quot;Singapore&quot;</td><td>&quot;K2 Guesthouse is designed for …</td><td>&quot;within an hour&quot;</td><td>&quot;100%&quot;</td><td>&quot;99%&quot;</td><td>&quot;f&quot;</td><td>&quot;https://a0.muscache.com/im/pic…</td><td>&quot;https://a0.muscache.com/im/pic…</td><td>&quot;Bukit Merah&quot;</td><td>51</td><td>77</td><td>&quot;[&#x27;email&#x27;, &#x27;phone&#x27;]&quot;</td><td>&quot;t&quot;</td><td>&quot;t&quot;</td><td>&quot;Singapore, Singapore&quot;</td><td>&quot;Bukit Merah&quot;</td><td>&quot;Central Region&quot;</td><td>1.28883</td><td>103.81113</td><td>&quot;Private room in rental unit&quot;</td><td>&quot;Private room&quot;</td><td>1</td><td>2.5</td><td>&quot;2.5 shared baths&quot;</td><td>1</td><td>1</td><td>&quot;[&quot;Bed linens&quot;, &quot;TV&quot;, &quot;Dedicate…</td><td>&quot;$50.00&quot;</td><td>180</td><td>999</td><td>180</td><td>180</td><td>1125</td><td>1125</td><td>180.0</td><td>1125.0</td><td>null</td><td>&quot;t&quot;</td><td>0</td><td>0</td><td>0</td><td>56</td><td>&quot;2024-09-26&quot;</td><td>16</td><td>0</td><td>0</td><td>&quot;2012-04-26&quot;</td><td>&quot;2023-08-16&quot;</td><td>4.27</td><td>4.44</td><td>4.06</td><td>4.5</td><td>4.5</td><td>4.63</td><td>4.13</td><td>&quot;S0399&quot;</td><td>&quot;t&quot;</td><td>51</td><td>0</td><td>51</td><td>0</td><td>0.11</td></tr><tr><td>294281</td><td>&quot;https://www.airbnb.com/rooms/2…</td><td>20240926145704</td><td>&quot;2024-09-26&quot;</td><td>&quot;city scrape&quot;</td><td>&quot;5 mins walk from Newton subway&quot;</td><td>&quot;I have 3 bedrooms&nbsp;&nbsp;in a charmi…</td><td>null</td><td>&quot;https://a0.muscache.com/pictur…</td><td>1521514</td><td>&quot;https://www.airbnb.com/users/s…</td><td>&quot;Elizabeth&quot;</td><td>&quot;2011-12-20&quot;</td><td>&quot;Singapore&quot;</td><td>&quot;Hello !\r\n",
       "I am Elizabeth from S…</td><td>&quot;N/A&quot;</td><td>&quot;N/A&quot;</td><td>&quot;N/A&quot;</td><td>&quot;f&quot;</td><td>&quot;https://a0.muscache.com/im/use…</td><td>&quot;https://a0.muscache.com/im/use…</td><td>&quot;Central Area&quot;</td><td>7</td><td>8</td><td>&quot;[&#x27;email&#x27;, &#x27;phone&#x27;]&quot;</td><td>&quot;t&quot;</td><td>&quot;t&quot;</td><td>null</td><td>&quot;Newton&quot;</td><td>&quot;Central Region&quot;</td><td>1.31142</td><td>103.83924</td><td>&quot;Private room in rental unit&quot;</td><td>&quot;Private room&quot;</td><td>2</td><td>1.0</td><td>&quot;1 shared bath&quot;</td><td>2</td><td>1</td><td>&quot;[&quot;Shampoo&quot;, &quot;Bed linens&quot;, &quot;Pri…</td><td>&quot;$85.00&quot;</td><td>92</td><td>1125</td><td>92</td><td>92</td><td>1125</td><td>1125</td><td>92.0</td><td>1125.0</td><td>null</td><td>&quot;t&quot;</td><td>30</td><td>60</td><td>90</td><td>365</td><td>&quot;2024-09-26&quot;</td><td>131</td><td>0</td><td>0</td><td>&quot;2012-01-28&quot;</td><td>&quot;2020-01-21&quot;</td><td>4.43</td><td>4.33</td><td>4.16</td><td>4.5</td><td>4.66</td><td>4.52</td><td>4.39</td><td>null</td><td>&quot;f&quot;</td><td>7</td><td>1</td><td>6</td><td>0</td><td>0.85</td></tr><tr><td>324945</td><td>&quot;https://www.airbnb.com/rooms/3…</td><td>20240926145704</td><td>&quot;2024-09-26&quot;</td><td>&quot;city scrape&quot;</td><td>&quot;Comfortable Room w/study area …</td><td>&quot;**IMPORTANT NOTES:&nbsp;&nbsp;READ BEFOR…</td><td>null</td><td>&quot;https://a0.muscache.com/pictur…</td><td>1439258</td><td>&quot;https://www.airbnb.com/users/s…</td><td>&quot;Kay&quot;</td><td>&quot;2011-11-24&quot;</td><td>&quot;Singapore&quot;</td><td>&quot;K2 Guesthouse is designed for …</td><td>&quot;within an hour&quot;</td><td>&quot;100%&quot;</td><td>&quot;99%&quot;</td><td>&quot;f&quot;</td><td>&quot;https://a0.muscache.com/im/pic…</td><td>&quot;https://a0.muscache.com/im/pic…</td><td>&quot;Bukit Merah&quot;</td><td>51</td><td>77</td><td>&quot;[&#x27;email&#x27;, &#x27;phone&#x27;]&quot;</td><td>&quot;t&quot;</td><td>&quot;t&quot;</td><td>null</td><td>&quot;Bukit Merah&quot;</td><td>&quot;Central Region&quot;</td><td>1.28828</td><td>103.8102</td><td>&quot;Private room in rental unit&quot;</td><td>&quot;Private room&quot;</td><td>1</td><td>2.0</td><td>&quot;2 shared baths&quot;</td><td>1</td><td>1</td><td>&quot;[&quot;Bed linens&quot;, &quot;TV&quot;, &quot;Dedicate…</td><td>&quot;$65.00&quot;</td><td>180</td><td>999</td><td>180</td><td>180</td><td>1125</td><td>1125</td><td>180.0</td><td>1125.0</td><td>null</td><td>&quot;t&quot;</td><td>0</td><td>0</td><td>0</td><td>56</td><td>&quot;2024-09-26&quot;</td><td>17</td><td>0</td><td>0</td><td>&quot;2012-07-08&quot;</td><td>&quot;2023-09-01&quot;</td><td>3.5</td><td>3.47</td><td>3.94</td><td>4.53</td><td>4.06</td><td>3.82</td><td>3.76</td><td>&quot;S0399&quot;</td><td>&quot;f&quot;</td><td>51</td><td>0</td><td>51</td><td>0</td><td>0.11</td></tr><tr><td>330095</td><td>&quot;https://www.airbnb.com/rooms/3…</td><td>20240926145704</td><td>&quot;2024-09-26&quot;</td><td>&quot;city scrape&quot;</td><td>&quot;Relaxing Mini Room near Redhil…</td><td>&quot;**IMPORTANT NOTES:&nbsp;&nbsp;READ BEFOR…</td><td>&quot;Near IKEA Alexandra Singapore,…</td><td>&quot;https://a0.muscache.com/pictur…</td><td>1439258</td><td>&quot;https://www.airbnb.com/users/s…</td><td>&quot;Kay&quot;</td><td>&quot;2011-11-24&quot;</td><td>&quot;Singapore&quot;</td><td>&quot;K2 Guesthouse is designed for …</td><td>&quot;within an hour&quot;</td><td>&quot;100%&quot;</td><td>&quot;99%&quot;</td><td>&quot;f&quot;</td><td>&quot;https://a0.muscache.com/im/pic…</td><td>&quot;https://a0.muscache.com/im/pic…</td><td>&quot;Bukit Merah&quot;</td><td>51</td><td>77</td><td>&quot;[&#x27;email&#x27;, &#x27;phone&#x27;]&quot;</td><td>&quot;t&quot;</td><td>&quot;t&quot;</td><td>&quot;Singapore, Singapore&quot;</td><td>&quot;Bukit Merah&quot;</td><td>&quot;Central Region&quot;</td><td>1.28636</td><td>103.81138</td><td>&quot;Private room in rental unit&quot;</td><td>&quot;Private room&quot;</td><td>1</td><td>2.0</td><td>&quot;2 shared baths&quot;</td><td>1</td><td>1</td><td>&quot;[&quot;Shampoo&quot;, &quot;Bed linens&quot;, &quot;TV&quot;…</td><td>&quot;$45.00&quot;</td><td>180</td><td>365</td><td>180</td><td>180</td><td>1125</td><td>1125</td><td>180.0</td><td>1125.0</td><td>null</td><td>&quot;t&quot;</td><td>0</td><td>0</td><td>0</td><td>56</td><td>&quot;2024-09-26&quot;</td><td>5</td><td>0</td><td>0</td><td>&quot;2014-06-01&quot;</td><td>&quot;2023-09-02&quot;</td><td>3.8</td><td>3.8</td><td>4.0</td><td>4.2</td><td>4.8</td><td>3.8</td><td>4.0</td><td>&quot;S0399&quot;</td><td>&quot;t&quot;</td><td>51</td><td>0</td><td>51</td><td>0</td><td>0.04</td></tr><tr><td>344803</td><td>&quot;https://www.airbnb.com/rooms/3…</td><td>20240926145704</td><td>&quot;2024-09-26&quot;</td><td>&quot;city scrape&quot;</td><td>&quot;Budget short stay room near&nbsp;&nbsp;E…</td><td>&quot;Direct bus 24 from airport to …</td><td>&quot;A very quiet place .Very near …</td><td>&quot;https://a0.muscache.com/pictur…</td><td>367042</td><td>&quot;https://www.airbnb.com/users/s…</td><td>&quot;Belinda&quot;</td><td>&quot;2011-01-29&quot;</td><td>&quot;Singapore&quot;</td><td>&quot;Hi My name is Belinda -Houseke…</td><td>&quot;within an hour&quot;</td><td>&quot;100%&quot;</td><td>&quot;100%&quot;</td><td>&quot;f&quot;</td><td>&quot;https://a0.muscache.com/im/use…</td><td>&quot;https://a0.muscache.com/im/use…</td><td>&quot;Tampines&quot;</td><td>2</td><td>11</td><td>&quot;[&#x27;email&#x27;, &#x27;phone&#x27;]&quot;</td><td>&quot;t&quot;</td><td>&quot;t&quot;</td><td>&quot;Singapore, Singapore&quot;</td><td>&quot;Tampines&quot;</td><td>&quot;East Region&quot;</td><td>1.34917</td><td>103.9609</td><td>&quot;Private room in home&quot;</td><td>&quot;Private room&quot;</td><td>1</td><td>1.5</td><td>&quot;1.5 shared baths&quot;</td><td>1</td><td>1</td><td>&quot;[&quot;Body soap&quot;, &quot;Shampoo&quot;, &quot;Bed …</td><td>&quot;$45.00&quot;</td><td>92</td><td>365</td><td>92</td><td>92</td><td>1125</td><td>1125</td><td>92.0</td><td>1125.0</td><td>null</td><td>&quot;t&quot;</td><td>16</td><td>42</td><td>72</td><td>347</td><td>&quot;2024-09-26&quot;</td><td>60</td><td>0</td><td>0</td><td>&quot;2012-03-13&quot;</td><td>&quot;2023-08-01&quot;</td><td>4.6</td><td>4.59</td><td>4.46</td><td>4.76</td><td>4.58</td><td>4.66</td><td>4.44</td><td>null</td><td>&quot;t&quot;</td><td>2</td><td>0</td><td>2</td><td>0</td><td>0.39</td></tr><tr><td>369141</td><td>&quot;https://www.airbnb.com/rooms/3…</td><td>20240926145704</td><td>&quot;2024-09-26&quot;</td><td>&quot;city scrape&quot;</td><td>&quot;5mins from Newton Train Statio…</td><td>&quot;A room in a charming British s…</td><td>&quot;DO YOU WANT A CHARMING AIRBNB …</td><td>&quot;https://a0.muscache.com/pictur…</td><td>1521514</td><td>&quot;https://www.airbnb.com/users/s…</td><td>&quot;Elizabeth&quot;</td><td>&quot;2011-12-20&quot;</td><td>&quot;Singapore&quot;</td><td>&quot;Hello !\r\n",
       "I am Elizabeth from S…</td><td>&quot;N/A&quot;</td><td>&quot;N/A&quot;</td><td>&quot;N/A&quot;</td><td>&quot;f&quot;</td><td>&quot;https://a0.muscache.com/im/use…</td><td>&quot;https://a0.muscache.com/im/use…</td><td>&quot;Central Area&quot;</td><td>7</td><td>8</td><td>&quot;[&#x27;email&#x27;, &#x27;phone&#x27;]&quot;</td><td>&quot;t&quot;</td><td>&quot;t&quot;</td><td>&quot;Singapore, Singapore&quot;</td><td>&quot;Newton&quot;</td><td>&quot;Central Region&quot;</td><td>1.31144</td><td>103.83784</td><td>&quot;Private room&quot;</td><td>&quot;Private room&quot;</td><td>2</td><td>1.0</td><td>&quot;1 bath&quot;</td><td>1</td><td>1</td><td>&quot;[&quot;Shampoo&quot;, &quot;Bed linens&quot;, &quot;TV&quot;…</td><td>&quot;$79.00&quot;</td><td>92</td><td>180</td><td>92</td><td>92</td><td>180</td><td>180</td><td>92.0</td><td>180.0</td><td>null</td><td>&quot;t&quot;</td><td>30</td><td>60</td><td>90</td><td>365</td><td>&quot;2024-09-26&quot;</td><td>81</td><td>0</td><td>0</td><td>&quot;2013-10-03&quot;</td><td>&quot;2020-01-04&quot;</td><td>4.43</td><td>4.45</td><td>4.41</td><td>4.71</td><td>4.76</td><td>4.64</td><td>4.55</td><td>null</td><td>&quot;f&quot;</td><td>7</td><td>1</td><td>6</td><td>0</td><td>0.61</td></tr><tr><td>369145</td><td>&quot;https://www.airbnb.com/rooms/3…</td><td>20240926145704</td><td>&quot;2024-09-26&quot;</td><td>&quot;city scrape&quot;</td><td>&quot;5 mins walk from Newton MRT&quot;</td><td>null</td><td>&quot;DO YOU WANT A CHARMING AIRBNB …</td><td>&quot;https://a0.muscache.com/pictur…</td><td>1521514</td><td>&quot;https://www.airbnb.com/users/s…</td><td>&quot;Elizabeth&quot;</td><td>&quot;2011-12-20&quot;</td><td>&quot;Singapore&quot;</td><td>&quot;Hello !\r\n",
       "I am Elizabeth from S…</td><td>&quot;N/A&quot;</td><td>&quot;N/A&quot;</td><td>&quot;N/A&quot;</td><td>&quot;f&quot;</td><td>&quot;https://a0.muscache.com/im/use…</td><td>&quot;https://a0.muscache.com/im/use…</td><td>&quot;Central Area&quot;</td><td>7</td><td>8</td><td>&quot;[&#x27;email&#x27;, &#x27;phone&#x27;]&quot;</td><td>&quot;t&quot;</td><td>&quot;t&quot;</td><td>&quot;Singapore, Singapore&quot;</td><td>&quot;Newton&quot;</td><td>&quot;Central Region&quot;</td><td>1.31129</td><td>103.83788</td><td>&quot;Private room in townhouse&quot;</td><td>&quot;Private room&quot;</td><td>2</td><td>1.0</td><td>&quot;1 shared bath&quot;</td><td>2</td><td>1</td><td>&quot;[&quot;Bed linens&quot;, &quot;Oven&quot;, &quot;Hanger…</td><td>&quot;$70.00&quot;</td><td>92</td><td>1125</td><td>92</td><td>92</td><td>1125</td><td>1125</td><td>92.0</td><td>1125.0</td><td>null</td><td>&quot;t&quot;</td><td>30</td><td>60</td><td>90</td><td>365</td><td>&quot;2024-09-26&quot;</td><td>163</td><td>0</td><td>0</td><td>&quot;2012-04-12&quot;</td><td>&quot;2020-01-10&quot;</td><td>4.39</td><td>4.31</td><td>4.12</td><td>4.65</td><td>4.67</td><td>4.6</td><td>4.32</td><td>null</td><td>&quot;f&quot;</td><td>7</td><td>1</td><td>6</td><td>0</td><td>1.07</td></tr><tr><td>395191</td><td>&quot;https://www.airbnb.com/rooms/3…</td><td>20240926145704</td><td>&quot;2024-09-26&quot;</td><td>&quot;previous scrape&quot;</td><td>&quot;Heritage Apartment Room near O…</td><td>&quot;A basic simple small room for …</td><td>null</td><td>&quot;https://a0.muscache.com/pictur…</td><td>1975201</td><td>&quot;https://www.airbnb.com/users/s…</td><td>&quot;Adi&quot;</td><td>&quot;2012-03-20&quot;</td><td>&quot;Singapore&quot;</td><td>&quot;I like travelling a lot, as we…</td><td>&quot;N/A&quot;</td><td>&quot;N/A&quot;</td><td>&quot;N/A&quot;</td><td>&quot;f&quot;</td><td>&quot;https://a0.muscache.com/im/use…</td><td>&quot;https://a0.muscache.com/im/use…</td><td>&quot;Central Area&quot;</td><td>1</td><td>2</td><td>&quot;[&#x27;email&#x27;, &#x27;phone&#x27;]&quot;</td><td>&quot;t&quot;</td><td>&quot;t&quot;</td><td>null</td><td>&quot;River Valley&quot;</td><td>&quot;Central Region&quot;</td><td>1.29335</td><td>103.83768</td><td>&quot;Private room in rental unit&quot;</td><td>&quot;Private room&quot;</td><td>1</td><td>null</td><td>&quot;0 baths&quot;</td><td>null</td><td>null</td><td>&quot;[&quot;Hangers&quot;, &quot;Lock on bedroom d…</td><td>null</td><td>93</td><td>365</td><td>93</td><td>93</td><td>365</td><td>365</td><td>93.0</td><td>365.0</td><td>null</td><td>&quot;t&quot;</td><td>23</td><td>53</td><td>83</td><td>84</td><td>&quot;2024-09-26&quot;</td><td>27</td><td>0</td><td>0</td><td>&quot;2013-07-30&quot;</td><td>&quot;2017-08-07&quot;</td><td>4.31</td><td>4.27</td><td>4.08</td><td>4.73</td><td>4.69</td><td>4.58</td><td>4.19</td><td>null</td><td>&quot;f&quot;</td><td>1</td><td>0</td><td>1</td><td>0</td><td>0.2</td></tr><tr><td>468782</td><td>&quot;https://www.airbnb.com/rooms/4…</td><td>20240926145704</td><td>&quot;2024-09-26&quot;</td><td>&quot;city scrape&quot;</td><td>&quot;Lovely Ensuite Room in Serango…</td><td>&quot;Our cosy room is suitable for …</td><td>&quot;Our area used to house former …</td><td>&quot;https://a0.muscache.com/pictur…</td><td>2327208</td><td>&quot;https://www.airbnb.com/users/s…</td><td>&quot;Jerome&quot;</td><td>&quot;2012-05-09&quot;</td><td>&quot;Singapore&quot;</td><td>&quot;Staying with us is not for eve…</td><td>&quot;N/A&quot;</td><td>&quot;N/A&quot;</td><td>&quot;100%&quot;</td><td>&quot;f&quot;</td><td>&quot;https://a0.muscache.com/im/pic…</td><td>&quot;https://a0.muscache.com/im/pic…</td><td>&quot;Serangoon&quot;</td><td>2</td><td>3</td><td>&quot;[&#x27;email&#x27;, &#x27;phone&#x27;, &#x27;work_email…</td><td>&quot;t&quot;</td><td>&quot;t&quot;</td><td>&quot;Singapore, Singapore&quot;</td><td>&quot;Serangoon&quot;</td><td>&quot;North-East Region&quot;</td><td>1.36288</td><td>103.86575</td><td>&quot;Private room in home&quot;</td><td>&quot;Private room&quot;</td><td>2</td><td>1.5</td><td>&quot;1.5 baths&quot;</td><td>1</td><td>0</td><td>&quot;[&quot;Free parking on premises&quot;, &quot;…</td><td>&quot;$60.00&quot;</td><td>92</td><td>180</td><td>92</td><td>92</td><td>180</td><td>180</td><td>92.0</td><td>180.0</td><td>null</td><td>&quot;t&quot;</td><td>30</td><td>60</td><td>90</td><td>365</td><td>&quot;2024-09-26&quot;</td><td>82</td><td>0</td><td>0</td><td>&quot;2012-05-22&quot;</td><td>&quot;2018-06-30&quot;</td><td>4.69</td><td>4.62</td><td>4.49</td><td>4.83</td><td>4.88</td><td>4.56</td><td>4.6</td><td>null</td><td>&quot;f&quot;</td><td>1</td><td>0</td><td>1</td><td>0</td><td>0.55</td></tr><tr><td>&hellip;</td><td>&hellip;</td><td>&hellip;</td><td>&hellip;</td><td>&hellip;</td><td>&hellip;</td><td>&hellip;</td><td>&hellip;</td><td>&hellip;</td><td>&hellip;</td><td>&hellip;</td><td>&hellip;</td><td>&hellip;</td><td>&hellip;</td><td>&hellip;</td><td>&hellip;</td><td>&hellip;</td><td>&hellip;</td><td>&hellip;</td><td>&hellip;</td><td>&hellip;</td><td>&hellip;</td><td>&hellip;</td><td>&hellip;</td><td>&hellip;</td><td>&hellip;</td><td>&hellip;</td><td>&hellip;</td><td>&hellip;</td><td>&hellip;</td><td>&hellip;</td><td>&hellip;</td><td>&hellip;</td><td>&hellip;</td><td>&hellip;</td><td>&hellip;</td><td>&hellip;</td><td>&hellip;</td><td>&hellip;</td><td>&hellip;</td><td>&hellip;</td><td>&hellip;</td><td>&hellip;</td><td>&hellip;</td><td>&hellip;</td><td>&hellip;</td><td>&hellip;</td><td>&hellip;</td><td>&hellip;</td><td>&hellip;</td><td>&hellip;</td><td>&hellip;</td><td>&hellip;</td><td>&hellip;</td><td>&hellip;</td><td>&hellip;</td><td>&hellip;</td><td>&hellip;</td><td>&hellip;</td><td>&hellip;</td><td>&hellip;</td><td>&hellip;</td><td>&hellip;</td><td>&hellip;</td><td>&hellip;</td><td>&hellip;</td><td>&hellip;</td><td>&hellip;</td><td>&hellip;</td><td>&hellip;</td><td>&hellip;</td><td>&hellip;</td><td>&hellip;</td><td>&hellip;</td><td>&hellip;</td></tr><tr><td>1448474596084489624</td><td>&quot;https://www.airbnb.com/rooms/1…</td><td>20250625193524</td><td>&quot;2025-06-26&quot;</td><td>&quot;city scrape&quot;</td><td>&quot;Skylight Deluxe Retreat in a H…</td><td>&quot;Wake up under natural daylight…</td><td>null</td><td>&quot;https://a0.muscache.com/pictur…</td><td>702361576</td><td>&quot;https://www.airbnb.com/users/s…</td><td>null</td><td>null</td><td>null</td><td>null</td><td>null</td><td>null</td><td>null</td><td>&quot;f&quot;</td><td>null</td><td>null</td><td>null</td><td>null</td><td>null</td><td>&quot;None&quot;</td><td>null</td><td>null</td><td>null</td><td>&quot;Outram&quot;</td><td>&quot;Central Region&quot;</td><td>1.28008</td><td>103.84282</td><td>&quot;Room in hotel&quot;</td><td>&quot;Private room&quot;</td><td>2</td><td>1.0</td><td>&quot;1 private bath&quot;</td><td>0</td><td>1</td><td>&quot;[&quot;Shampoo&quot;, &quot;TV&quot;, &quot;Exterior se…</td><td>&quot;$162.00&quot;</td><td>1</td><td>365</td><td>1</td><td>1</td><td>365</td><td>365</td><td>1.0</td><td>365.0</td><td>null</td><td>&quot;t&quot;</td><td>25</td><td>41</td><td>68</td><td>338</td><td>&quot;2025-06-26&quot;</td><td>0</td><td>0</td><td>0</td><td>null</td><td>null</td><td>null</td><td>null</td><td>null</td><td>null</td><td>null</td><td>null</td><td>null</td><td>&quot;S0604&quot;</td><td>&quot;t&quot;</td><td>6</td><td>0</td><td>6</td><td>0</td><td>null</td></tr><tr><td>1448478968998091075</td><td>&quot;https://www.airbnb.com/rooms/1…</td><td>20250625193524</td><td>&quot;2025-06-26&quot;</td><td>&quot;city scrape&quot;</td><td>&quot;Windowed Deluxe Stay in Herita…</td><td>&quot;This 10 square metre room offe…</td><td>null</td><td>&quot;https://a0.muscache.com/pictur…</td><td>702361576</td><td>&quot;https://www.airbnb.com/users/s…</td><td>null</td><td>null</td><td>null</td><td>null</td><td>null</td><td>null</td><td>null</td><td>&quot;f&quot;</td><td>null</td><td>null</td><td>null</td><td>null</td><td>null</td><td>&quot;None&quot;</td><td>null</td><td>null</td><td>null</td><td>&quot;Outram&quot;</td><td>&quot;Central Region&quot;</td><td>1.27959</td><td>103.84213</td><td>&quot;Room in hotel&quot;</td><td>&quot;Private room&quot;</td><td>2</td><td>1.0</td><td>&quot;1 private bath&quot;</td><td>0</td><td>1</td><td>&quot;[&quot;Free street parking&quot;, &quot;TV&quot;, …</td><td>null</td><td>1</td><td>365</td><td>1</td><td>1</td><td>365</td><td>365</td><td>1.0</td><td>365.0</td><td>null</td><td>&quot;t&quot;</td><td>29</td><td>59</td><td>89</td><td>364</td><td>&quot;2025-06-26&quot;</td><td>0</td><td>0</td><td>0</td><td>null</td><td>null</td><td>null</td><td>null</td><td>null</td><td>null</td><td>null</td><td>null</td><td>null</td><td>&quot;S0604&quot;</td><td>&quot;t&quot;</td><td>6</td><td>0</td><td>6</td><td>0</td><td>null</td></tr><tr><td>1448481618814931063</td><td>&quot;https://www.airbnb.com/rooms/1…</td><td>20250625193524</td><td>&quot;2025-06-27&quot;</td><td>&quot;city scrape&quot;</td><td>&quot;Balcony Bliss Overlooking Keon…</td><td>&quot;Enjoy fresh air and people-wat…</td><td>null</td><td>&quot;https://a0.muscache.com/pictur…</td><td>702361576</td><td>&quot;https://www.airbnb.com/users/s…</td><td>null</td><td>null</td><td>null</td><td>null</td><td>null</td><td>null</td><td>null</td><td>&quot;f&quot;</td><td>null</td><td>null</td><td>null</td><td>null</td><td>null</td><td>&quot;None&quot;</td><td>null</td><td>null</td><td>null</td><td>&quot;Outram&quot;</td><td>&quot;Central Region&quot;</td><td>1.28163</td><td>103.84095</td><td>&quot;Room in hotel&quot;</td><td>&quot;Private room&quot;</td><td>2</td><td>1.0</td><td>&quot;1 private bath&quot;</td><td>0</td><td>1</td><td>&quot;[&quot;Hair dryer&quot;, &quot;Wifi&quot;, &quot;Condit…</td><td>&quot;$173.00&quot;</td><td>1</td><td>365</td><td>1</td><td>1</td><td>365</td><td>365</td><td>1.0</td><td>365.0</td><td>null</td><td>&quot;t&quot;</td><td>29</td><td>59</td><td>89</td><td>364</td><td>&quot;2025-06-27&quot;</td><td>0</td><td>0</td><td>0</td><td>null</td><td>null</td><td>null</td><td>null</td><td>null</td><td>null</td><td>null</td><td>null</td><td>null</td><td>&quot;S0604&quot;</td><td>&quot;t&quot;</td><td>6</td><td>0</td><td>6</td><td>0</td><td>null</td></tr><tr><td>1448486410196137621</td><td>&quot;https://www.airbnb.com/rooms/1…</td><td>20250625193524</td><td>&quot;2025-06-26&quot;</td><td>&quot;city scrape&quot;</td><td>&quot;Comfy Family Room in Central H…</td><td>&quot;Designed for groups or small f…</td><td>null</td><td>&quot;https://a0.muscache.com/pictur…</td><td>702361576</td><td>&quot;https://www.airbnb.com/users/s…</td><td>null</td><td>null</td><td>null</td><td>null</td><td>null</td><td>null</td><td>null</td><td>&quot;f&quot;</td><td>null</td><td>null</td><td>null</td><td>null</td><td>null</td><td>&quot;None&quot;</td><td>null</td><td>null</td><td>null</td><td>&quot;Outram&quot;</td><td>&quot;Central Region&quot;</td><td>1.28147</td><td>103.84096</td><td>&quot;Room in hotel&quot;</td><td>&quot;Private room&quot;</td><td>3</td><td>1.0</td><td>&quot;1 private bath&quot;</td><td>0</td><td>1</td><td>&quot;[&quot;Shampoo&quot;, &quot;TV&quot;, &quot;Exterior se…</td><td>&quot;$223.00&quot;</td><td>1</td><td>365</td><td>1</td><td>1</td><td>365</td><td>365</td><td>1.0</td><td>365.0</td><td>null</td><td>&quot;t&quot;</td><td>14</td><td>40</td><td>70</td><td>345</td><td>&quot;2025-06-26&quot;</td><td>0</td><td>0</td><td>0</td><td>null</td><td>null</td><td>null</td><td>null</td><td>null</td><td>null</td><td>null</td><td>null</td><td>null</td><td>&quot;S0604&quot;</td><td>&quot;t&quot;</td><td>6</td><td>0</td><td>6</td><td>0</td><td>null</td></tr><tr><td>1448904484358889578</td><td>&quot;https://www.airbnb.com/rooms/1…</td><td>20250625193524</td><td>&quot;2025-06-27&quot;</td><td>&quot;city scrape&quot;</td><td>&quot;City Center Cozy Riverside Fla…</td><td>&quot;Welcome to your unique city es…</td><td>null</td><td>&quot;https://a0.muscache.com/pictur…</td><td>519916000</td><td>&quot;https://www.airbnb.com/users/s…</td><td>&quot;Corinne&quot;</td><td>&quot;2023-06-14&quot;</td><td>&quot;Singapore&quot;</td><td>&quot;J&#x27;espere etre ouverte, chaleur…</td><td>&quot;N/A&quot;</td><td>&quot;N/A&quot;</td><td>&quot;N/A&quot;</td><td>&quot;f&quot;</td><td>&quot;https://a0.muscache.com/im/pic…</td><td>&quot;https://a0.muscache.com/im/pic…</td><td>&quot;Ang Mo Kio&quot;</td><td>2</td><td>2</td><td>&quot;[&#x27;email&#x27;, &#x27;phone&#x27;]&quot;</td><td>&quot;t&quot;</td><td>&quot;t&quot;</td><td>null</td><td>&quot;River Valley&quot;</td><td>&quot;Central Region&quot;</td><td>1.29442</td><td>103.83974</td><td>&quot;Entire rental unit&quot;</td><td>&quot;Entire home/apt&quot;</td><td>8</td><td>2.0</td><td>&quot;2 baths&quot;</td><td>3</td><td>3</td><td>&quot;[&quot;Oven&quot;, &quot;Microwave&quot;, &quot;Wine gl…</td><td>&quot;$596.00&quot;</td><td>92</td><td>500</td><td>92</td><td>92</td><td>500</td><td>500</td><td>92.0</td><td>500.0</td><td>null</td><td>&quot;t&quot;</td><td>30</td><td>60</td><td>90</td><td>365</td><td>&quot;2025-06-27&quot;</td><td>0</td><td>0</td><td>0</td><td>null</td><td>null</td><td>null</td><td>null</td><td>null</td><td>null</td><td>null</td><td>null</td><td>null</td><td>null</td><td>&quot;f&quot;</td><td>2</td><td>2</td><td>0</td><td>0</td><td>null</td></tr><tr><td>1449345947252383766</td><td>&quot;https://www.airbnb.com/rooms/1…</td><td>20250625193524</td><td>&quot;2025-06-26&quot;</td><td>&quot;city scrape&quot;</td><td>&quot;Grand &amp; Roomy Serviced Studio …</td><td>&quot;Enjoy a spacious stay at this …</td><td>null</td><td>&quot;https://a0.muscache.com/pictur…</td><td>13468566</td><td>&quot;https://www.airbnb.com/users/s…</td><td>&quot;Andy&quot;</td><td>&quot;2014-03-24&quot;</td><td>&quot;Singapore&quot;</td><td>&quot;Andy has made it his personal …</td><td>&quot;within a day&quot;</td><td>&quot;53%&quot;</td><td>&quot;58%&quot;</td><td>&quot;t&quot;</td><td>&quot;https://a0.muscache.com/im/use…</td><td>&quot;https://a0.muscache.com/im/use…</td><td>&quot;Bukit Merah&quot;</td><td>12</td><td>12</td><td>&quot;[&#x27;email&#x27;, &#x27;phone&#x27;, &#x27;work_email…</td><td>&quot;t&quot;</td><td>&quot;t&quot;</td><td>null</td><td>&quot;Outram&quot;</td><td>&quot;Central Region&quot;</td><td>1.27639</td><td>103.84181</td><td>&quot;Entire rental unit&quot;</td><td>&quot;Entire home/apt&quot;</td><td>2</td><td>1.0</td><td>&quot;1 bath&quot;</td><td>0</td><td>1</td><td>&quot;[&quot;Shampoo&quot;, &quot;Microwave&quot;, &quot;TV&quot;,…</td><td>&quot;$150.00&quot;</td><td>6</td><td>365</td><td>6</td><td>6</td><td>365</td><td>365</td><td>6.0</td><td>365.0</td><td>null</td><td>&quot;t&quot;</td><td>28</td><td>58</td><td>88</td><td>178</td><td>&quot;2025-06-26&quot;</td><td>0</td><td>0</td><td>0</td><td>null</td><td>null</td><td>null</td><td>null</td><td>null</td><td>null</td><td>null</td><td>null</td><td>null</td><td>&quot;Authorised Serviced Apartment&quot;</td><td>&quot;f&quot;</td><td>12</td><td>8</td><td>4</td><td>0</td><td>null</td></tr><tr><td>1449362431787038446</td><td>&quot;https://www.airbnb.com/rooms/1…</td><td>20250625193524</td><td>&quot;2025-06-26&quot;</td><td>&quot;city scrape&quot;</td><td>&quot;Bright &amp; Lush Serviced Studio …</td><td>&quot;Enjoy a deluxe experience at t…</td><td>null</td><td>&quot;https://a0.muscache.com/pictur…</td><td>13468566</td><td>&quot;https://www.airbnb.com/users/s…</td><td>&quot;Andy&quot;</td><td>&quot;2014-03-24&quot;</td><td>&quot;Singapore&quot;</td><td>&quot;Andy has made it his personal …</td><td>&quot;within a day&quot;</td><td>&quot;53%&quot;</td><td>&quot;58%&quot;</td><td>&quot;t&quot;</td><td>&quot;https://a0.muscache.com/im/use…</td><td>&quot;https://a0.muscache.com/im/use…</td><td>&quot;Bukit Merah&quot;</td><td>12</td><td>12</td><td>&quot;[&#x27;email&#x27;, &#x27;phone&#x27;, &#x27;work_email…</td><td>&quot;t&quot;</td><td>&quot;t&quot;</td><td>null</td><td>&quot;Outram&quot;</td><td>&quot;Central Region&quot;</td><td>1.276405</td><td>103.842477</td><td>&quot;Entire rental unit&quot;</td><td>&quot;Entire home/apt&quot;</td><td>2</td><td>1.0</td><td>&quot;1 bath&quot;</td><td>0</td><td>1</td><td>&quot;[&quot;Shampoo&quot;, &quot;Microwave&quot;, &quot;TV&quot;,…</td><td>&quot;$140.00&quot;</td><td>6</td><td>365</td><td>6</td><td>6</td><td>365</td><td>365</td><td>6.0</td><td>365.0</td><td>null</td><td>&quot;t&quot;</td><td>28</td><td>58</td><td>88</td><td>178</td><td>&quot;2025-06-26&quot;</td><td>0</td><td>0</td><td>0</td><td>null</td><td>null</td><td>null</td><td>null</td><td>null</td><td>null</td><td>null</td><td>null</td><td>null</td><td>&quot;Authorised Serviced Apartment&quot;</td><td>&quot;f&quot;</td><td>12</td><td>8</td><td>4</td><td>0</td><td>null</td></tr><tr><td>1449745682595467553</td><td>&quot;https://www.airbnb.com/rooms/1…</td><td>20250625193524</td><td>&quot;2025-06-26&quot;</td><td>&quot;city scrape&quot;</td><td>&quot;In The Heart of Orchard&nbsp;&nbsp;WIFI …</td><td>&quot;Welcome to your dream urban oa…</td><td>null</td><td>&quot;https://a0.muscache.com/pictur…</td><td>31975096</td><td>&quot;https://www.airbnb.com/users/s…</td><td>&quot;Clarence&quot;</td><td>&quot;2015-04-26&quot;</td><td>&quot;Bangkok, Thailand&quot;</td><td>&quot;&quot;</td><td>&quot;within an hour&quot;</td><td>&quot;100%&quot;</td><td>&quot;100%&quot;</td><td>&quot;t&quot;</td><td>&quot;https://a0.muscache.com/im/pic…</td><td>&quot;https://a0.muscache.com/im/pic…</td><td>&quot;Lower Sukhumvit&quot;</td><td>6</td><td>6</td><td>&quot;[&#x27;email&#x27;, &#x27;phone&#x27;]&quot;</td><td>&quot;t&quot;</td><td>&quot;t&quot;</td><td>null</td><td>&quot;River Valley&quot;</td><td>&quot;Central Region&quot;</td><td>1.297732</td><td>103.839997</td><td>&quot;Entire condo&quot;</td><td>&quot;Entire home/apt&quot;</td><td>2</td><td>1.0</td><td>&quot;1 bath&quot;</td><td>1</td><td>1</td><td>&quot;[&quot;Oven&quot;, &quot;Pets allowed&quot;, &quot;Air …</td><td>&quot;$160.00&quot;</td><td>92</td><td>730</td><td>92</td><td>92</td><td>730</td><td>730</td><td>92.0</td><td>730.0</td><td>null</td><td>&quot;t&quot;</td><td>28</td><td>58</td><td>88</td><td>363</td><td>&quot;2025-06-26&quot;</td><td>0</td><td>0</td><td>0</td><td>null</td><td>null</td><td>null</td><td>null</td><td>null</td><td>null</td><td>null</td><td>null</td><td>null</td><td>null</td><td>&quot;f&quot;</td><td>2</td><td>2</td><td>0</td><td>0</td><td>null</td></tr><tr><td>1449768832549400450</td><td>&quot;https://www.airbnb.com/rooms/1…</td><td>20250625193524</td><td>&quot;2025-06-27&quot;</td><td>&quot;city scrape&quot;</td><td>&quot;2 Br at Balestier Road&quot;</td><td>&quot;Aparthotel-style accommodation…</td><td>null</td><td>&quot;https://a0.muscache.com/pictur…</td><td>238891646</td><td>&quot;https://www.airbnb.com/users/s…</td><td>&quot;Neha&quot;</td><td>&quot;2019-01-25&quot;</td><td>&quot;Uttar Pradesh, India&quot;</td><td>&quot;I have been into Hospitality s…</td><td>&quot;within an hour&quot;</td><td>&quot;100%&quot;</td><td>&quot;76%&quot;</td><td>&quot;f&quot;</td><td>&quot;https://a0.muscache.com/im/pic…</td><td>&quot;https://a0.muscache.com/im/pic…</td><td>&quot;Queenstown&quot;</td><td>132</td><td>137</td><td>&quot;[&#x27;email&#x27;, &#x27;phone&#x27;]&quot;</td><td>&quot;t&quot;</td><td>&quot;t&quot;</td><td>null</td><td>&quot;Novena&quot;</td><td>&quot;Central Region&quot;</td><td>1.32746</td><td>103.84636</td><td>&quot;Entire rental unit&quot;</td><td>&quot;Entire home/apt&quot;</td><td>4</td><td>2.0</td><td>&quot;1 bath&quot;</td><td>2</td><td>2</td><td>&quot;[&quot;Wifi&quot;, &quot;Pets allowed&quot;, &quot;Paid…</td><td>&quot;$425.00&quot;</td><td>6</td><td>365</td><td>6</td><td>6</td><td>365</td><td>365</td><td>6.0</td><td>365.0</td><td>null</td><td>&quot;t&quot;</td><td>30</td><td>60</td><td>90</td><td>365</td><td>&quot;2025-06-27&quot;</td><td>0</td><td>0</td><td>0</td><td>null</td><td>null</td><td>null</td><td>null</td><td>null</td><td>null</td><td>null</td><td>null</td><td>null</td><td>&quot;Authorised Serviced Apartment&quot;</td><td>&quot;f&quot;</td><td>132</td><td>131</td><td>1</td><td>0</td><td>null</td></tr><tr><td>1450531852548562189</td><td>&quot;https://www.airbnb.com/rooms/1…</td><td>20250625193524</td><td>&quot;2025-06-26&quot;</td><td>&quot;city scrape&quot;</td><td>&quot;2 bedroom apt for long stay&quot;</td><td>&quot;Our guests enjoy strategic loc…</td><td>null</td><td>&quot;https://a0.muscache.com/pictur…</td><td>238891646</td><td>&quot;https://www.airbnb.com/users/s…</td><td>&quot;Neha&quot;</td><td>&quot;2019-01-25&quot;</td><td>&quot;Uttar Pradesh, India&quot;</td><td>&quot;I have been into Hospitality s…</td><td>&quot;within an hour&quot;</td><td>&quot;100%&quot;</td><td>&quot;76%&quot;</td><td>&quot;f&quot;</td><td>&quot;https://a0.muscache.com/im/pic…</td><td>&quot;https://a0.muscache.com/im/pic…</td><td>&quot;Queenstown&quot;</td><td>132</td><td>137</td><td>&quot;[&#x27;email&#x27;, &#x27;phone&#x27;]&quot;</td><td>&quot;t&quot;</td><td>&quot;t&quot;</td><td>null</td><td>&quot;Queenstown&quot;</td><td>&quot;Central Region&quot;</td><td>1.29273</td><td>103.80565</td><td>&quot;Entire rental unit&quot;</td><td>&quot;Entire home/apt&quot;</td><td>4</td><td>2.0</td><td>&quot;2 baths&quot;</td><td>2</td><td>2</td><td>&quot;[&quot;Elevator&quot;, &quot;Dining table&quot;, &quot;…</td><td>&quot;$300.00&quot;</td><td>90</td><td>365</td><td>90</td><td>90</td><td>365</td><td>365</td><td>90.0</td><td>365.0</td><td>null</td><td>&quot;t&quot;</td><td>29</td><td>59</td><td>89</td><td>364</td><td>&quot;2025-06-26&quot;</td><td>0</td><td>0</td><td>0</td><td>null</td><td>null</td><td>null</td><td>null</td><td>null</td><td>null</td><td>null</td><td>null</td><td>null</td><td>&quot;Authorised Serviced Apartment&quot;</td><td>&quot;f&quot;</td><td>132</td><td>131</td><td>1</td><td>0</td><td>null</td></tr></tbody></table></div>"
      ],
      "text/plain": [
       "shape: (14_027, 75)\n",
       "┌───────────┬───────────┬───────────┬───────────┬───┬───────────┬───────────┬───────────┬──────────┐\n",
       "│ id        ┆ listing_u ┆ scrape_id ┆ last_scra ┆ … ┆ calculate ┆ calculate ┆ calculate ┆ reviews_ │\n",
       "│ ---       ┆ rl        ┆ ---       ┆ ped       ┆   ┆ d_host_li ┆ d_host_li ┆ d_host_li ┆ per_mont │\n",
       "│ i64       ┆ ---       ┆ i64       ┆ ---       ┆   ┆ stings_co ┆ stings_co ┆ stings_co ┆ h        │\n",
       "│           ┆ str       ┆           ┆ str       ┆   ┆ unt…      ┆ unt…      ┆ unt…      ┆ ---      │\n",
       "│           ┆           ┆           ┆           ┆   ┆ ---       ┆ ---       ┆ ---       ┆ f64      │\n",
       "│           ┆           ┆           ┆           ┆   ┆ i64       ┆ i64       ┆ i64       ┆          │\n",
       "╞═══════════╪═══════════╪═══════════╪═══════════╪═══╪═══════════╪═══════════╪═══════════╪══════════╡\n",
       "│ 275343    ┆ https://w ┆ 202409261 ┆ 2024-09-2 ┆ … ┆ 0         ┆ 51        ┆ 0         ┆ 0.14     │\n",
       "│           ┆ ww.airbnb ┆ 45704     ┆ 6         ┆   ┆           ┆           ┆           ┆          │\n",
       "│           ┆ .com/room ┆           ┆           ┆   ┆           ┆           ┆           ┆          │\n",
       "│           ┆ s/2…      ┆           ┆           ┆   ┆           ┆           ┆           ┆          │\n",
       "│ 275344    ┆ https://w ┆ 202409261 ┆ 2024-09-2 ┆ … ┆ 0         ┆ 51        ┆ 0         ┆ 0.11     │\n",
       "│           ┆ ww.airbnb ┆ 45704     ┆ 6         ┆   ┆           ┆           ┆           ┆          │\n",
       "│           ┆ .com/room ┆           ┆           ┆   ┆           ┆           ┆           ┆          │\n",
       "│           ┆ s/2…      ┆           ┆           ┆   ┆           ┆           ┆           ┆          │\n",
       "│ 294281    ┆ https://w ┆ 202409261 ┆ 2024-09-2 ┆ … ┆ 1         ┆ 6         ┆ 0         ┆ 0.85     │\n",
       "│           ┆ ww.airbnb ┆ 45704     ┆ 6         ┆   ┆           ┆           ┆           ┆          │\n",
       "│           ┆ .com/room ┆           ┆           ┆   ┆           ┆           ┆           ┆          │\n",
       "│           ┆ s/2…      ┆           ┆           ┆   ┆           ┆           ┆           ┆          │\n",
       "│ 324945    ┆ https://w ┆ 202409261 ┆ 2024-09-2 ┆ … ┆ 0         ┆ 51        ┆ 0         ┆ 0.11     │\n",
       "│           ┆ ww.airbnb ┆ 45704     ┆ 6         ┆   ┆           ┆           ┆           ┆          │\n",
       "│           ┆ .com/room ┆           ┆           ┆   ┆           ┆           ┆           ┆          │\n",
       "│           ┆ s/3…      ┆           ┆           ┆   ┆           ┆           ┆           ┆          │\n",
       "│ 330095    ┆ https://w ┆ 202409261 ┆ 2024-09-2 ┆ … ┆ 0         ┆ 51        ┆ 0         ┆ 0.04     │\n",
       "│           ┆ ww.airbnb ┆ 45704     ┆ 6         ┆   ┆           ┆           ┆           ┆          │\n",
       "│           ┆ .com/room ┆           ┆           ┆   ┆           ┆           ┆           ┆          │\n",
       "│           ┆ s/3…      ┆           ┆           ┆   ┆           ┆           ┆           ┆          │\n",
       "│ 344803    ┆ https://w ┆ 202409261 ┆ 2024-09-2 ┆ … ┆ 0         ┆ 2         ┆ 0         ┆ 0.39     │\n",
       "│           ┆ ww.airbnb ┆ 45704     ┆ 6         ┆   ┆           ┆           ┆           ┆          │\n",
       "│           ┆ .com/room ┆           ┆           ┆   ┆           ┆           ┆           ┆          │\n",
       "│           ┆ s/3…      ┆           ┆           ┆   ┆           ┆           ┆           ┆          │\n",
       "│ 369141    ┆ https://w ┆ 202409261 ┆ 2024-09-2 ┆ … ┆ 1         ┆ 6         ┆ 0         ┆ 0.61     │\n",
       "│           ┆ ww.airbnb ┆ 45704     ┆ 6         ┆   ┆           ┆           ┆           ┆          │\n",
       "│           ┆ .com/room ┆           ┆           ┆   ┆           ┆           ┆           ┆          │\n",
       "│           ┆ s/3…      ┆           ┆           ┆   ┆           ┆           ┆           ┆          │\n",
       "│ 369145    ┆ https://w ┆ 202409261 ┆ 2024-09-2 ┆ … ┆ 1         ┆ 6         ┆ 0         ┆ 1.07     │\n",
       "│           ┆ ww.airbnb ┆ 45704     ┆ 6         ┆   ┆           ┆           ┆           ┆          │\n",
       "│           ┆ .com/room ┆           ┆           ┆   ┆           ┆           ┆           ┆          │\n",
       "│           ┆ s/3…      ┆           ┆           ┆   ┆           ┆           ┆           ┆          │\n",
       "│ 395191    ┆ https://w ┆ 202409261 ┆ 2024-09-2 ┆ … ┆ 0         ┆ 1         ┆ 0         ┆ 0.2      │\n",
       "│           ┆ ww.airbnb ┆ 45704     ┆ 6         ┆   ┆           ┆           ┆           ┆          │\n",
       "│           ┆ .com/room ┆           ┆           ┆   ┆           ┆           ┆           ┆          │\n",
       "│           ┆ s/3…      ┆           ┆           ┆   ┆           ┆           ┆           ┆          │\n",
       "│ 468782    ┆ https://w ┆ 202409261 ┆ 2024-09-2 ┆ … ┆ 0         ┆ 1         ┆ 0         ┆ 0.55     │\n",
       "│           ┆ ww.airbnb ┆ 45704     ┆ 6         ┆   ┆           ┆           ┆           ┆          │\n",
       "│           ┆ .com/room ┆           ┆           ┆   ┆           ┆           ┆           ┆          │\n",
       "│           ┆ s/4…      ┆           ┆           ┆   ┆           ┆           ┆           ┆          │\n",
       "│ …         ┆ …         ┆ …         ┆ …         ┆ … ┆ …         ┆ …         ┆ …         ┆ …        │\n",
       "│ 144847459 ┆ https://w ┆ 202506251 ┆ 2025-06-2 ┆ … ┆ 0         ┆ 6         ┆ 0         ┆ null     │\n",
       "│ 608448962 ┆ ww.airbnb ┆ 93524     ┆ 6         ┆   ┆           ┆           ┆           ┆          │\n",
       "│ 4         ┆ .com/room ┆           ┆           ┆   ┆           ┆           ┆           ┆          │\n",
       "│           ┆ s/1…      ┆           ┆           ┆   ┆           ┆           ┆           ┆          │\n",
       "│ 144847896 ┆ https://w ┆ 202506251 ┆ 2025-06-2 ┆ … ┆ 0         ┆ 6         ┆ 0         ┆ null     │\n",
       "│ 899809107 ┆ ww.airbnb ┆ 93524     ┆ 6         ┆   ┆           ┆           ┆           ┆          │\n",
       "│ 5         ┆ .com/room ┆           ┆           ┆   ┆           ┆           ┆           ┆          │\n",
       "│           ┆ s/1…      ┆           ┆           ┆   ┆           ┆           ┆           ┆          │\n",
       "│ 144848161 ┆ https://w ┆ 202506251 ┆ 2025-06-2 ┆ … ┆ 0         ┆ 6         ┆ 0         ┆ null     │\n",
       "│ 881493106 ┆ ww.airbnb ┆ 93524     ┆ 7         ┆   ┆           ┆           ┆           ┆          │\n",
       "│ 3         ┆ .com/room ┆           ┆           ┆   ┆           ┆           ┆           ┆          │\n",
       "│           ┆ s/1…      ┆           ┆           ┆   ┆           ┆           ┆           ┆          │\n",
       "│ 144848641 ┆ https://w ┆ 202506251 ┆ 2025-06-2 ┆ … ┆ 0         ┆ 6         ┆ 0         ┆ null     │\n",
       "│ 019613762 ┆ ww.airbnb ┆ 93524     ┆ 6         ┆   ┆           ┆           ┆           ┆          │\n",
       "│ 1         ┆ .com/room ┆           ┆           ┆   ┆           ┆           ┆           ┆          │\n",
       "│           ┆ s/1…      ┆           ┆           ┆   ┆           ┆           ┆           ┆          │\n",
       "│ 144890448 ┆ https://w ┆ 202506251 ┆ 2025-06-2 ┆ … ┆ 2         ┆ 0         ┆ 0         ┆ null     │\n",
       "│ 435888957 ┆ ww.airbnb ┆ 93524     ┆ 7         ┆   ┆           ┆           ┆           ┆          │\n",
       "│ 8         ┆ .com/room ┆           ┆           ┆   ┆           ┆           ┆           ┆          │\n",
       "│           ┆ s/1…      ┆           ┆           ┆   ┆           ┆           ┆           ┆          │\n",
       "│ 144934594 ┆ https://w ┆ 202506251 ┆ 2025-06-2 ┆ … ┆ 8         ┆ 4         ┆ 0         ┆ null     │\n",
       "│ 725238376 ┆ ww.airbnb ┆ 93524     ┆ 6         ┆   ┆           ┆           ┆           ┆          │\n",
       "│ 6         ┆ .com/room ┆           ┆           ┆   ┆           ┆           ┆           ┆          │\n",
       "│           ┆ s/1…      ┆           ┆           ┆   ┆           ┆           ┆           ┆          │\n",
       "│ 144936243 ┆ https://w ┆ 202506251 ┆ 2025-06-2 ┆ … ┆ 8         ┆ 4         ┆ 0         ┆ null     │\n",
       "│ 178703844 ┆ ww.airbnb ┆ 93524     ┆ 6         ┆   ┆           ┆           ┆           ┆          │\n",
       "│ 6         ┆ .com/room ┆           ┆           ┆   ┆           ┆           ┆           ┆          │\n",
       "│           ┆ s/1…      ┆           ┆           ┆   ┆           ┆           ┆           ┆          │\n",
       "│ 144974568 ┆ https://w ┆ 202506251 ┆ 2025-06-2 ┆ … ┆ 2         ┆ 0         ┆ 0         ┆ null     │\n",
       "│ 259546755 ┆ ww.airbnb ┆ 93524     ┆ 6         ┆   ┆           ┆           ┆           ┆          │\n",
       "│ 3         ┆ .com/room ┆           ┆           ┆   ┆           ┆           ┆           ┆          │\n",
       "│           ┆ s/1…      ┆           ┆           ┆   ┆           ┆           ┆           ┆          │\n",
       "│ 144976883 ┆ https://w ┆ 202506251 ┆ 2025-06-2 ┆ … ┆ 131       ┆ 1         ┆ 0         ┆ null     │\n",
       "│ 254940045 ┆ ww.airbnb ┆ 93524     ┆ 7         ┆   ┆           ┆           ┆           ┆          │\n",
       "│ 0         ┆ .com/room ┆           ┆           ┆   ┆           ┆           ┆           ┆          │\n",
       "│           ┆ s/1…      ┆           ┆           ┆   ┆           ┆           ┆           ┆          │\n",
       "│ 145053185 ┆ https://w ┆ 202506251 ┆ 2025-06-2 ┆ … ┆ 131       ┆ 1         ┆ 0         ┆ null     │\n",
       "│ 254856218 ┆ ww.airbnb ┆ 93524     ┆ 6         ┆   ┆           ┆           ┆           ┆          │\n",
       "│ 9         ┆ .com/room ┆           ┆           ┆   ┆           ┆           ┆           ┆          │\n",
       "│           ┆ s/1…      ┆           ┆           ┆   ┆           ┆           ┆           ┆          │\n",
       "└───────────┴───────────┴───────────┴───────────┴───┴───────────┴───────────┴───────────┴──────────┘"
      ]
     },
     "execution_count": 187,
     "metadata": {},
     "output_type": "execute_result"
    }
   ],
   "source": [
    "# Load all 4 timepoints\n",
    "DATA_FILE_NAMES = [f\"airbnb_timepoint{i}.csv\" for i in range(1, 5)]\n",
    "dfs = [pl.read_csv(RAW_DATA_DIR / file_name) for file_name in DATA_FILE_NAMES]\n",
    "\n",
    "# Combine with diagonal relaxation (handles schema differences)\n",
    "df = pl.concat(dfs, how=\"diagonal_relaxed\", rechunk=True)\n",
    "\n",
    "# Drop timepoint-specific columns (identified in EDA)\n",
    "unique_cols = [\n",
    "    \"estimated_revenue_l365d\",\n",
    "    \"availability_eoy\",\n",
    "    \"number_of_reviews_ly\",\n",
    "    \"estimated_occupancy_l365d\",\n",
    "]\n",
    "df = df.drop(unique_cols)\n",
    "\n",
    "print(f\"\\033[1mCombined dataset:\\033[0m {df.shape[0]:,} rows × {df.shape[1]} columns\")\n",
    "print(f\"\\033[1mDropped Columns:\\033[0m {len(unique_cols)} (timepoint-specific columns)\")\n",
    "df"
   ]
  },
  {
   "cell_type": "markdown",
   "id": "e0c64f2e-560c-4a21-b511-12cd960811c7",
   "metadata": {},
   "source": [
    "## Handle Missing Values and Duplicates\n",
    "### 1. Drop Rows with null target variables"
   ]
  },
  {
   "cell_type": "code",
   "execution_count": 188,
   "id": "f908bbdc-106a-4c9d-a40a-0a0386a3af89",
   "metadata": {},
   "outputs": [
    {
     "name": "stdout",
     "output_type": "stream",
     "text": [
      "\u001b[1mDropped Rows:\u001b[0m 146 rows with null target\n",
      "\u001b[1mRemaining:\u001b[0m 13,881 rows\n"
     ]
    }
   ],
   "source": [
    "# Drop rows with null target variables\n",
    "null_target_count = df[TARGET_COL].null_count()\n",
    "df = df.drop_nulls([TARGET_COL])\n",
    "\n",
    "print(f\"\\033[1mDropped Rows:\\033[0m {null_target_count:,} rows with null target\")\n",
    "print(f\"\\033[1mRemaining:\\033[0m {df.shape[0]:,} rows\")"
   ]
  },
  {
   "cell_type": "markdown",
   "id": "d5ee2cfa-29b8-444b-b133-82f62678d1d8",
   "metadata": {},
   "source": [
    "### 2. Drop Uninformative Columns based on EDA "
   ]
  },
  {
   "cell_type": "code",
   "execution_count": 189,
   "id": "85f6e16e-bcbc-43c6-806e-b8051d064dfa",
   "metadata": {},
   "outputs": [
    {
     "name": "stdout",
     "output_type": "stream",
     "text": [
      "\u001b[1mDropped Columns:\u001b[0m 12 uninformative columns\n",
      "\u001b[1mRemaining DataFrame:\u001b[0m 13,881 rows × 63 columns\n"
     ]
    }
   ],
   "source": [
    "droppable_columns = [\n",
    "    # 100% Null\n",
    "    \"calendar_updated\",\n",
    "    # Hard to process (URLs, images)\n",
    "    \"host_thumbnail_url\",\n",
    "    \"host_picture_url\",\n",
    "    \"picture_url\",\n",
    "    \"listing_url\",\n",
    "    \"host_url\",\n",
    "    # Hard to Interpret\n",
    "    \"license\",\n",
    "    # Redundant (already have calculated versions)\n",
    "    \"host_listings_count\",\n",
    "    \"calculated_host_listings_count\",\n",
    "    # Temporal metadata (not features)\n",
    "    \"calendar_last_scraped\",\n",
    "    \"scrape_id\",\n",
    "    \"source\",\n",
    "]\n",
    "\n",
    "df = df.drop(droppable_columns)\n",
    "\n",
    "print(f\"\\033[1mDropped Columns:\\033[0m {len(droppable_columns)} uninformative columns\")\n",
    "print(\n",
    "    f\"\\033[1mRemaining DataFrame:\\033[0m {df.shape[0]:,} rows × {df.shape[1]} columns\"\n",
    ")"
   ]
  },
  {
   "cell_type": "markdown",
   "id": "79d58386-d8b5-48dd-b957-00483ea42434",
   "metadata": {},
   "source": [
    "### 3. Handle low null count columns based on EDA"
   ]
  },
  {
   "cell_type": "code",
   "execution_count": 190,
   "id": "62e1d6cc-7425-441b-a1c2-d43dd9949d39",
   "metadata": {},
   "outputs": [
    {
     "name": "stdout",
     "output_type": "stream",
     "text": [
      "\u001b[1mDropped Rows:\u001b[0m 460 Rows\n",
      "\u001b[1mRemaining Rows:\u001b[0m 13,421 Rows\n"
     ]
    }
   ],
   "source": [
    "low_null_count_columns = [\n",
    "    \"description\",\n",
    "    \"host_name\",\n",
    "    \"host_since\",\n",
    "    \"host_about\",\n",
    "    \"host_response_time\",\n",
    "    \"host_response_rate\",\n",
    "    \"host_acceptance_rate\",\n",
    "    \"host_total_listings_count\",\n",
    "    \"host_has_profile_pic\",\n",
    "    \"host_identity_verified\",\n",
    "    \"bathrooms_text\",\n",
    "    \"minimum_minimum_nights\",\n",
    "    \"maximum_minimum_nights\",\n",
    "    \"minimum_maximum_nights\",\n",
    "    \"maximum_maximum_nights\",\n",
    "    \"minimum_nights_avg_ntm\",\n",
    "    \"maximum_nights_avg_ntm\",\n",
    "]\n",
    "\n",
    "null_row_count = df.filter(\n",
    "    pl.any_horizontal(pl.col(low_null_count_columns).is_null())\n",
    ").shape[0]\n",
    "df = df.filter(pl.all_horizontal(pl.col(low_null_count_columns).is_not_null()))\n",
    "\n",
    "print(f\"\\033[1mDropped Rows:\\033[0m {null_row_count:,} Rows\")\n",
    "print(f\"\\033[1mRemaining Rows:\\033[0m {df.shape[0]:,} Rows\")"
   ]
  },
  {
   "cell_type": "markdown",
   "id": "d09902d3-91c6-447a-988b-27206bb59a2f",
   "metadata": {},
   "source": [
    "### 4. Address remaining columns with null data"
   ]
  },
  {
   "cell_type": "code",
   "execution_count": 191,
   "id": "07ba2a53-e5b5-4417-9c6a-63bb216e74ad",
   "metadata": {},
   "outputs": [
    {
     "data": {
      "text/html": [
       "<div><style>\n",
       ".dataframe > thead > tr,\n",
       ".dataframe > tbody > tr {\n",
       "  text-align: right;\n",
       "  white-space: pre-wrap;\n",
       "}\n",
       "</style>\n",
       "<small>shape: (19, 2)</small><table border=\"1\" class=\"dataframe\"><thead><tr><th>column</th><th>null_count</th></tr><tr><td>str</td><td>u32</td></tr></thead><tbody><tr><td>&quot;review_scores_location&quot;</td><td>6716</td></tr><tr><td>&quot;review_scores_value&quot;</td><td>6716</td></tr><tr><td>&quot;review_scores_accuracy&quot;</td><td>6715</td></tr><tr><td>&quot;review_scores_cleanliness&quot;</td><td>6715</td></tr><tr><td>&quot;review_scores_checkin&quot;</td><td>6715</td></tr><tr><td>&quot;review_scores_communication&quot;</td><td>6715</td></tr><tr><td>&quot;first_review&quot;</td><td>6714</td></tr><tr><td>&quot;last_review&quot;</td><td>6714</td></tr><tr><td>&quot;review_scores_rating&quot;</td><td>6714</td></tr><tr><td>&quot;reviews_per_month&quot;</td><td>6714</td></tr><tr><td>&quot;neighborhood_overview&quot;</td><td>6142</td></tr><tr><td>&quot;neighbourhood&quot;</td><td>6142</td></tr><tr><td>&quot;host_location&quot;</td><td>5190</td></tr><tr><td>&quot;beds&quot;</td><td>3262</td></tr><tr><td>&quot;price&quot;</td><td>3245</td></tr><tr><td>&quot;bathrooms&quot;</td><td>3129</td></tr><tr><td>&quot;bedrooms&quot;</td><td>1083</td></tr><tr><td>&quot;has_availability&quot;</td><td>1013</td></tr><tr><td>&quot;host_neighbourhood&quot;</td><td>622</td></tr></tbody></table></div>"
      ],
      "text/plain": [
       "shape: (19, 2)\n",
       "┌─────────────────────────────┬────────────┐\n",
       "│ column                      ┆ null_count │\n",
       "│ ---                         ┆ ---        │\n",
       "│ str                         ┆ u32        │\n",
       "╞═════════════════════════════╪════════════╡\n",
       "│ review_scores_location      ┆ 6716       │\n",
       "│ review_scores_value         ┆ 6716       │\n",
       "│ review_scores_accuracy      ┆ 6715       │\n",
       "│ review_scores_cleanliness   ┆ 6715       │\n",
       "│ review_scores_checkin       ┆ 6715       │\n",
       "│ review_scores_communication ┆ 6715       │\n",
       "│ first_review                ┆ 6714       │\n",
       "│ last_review                 ┆ 6714       │\n",
       "│ review_scores_rating        ┆ 6714       │\n",
       "│ reviews_per_month           ┆ 6714       │\n",
       "│ neighborhood_overview       ┆ 6142       │\n",
       "│ neighbourhood               ┆ 6142       │\n",
       "│ host_location               ┆ 5190       │\n",
       "│ beds                        ┆ 3262       │\n",
       "│ price                       ┆ 3245       │\n",
       "│ bathrooms                   ┆ 3129       │\n",
       "│ bedrooms                    ┆ 1083       │\n",
       "│ has_availability            ┆ 1013       │\n",
       "│ host_neighbourhood          ┆ 622        │\n",
       "└─────────────────────────────┴────────────┘"
      ]
     },
     "execution_count": 191,
     "metadata": {},
     "output_type": "execute_result"
    }
   ],
   "source": [
    "# Let's check which columns are left to handle first\n",
    "pl.Config.set_tbl_rows(20)\n",
    "df.null_count().transpose(include_header=True, column_names=[\"null_count\"]).filter(\n",
    "    pl.col(\"null_count\") != 0\n",
    ").sort(by=\"null_count\", descending=True)"
   ]
  },
  {
   "cell_type": "code",
   "execution_count": 192,
   "id": "ca035278-efc0-4666-ab28-7c21f59b8df6",
   "metadata": {},
   "outputs": [
    {
     "data": {
      "text/html": [
       "<div><style>\n",
       ".dataframe > thead > tr,\n",
       ".dataframe > tbody > tr {\n",
       "  text-align: right;\n",
       "  white-space: pre-wrap;\n",
       "}\n",
       "</style>\n",
       "<small>shape: (15, 2)</small><table border=\"1\" class=\"dataframe\"><thead><tr><th>column</th><th>null_count</th></tr><tr><td>str</td><td>u32</td></tr></thead><tbody><tr><td>&quot;review_scores_location&quot;</td><td>6716</td></tr><tr><td>&quot;review_scores_value&quot;</td><td>6716</td></tr><tr><td>&quot;review_scores_accuracy&quot;</td><td>6715</td></tr><tr><td>&quot;review_scores_cleanliness&quot;</td><td>6715</td></tr><tr><td>&quot;review_scores_checkin&quot;</td><td>6715</td></tr><tr><td>&quot;review_scores_communication&quot;</td><td>6715</td></tr><tr><td>&quot;first_review&quot;</td><td>6714</td></tr><tr><td>&quot;last_review&quot;</td><td>6714</td></tr><tr><td>&quot;review_scores_rating&quot;</td><td>6714</td></tr><tr><td>&quot;reviews_per_month&quot;</td><td>6714</td></tr><tr><td>&quot;beds&quot;</td><td>3262</td></tr><tr><td>&quot;price&quot;</td><td>3245</td></tr><tr><td>&quot;bathrooms&quot;</td><td>3129</td></tr><tr><td>&quot;bedrooms&quot;</td><td>1083</td></tr><tr><td>&quot;has_availability&quot;</td><td>1013</td></tr></tbody></table></div>"
      ],
      "text/plain": [
       "shape: (15, 2)\n",
       "┌─────────────────────────────┬────────────┐\n",
       "│ column                      ┆ null_count │\n",
       "│ ---                         ┆ ---        │\n",
       "│ str                         ┆ u32        │\n",
       "╞═════════════════════════════╪════════════╡\n",
       "│ review_scores_location      ┆ 6716       │\n",
       "│ review_scores_value         ┆ 6716       │\n",
       "│ review_scores_accuracy      ┆ 6715       │\n",
       "│ review_scores_cleanliness   ┆ 6715       │\n",
       "│ review_scores_checkin       ┆ 6715       │\n",
       "│ review_scores_communication ┆ 6715       │\n",
       "│ first_review                ┆ 6714       │\n",
       "│ last_review                 ┆ 6714       │\n",
       "│ review_scores_rating        ┆ 6714       │\n",
       "│ reviews_per_month           ┆ 6714       │\n",
       "│ beds                        ┆ 3262       │\n",
       "│ price                       ┆ 3245       │\n",
       "│ bathrooms                   ┆ 3129       │\n",
       "│ bedrooms                    ┆ 1083       │\n",
       "│ has_availability            ┆ 1013       │\n",
       "└─────────────────────────────┴────────────┘"
      ]
     },
     "execution_count": 192,
     "metadata": {},
     "output_type": "execute_result"
    }
   ],
   "source": [
    "# Handle Text Columns First (\"\")\n",
    "text_cols_with_nulls = [\"neighborhood_overview\", \"neighbourhood\"]\n",
    "\n",
    "df = df.with_columns(pl.col(text_cols_with_nulls).fill_null(\"\"))\n",
    "\n",
    "# Handle Categorical Columns (\"Unknown\")\n",
    "categorical_cols_with_nulls = [\"host_location\", \"host_neighbourhood\"]\n",
    "\n",
    "df = df.with_columns(pl.col(categorical_cols_with_nulls).fill_null(\"Unknown\"))\n",
    "\n",
    "# Handle Numerical Columns (\"Mean\")\n",
    "review_cols_with_nulls = [\n",
    "    \"review_scores_location\",\n",
    "    \"review_scores_value\",\n",
    "    \"review_scores_accuracy\",\n",
    "    \"review_scores_cleanliness\",\n",
    "    \"review_scores_checkin\",\n",
    "    \"review_scores_communication\",\n",
    "]\n",
    "\n",
    "nulls = (\n",
    "    df.null_count()\n",
    "    .transpose(include_header=True, column_names=[\"null_count\"])\n",
    "    .filter(pl.col(\"null_count\") != 0)\n",
    "    .sort(by=\"null_count\", descending=True)\n",
    ")\n",
    "nulls"
   ]
  },
  {
   "cell_type": "code",
   "execution_count": 193,
   "id": "361007ad-20e8-41e2-aa03-a870f9d1f853",
   "metadata": {},
   "outputs": [
    {
     "data": {
      "text/html": [
       "<div><style>\n",
       ".dataframe > thead > tr,\n",
       ".dataframe > tbody > tr {\n",
       "  text-align: right;\n",
       "  white-space: pre-wrap;\n",
       "}\n",
       "</style>\n",
       "<small>shape: (1, 10)</small><table border=\"1\" class=\"dataframe\"><thead><tr><th>review_scores_rating</th><th>review_scores_accuracy</th><th>review_scores_cleanliness</th><th>review_scores_checkin</th><th>review_scores_communication</th><th>review_scores_location</th><th>review_scores_value</th><th>reviews_per_month</th><th>first_review</th><th>last_review</th></tr><tr><td>u32</td><td>u32</td><td>u32</td><td>u32</td><td>u32</td><td>u32</td><td>u32</td><td>u32</td><td>u32</td><td>u32</td></tr></thead><tbody><tr><td>6714</td><td>6715</td><td>6715</td><td>6715</td><td>6715</td><td>6716</td><td>6716</td><td>6714</td><td>6714</td><td>6714</td></tr></tbody></table></div>"
      ],
      "text/plain": [
       "shape: (1, 10)\n",
       "┌───────────┬───────────┬───────────┬───────────┬───┬───────────┬───────────┬───────────┬──────────┐\n",
       "│ review_sc ┆ review_sc ┆ review_sc ┆ review_sc ┆ … ┆ review_sc ┆ reviews_p ┆ first_rev ┆ last_rev │\n",
       "│ ores_rati ┆ ores_accu ┆ ores_clea ┆ ores_chec ┆   ┆ ores_valu ┆ er_month  ┆ iew       ┆ iew      │\n",
       "│ ng        ┆ racy      ┆ nliness   ┆ kin       ┆   ┆ e         ┆ ---       ┆ ---       ┆ ---      │\n",
       "│ ---       ┆ ---       ┆ ---       ┆ ---       ┆   ┆ ---       ┆ u32       ┆ u32       ┆ u32      │\n",
       "│ u32       ┆ u32       ┆ u32       ┆ u32       ┆   ┆ u32       ┆           ┆           ┆          │\n",
       "╞═══════════╪═══════════╪═══════════╪═══════════╪═══╪═══════════╪═══════════╪═══════════╪══════════╡\n",
       "│ 6714      ┆ 6715      ┆ 6715      ┆ 6715      ┆ … ┆ 6716      ┆ 6714      ┆ 6714      ┆ 6714     │\n",
       "└───────────┴───────────┴───────────┴───────────┴───┴───────────┴───────────┴───────────┴──────────┘"
      ]
     },
     "metadata": {},
     "output_type": "display_data"
    },
    {
     "data": {
      "text/html": [
       "<div><style>\n",
       ".dataframe > thead > tr,\n",
       ".dataframe > tbody > tr {\n",
       "  text-align: right;\n",
       "  white-space: pre-wrap;\n",
       "}\n",
       "</style>\n",
       "<small>shape: (1, 10)</small><table border=\"1\" class=\"dataframe\"><thead><tr><th>review_scores_rating</th><th>review_scores_accuracy</th><th>review_scores_cleanliness</th><th>review_scores_checkin</th><th>review_scores_communication</th><th>review_scores_location</th><th>review_scores_value</th><th>reviews_per_month</th><th>first_review</th><th>last_review</th></tr><tr><td>u32</td><td>u32</td><td>u32</td><td>u32</td><td>u32</td><td>u32</td><td>u32</td><td>u32</td><td>u32</td><td>u32</td></tr></thead><tbody><tr><td>6714</td><td>6715</td><td>6715</td><td>6715</td><td>6715</td><td>6716</td><td>6716</td><td>6714</td><td>6714</td><td>6714</td></tr></tbody></table></div>"
      ],
      "text/plain": [
       "shape: (1, 10)\n",
       "┌───────────┬───────────┬───────────┬───────────┬───┬───────────┬───────────┬───────────┬──────────┐\n",
       "│ review_sc ┆ review_sc ┆ review_sc ┆ review_sc ┆ … ┆ review_sc ┆ reviews_p ┆ first_rev ┆ last_rev │\n",
       "│ ores_rati ┆ ores_accu ┆ ores_clea ┆ ores_chec ┆   ┆ ores_valu ┆ er_month  ┆ iew       ┆ iew      │\n",
       "│ ng        ┆ racy      ┆ nliness   ┆ kin       ┆   ┆ e         ┆ ---       ┆ ---       ┆ ---      │\n",
       "│ ---       ┆ ---       ┆ ---       ┆ ---       ┆   ┆ ---       ┆ u32       ┆ u32       ┆ u32      │\n",
       "│ u32       ┆ u32       ┆ u32       ┆ u32       ┆   ┆ u32       ┆           ┆           ┆          │\n",
       "╞═══════════╪═══════════╪═══════════╪═══════════╪═══╪═══════════╪═══════════╪═══════════╪══════════╡\n",
       "│ 6714      ┆ 6715      ┆ 6715      ┆ 6715      ┆ … ┆ 6716      ┆ 6714      ┆ 6714      ┆ 6714     │\n",
       "└───────────┴───────────┴───────────┴───────────┴───┴───────────┴───────────┴───────────┴──────────┘"
      ]
     },
     "metadata": {},
     "output_type": "display_data"
    }
   ],
   "source": [
    "# For Reviews, let's try extending reviews to different timepoints and see if that can address the null values\n",
    "review_columns = [\n",
    "    \"review_scores_rating\",\n",
    "    \"review_scores_accuracy\",\n",
    "    \"review_scores_cleanliness\",\n",
    "    \"review_scores_checkin\",\n",
    "    \"review_scores_communication\",\n",
    "    \"review_scores_location\",\n",
    "    \"review_scores_value\",\n",
    "    \"reviews_per_month\",\n",
    "    \"first_review\",\n",
    "    \"last_review\",\n",
    "]\n",
    "df_sorted = df.sort([\"id\", \"last_scraped\"])\n",
    "df = df_sorted.with_columns(\n",
    "    pl.col(review_columns).fill_null(strategy=\"forward\").over(\"id\")\n",
    ")\n",
    "\n",
    "\n",
    "display(df_sorted.select(review_columns).null_count())\n",
    "display(df.select(review_columns).null_count())"
   ]
  },
  {
   "cell_type": "code",
   "execution_count": 194,
   "id": "d7f8cb01-5f8f-4ab3-88c9-93dda4d7da86",
   "metadata": {},
   "outputs": [],
   "source": [
    "# What remains are listings that have never had reviews\n",
    "# Let's create a has_review column first, then impute these listings with the median review\n",
    "for col in review_columns:\n",
    "    df = df.with_columns(\n",
    "        pl.when(pl.col(col).is_not_null())\n",
    "        .then(True)\n",
    "        .otherwise(False)\n",
    "        .alias(f\"has_{col}\"),\n",
    "    )"
   ]
  },
  {
   "cell_type": "code",
   "execution_count": 195,
   "id": "c3f51f36-61ac-468e-bc2d-03294072803c",
   "metadata": {},
   "outputs": [],
   "source": [
    "# First, we need to convert the first_review and last_review into datetime objects\n",
    "df = df.with_columns(pl.col([\"first_review\", \"last_review\"]).cast(pl.Date))\n",
    "\n",
    "# Then, impute the median and fill in the nulls\n",
    "for col in review_columns:\n",
    "    median = df[col].median()\n",
    "    df = df.with_columns(pl.col(col).fill_null(value=median))"
   ]
  },
  {
   "cell_type": "code",
   "execution_count": 196,
   "id": "5a007471-a759-45d6-bb36-0245bc8ac325",
   "metadata": {},
   "outputs": [
    {
     "data": {
      "text/html": [
       "<div><style>\n",
       ".dataframe > thead > tr,\n",
       ".dataframe > tbody > tr {\n",
       "  text-align: right;\n",
       "  white-space: pre-wrap;\n",
       "}\n",
       "</style>\n",
       "<small>shape: (13_421, 5)</small><table border=\"1\" class=\"dataframe\"><thead><tr><th>beds</th><th>price</th><th>bathrooms</th><th>bedrooms</th><th>has_availability</th></tr><tr><td>i64</td><td>str</td><td>f64</td><td>i64</td><td>str</td></tr></thead><tbody><tr><td>null</td><td>null</td><td>null</td><td>2</td><td>&quot;t&quot;</td></tr><tr><td>3</td><td>&quot;$143.00&quot;</td><td>1.0</td><td>2</td><td>&quot;t&quot;</td></tr><tr><td>2</td><td>&quot;$76.00&quot;</td><td>0.5</td><td>1</td><td>&quot;t&quot;</td></tr><tr><td>2</td><td>&quot;$76.00&quot;</td><td>0.5</td><td>1</td><td>&quot;t&quot;</td></tr><tr><td>1</td><td>&quot;$50.00&quot;</td><td>2.0</td><td>1</td><td>&quot;t&quot;</td></tr><tr><td>1</td><td>&quot;$50.00&quot;</td><td>2.0</td><td>1</td><td>&quot;t&quot;</td></tr><tr><td>1</td><td>&quot;$50.00&quot;</td><td>2.0</td><td>1</td><td>&quot;t&quot;</td></tr><tr><td>null</td><td>null</td><td>null</td><td>null</td><td>&quot;t&quot;</td></tr><tr><td>1</td><td>&quot;$50.00&quot;</td><td>2.5</td><td>1</td><td>&quot;t&quot;</td></tr><tr><td>1</td><td>&quot;$50.00&quot;</td><td>2.5</td><td>1</td><td>&quot;t&quot;</td></tr><tr><td>&hellip;</td><td>&hellip;</td><td>&hellip;</td><td>&hellip;</td><td>&hellip;</td></tr><tr><td>1</td><td>&quot;$80.00&quot;</td><td>1.0</td><td>1</td><td>&quot;t&quot;</td></tr><tr><td>1</td><td>&quot;$57.00&quot;</td><td>1.0</td><td>1</td><td>null</td></tr><tr><td>1</td><td>&quot;$114.00&quot;</td><td>1.0</td><td>1</td><td>&quot;t&quot;</td></tr><tr><td>3</td><td>&quot;$324.00&quot;</td><td>2.0</td><td>4</td><td>&quot;t&quot;</td></tr><tr><td>3</td><td>&quot;$596.00&quot;</td><td>2.0</td><td>3</td><td>&quot;t&quot;</td></tr><tr><td>1</td><td>&quot;$150.00&quot;</td><td>1.0</td><td>0</td><td>&quot;t&quot;</td></tr><tr><td>1</td><td>&quot;$140.00&quot;</td><td>1.0</td><td>0</td><td>&quot;t&quot;</td></tr><tr><td>1</td><td>&quot;$160.00&quot;</td><td>1.0</td><td>1</td><td>&quot;t&quot;</td></tr><tr><td>2</td><td>&quot;$425.00&quot;</td><td>2.0</td><td>2</td><td>&quot;t&quot;</td></tr><tr><td>2</td><td>&quot;$300.00&quot;</td><td>2.0</td><td>2</td><td>&quot;t&quot;</td></tr></tbody></table></div>"
      ],
      "text/plain": [
       "shape: (13_421, 5)\n",
       "┌──────┬─────────┬───────────┬──────────┬──────────────────┐\n",
       "│ beds ┆ price   ┆ bathrooms ┆ bedrooms ┆ has_availability │\n",
       "│ ---  ┆ ---     ┆ ---       ┆ ---      ┆ ---              │\n",
       "│ i64  ┆ str     ┆ f64       ┆ i64      ┆ str              │\n",
       "╞══════╪═════════╪═══════════╪══════════╪══════════════════╡\n",
       "│ null ┆ null    ┆ null      ┆ 2        ┆ t                │\n",
       "│ 3    ┆ $143.00 ┆ 1.0       ┆ 2        ┆ t                │\n",
       "│ 2    ┆ $76.00  ┆ 0.5       ┆ 1        ┆ t                │\n",
       "│ 2    ┆ $76.00  ┆ 0.5       ┆ 1        ┆ t                │\n",
       "│ 1    ┆ $50.00  ┆ 2.0       ┆ 1        ┆ t                │\n",
       "│ 1    ┆ $50.00  ┆ 2.0       ┆ 1        ┆ t                │\n",
       "│ 1    ┆ $50.00  ┆ 2.0       ┆ 1        ┆ t                │\n",
       "│ null ┆ null    ┆ null      ┆ null     ┆ t                │\n",
       "│ 1    ┆ $50.00  ┆ 2.5       ┆ 1        ┆ t                │\n",
       "│ 1    ┆ $50.00  ┆ 2.5       ┆ 1        ┆ t                │\n",
       "│ …    ┆ …       ┆ …         ┆ …        ┆ …                │\n",
       "│ 1    ┆ $80.00  ┆ 1.0       ┆ 1        ┆ t                │\n",
       "│ 1    ┆ $57.00  ┆ 1.0       ┆ 1        ┆ null             │\n",
       "│ 1    ┆ $114.00 ┆ 1.0       ┆ 1        ┆ t                │\n",
       "│ 3    ┆ $324.00 ┆ 2.0       ┆ 4        ┆ t                │\n",
       "│ 3    ┆ $596.00 ┆ 2.0       ┆ 3        ┆ t                │\n",
       "│ 1    ┆ $150.00 ┆ 1.0       ┆ 0        ┆ t                │\n",
       "│ 1    ┆ $140.00 ┆ 1.0       ┆ 0        ┆ t                │\n",
       "│ 1    ┆ $160.00 ┆ 1.0       ┆ 1        ┆ t                │\n",
       "│ 2    ┆ $425.00 ┆ 2.0       ┆ 2        ┆ t                │\n",
       "│ 2    ┆ $300.00 ┆ 2.0       ┆ 2        ┆ t                │\n",
       "└──────┴─────────┴───────────┴──────────┴──────────────────┘"
      ]
     },
     "metadata": {},
     "output_type": "display_data"
    }
   ],
   "source": [
    "# Let's see what's left again...\n",
    "nulls = (\n",
    "    df.null_count()\n",
    "    .transpose(include_header=True, column_names=[\"null_count\"])\n",
    "    .filter(pl.col(\"null_count\") != 0)\n",
    "    .sort(by=\"null_count\", descending=True)\n",
    ")\n",
    "display(df.select(nulls[\"column\"].to_list()))"
   ]
  },
  {
   "cell_type": "code",
   "execution_count": 197,
   "id": "9d6be6ad-a5bf-43a9-a2eb-eea6a24dbede",
   "metadata": {},
   "outputs": [
    {
     "name": "stdout",
     "output_type": "stream",
     "text": [
      "\u001b[1mRemaining df rows:\u001b[0m 13,421 Rows\n",
      "\u001b[1mNon-USD df rows:\u001b[0m 0 Rows\n"
     ]
    }
   ],
   "source": [
    "# Let's try converting the price to a Float64\n",
    "\n",
    "# First check if all prices are in USD\n",
    "print(f\"\\033[1mRemaining df rows:\\033[0m {df.shape[0]:,} Rows\")\n",
    "print(\n",
    "    f\"\\033[1mNon-USD df rows:\\033[0m {df.select(pl.col('price').str.starts_with('$').alias('usd')).filter(pl.col('usd') == False).shape[0]:,} Rows\"\n",
    ")"
   ]
  },
  {
   "cell_type": "code",
   "execution_count": 198,
   "id": "55a21c48-c991-491d-9ae3-e2ea4c13f605",
   "metadata": {},
   "outputs": [],
   "source": [
    "# Nice, all values are in USD. Converting these strings to floats are trivial in this case\n",
    "df = df.with_columns(\n",
    "    pl.col(\"price\")\n",
    "    .str.strip_prefix(\"$\")\n",
    "    .str.replace_all(r\",\", \"\")\n",
    "    .cast(pl.Float64)\n",
    "    .alias(\"price\")\n",
    ")"
   ]
  },
  {
   "cell_type": "code",
   "execution_count": 199,
   "id": "0254217f-918b-438b-a6f6-e44408ca42e0",
   "metadata": {},
   "outputs": [],
   "source": [
    "# We will fill the null has_availability columns with False, and impute the remainder columns with the median\n",
    "df = df.with_columns(\n",
    "    pl.col(\"has_availability\").fill_null(value=\"f\").alias(\"has_availability\"),\n",
    ")\n",
    "\n",
    "for column in [\"beds\", \"price\", \"bathrooms\", \"bedrooms\"]:\n",
    "    median = df[column].median()\n",
    "    df = df.with_columns(pl.col(column).fill_null(value=median))"
   ]
  },
  {
   "cell_type": "markdown",
   "id": "0109c31f-4b9a-4ef0-ae78-98194a2355c3",
   "metadata": {},
   "source": [
    "## Type Cleaning\n",
    "Let's fix the data types as needed (e.g. from String -> Date)."
   ]
  },
  {
   "cell_type": "code",
   "execution_count": 200,
   "id": "c742f545-3537-4b52-8361-8bd5f3ace744",
   "metadata": {},
   "outputs": [
    {
     "name": "stdout",
     "output_type": "stream",
     "text": [
      "\u001b[1mColumn\u001b[0m                                                       \u001b[1mDtype\u001b[0m\n",
      "id                                                           Int64\n",
      "last_scraped                                                 String\n",
      "name                                                         String\n",
      "description                                                  String\n",
      "neighborhood_overview                                        String\n",
      "host_id                                                      Int64\n",
      "host_name                                                    String\n",
      "host_since                                                   String\n",
      "host_location                                                String\n",
      "host_about                                                   String\n",
      "host_response_time                                           String\n",
      "host_response_rate                                           String\n",
      "host_acceptance_rate                                         String\n",
      "host_is_superhost                                            String\n",
      "host_neighbourhood                                           String\n",
      "host_total_listings_count                                    Int64\n",
      "host_verifications                                           String\n",
      "host_has_profile_pic                                         String\n",
      "host_identity_verified                                       String\n",
      "neighbourhood                                                String\n",
      "neighbourhood_cleansed                                       String\n",
      "neighbourhood_group_cleansed                                 String\n",
      "latitude                                                     Float64\n",
      "longitude                                                    Float64\n",
      "property_type                                                String\n",
      "room_type                                                    String\n",
      "accommodates                                                 Int64\n",
      "bathrooms                                                    Float64\n",
      "bathrooms_text                                               String\n",
      "bedrooms                                                     Float64\n",
      "beds                                                         Float64\n",
      "amenities                                                    String\n",
      "price                                                        Float64\n",
      "minimum_nights                                               Int64\n",
      "maximum_nights                                               Int64\n",
      "minimum_minimum_nights                                       Int64\n",
      "maximum_minimum_nights                                       Int64\n",
      "minimum_maximum_nights                                       Int64\n",
      "maximum_maximum_nights                                       Int64\n",
      "minimum_nights_avg_ntm                                       Float64\n",
      "maximum_nights_avg_ntm                                       Float64\n",
      "has_availability                                             String\n",
      "availability_30                                              Int64\n",
      "availability_60                                              Int64\n",
      "availability_90                                              Int64\n",
      "availability_365                                             Int64\n",
      "number_of_reviews                                            Int64\n",
      "number_of_reviews_ltm                                        Int64\n",
      "number_of_reviews_l30d                                       Int64\n",
      "first_review                                                 Datetime(time_unit='us', time_zone=None)\n",
      "last_review                                                  Datetime(time_unit='us', time_zone=None)\n",
      "review_scores_rating                                         Float64\n",
      "review_scores_accuracy                                       Float64\n",
      "review_scores_cleanliness                                    Float64\n",
      "review_scores_checkin                                        Float64\n",
      "review_scores_communication                                  Float64\n",
      "review_scores_location                                       Float64\n",
      "review_scores_value                                          Float64\n",
      "instant_bookable                                             String\n",
      "calculated_host_listings_count_entire_homes                  Int64\n",
      "calculated_host_listings_count_private_rooms                 Int64\n",
      "calculated_host_listings_count_shared_rooms                  Int64\n",
      "reviews_per_month                                            Float64\n",
      "has_review_scores_rating                                     Boolean\n",
      "has_review_scores_accuracy                                   Boolean\n",
      "has_review_scores_cleanliness                                Boolean\n",
      "has_review_scores_checkin                                    Boolean\n",
      "has_review_scores_communication                              Boolean\n",
      "has_review_scores_location                                   Boolean\n",
      "has_review_scores_value                                      Boolean\n",
      "has_reviews_per_month                                        Boolean\n",
      "has_first_review                                             Boolean\n",
      "has_last_review                                              Boolean\n"
     ]
    }
   ],
   "source": [
    "# Check all the columns\n",
    "print(f\"{'\\033[1mColumn\\033[0m':68} \\033[1mDtype\\033[0m\")\n",
    "for col, dtype in zip(df.columns, df.dtypes):\n",
    "    print(f\"{col:60} {dtype}\")"
   ]
  },
  {
   "cell_type": "code",
   "execution_count": 201,
   "id": "73be399b-7b5f-4b06-b08d-77f2994405b5",
   "metadata": {
    "scrolled": true
   },
   "outputs": [],
   "source": [
    "temporal_columns = [\n",
    "    \"last_scraped\",\n",
    "    \"host_since\",\n",
    "]\n",
    "\n",
    "boolean_columns = [\n",
    "    \"host_is_superhost\",\n",
    "    \"host_has_profile_pic\",\n",
    "    \"host_identity_verified\",\n",
    "    \"has_availability\",\n",
    "    \"instant_bookable\",\n",
    "]\n",
    "\n",
    "for col in temporal_columns:\n",
    "    df = df.with_columns(pl.col(col).cast(pl.Date).alias(col))"
   ]
  },
  {
   "cell_type": "code",
   "execution_count": 202,
   "id": "7eb18e98-a07e-435f-8bf8-6e1ec399c9f4",
   "metadata": {},
   "outputs": [],
   "source": [
    "for col in boolean_columns:\n",
    "    df = df.with_columns(\n",
    "        pl.when(pl.col(col) == \"t\").then(True).otherwise(False).alias(col)\n",
    "    )"
   ]
  },
  {
   "cell_type": "code",
   "execution_count": 203,
   "id": "9e24db15-6e4c-4bf6-a9da-06f8a913abf1",
   "metadata": {},
   "outputs": [],
   "source": [
    "# Host Acceptance & Response Rate contains \"N/A\", i.e. hosts that have never received a booking. We will impute this with the median, since new hosts are likely to behave like average hosts.\n",
    "df = df.with_columns(\n",
    "    [\n",
    "        pl.col(\"host_acceptance_rate\")\n",
    "        .str.strip_chars(\"%\")\n",
    "        .replace(\"N/A\", None)\n",
    "        .cast(pl.Float64)\n",
    "        .alias(\"host_acceptance_rate\"),\n",
    "        pl.col(\"host_acceptance_rate\")\n",
    "        .is_not_null()\n",
    "        .cast(pl.Boolean)\n",
    "        .alias(\"has_acceptance_history\"),\n",
    "        pl.col(\"host_response_rate\")\n",
    "        .str.strip_chars(\"%\")\n",
    "        .replace(\"N/A\", None)\n",
    "        .cast(pl.Float64)\n",
    "        .alias(\"host_response_rate\"),\n",
    "        pl.col(\"host_response_rate\")\n",
    "        .is_not_null()\n",
    "        .cast(pl.Boolean)\n",
    "        .alias(\"has_response_history\"),\n",
    "    ]\n",
    ")\n",
    "\n",
    "# Impute with median\n",
    "median = df[\"host_acceptance_rate\"].median()\n",
    "df = df.with_columns(pl.col(\"host_acceptance_rate\").fill_null(median))\n",
    "\n",
    "median = df[\"host_response_rate\"].median()\n",
    "df = df.with_columns(pl.col(\"host_response_rate\").fill_null(median))"
   ]
  },
  {
   "cell_type": "code",
   "execution_count": 204,
   "id": "a92000f6-5d36-430d-894f-d1ba35beaa10",
   "metadata": {},
   "outputs": [
    {
     "name": "stdout",
     "output_type": "stream",
     "text": [
      "\u001b[1mColumn\u001b[0m                                                       \u001b[1mDtype\u001b[0m\n",
      "id                                                           Int64\n",
      "last_scraped                                                 Date\n",
      "name                                                         String\n",
      "description                                                  String\n",
      "neighborhood_overview                                        String\n",
      "host_id                                                      Int64\n",
      "host_name                                                    String\n",
      "host_since                                                   Date\n",
      "host_location                                                String\n",
      "host_about                                                   String\n",
      "host_response_time                                           String\n",
      "host_response_rate                                           Float64\n",
      "host_acceptance_rate                                         Float64\n",
      "host_is_superhost                                            Boolean\n",
      "host_neighbourhood                                           String\n",
      "host_total_listings_count                                    Int64\n",
      "host_verifications                                           String\n",
      "host_has_profile_pic                                         Boolean\n",
      "host_identity_verified                                       Boolean\n",
      "neighbourhood                                                String\n",
      "neighbourhood_cleansed                                       String\n",
      "neighbourhood_group_cleansed                                 String\n",
      "latitude                                                     Float64\n",
      "longitude                                                    Float64\n",
      "property_type                                                String\n",
      "room_type                                                    String\n",
      "accommodates                                                 Int64\n",
      "bathrooms                                                    Float64\n",
      "bathrooms_text                                               String\n",
      "bedrooms                                                     Float64\n",
      "beds                                                         Float64\n",
      "amenities                                                    String\n",
      "price                                                        Float64\n",
      "minimum_nights                                               Int64\n",
      "maximum_nights                                               Int64\n",
      "minimum_minimum_nights                                       Int64\n",
      "maximum_minimum_nights                                       Int64\n",
      "minimum_maximum_nights                                       Int64\n",
      "maximum_maximum_nights                                       Int64\n",
      "minimum_nights_avg_ntm                                       Float64\n",
      "maximum_nights_avg_ntm                                       Float64\n",
      "has_availability                                             Boolean\n",
      "availability_30                                              Int64\n",
      "availability_60                                              Int64\n",
      "availability_90                                              Int64\n",
      "availability_365                                             Int64\n",
      "number_of_reviews                                            Int64\n",
      "number_of_reviews_ltm                                        Int64\n",
      "number_of_reviews_l30d                                       Int64\n",
      "first_review                                                 Datetime(time_unit='us', time_zone=None)\n",
      "last_review                                                  Datetime(time_unit='us', time_zone=None)\n",
      "review_scores_rating                                         Float64\n",
      "review_scores_accuracy                                       Float64\n",
      "review_scores_cleanliness                                    Float64\n",
      "review_scores_checkin                                        Float64\n",
      "review_scores_communication                                  Float64\n",
      "review_scores_location                                       Float64\n",
      "review_scores_value                                          Float64\n",
      "instant_bookable                                             Boolean\n",
      "calculated_host_listings_count_entire_homes                  Int64\n",
      "calculated_host_listings_count_private_rooms                 Int64\n",
      "calculated_host_listings_count_shared_rooms                  Int64\n",
      "reviews_per_month                                            Float64\n",
      "has_review_scores_rating                                     Boolean\n",
      "has_review_scores_accuracy                                   Boolean\n",
      "has_review_scores_cleanliness                                Boolean\n",
      "has_review_scores_checkin                                    Boolean\n",
      "has_review_scores_communication                              Boolean\n",
      "has_review_scores_location                                   Boolean\n",
      "has_review_scores_value                                      Boolean\n",
      "has_reviews_per_month                                        Boolean\n",
      "has_first_review                                             Boolean\n",
      "has_last_review                                              Boolean\n",
      "has_acceptance_history                                       Boolean\n",
      "has_response_history                                         Boolean\n"
     ]
    }
   ],
   "source": [
    "# Let's take a look again\n",
    "print(f\"{'\\033[1mColumn\\033[0m':68} \\033[1mDtype\\033[0m\")\n",
    "for col, dtype in zip(df.columns, df.dtypes):\n",
    "    print(f\"{col:60} {dtype}\")"
   ]
  },
  {
   "cell_type": "markdown",
   "id": "673e80e2-8e6b-430b-a844-22e430cda521",
   "metadata": {},
   "source": [
    "### Duplicates\n",
    "Duplicate rows are expected due to the combination of 4 timepoints for our dataset.\n",
    "\n",
    "We will retain these duplicate rows since same listings at different timepoints captures **Temporal Features**: \n",
    "- Changes in review scores over time\n",
    "- Seasonality in pricing and availability\n",
    "- Host behavior evolution (response rate improvements)\n",
    "\n",
    "In production, we'd also predict on listings we've seen before (at different times), making this realistic."
   ]
  },
  {
   "cell_type": "code",
   "execution_count": 205,
   "id": "0f32c467-e24d-4f44-a21c-b9903d99bd61",
   "metadata": {},
   "outputs": [
    {
     "name": "stdout",
     "output_type": "stream",
     "text": [
      "\u001b[1mTotal rows:\u001b[0m 13,421\n",
      "\u001b[1mUnique listings:\u001b[0m 4,359\n",
      "\u001b[1mDuplicate rows:\u001b[0m 9,062 (67.5%)\n"
     ]
    }
   ],
   "source": [
    "unique_listings = df[\"id\"].n_unique()\n",
    "total_rows = df.shape[0]\n",
    "duplicate_percentage = ((total_rows - unique_listings) / total_rows) * 100\n",
    "\n",
    "print(f\"\\033[1mTotal rows:\\033[0m {total_rows:,}\")\n",
    "print(f\"\\033[1mUnique listings:\\033[0m {unique_listings:,}\")\n",
    "print(\n",
    "    f\"\\033[1mDuplicate rows:\\033[0m {total_rows - unique_listings:,} ({duplicate_percentage:.1f}%)\"\n",
    ")"
   ]
  },
  {
   "cell_type": "code",
   "execution_count": 206,
   "id": "b435b8ea-e300-4281-92f0-0caae29f0735",
   "metadata": {},
   "outputs": [],
   "source": [
    "# That said, we should still remove some of these columns which are effectively noise for our model later\n",
    "remove_cols = [\n",
    "    \"id\",\n",
    "    \"host_id\",\n",
    "    \"host_name\",\n",
    "    \"neighborhood_overview\",\n",
    "]"
   ]
  },
  {
   "cell_type": "markdown",
   "id": "0e9b9d89-f7c2-4f61-8be8-656d42766d4d",
   "metadata": {},
   "source": [
    "## Train-Validation-Test Split\n",
    "Before splitting, we need to stratify the data based on ID to avoid data leakage, and ensure the superhost ratio is similar between all three sets."
   ]
  },
  {
   "cell_type": "markdown",
   "id": "3c4e51b8-ccd7-40bd-82fc-195375e047be",
   "metadata": {},
   "source": [
    "We also need to stratify the data as we make our splits, to ensure the superhost ratio is similar between all three sets."
   ]
  },
  {
   "cell_type": "code",
   "execution_count": 220,
   "id": "6c454eb2-304c-4514-a94b-b0230e28838b",
   "metadata": {},
   "outputs": [
    {
     "name": "stdout",
     "output_type": "stream",
     "text": [
      "\u001b[1mTotal dataset shape:\u001b[0m\n",
      "X=(13421, 74)y=(13421, 2)\n",
      "\n",
      "\u001b[1mTrain set shape:\u001b[0m\n",
      "X=(9419, 70), y=(9419,)\n",
      "\n",
      "\u001b[1mTest set shape:\u001b[0m\n",
      "X=(2025, 70), y=(2025,)\n",
      "\n",
      "\u001b[1mValidation set shape:\u001b[0m\n",
      "X=(1977, 70), y=(1977,)\n",
      "\n",
      "\u001b[1mClass distribution:\u001b[0m\n",
      "  Train:      1,327 superhosts (14.09%)\n",
      "  Validation: 251 superhosts (12.70%)\n",
      "  Test:       259 superhosts (12.79%)\n"
     ]
    },
    {
     "name": "stderr",
     "output_type": "stream",
     "text": [
      "/var/folders/9x/42ryqw3d4t70f298p11c89gh0000gn/T/ipykernel_42702/4168943083.py:20: DeprecationWarning: `is_in` with a collection of the same datatype is ambiguous and deprecated.\n",
      "Please use `implode` to return to previous behavior.\n",
      "\n",
      "See https://github.com/pola-rs/polars/issues/22149 for more information.\n",
      "  id_target_map.filter(pl.col(\"id\").is_in(temp_ids)).sort(\n",
      "/var/folders/9x/42ryqw3d4t70f298p11c89gh0000gn/T/ipykernel_42702/4168943083.py:45: DeprecationWarning: `is_in` with a collection of the same datatype is ambiguous and deprecated.\n",
      "Please use `implode` to return to previous behavior.\n",
      "\n",
      "See https://github.com/pola-rs/polars/issues/22149 for more information.\n",
      "  X_train = X.filter(pl.col(\"id\").is_in(train_ids)).drop(remove_cols)\n",
      "/var/folders/9x/42ryqw3d4t70f298p11c89gh0000gn/T/ipykernel_42702/4168943083.py:46: DeprecationWarning: `is_in` with a collection of the same datatype is ambiguous and deprecated.\n",
      "Please use `implode` to return to previous behavior.\n",
      "\n",
      "See https://github.com/pola-rs/polars/issues/22149 for more information.\n",
      "  X_val = X.filter(pl.col(\"id\").is_in(val_ids)).drop(remove_cols)\n",
      "/var/folders/9x/42ryqw3d4t70f298p11c89gh0000gn/T/ipykernel_42702/4168943083.py:47: DeprecationWarning: `is_in` with a collection of the same datatype is ambiguous and deprecated.\n",
      "Please use `implode` to return to previous behavior.\n",
      "\n",
      "See https://github.com/pola-rs/polars/issues/22149 for more information.\n",
      "  X_test = X.filter(pl.col(\"id\").is_in(test_ids)).drop(remove_cols)\n",
      "/var/folders/9x/42ryqw3d4t70f298p11c89gh0000gn/T/ipykernel_42702/4168943083.py:49: DeprecationWarning: `is_in` with a collection of the same datatype is ambiguous and deprecated.\n",
      "Please use `implode` to return to previous behavior.\n",
      "\n",
      "See https://github.com/pola-rs/polars/issues/22149 for more information.\n",
      "  y_train = y.filter(pl.col(\"id\").is_in(train_ids)).drop(\"id\")[\"host_is_superhost\"]\n",
      "/var/folders/9x/42ryqw3d4t70f298p11c89gh0000gn/T/ipykernel_42702/4168943083.py:50: DeprecationWarning: `is_in` with a collection of the same datatype is ambiguous and deprecated.\n",
      "Please use `implode` to return to previous behavior.\n",
      "\n",
      "See https://github.com/pola-rs/polars/issues/22149 for more information.\n",
      "  y_val = y.filter(pl.col(\"id\").is_in(val_ids)).drop(\"id\")[\"host_is_superhost\"]\n",
      "/var/folders/9x/42ryqw3d4t70f298p11c89gh0000gn/T/ipykernel_42702/4168943083.py:51: DeprecationWarning: `is_in` with a collection of the same datatype is ambiguous and deprecated.\n",
      "Please use `implode` to return to previous behavior.\n",
      "\n",
      "See https://github.com/pola-rs/polars/issues/22149 for more information.\n",
      "  y_test = y.filter(pl.col(\"id\").is_in(test_ids)).drop(\"id\")[\"host_is_superhost\"]\n"
     ]
    }
   ],
   "source": [
    "# Separate features (X) and target (y)\n",
    "X = df.drop(\"host_is_superhost\")\n",
    "y = df[\"host_is_superhost\", \"id\"]\n",
    "\n",
    "print(f\"\\033[1mTotal dataset shape:\\033[0m\\nX={X.shape}y={y.shape}\\n\")\n",
    "\n",
    "id_target_map = (\n",
    "    df.sort(\"last_scraped\").group_by(\"id\").agg(pl.col(\"host_is_superhost\").last())\n",
    ")\n",
    "\n",
    "unique_ids = df[\"id\"].unique()\n",
    "train_ids, temp_ids = train_test_split(\n",
    "    unique_ids,\n",
    "    test_size=0.3,\n",
    "    random_state=42,\n",
    "    stratify=id_target_map[\"host_is_superhost\"],  # Stratify by ID's target\n",
    ")\n",
    "\n",
    "temp_target_map = (\n",
    "    id_target_map.filter(pl.col(\"id\").is_in(temp_ids)).sort(\n",
    "        \"id\"\n",
    "    )  # Sort by id to maintain consistent order\n",
    ")\n",
    "\n",
    "# Create mapping of id to target for lookup\n",
    "temp_id_list = temp_target_map[\"id\"].to_list()\n",
    "temp_target_list = temp_target_map[\"host_is_superhost\"].to_list()\n",
    "\n",
    "val_ids, test_ids = train_test_split(\n",
    "    temp_ids,\n",
    "    test_size=0.5,\n",
    "    random_state=42,\n",
    "    stratify=temp_target_list,\n",
    ")\n",
    "\n",
    "# Verify no ID leakage between sets\n",
    "train_ids_set = set(train_ids.to_list())\n",
    "val_ids_set = set(val_ids.to_list())\n",
    "test_ids_set = set(test_ids.to_list())\n",
    "\n",
    "assert len(train_ids_set & val_ids_set) == 0, \"Train-Val ID overlap!\"\n",
    "assert len(train_ids_set & test_ids_set) == 0, \"Train-Test ID overlap!\"\n",
    "assert len(val_ids_set & test_ids_set) == 0, \"Val-Test ID overlap!\"\n",
    "\n",
    "X_train = X.filter(pl.col(\"id\").is_in(train_ids)).drop(remove_cols)\n",
    "X_val = X.filter(pl.col(\"id\").is_in(val_ids)).drop(remove_cols)\n",
    "X_test = X.filter(pl.col(\"id\").is_in(test_ids)).drop(remove_cols)\n",
    "\n",
    "y_train = y.filter(pl.col(\"id\").is_in(train_ids)).drop(\"id\")[\"host_is_superhost\"]\n",
    "y_val = y.filter(pl.col(\"id\").is_in(val_ids)).drop(\"id\")[\"host_is_superhost\"]\n",
    "y_test = y.filter(pl.col(\"id\").is_in(test_ids)).drop(\"id\")[\"host_is_superhost\"]\n",
    "\n",
    "print(f\"\\033[1mTrain set shape:\\033[0m\\nX={X_train.shape}, y={y_train.shape}\\n\")\n",
    "print(f\"\\033[1mTest set shape:\\033[0m\\nX={X_test.shape}, y={y_test.shape}\\n\")\n",
    "print(f\"\\033[1mValidation set shape:\\033[0m\\nX={X_val.shape}, y={y_val.shape}\\n\")\n",
    "\n",
    "# Verify stratification\n",
    "print(f\"\\033[1mClass distribution:\\033[0m\")\n",
    "print(\n",
    "    f\"  Train:      {y_train.sum():,} superhosts ({y_train.sum() / len(y_train) * 100:.2f}%)\"\n",
    ")\n",
    "print(\n",
    "    f\"  Validation: {y_val.sum():,} superhosts ({y_val.sum() / len(y_val) * 100:.2f}%)\"\n",
    ")\n",
    "print(\n",
    "    f\"  Test:       {y_test.sum():,} superhosts ({y_test.sum() / len(y_test) * 100:.2f}%)\"\n",
    ")"
   ]
  },
  {
   "cell_type": "markdown",
   "id": "de9eef4c-859f-4fd1-b1eb-ffb91fed648a",
   "metadata": {},
   "source": [
    "## Address Target Imbalance\n",
    "To prevent data leakage, we perform class balancing only on the training set. \n",
    "\n",
    "This retains the original distribution for the validation and testing sets, ensuring realistic evaluation.\n",
    "\n",
    "Our strategy will use SMOTE (oversample minority) + Under-sampling (undersample majority) to balance quality and reduction."
   ]
  },
  {
   "cell_type": "code",
   "execution_count": 221,
   "id": "ff28532f-e3aa-4009-9adb-4fba2ca25b1b",
   "metadata": {},
   "outputs": [
    {
     "name": "stdout",
     "output_type": "stream",
     "text": [
      "\u001b[1mApplying balancing pipeline:\u001b[0m\n",
      "  \u001b[1mStep 1:\u001b[0m SMOTE (oversample minority to 50%)\n",
      "  \u001b[1mStep 2:\u001b[0m RandomUnderSampler (undersample majority to 0.75:1)\n",
      "\n",
      "\u001b[1mAfter balancing:\u001b[0m\n",
      "  \u001b[1mNon-superhosts:\u001b[0m 5,394\n",
      "  \u001b[1mSuperhosts:\u001b[0m 4,046\n",
      "  \u001b[1mRatio:\u001b[0m 1.33:1\n"
     ]
    }
   ],
   "source": [
    "# Strategy: SMOTE (oversample minority) + Under-sampling (undersample majority)\n",
    "# SMOTE: Minority class = 50% of majority\n",
    "# Under-sampling: Final ratio = 0.75:1 (minority = 75% of majority)\n",
    "\n",
    "# Not fully balanced (1:1) to avoid over-correction\n",
    "# Maintains some imbalance to reflect reality\n",
    "# Reduces majority class dominance without extreme oversampling\n",
    "\n",
    "numeric_cols = []\n",
    "categorical_cols = []\n",
    "categorical_indices = []  # Positions of categorical columns\n",
    "\n",
    "for idx, col in enumerate(X_train.columns):\n",
    "    dtype = X_train[col].dtype\n",
    "    if dtype in [pl.Float64, pl.Int64, pl.Boolean]:\n",
    "        numeric_cols.append(col)\n",
    "    else:\n",
    "        categorical_cols.append(col)\n",
    "        categorical_indices.append(idx)\n",
    "\n",
    "imbalance_pipeline = ImbPipeline(\n",
    "    [\n",
    "        (\n",
    "            \"smotenc\",\n",
    "            SMOTENC(\n",
    "                categorical_features=categorical_indices,\n",
    "                sampling_strategy=0.5,  # Minority = 50% of majority after this step\n",
    "                random_state=RANDOM_STATE,\n",
    "                k_neighbors=5,\n",
    "            ),\n",
    "        ),\n",
    "        (\n",
    "            \"undersampler\",\n",
    "            RandomUnderSampler(\n",
    "                sampling_strategy=0.75,  # After undersample: minority = 75% of majority\n",
    "                random_state=RANDOM_STATE,\n",
    "            ),\n",
    "        ),\n",
    "    ]\n",
    ")\n",
    "\n",
    "print(f\"\\033[1mApplying balancing pipeline:\\033[0m\")\n",
    "print(f\"  \\033[1mStep 1:\\033[0m SMOTE (oversample minority to 50%)\")\n",
    "print(f\"  \\033[1mStep 2:\\033[0m RandomUnderSampler (undersample majority to 0.75:1)\")\n",
    "\n",
    "X_train_array = X_train.to_numpy()\n",
    "y_train_array = y_train.to_numpy()\n",
    "X_train_balanced_array, y_train_balanced = imbalance_pipeline.fit_resample(\n",
    "    X_train_array, y_train_array\n",
    ")\n",
    "\n",
    "print(f\"\\n\\033[1mAfter balancing:\\033[0m\")\n",
    "print(f\"  \\033[1mNon-superhosts:\\033[0m {(y_train_balanced == 0).sum():,}\")\n",
    "print(f\"  \\033[1mSuperhosts:\\033[0m {(y_train_balanced == 1).sum():,}\")\n",
    "print(\n",
    "    f\"  \\033[1mRatio:\\033[0m {(y_train_balanced == 0).sum() / (y_train_balanced == 1).sum():.2f}:1\"\n",
    ")"
   ]
  },
  {
   "cell_type": "code",
   "execution_count": 222,
   "id": "10417114-eda0-46be-84ba-a1546acbdfe8",
   "metadata": {},
   "outputs": [
    {
     "data": {
      "image/png": "[encoded data removed]",
      "text/plain": [
       "<Figure size 1500x500 with 3 Axes>"
      ]
     },
     "metadata": {},
     "output_type": "display_data"
    }
   ],
   "source": [
    "# Visualize Results\n",
    "fig, axes = plt.subplots(1, 3, figsize=(15, 5))\n",
    "\n",
    "# Before balancing\n",
    "before_counts = [\n",
    "    len(y_train_array[y_train_array == 0]),\n",
    "    len(y_train_array[y_train_array == 1]),\n",
    "]\n",
    "axes[0].bar([\"Non-Superhost\", \"Superhost\"], before_counts, color=[\"#ff7f0e\", \"#2ca02c\"])\n",
    "axes[0].set_title(\"BEFORE Balancing\\n(Training Set)\", fontweight=\"bold\")\n",
    "axes[0].set_ylabel(\"Count\")\n",
    "for i, v in enumerate(before_counts):\n",
    "    axes[0].text(i, v + 100, f\"{v:,}\", ha=\"center\", fontweight=\"bold\")\n",
    "\n",
    "# After balancing\n",
    "after_counts = [(y_train_balanced == 0).sum(), (y_train_balanced == 1).sum()]\n",
    "axes[1].bar([\"Non-Superhost\", \"Superhost\"], after_counts, color=[\"#ff7f0e\", \"#2ca02c\"])\n",
    "axes[1].set_title(\"AFTER Balancing\\n(SMOTE + Under-sampling)\", fontweight=\"bold\")\n",
    "axes[1].set_ylabel(\"Count\")\n",
    "for i, v in enumerate(after_counts):\n",
    "    axes[1].text(i, v + 100, f\"{v:,}\", ha=\"center\", fontweight=\"bold\")\n",
    "\n",
    "# Imbalance ratio comparison\n",
    "ratios = [before_counts[0] / before_counts[1], after_counts[0] / after_counts[1]]\n",
    "axes[2].bar([\"Before\", \"After\"], ratios, color=[\"#d62728\", \"#2ca02c\"])\n",
    "axes[2].set_title(\"Imbalance Ratio Improvement\", fontweight=\"bold\")\n",
    "axes[2].set_ylabel(\"Ratio (Non-SH : SH)\")\n",
    "for i, v in enumerate(ratios):\n",
    "    axes[2].text(i, v + 0.05, f\"{v:.2f}:1\", ha=\"center\", fontweight=\"bold\")\n",
    "axes[2].axhline(y=1, color=\"black\", linestyle=\"--\", alpha=0.3, label=\"Balanced\")\n",
    "\n",
    "plt.tight_layout()\n",
    "plt.savefig(FIGURES_DIR / \"class_balance_comparison.png\", dpi=300, bbox_inches=\"tight\")\n",
    "plt.show()"
   ]
  },
  {
   "cell_type": "code",
   "execution_count": 224,
   "id": "277dd067-311c-40b9-97ae-5b1005a99073",
   "metadata": {},
   "outputs": [
    {
     "name": "stdout",
     "output_type": "stream",
     "text": [
      "All datasets saved successfully.\n"
     ]
    }
   ],
   "source": [
    "# Save Results\n",
    "import pandas as pd\n",
    "\n",
    "X_train_balanced_df = pl.from_pandas(\n",
    "    pd.DataFrame(X_train_balanced_array, columns=X_train.columns).convert_dtypes()\n",
    ")\n",
    "for col in X_train.schema.keys():\n",
    "    if X_train.schema[col] == pl.Boolean:\n",
    "        X_train_balanced_df = X_train_balanced_df.with_columns(\n",
    "            pl.col(col).cast(pl.Boolean)\n",
    "        )\n",
    "y_train_balanced_df = pl.Series(\n",
    "    \"host_is_superhost\", y_train_balanced, dtype=pl.UInt8\n",
    ").to_frame()\n",
    "\n",
    "X_train_balanced_df.write_parquet(PROCESSED_DATA_DIR / \"X_train.parquet\")\n",
    "y_train_balanced_df.write_parquet(PROCESSED_DATA_DIR / \"y_train.parquet\")\n",
    "\n",
    "X_val.write_parquet(PROCESSED_DATA_DIR / \"X_val.parquet\")\n",
    "y_val.to_frame().write_parquet(PROCESSED_DATA_DIR / \"y_val.parquet\")\n",
    "\n",
    "X_test.write_parquet(PROCESSED_DATA_DIR / \"X_test.parquet\")\n",
    "y_test.to_frame().write_parquet(PROCESSED_DATA_DIR / \"y_test.parquet\")\n",
    "\n",
    "# Save metadata\n",
    "metadata = {\n",
    "    \"feature_names\": X_train.columns,\n",
    "    \"categorical_features\": categorical_cols,\n",
    "    \"categorical_indices\": categorical_indices,\n",
    "    \"numeric_features\": numeric_cols,\n",
    "    \"total_features\": len(X_train.columns),\n",
    "}\n",
    "\n",
    "with open(PROCESSED_DATA_DIR / \"metadata.json\", \"w\") as f:\n",
    "    json.dump(metadata, f, indent=2)\n",
    "\n",
    "print(\"All datasets saved successfully.\")"
   ]
  },
  {
   "cell_type": "markdown",
   "id": "75eb605f-fd08-4b67-8d7d-19e9817a68b3",
   "metadata": {},
   "source": [
    "## Summary\n",
    "1. Data from 4 individual was combined into 1 DataFrame (14,027 Rows × 75 Columns)\n",
    "2. Rows with null target variables were dropped (13,881 Rows; Lost 146 Rows)\n",
    "3. Columns and Rows were dropped based on EDA to handle missing values (13,421 Rows × 73 Columns)\n",
    "4. Duplicate Rows were left in to represent temporal variation in the data\n",
    "5. Columns were coerced into suitable types (e.g. price from String -> Float, first_review from String -> DateTime)\n",
    "6. Cleaned data was stratified and split into 70% Training, 15% Validation, 15% Testing Sets\n",
    "7. Training Set underwent a combination of oversampling and undersampling to address class imbalance.\n",
    "\n",
    "- **Total Rows Removed:** 606\n",
    "- **Total Columns Dropped:** 12 (Added 10 Imputed Columns)\n",
    "- **Missing Value Columns Handled:** 41\n",
    "- **Final Shape:** 13,421 Rows × 73 Columns"
   ]
  },
  {
   "cell_type": "code",
   "execution_count": null,
   "id": "6af5bb8f-954a-41fa-b465-6a6a5b3ff7e5",
   "metadata": {},
   "outputs": [],
   "source": []
  },
  {
   "cell_type": "code",
   "execution_count": null,
   "id": "e542bff9-e281-4703-93d4-3ab4429e03e5",
   "metadata": {},
   "outputs": [],
   "source": []
  }
 ],
 "metadata": {
  "kernelspec": {
   "display_name": "Python 3 (ipykernel)",
   "language": "python",
   "name": "python3"
  },
  "language_info": {
   "codemirror_mode": {
    "name": "ipython",
    "version": 3
   },
   "file_extension": ".py",
   "mimetype": "text/x-python",
   "name": "python",
   "nbconvert_exporter": "python",
   "pygments_lexer": "ipython3",
   "version": "3.12.0"
  }
 },
 "nbformat": 4,
 "nbformat_minor": 5
}
